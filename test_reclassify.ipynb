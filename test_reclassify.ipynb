{
 "cells": [
  {
   "cell_type": "code",
   "execution_count": null,
   "id": "cc8c4b5a-b324-4054-8a42-e52553eec1c0",
   "metadata": {},
   "outputs": [],
   "source": [
    "from ipywidgets import HTML\n",
    "import ipyvuetify as v"
   ]
  },
  {
   "cell_type": "code",
   "execution_count": null,
   "id": "e53c0caf-17f9-4a37-8a79-61eb3d7a6e3d",
   "metadata": {},
   "outputs": [],
   "source": [
    "HTML(\n",
    "        f\"\"\"\n",
    "            <svg width='{20}' height='{20}'>\n",
    "            <rect width='{20}' height='{20}' style='fill:yellow;\n",
    "            stroke-width:1;stroke:rgb(255,255,255)'/>\n",
    "            </svg>\n",
    "        \"\"\"\n",
    ")\n"
   ]
  },
  {
   "cell_type": "code",
   "execution_count": null,
   "id": "9741da1b-854a-41b6-a056-79f66801b67e",
   "metadata": {},
   "outputs": [],
   "source": [
    "v.Html(\n",
    "    tag=\"svg\",\n",
    "    attributes={'width': \"20\", \"height\":\"20\"},\n",
    "    children = [\n",
    "        v.Html(tag=\"rect\", attributes={'width': \"20\", \"height\":\"20\"}, style_=\"fill:yellow; stroke-width:1; stroke:rgb(255,255,255)\")\n",
    "    ]\n",
    ")"
   ]
  },
  {
   "cell_type": "code",
   "execution_count": null,
   "id": "e94a15a7-58c7-43b6-8b07-cff39060605b",
   "metadata": {},
   "outputs": [],
   "source": []
  }
 ],
 "metadata": {
  "kernelspec": {
   "display_name": "(test) test-sepal_mgci",
   "language": "python",
   "name": "test-sepal_mgci"
  },
  "language_info": {
   "codemirror_mode": {
    "name": "ipython",
    "version": 3
   },
   "file_extension": ".py",
   "mimetype": "text/x-python",
   "name": "python",
   "nbconvert_exporter": "python",
   "pygments_lexer": "ipython3",
   "version": "3.8.10"
  }
 },
 "nbformat": 4,
 "nbformat_minor": 5
}
