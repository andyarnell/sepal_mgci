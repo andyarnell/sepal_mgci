{
  "cells": [
    {
      "cell_type": "markdown",
      "metadata": {
        "id": "view-in-github",
        "colab_type": "text"
      },
      "source": [
        "<a href=\"https://colab.research.google.com/github/andyarnell/sepal_mgci/blob/master/SDG_15_4_2_Sub_A_Default_values.ipynb\" target=\"_parent\"><img src=\"https://colab.research.google.com/assets/colab-badge.svg\" alt=\"Open In Colab\"/></a>"
      ]
    },
    {
      "cell_type": "markdown",
      "source": [
        "# **SDG 15.4.2 Subcomponent A: Calculate Global Default Values**\n",
        "\n",
        "* This script allows batch processing for this indicator for all countries.\n",
        "\n",
        "* Output is a combined excel file on your Google Drive.\n",
        "\n",
        "* Runs on the cloud using [Google Colab](https://research.google.com/colaboratory/faq.html)\n",
        "\n",
        "* Requires: [Google Earth Engine](https://earthengine.google.com/) (GEE) account and project and access to Google Drive\n"
      ],
      "metadata": {
        "id": "82FWR5yMh0HV"
      }
    },
    {
      "cell_type": "markdown",
      "source": [
        "### Install required packages\n",
        "NB may get warning on ipython version differnces. Then crashing on the next cell. Works ine after this though. So if you rerun that cell all should work after that.\n",
        "\n",
        "TO DO Check with Daniel if can shift sepal_ui import requirement"
      ],
      "metadata": {
        "id": "YdoCOI_1yWY0"
      }
    },
    {
      "cell_type": "code",
      "execution_count": 1,
      "metadata": {
        "colab": {
          "base_uri": "https://localhost:8080/"
        },
        "id": "Kg3K1EPJu_f5",
        "outputId": "e61135a3-b70d-47ef-9952-2d310bfb8b01"
      },
      "outputs": [
        {
          "output_type": "stream",
          "name": "stdout",
          "text": [
            "\u001b[2K     \u001b[90m━━━━━━━━━━━━━━━━━━━━━━━━━━━━━━━━━━━━━━━━\u001b[0m \u001b[32m893.2/893.2 kB\u001b[0m \u001b[31m4.3 MB/s\u001b[0m eta \u001b[36m0:00:00\u001b[0m\n",
            "\u001b[2K     \u001b[90m━━━━━━━━━━━━━━━━━━━━━━━━━━━━━━━━━━━━━━━━\u001b[0m \u001b[32m6.1/6.1 MB\u001b[0m \u001b[31m37.6 MB/s\u001b[0m eta \u001b[36m0:00:00\u001b[0m\n",
            "\u001b[2K     \u001b[90m━━━━━━━━━━━━━━━━━━━━━━━━━━━━━━━━━━━━━━━━\u001b[0m \u001b[32m60.5/60.5 kB\u001b[0m \u001b[31m3.6 MB/s\u001b[0m eta \u001b[36m0:00:00\u001b[0m\n",
            "\u001b[2K     \u001b[90m━━━━━━━━━━━━━━━━━━━━━━━━━━━━━━━━━━━━━━━━\u001b[0m \u001b[32m82.9/82.9 kB\u001b[0m \u001b[31m5.9 MB/s\u001b[0m eta \u001b[36m0:00:00\u001b[0m\n",
            "\u001b[2K     \u001b[90m━━━━━━━━━━━━━━━━━━━━━━━━━━━━━━━━━━━━━━━━\u001b[0m \u001b[32m17.1/17.1 MB\u001b[0m \u001b[31m39.6 MB/s\u001b[0m eta \u001b[36m0:00:00\u001b[0m\n",
            "\u001b[2K     \u001b[90m━━━━━━━━━━━━━━━━━━━━━━━━━━━━━━━━━━━━━━━━\u001b[0m \u001b[32m553.7/553.7 kB\u001b[0m \u001b[31m22.1 MB/s\u001b[0m eta \u001b[36m0:00:00\u001b[0m\n",
            "\u001b[2K     \u001b[90m━━━━━━━━━━━━━━━━━━━━━━━━━━━━━━━━━━━━━━━━\u001b[0m \u001b[32m5.6/5.6 MB\u001b[0m \u001b[31m29.9 MB/s\u001b[0m eta \u001b[36m0:00:00\u001b[0m\n",
            "\u001b[2K     \u001b[90m━━━━━━━━━━━━━━━━━━━━━━━━━━━━━━━━━━━━━━━━\u001b[0m \u001b[32m289.9/289.9 kB\u001b[0m \u001b[31m5.4 MB/s\u001b[0m eta \u001b[36m0:00:00\u001b[0m\n",
            "\u001b[2K     \u001b[90m━━━━━━━━━━━━━━━━━━━━━━━━━━━━━━━━━━━━━━━━\u001b[0m \u001b[32m2.8/2.8 MB\u001b[0m \u001b[31m50.1 MB/s\u001b[0m eta \u001b[36m0:00:00\u001b[0m\n",
            "\u001b[2K     \u001b[90m━━━━━━━━━━━━━━━━━━━━━━━━━━━━━━━━━━━━━━━━\u001b[0m \u001b[32m263.5/263.5 kB\u001b[0m \u001b[31m11.3 MB/s\u001b[0m eta \u001b[36m0:00:00\u001b[0m\n",
            "\u001b[2K     \u001b[90m━━━━━━━━━━━━━━━━━━━━━━━━━━━━━━━━━━━━━━━━\u001b[0m \u001b[32m75.6/75.6 kB\u001b[0m \u001b[31m4.1 MB/s\u001b[0m eta \u001b[36m0:00:00\u001b[0m\n",
            "\u001b[2K     \u001b[90m━━━━━━━━━━━━━━━━━━━━━━━━━━━━━━━━━━━━━━━━\u001b[0m \u001b[32m61.4/61.4 kB\u001b[0m \u001b[31m2.2 MB/s\u001b[0m eta \u001b[36m0:00:00\u001b[0m\n",
            "\u001b[2K     \u001b[90m━━━━━━━━━━━━━━━━━━━━━━━━━━━━━━━━━━━━━━━━\u001b[0m \u001b[32m2.7/2.7 MB\u001b[0m \u001b[31m16.5 MB/s\u001b[0m eta \u001b[36m0:00:00\u001b[0m\n",
            "\u001b[?25h  Preparing metadata (setup.py) ... \u001b[?25l\u001b[?25hdone\n",
            "\u001b[2K     \u001b[90m━━━━━━━━━━━━━━━━━━━━━━━━━━━━━━━━━━━━━━━━\u001b[0m \u001b[32m798.3/798.3 kB\u001b[0m \u001b[31m11.5 MB/s\u001b[0m eta \u001b[36m0:00:00\u001b[0m\n",
            "\u001b[2K     \u001b[90m━━━━━━━━━━━━━━━━━━━━━━━━━━━━━━━━━━━━━━━━\u001b[0m \u001b[32m257.4/257.4 kB\u001b[0m \u001b[31m7.0 MB/s\u001b[0m eta \u001b[36m0:00:00\u001b[0m\n",
            "\u001b[2K     \u001b[90m━━━━━━━━━━━━━━━━━━━━━━━━━━━━━━━━━━━━━━━━\u001b[0m \u001b[32m1.6/1.6 MB\u001b[0m \u001b[31m34.2 MB/s\u001b[0m eta \u001b[36m0:00:00\u001b[0m\n",
            "\u001b[2K     \u001b[90m━━━━━━━━━━━━━━━━━━━━━━━━━━━━━━━━━━━━━━━━\u001b[0m \u001b[32m21.5/21.5 MB\u001b[0m \u001b[31m33.3 MB/s\u001b[0m eta \u001b[36m0:00:00\u001b[0m\n",
            "\u001b[2K     \u001b[90m━━━━━━━━━━━━━━━━━━━━━━━━━━━━━━━━━━━━━━━━\u001b[0m \u001b[32m52.8/52.8 kB\u001b[0m \u001b[31m4.2 MB/s\u001b[0m eta \u001b[36m0:00:00\u001b[0m\n",
            "\u001b[2K     \u001b[90m━━━━━━━━━━━━━━━━━━━━━━━━━━━━━━━━━━━━━━━━\u001b[0m \u001b[32m77.9/77.9 kB\u001b[0m \u001b[31m5.7 MB/s\u001b[0m eta \u001b[36m0:00:00\u001b[0m\n",
            "\u001b[2K     \u001b[90m━━━━━━━━━━━━━━━━━━━━━━━━━━━━━━━━━━━━━━━━\u001b[0m \u001b[32m58.3/58.3 kB\u001b[0m \u001b[31m3.0 MB/s\u001b[0m eta \u001b[36m0:00:00\u001b[0m\n",
            "\u001b[2K     \u001b[90m━━━━━━━━━━━━━━━━━━━━━━━━━━━━━━━━━━━━━━━━\u001b[0m \u001b[32m48.0/48.0 kB\u001b[0m \u001b[31m2.2 MB/s\u001b[0m eta \u001b[36m0:00:00\u001b[0m\n",
            "\u001b[2K     \u001b[90m━━━━━━━━━━━━━━━━━━━━━━━━━━━━━━━━━━━━━━━━\u001b[0m \u001b[32m57.5/57.5 kB\u001b[0m \u001b[31m4.0 MB/s\u001b[0m eta \u001b[36m0:00:00\u001b[0m\n",
            "\u001b[2K     \u001b[90m━━━━━━━━━━━━━━━━━━━━━━━━━━━━━━━━━━━━━━━━\u001b[0m \u001b[32m49.0/49.0 kB\u001b[0m \u001b[31m3.4 MB/s\u001b[0m eta \u001b[36m0:00:00\u001b[0m\n",
            "\u001b[2K     \u001b[90m━━━━━━━━━━━━━━━━━━━━━━━━━━━━━━━━━━━━━━━━\u001b[0m \u001b[32m187.9/187.9 kB\u001b[0m \u001b[31m15.4 MB/s\u001b[0m eta \u001b[36m0:00:00\u001b[0m\n",
            "\u001b[2K     \u001b[90m━━━━━━━━━━━━━━━━━━━━━━━━━━━━━━━━━━━━━━━━\u001b[0m \u001b[32m182.9/182.9 kB\u001b[0m \u001b[31m14.0 MB/s\u001b[0m eta \u001b[36m0:00:00\u001b[0m\n",
            "\u001b[2K     \u001b[90m━━━━━━━━━━━━━━━━━━━━━━━━━━━━━━━━━━━━━━━━\u001b[0m \u001b[32m62.4/62.4 kB\u001b[0m \u001b[31m4.3 MB/s\u001b[0m eta \u001b[36m0:00:00\u001b[0m\n",
            "\u001b[?25h  Building wheel for docopt (setup.py) ... \u001b[?25l\u001b[?25hdone\n",
            "\u001b[31mERROR: pip's dependency resolver does not currently take into account all the packages that are installed. This behaviour is the source of the following dependency conflicts.\n",
            "google-colab 1.0.0 requires ipython==7.34.0, but you have ipython 8.12.3 which is incompatible.\u001b[0m\u001b[31m\n",
            "\u001b[0msepal_ui has been installed.\n"
          ]
        }
      ],
      "source": [
        "# to automatically reload modules.\n",
        "%load_ext autoreload\n",
        "\n",
        "# Set to reload all modules before executing code.\n",
        "%autoreload 2\n",
        "\n",
        "# Function to install a package if it's not already installed\n",
        "def install_if_not_exists(package_name):\n",
        "    try:\n",
        "        __import__(package_name)\n",
        "        print(f\"{package_name} is already installed.\")\n",
        "    except ImportError:\n",
        "        !pip install -q {package_name}\n",
        "        print(f\"{package_name} has been installed.\")\n",
        "\n",
        "# List of packages to install if not already installed\n",
        "packages_to_install = ['sepal_ui']#,'ee', 'unidecode', 'google-api-python-client',\n",
        "                      #'google-auth-httplib2', 'google-auth-oauthlib',] #admin_boundaries\n",
        "\n",
        "# Install necessary packages\n",
        "for package in packages_to_install:\n",
        "    install_if_not_exists(package)"
      ]
    },
    {
      "cell_type": "markdown",
      "source": [
        "### Access GitHub repository\n",
        "Clones repository for SDG 15.4.2 into colab.\n",
        "Provides functions and lookup tables etc."
      ],
      "metadata": {
        "id": "qGfLFLEkwS1n"
      }
    },
    {
      "cell_type": "code",
      "source": [
        "# Change the current working directory to \"/content\".\n",
        "%cd \"/content\"\n",
        "\n",
        "# Clone the GitHub repository \"sepal_mgci\" into the current directory.\n",
        "# NB 'fatal' error on reruns are typically just saying it already exists\n",
        "!git clone https://github.com/sepal-contrib/sepal_mgci"
      ],
      "metadata": {
        "colab": {
          "base_uri": "https://localhost:8080/"
        },
        "id": "TNohZrOTvNqT",
        "outputId": "5bbc5ee0-6e7f-489c-ee8f-b4cc208e2813"
      },
      "execution_count": null,
      "outputs": [
        {
          "output_type": "stream",
          "name": "stderr",
          "text": [
            "[autoreload of IPython.utils.ipstruct failed: Traceback (most recent call last):\n",
            "  File \"/usr/local/lib/python3.10/dist-packages/IPython/extensions/autoreload.py\", line 245, in check\n",
            "    m = sys.modules.get(modname, None)\n",
            "  File \"/usr/local/lib/python3.10/dist-packages/IPython/extensions/autoreload.py\", line 410, in superreload\n",
            "    \"__loader__\",\n",
            "  File \"/usr/local/lib/python3.10/dist-packages/IPython/extensions/autoreload.py\", line 347, in update_generic\n",
            "  File \"/usr/local/lib/python3.10/dist-packages/IPython/extensions/autoreload.py\", line 317, in update_class\n",
            "    for ref in refs:\n",
            "  File \"/usr/local/lib/python3.10/dist-packages/IPython/extensions/autoreload.py\", line 280, in update_instances\n",
            "    ),\n",
            "  File \"/usr/local/lib/python3.10/dist-packages/IPython/utils/ipstruct.py\", line 114, in __setattr__\n",
            "    raise AttributeError(\n",
            "AttributeError: attr __class__ is a protected member of class Struct.\n",
            "]\n",
            "[autoreload of IPython.core.ultratb failed: Traceback (most recent call last):\n",
            "  File \"/usr/local/lib/python3.10/dist-packages/IPython/extensions/autoreload.py\", line 245, in check\n",
            "    m = sys.modules.get(modname, None)\n",
            "  File \"/usr/local/lib/python3.10/dist-packages/IPython/extensions/autoreload.py\", line 410, in superreload\n",
            "    \"__loader__\",\n",
            "  File \"/usr/local/lib/python3.10/dist-packages/IPython/extensions/autoreload.py\", line 347, in update_generic\n",
            "  File \"/usr/local/lib/python3.10/dist-packages/IPython/extensions/autoreload.py\", line 302, in update_class\n",
            "    \"\"\"Upgrade the code object of a function\"\"\"\n",
            "  File \"/usr/local/lib/python3.10/dist-packages/IPython/extensions/autoreload.py\", line 347, in update_generic\n",
            "  File \"/usr/local/lib/python3.10/dist-packages/IPython/extensions/autoreload.py\", line 266, in update_function\n",
            "    # If we've reached this point, we should try to reload the module\n",
            "ValueError: __init__() requires a code object with 0 free vars, not 1\n",
            "]\n",
            "Error in sys.excepthook:\n",
            "Traceback (most recent call last):\n",
            "  File \"/usr/local/lib/python3.10/dist-packages/IPython/core/compilerop.py\", line 214, in check_linecache_ipython\n",
            "    linecache.checkcache()\n",
            "  File \"/usr/local/lib/python3.10/dist-packages/IPython/core/compilerop.py\", line 214, in check_linecache_ipython\n",
            "    linecache.checkcache()\n",
            "  File \"/usr/local/lib/python3.10/dist-packages/IPython/core/compilerop.py\", line 214, in check_linecache_ipython\n",
            "    linecache.checkcache()\n",
            "  [Previous line repeated 996 more times]\n",
            "  File \"/usr/local/lib/python3.10/dist-packages/IPython/core/compilerop.py\", line 209, in check_linecache_ipython\n",
            "    warnings.warn(\n",
            "RecursionError: maximum recursion depth exceeded while calling a Python object\n"
          ]
        },
        {
          "output_type": "stream",
          "name": "stdout",
          "text": [
            "Unexpected exception formatting exception. Falling back to standard exception\n"
          ]
        },
        {
          "output_type": "stream",
          "name": "stderr",
          "text": [
            "\n",
            "Original exception was:\n",
            "Traceback (most recent call last):\n",
            "  File \"/usr/local/lib/python3.10/dist-packages/IPython/core/interactiveshell.py\", line 3030, in _run_cell\n",
            "    preprocessing_exc_tuple = None\n",
            "  File \"/usr/local/lib/python3.10/dist-packages/IPython/core/async_helpers.py\", line 78, in _pseudo_sync_runner\n",
            "    def __getattr__(self, key):\n",
            "  File \"/usr/local/lib/python3.10/dist-packages/IPython/core/interactiveshell.py\", line 3200, in run_cell_async\n",
            "    except Exception:\n",
            "  File \"/usr/local/lib/python3.10/dist-packages/IPython/core/compilerop.py\", line 158, in cache\n",
            "    self._filename_map[name] = number\n",
            "AttributeError: 'CachingCompiler' object has no attribute '_filename_map'\n",
            "\n",
            "During handling of the above exception, another exception occurred:\n",
            "\n",
            "Traceback (most recent call last):\n",
            "  File \"/usr/local/lib/python3.10/dist-packages/IPython/core/ultratb.py\", line 1101, in get_records\n",
            "    root_name, *_ = mod_name.split(\".\")\n",
            "NameError: name '_fixed_getinnerframes' is not defined\n",
            "\n",
            "During handling of the above exception, another exception occurred:\n",
            "\n",
            "Traceback (most recent call last):\n",
            "  File \"/usr/local/lib/python3.10/dist-packages/IPython/core/interactiveshell.py\", line 2105, in showtraceback\n",
            "    stb = self.InteractiveTB.structured_traceback(\n",
            "  File \"/usr/local/lib/python3.10/dist-packages/IPython/core/ultratb.py\", line 1367, in structured_traceback\n",
            "    if out is None:\n",
            "  File \"/usr/local/lib/python3.10/dist-packages/IPython/core/ultratb.py\", line 1287, in structured_traceback\n",
            "    return VerboseTB.structured_traceback(\n",
            "  File \"/usr/local/lib/python3.10/dist-packages/IPython/core/ultratb.py\", line 1140, in structured_traceback\n",
            "    formatted_exception = self.format_exception_as_a_whole(etype, evalue, etb, number_of_lines_of_context,\n",
            "  File \"/usr/local/lib/python3.10/dist-packages/IPython/core/ultratb.py\", line 1079, in format_exception_as_a_whole\n",
            "    before = context - after\n",
            "  File \"/usr/local/lib/python3.10/dist-packages/IPython/core/ultratb.py\", line 1115, in get_records\n",
            "    for tb in tbs:\n",
            "NameError: name 'inspect_error' is not defined\n",
            "\n",
            "During handling of the above exception, another exception occurred:\n",
            "\n",
            "Traceback (most recent call last):\n",
            "  File \"/usr/local/lib/python3.10/dist-packages/IPython/core/compilerop.py\", line 214, in check_linecache_ipython\n",
            "    linecache.checkcache()\n",
            "  File \"/usr/local/lib/python3.10/dist-packages/IPython/core/compilerop.py\", line 214, in check_linecache_ipython\n",
            "    linecache.checkcache()\n",
            "  File \"/usr/local/lib/python3.10/dist-packages/IPython/core/compilerop.py\", line 214, in check_linecache_ipython\n",
            "    linecache.checkcache()\n",
            "  [Previous line repeated 996 more times]\n",
            "  File \"/usr/local/lib/python3.10/dist-packages/IPython/core/compilerop.py\", line 209, in check_linecache_ipython\n",
            "    warnings.warn(\n",
            "RecursionError: maximum recursion depth exceeded while calling a Python object\n",
            "\n",
            "During handling of the above exception, another exception occurred:\n",
            "\n",
            "Traceback (most recent call last):\n",
            "  File \"/usr/local/lib/python3.10/dist-packages/IPython/core/compilerop.py\", line 214, in check_linecache_ipython\n",
            "    linecache.checkcache()\n",
            "  File \"/usr/local/lib/python3.10/dist-packages/IPython/core/compilerop.py\", line 214, in check_linecache_ipython\n",
            "    linecache.checkcache()\n",
            "  File \"/usr/local/lib/python3.10/dist-packages/IPython/core/compilerop.py\", line 214, in check_linecache_ipython\n",
            "    linecache.checkcache()\n",
            "  [Previous line repeated 996 more times]\n",
            "  File \"/usr/local/lib/python3.10/dist-packages/IPython/core/compilerop.py\", line 209, in check_linecache_ipython\n",
            "    warnings.warn(\n",
            "RecursionError: maximum recursion depth exceeded while calling a Python object\n",
            "\n",
            "During handling of the above exception, another exception occurred:\n",
            "\n",
            "Traceback (most recent call last):\n",
            "  File \"/usr/local/lib/python3.10/dist-packages/IPython/core/compilerop.py\", line 214, in check_linecache_ipython\n",
            "    linecache.checkcache()\n",
            "  File \"/usr/local/lib/python3.10/dist-packages/IPython/core/compilerop.py\", line 214, in check_linecache_ipython\n",
            "    linecache.checkcache()\n",
            "  File \"/usr/local/lib/python3.10/dist-packages/IPython/core/compilerop.py\", line 214, in check_linecache_ipython\n",
            "    linecache.checkcache()\n",
            "  [Previous line repeated 996 more times]\n",
            "  File \"/usr/local/lib/python3.10/dist-packages/IPython/core/compilerop.py\", line 209, in check_linecache_ipython\n",
            "    warnings.warn(\n",
            "RecursionError: maximum recursion depth exceeded while calling a Python object\n",
            "\n",
            "During handling of the above exception, another exception occurred:\n",
            "\n",
            "Traceback (most recent call last):\n",
            "  File \"/usr/local/lib/python3.10/dist-packages/IPython/core/compilerop.py\", line 214, in check_linecache_ipython\n",
            "    linecache.checkcache()\n",
            "  File \"/usr/local/lib/python3.10/dist-packages/IPython/core/compilerop.py\", line 214, in check_linecache_ipython\n",
            "    linecache.checkcache()\n",
            "  File \"/usr/local/lib/python3.10/dist-packages/IPython/core/compilerop.py\", line 214, in check_linecache_ipython\n",
            "    linecache.checkcache()\n",
            "  [Previous line repeated 996 more times]\n",
            "  File \"/usr/local/lib/python3.10/dist-packages/IPython/core/compilerop.py\", line 209, in check_linecache_ipython\n",
            "    warnings.warn(\n",
            "RecursionError: maximum recursion depth exceeded while calling a Python object\n",
            "\n",
            "During handling of the above exception, another exception occurred:\n",
            "\n",
            "Traceback (most recent call last):\n",
            "  File \"/usr/local/lib/python3.10/dist-packages/IPython/core/compilerop.py\", line 214, in check_linecache_ipython\n",
            "    linecache.checkcache()\n",
            "  File \"/usr/local/lib/python3.10/dist-packages/IPython/core/compilerop.py\", line 214, in check_linecache_ipython\n",
            "    linecache.checkcache()\n",
            "  File \"/usr/local/lib/python3.10/dist-packages/IPython/core/compilerop.py\", line 214, in check_linecache_ipython\n",
            "    linecache.checkcache()\n",
            "  [Previous line repeated 996 more times]\n",
            "  File \"/usr/local/lib/python3.10/dist-packages/IPython/core/compilerop.py\", line 209, in check_linecache_ipython\n",
            "    warnings.warn(\n",
            "RecursionError: maximum recursion depth exceeded while calling a Python object\n",
            "\n",
            "During handling of the above exception, another exception occurred:\n",
            "\n",
            "Traceback (most recent call last):\n",
            "  File \"/usr/local/lib/python3.10/dist-packages/IPython/core/compilerop.py\", line 214, in check_linecache_ipython\n",
            "    linecache.checkcache()\n",
            "  File \"/usr/local/lib/python3.10/dist-packages/IPython/core/compilerop.py\", line 214, in check_linecache_ipython\n",
            "    linecache.checkcache()\n",
            "  File \"/usr/local/lib/python3.10/dist-packages/IPython/core/compilerop.py\", line 214, in check_linecache_ipython\n",
            "    linecache.checkcache()\n",
            "  [Previous line repeated 996 more times]\n",
            "  File \"/usr/local/lib/python3.10/dist-packages/IPython/core/compilerop.py\", line 209, in check_linecache_ipython\n",
            "    warnings.warn(\n",
            "RecursionError: maximum recursion depth exceeded while calling a Python object\n"
          ]
        }
      ]
    },
    {
      "cell_type": "code",
      "source": [
        "# Change current directory to sepal_mgci (i.e. the local copy of the github repository)\n",
        "%cd \"/content/sepal_mgci\""
      ],
      "metadata": {
        "colab": {
          "base_uri": "https://localhost:8080/",
          "height": 34
        },
        "id": "XHUeD5LUgXDb",
        "outputId": "3032bac1-0362-4ac0-fc68-00ade1f6e255"
      },
      "execution_count": 17,
      "outputs": [
        {
          "output_type": "display_data",
          "data": {
            "text/plain": [
              "<IPython.core.display.HTML object>"
            ],
            "text/html": [
              "\n",
              "            <style>\n",
              "                .geemap-dark {\n",
              "                    --jp-widgets-color: white;\n",
              "                    --jp-widgets-label-color: white;\n",
              "                    --jp-ui-font-color1: white;\n",
              "                    --jp-layout-color2: #454545;\n",
              "                    background-color: #383838;\n",
              "                }\n",
              "\n",
              "                .geemap-dark .jupyter-button {\n",
              "                    --jp-layout-color3: #383838;\n",
              "                }\n",
              "\n",
              "                .geemap-colab {\n",
              "                    background-color: var(--colab-primary-surface-color, white);\n",
              "                }\n",
              "\n",
              "                .geemap-colab .jupyter-button {\n",
              "                    --jp-layout-color3: var(--colab-primary-surface-color, white);\n",
              "                }\n",
              "            </style>\n",
              "            "
            ]
          },
          "metadata": {}
        },
        {
          "output_type": "stream",
          "name": "stdout",
          "text": [
            "/content/sepal_mgci\n"
          ]
        }
      ]
    },
    {
      "cell_type": "markdown",
      "source": [
        "##Set parameters\n"
      ],
      "metadata": {
        "id": "Bi0XpRRDo6V1"
      }
    },
    {
      "cell_type": "markdown",
      "source": [
        "Input parameters"
      ],
      "metadata": {
        "id": "5aIr_OxkG-Ky"
      }
    },
    {
      "cell_type": "code",
      "source": [
        "# Google Earth Engine project\n",
        "gee_project_name = \"ee-andyarnellgee\" # \"insert cloud project here\"  # a registered cloud project (if unsure of name see pic here: https://developers.google.com/earth-engine/cloud/assets)\n",
        "\n",
        "\n",
        "# Admin boundaries asset\n",
        "admin_asset_id = \"FAO/GAUL/2015/level0\" # administrative units feature collection\n",
        "\n",
        "admin_asset_property_name = \"ADM0_NAME\" # property/column name for selecting admin boundaries (e.g. ISO3 code or country name)\n",
        "\n",
        "\n",
        "# Land cover assets\n",
        "\n",
        "# For SUB_A indicator, we need to set the following structure.\n",
        "a_years = {\n",
        "    1: {\"asset\": \"users/amitghosh/sdg_module/esa/cci_landcover/2000\", \"year\": 2000}, # baseline\n",
        "    2: {\"year\": 2003, \"asset\": \"users/amitghosh/sdg_module/esa/cci_landcover/2003\"}, # subsequent reporting years...\n",
        "    3: {\"year\": 2007, \"asset\": \"users/amitghosh/sdg_module/esa/cci_landcover/2007\"},\n",
        "    4: {\"year\": 2010, \"asset\": \"users/amitghosh/sdg_module/esa/cci_landcover/2010\"},\n",
        "}\n"
      ],
      "metadata": {
        "colab": {
          "base_uri": "https://localhost:8080/",
          "height": 17
        },
        "id": "t9C1qT5bGoqt",
        "outputId": "cdd87cc9-69b6-4c74-e131-c3eb8e5d8b38"
      },
      "execution_count": 18,
      "outputs": [
        {
          "output_type": "display_data",
          "data": {
            "text/plain": [
              "<IPython.core.display.HTML object>"
            ],
            "text/html": [
              "\n",
              "            <style>\n",
              "                .geemap-dark {\n",
              "                    --jp-widgets-color: white;\n",
              "                    --jp-widgets-label-color: white;\n",
              "                    --jp-ui-font-color1: white;\n",
              "                    --jp-layout-color2: #454545;\n",
              "                    background-color: #383838;\n",
              "                }\n",
              "\n",
              "                .geemap-dark .jupyter-button {\n",
              "                    --jp-layout-color3: #383838;\n",
              "                }\n",
              "\n",
              "                .geemap-colab {\n",
              "                    background-color: var(--colab-primary-surface-color, white);\n",
              "                }\n",
              "\n",
              "                .geemap-colab .jupyter-button {\n",
              "                    --jp-layout-color3: var(--colab-primary-surface-color, white);\n",
              "                }\n",
              "            </style>\n",
              "            "
            ]
          },
          "metadata": {}
        }
      ]
    },
    {
      "cell_type": "markdown",
      "source": [
        "Output parameters\n",
        "\n",
        "---\n",
        "\n"
      ],
      "metadata": {
        "id": "naz3Qe4JHFER"
      }
    },
    {
      "cell_type": "code",
      "source": [
        "final_report_folder = \"sdg_15_4_2_A_combined_report\" # folder name in Google Drive for final output (if doesnt exist creates one)\n",
        "\n",
        "final_report_name = \"sdg_15_4_2_A_default_global.xlsx\" # file name for final excel output\n",
        "\n",
        "# export GEE tasks or not\n",
        "export = False # default: True. Set to False if debugging or limiting accidental re-exporting of tasks\n",
        "\n",
        "# prints more messages\n",
        "debug = False # default: False. Set to True if debugging code"
      ],
      "metadata": {
        "id": "mSvTM29TnndR",
        "outputId": "1af7e612-f5d1-456f-89aa-5d44a2b6fabc",
        "colab": {
          "base_uri": "https://localhost:8080/",
          "height": 17
        }
      },
      "execution_count": 19,
      "outputs": [
        {
          "output_type": "display_data",
          "data": {
            "text/plain": [
              "<IPython.core.display.HTML object>"
            ],
            "text/html": [
              "\n",
              "            <style>\n",
              "                .geemap-dark {\n",
              "                    --jp-widgets-color: white;\n",
              "                    --jp-widgets-label-color: white;\n",
              "                    --jp-ui-font-color1: white;\n",
              "                    --jp-layout-color2: #454545;\n",
              "                    background-color: #383838;\n",
              "                }\n",
              "\n",
              "                .geemap-dark .jupyter-button {\n",
              "                    --jp-layout-color3: #383838;\n",
              "                }\n",
              "\n",
              "                .geemap-colab {\n",
              "                    background-color: var(--colab-primary-surface-color, white);\n",
              "                }\n",
              "\n",
              "                .geemap-colab .jupyter-button {\n",
              "                    --jp-layout-color3: var(--colab-primary-surface-color, white);\n",
              "                }\n",
              "            </style>\n",
              "            "
            ]
          },
          "metadata": {}
        }
      ]
    },
    {
      "cell_type": "markdown",
      "source": [
        "Temporary output parameters\n"
      ],
      "metadata": {
        "id": "iV8-wbddOJuT"
      }
    },
    {
      "cell_type": "code",
      "source": [
        "stats_csv_folder = \"sdg_15_4_2_A_csvs\" # for storing stats tables exported from GEE for each admin boundary/AOI\n",
        "\n",
        "excel_reports_folder = \"sdg_15_4_2_A_reports\" # for storing formatted excel tables for each admin boundary/AOI\n",
        "\n",
        "drive_home =\"/content/drive/MyDrive/\" # Google Drive location. Don't change unless you know this is incorrect\n",
        "\n",
        "error_log_file_path = drive_home + excel_reports_folder + \"/\"+\"1_error_log\" +\".csv\" # for storing errors\n"
      ],
      "metadata": {
        "colab": {
          "base_uri": "https://localhost:8080/",
          "height": 17
        },
        "id": "TCBNkALuOL1N",
        "outputId": "1995f325-335d-43b5-be68-a8188d57a8ef"
      },
      "execution_count": 20,
      "outputs": [
        {
          "output_type": "display_data",
          "data": {
            "text/plain": [
              "<IPython.core.display.HTML object>"
            ],
            "text/html": [
              "\n",
              "            <style>\n",
              "                .geemap-dark {\n",
              "                    --jp-widgets-color: white;\n",
              "                    --jp-widgets-label-color: white;\n",
              "                    --jp-ui-font-color1: white;\n",
              "                    --jp-layout-color2: #454545;\n",
              "                    background-color: #383838;\n",
              "                }\n",
              "\n",
              "                .geemap-dark .jupyter-button {\n",
              "                    --jp-layout-color3: #383838;\n",
              "                }\n",
              "\n",
              "                .geemap-colab {\n",
              "                    background-color: var(--colab-primary-surface-color, white);\n",
              "                }\n",
              "\n",
              "                .geemap-colab .jupyter-button {\n",
              "                    --jp-layout-color3: var(--colab-primary-surface-color, white);\n",
              "                }\n",
              "            </style>\n",
              "            "
            ]
          },
          "metadata": {}
        }
      ]
    },
    {
      "cell_type": "markdown",
      "source": [
        "#### Setup Google Earth Engine\n",
        "Launches access request pop up window"
      ],
      "metadata": {
        "id": "FAzzmzMHzFmS"
      }
    },
    {
      "cell_type": "code",
      "source": [
        "import ee # google earth engine\n",
        "\n",
        "ee.Authenticate()\n",
        "\n",
        "ee.Initialize(project=gee_project_name) # NB gee project name is defined in parameters section"
      ],
      "metadata": {
        "id": "gHI-M8y_qwaP",
        "outputId": "157afe4b-a83d-46a6-a51a-ce6584bda850",
        "colab": {
          "base_uri": "https://localhost:8080/",
          "height": 17
        }
      },
      "execution_count": 27,
      "outputs": [
        {
          "output_type": "display_data",
          "data": {
            "text/plain": [
              "<IPython.core.display.HTML object>"
            ],
            "text/html": [
              "\n",
              "            <style>\n",
              "                .geemap-dark {\n",
              "                    --jp-widgets-color: white;\n",
              "                    --jp-widgets-label-color: white;\n",
              "                    --jp-ui-font-color1: white;\n",
              "                    --jp-layout-color2: #454545;\n",
              "                    background-color: #383838;\n",
              "                }\n",
              "\n",
              "                .geemap-dark .jupyter-button {\n",
              "                    --jp-layout-color3: #383838;\n",
              "                }\n",
              "\n",
              "                .geemap-colab {\n",
              "                    background-color: var(--colab-primary-surface-color, white);\n",
              "                }\n",
              "\n",
              "                .geemap-colab .jupyter-button {\n",
              "                    --jp-layout-color3: var(--colab-primary-surface-color, white);\n",
              "                }\n",
              "            </style>\n",
              "            "
            ]
          },
          "metadata": {}
        }
      ]
    },
    {
      "cell_type": "markdown",
      "source": [
        "### Import packages"
      ],
      "metadata": {
        "id": "L5jsWgqWyiCP"
      }
    },
    {
      "cell_type": "code",
      "source": [
        "from imports import * # import all packages listed in the imports.py script"
      ],
      "metadata": {
        "id": "2Wquh4ZQbgfZ",
        "outputId": "3c90875c-7372-43de-e990-fc920f6f1792",
        "colab": {
          "base_uri": "https://localhost:8080/",
          "height": 17
        }
      },
      "execution_count": 48,
      "outputs": [
        {
          "output_type": "display_data",
          "data": {
            "text/plain": [
              "<IPython.core.display.HTML object>"
            ],
            "text/html": [
              "\n",
              "            <style>\n",
              "                .geemap-dark {\n",
              "                    --jp-widgets-color: white;\n",
              "                    --jp-widgets-label-color: white;\n",
              "                    --jp-ui-font-color1: white;\n",
              "                    --jp-layout-color2: #454545;\n",
              "                    background-color: #383838;\n",
              "                }\n",
              "\n",
              "                .geemap-dark .jupyter-button {\n",
              "                    --jp-layout-color3: #383838;\n",
              "                }\n",
              "\n",
              "                .geemap-colab {\n",
              "                    background-color: var(--colab-primary-surface-color, white);\n",
              "                }\n",
              "\n",
              "                .geemap-colab .jupyter-button {\n",
              "                    --jp-layout-color3: var(--colab-primary-surface-color, white);\n",
              "                }\n",
              "            </style>\n",
              "            "
            ]
          },
          "metadata": {}
        }
      ]
    },
    {
      "cell_type": "markdown",
      "source": [
        "#### Setup Google Drive\n",
        "Launches access request pop up window"
      ],
      "metadata": {
        "id": "aUVGL6zwLpX5"
      }
    },
    {
      "cell_type": "code",
      "source": [
        "# for accessing google drive\n",
        "from google.colab import auth, drive\n",
        "from googleapiclient.discovery import build\n",
        "\n",
        "drive.mount('/content/drive')"
      ],
      "metadata": {
        "id": "NorUzAJ8Kj0Z",
        "outputId": "d33d4aa0-eff4-4a44-a923-f3bc202ff986",
        "colab": {
          "base_uri": "https://localhost:8080/",
          "height": 54
        }
      },
      "execution_count": 49,
      "outputs": [
        {
          "output_type": "display_data",
          "data": {
            "text/plain": [
              "<IPython.core.display.HTML object>"
            ],
            "text/html": [
              "\n",
              "            <style>\n",
              "                .geemap-dark {\n",
              "                    --jp-widgets-color: white;\n",
              "                    --jp-widgets-label-color: white;\n",
              "                    --jp-ui-font-color1: white;\n",
              "                    --jp-layout-color2: #454545;\n",
              "                    background-color: #383838;\n",
              "                }\n",
              "\n",
              "                .geemap-dark .jupyter-button {\n",
              "                    --jp-layout-color3: #383838;\n",
              "                }\n",
              "\n",
              "                .geemap-colab {\n",
              "                    background-color: var(--colab-primary-surface-color, white);\n",
              "                }\n",
              "\n",
              "                .geemap-colab .jupyter-button {\n",
              "                    --jp-layout-color3: var(--colab-primary-surface-color, white);\n",
              "                }\n",
              "            </style>\n",
              "            "
            ]
          },
          "metadata": {}
        },
        {
          "output_type": "stream",
          "name": "stdout",
          "text": [
            "Drive already mounted at /content/drive; to attempt to forcibly remount, call drive.mount(\"/content/drive\", force_remount=True).\n"
          ]
        }
      ]
    },
    {
      "cell_type": "markdown",
      "metadata": {
        "id": "c_8UzlUnu_f6"
      },
      "source": [
        "## SUB INDICATOR A"
      ]
    },
    {
      "cell_type": "markdown",
      "source": [
        "Create list of boundaries to process"
      ],
      "metadata": {
        "id": "qi5zNGTWN3df"
      }
    },
    {
      "cell_type": "code",
      "source": [
        "# admin boundary feature collection\n",
        "admin_boundaries = ee.FeatureCollection(admin_asset_id).limit(10)\n",
        "\n",
        "#TEMP FILTER FOR TESTING TO LIMIT TO FIRST TEN BOUNDARIES - remove when running properly\n",
        "admin_boundaries = admin_boundaries.limit(10)\n",
        "\n",
        "# list to process\n",
        "list_of_countries = admin_boundaries.aggregate_array(admin_asset_property_name).getInfo()\n",
        "\n",
        "print (\"Length of admin boundaries to process\", len(list_of_countries))\n",
        "\n",
        "list_of_countries = list(set(list_of_countries)) # remove dupicates\n",
        "\n",
        "print (\"Length of distinct admin boundaries to process\", (len(set(list_of_countries))))\n"
      ],
      "metadata": {
        "colab": {
          "base_uri": "https://localhost:8080/",
          "height": 52
        },
        "id": "BiuBEJwPue2v",
        "outputId": "e7b12eef-5a55-42e2-c4ee-b149e6cddfd1"
      },
      "execution_count": 50,
      "outputs": [
        {
          "output_type": "display_data",
          "data": {
            "text/plain": [
              "<IPython.core.display.HTML object>"
            ],
            "text/html": [
              "\n",
              "            <style>\n",
              "                .geemap-dark {\n",
              "                    --jp-widgets-color: white;\n",
              "                    --jp-widgets-label-color: white;\n",
              "                    --jp-ui-font-color1: white;\n",
              "                    --jp-layout-color2: #454545;\n",
              "                    background-color: #383838;\n",
              "                }\n",
              "\n",
              "                .geemap-dark .jupyter-button {\n",
              "                    --jp-layout-color3: #383838;\n",
              "                }\n",
              "\n",
              "                .geemap-colab {\n",
              "                    background-color: var(--colab-primary-surface-color, white);\n",
              "                }\n",
              "\n",
              "                .geemap-colab .jupyter-button {\n",
              "                    --jp-layout-color3: var(--colab-primary-surface-color, white);\n",
              "                }\n",
              "            </style>\n",
              "            "
            ]
          },
          "metadata": {}
        },
        {
          "output_type": "stream",
          "name": "stdout",
          "text": [
            "Length of admin boundaries to process 10\n",
            "Length of distinct admin boundaries to process 10\n"
          ]
        }
      ]
    },
    {
      "cell_type": "markdown",
      "source": [
        "Read the default land cover remapping table and convert it to a dictionary"
      ],
      "metadata": {
        "id": "2G1q9TSiUsc1"
      }
    },
    {
      "cell_type": "code",
      "execution_count": 51,
      "metadata": {
        "id": "PRSEqq5bu_f7",
        "colab": {
          "base_uri": "https://localhost:8080/",
          "height": 17
        },
        "outputId": "7a7c48db-b3c4-45dd-b5f2-8c9df152dc2a"
      },
      "outputs": [
        {
          "output_type": "display_data",
          "data": {
            "text/plain": [
              "<IPython.core.display.HTML object>"
            ],
            "text/html": [
              "\n",
              "            <style>\n",
              "                .geemap-dark {\n",
              "                    --jp-widgets-color: white;\n",
              "                    --jp-widgets-label-color: white;\n",
              "                    --jp-ui-font-color1: white;\n",
              "                    --jp-layout-color2: #454545;\n",
              "                    background-color: #383838;\n",
              "                }\n",
              "\n",
              "                .geemap-dark .jupyter-button {\n",
              "                    --jp-layout-color3: #383838;\n",
              "                }\n",
              "\n",
              "                .geemap-colab {\n",
              "                    background-color: var(--colab-primary-surface-color, white);\n",
              "                }\n",
              "\n",
              "                .geemap-colab .jupyter-button {\n",
              "                    --jp-layout-color3: var(--colab-primary-surface-color, white);\n",
              "                }\n",
              "            </style>\n",
              "            "
            ]
          },
          "metadata": {}
        }
      ],
      "source": [
        "default_map_matrix = map_matrix_to_dict(LC_MAP_MATRIX)"
      ]
    },
    {
      "cell_type": "markdown",
      "source": [
        "Select years of land cover to process"
      ],
      "metadata": {
        "id": "4-Ut_-S35Yg8"
      }
    },
    {
      "cell_type": "code",
      "execution_count": 52,
      "metadata": {
        "id": "PwqJFWR4u_f7",
        "colab": {
          "base_uri": "https://localhost:8080/",
          "height": 17
        },
        "outputId": "edec9dfc-4901-416e-e758-d4c51063819a"
      },
      "outputs": [
        {
          "output_type": "display_data",
          "data": {
            "text/plain": [
              "<IPython.core.display.HTML object>"
            ],
            "text/html": [
              "\n",
              "            <style>\n",
              "                .geemap-dark {\n",
              "                    --jp-widgets-color: white;\n",
              "                    --jp-widgets-label-color: white;\n",
              "                    --jp-ui-font-color1: white;\n",
              "                    --jp-layout-color2: #454545;\n",
              "                    background-color: #383838;\n",
              "                }\n",
              "\n",
              "                .geemap-dark .jupyter-button {\n",
              "                    --jp-layout-color3: #383838;\n",
              "                }\n",
              "\n",
              "                .geemap-colab {\n",
              "                    background-color: var(--colab-primary-surface-color, white);\n",
              "                }\n",
              "\n",
              "                .geemap-colab .jupyter-button {\n",
              "                    --jp-layout-color3: var(--colab-primary-surface-color, white);\n",
              "                }\n",
              "            </style>\n",
              "            "
            ]
          },
          "metadata": {}
        }
      ],
      "source": [
        "# extracts the years from the a_years dictionary (as defined in parameters)\n",
        "single_years = [y[\"year\"] for  y in a_years.values()]"
      ]
    },
    {
      "cell_type": "markdown",
      "source": [
        "#### Run area statistics within admin boundaries\n",
        "* Runs for each country and each mountain biobelt\n",
        "* Gets area of land cover reclassified into the 10 SEAM classes\n",
        "* Repeat for each year specified\n"
      ],
      "metadata": {
        "id": "iNxHtR984cNk"
      }
    },
    {
      "cell_type": "code",
      "execution_count": 53,
      "metadata": {
        "id": "VftKLuY4u_f7",
        "colab": {
          "base_uri": "https://localhost:8080/",
          "height": 610
        },
        "outputId": "dfd8105e-0765-494d-abda-28bb0ecfbae2"
      },
      "outputs": [
        {
          "output_type": "display_data",
          "data": {
            "text/plain": [
              "<IPython.core.display.HTML object>"
            ],
            "text/html": [
              "\n",
              "            <style>\n",
              "                .geemap-dark {\n",
              "                    --jp-widgets-color: white;\n",
              "                    --jp-widgets-label-color: white;\n",
              "                    --jp-ui-font-color1: white;\n",
              "                    --jp-layout-color2: #454545;\n",
              "                    background-color: #383838;\n",
              "                }\n",
              "\n",
              "                .geemap-dark .jupyter-button {\n",
              "                    --jp-layout-color3: #383838;\n",
              "                }\n",
              "\n",
              "                .geemap-colab {\n",
              "                    background-color: var(--colab-primary-surface-color, white);\n",
              "                }\n",
              "\n",
              "                .geemap-colab .jupyter-button {\n",
              "                    --jp-layout-color3: var(--colab-primary-surface-color, white);\n",
              "                }\n",
              "            </style>\n",
              "            "
            ]
          },
          "metadata": {}
        },
        {
          "output_type": "error",
          "ename": "NameError",
          "evalue": "name 'auth' is not defined",
          "traceback": [
            "\u001b[0;31m---------------------------------------------------------------------------\u001b[0m",
            "\u001b[0;31mNameError\u001b[0m                                 Traceback (most recent call last)",
            "Cell \u001b[0;32mIn[53], line 3\u001b[0m\n\u001b[1;32m      1\u001b[0m \u001b[38;5;66;03m# you can monitor your GEE tasks here : https://code.earthengine.google.com/tasks\u001b[39;00m\n\u001b[0;32m----> 3\u001b[0m \u001b[43mcreate_folder_if_not_exists\u001b[49m\u001b[43m(\u001b[49m\u001b[43mstats_csv_folder\u001b[49m\u001b[43m)\u001b[49m \u001b[38;5;66;03m# to store outputs in google drive\u001b[39;00m\n\u001b[1;32m      5\u001b[0m counter\u001b[38;5;241m=\u001b[39m\u001b[38;5;241m0\u001b[39m \u001b[38;5;66;03m# starting place of counter used to keep track of number of tasks that are being run\u001b[39;00m\n\u001b[1;32m      7\u001b[0m \u001b[38;5;28;01mfor\u001b[39;00m aoi_name \u001b[38;5;129;01min\u001b[39;00m list_of_countries:\n",
            "File \u001b[0;32m/content/sepal_mgci/drive_folders.py:78\u001b[0m, in \u001b[0;36mcreate_folder_if_not_exists\u001b[0;34m(folder_name, parent_folder_id)\u001b[0m\n\u001b[1;32m     66\u001b[0m \u001b[38;5;28;01mdef\u001b[39;00m \u001b[38;5;21mcreate_folder_if_not_exists\u001b[39m(folder_name, parent_folder_id\u001b[38;5;241m=\u001b[39m\u001b[38;5;28;01mNone\u001b[39;00m):\n\u001b[1;32m     67\u001b[0m \u001b[38;5;250m    \u001b[39m\u001b[38;5;124;03m\"\"\"\u001b[39;00m\n\u001b[1;32m     68\u001b[0m \u001b[38;5;124;03m    Create a folder in Google Drive if it doesn't already exist.\u001b[39;00m\n\u001b[1;32m     69\u001b[0m \n\u001b[0;32m   (...)\u001b[0m\n\u001b[1;32m     76\u001b[0m \u001b[38;5;124;03m    - str: ID of the newly created folder or the existing folder if it already exists.\u001b[39;00m\n\u001b[1;32m     77\u001b[0m \u001b[38;5;124;03m    \"\"\"\u001b[39;00m\n\u001b[0;32m---> 78\u001b[0m     \u001b[38;5;28;01mif\u001b[39;00m \u001b[43mfolder_exists\u001b[49m\u001b[43m(\u001b[49m\u001b[43mfolder_name\u001b[49m\u001b[43m,\u001b[49m\u001b[43m \u001b[49m\u001b[43mparent_folder_id\u001b[49m\u001b[43m)\u001b[49m:\n\u001b[1;32m     79\u001b[0m         \u001b[38;5;28mprint\u001b[39m(\u001b[38;5;124mf\u001b[39m\u001b[38;5;124m\"\u001b[39m\u001b[38;5;124mFolder \u001b[39m\u001b[38;5;124m'\u001b[39m\u001b[38;5;132;01m{\u001b[39;00mfolder_name\u001b[38;5;132;01m}\u001b[39;00m\u001b[38;5;124m'\u001b[39m\u001b[38;5;124m already exists.\u001b[39m\u001b[38;5;124m\"\u001b[39m)\n\u001b[1;32m     80\u001b[0m         \u001b[38;5;28;01mreturn\u001b[39;00m \u001b[38;5;28;01mNone\u001b[39;00m\n",
            "File \u001b[0;32m/content/sepal_mgci/drive_folders.py:14\u001b[0m, in \u001b[0;36mfolder_exists\u001b[0;34m(folder_name, parent_folder_id)\u001b[0m\n\u001b[1;32m      2\u001b[0m \u001b[38;5;250m\u001b[39m\u001b[38;5;124;03m\"\"\"\u001b[39;00m\n\u001b[1;32m      3\u001b[0m \u001b[38;5;124;03mCheck if a folder exists in Google Drive.\u001b[39;00m\n\u001b[1;32m      4\u001b[0m \n\u001b[0;32m   (...)\u001b[0m\n\u001b[1;32m     11\u001b[0m \u001b[38;5;124;03m- bool: True if the folder exists, False otherwise.\u001b[39;00m\n\u001b[1;32m     12\u001b[0m \u001b[38;5;124;03m\"\"\"\u001b[39;00m\n\u001b[1;32m     13\u001b[0m \u001b[38;5;66;03m# Authenticate user\u001b[39;00m\n\u001b[0;32m---> 14\u001b[0m \u001b[43mauth\u001b[49m\u001b[38;5;241m.\u001b[39mauthenticate_user()\n\u001b[1;32m     16\u001b[0m \u001b[38;5;66;03m# Build the Drive v3 service\u001b[39;00m\n\u001b[1;32m     17\u001b[0m drive_service \u001b[38;5;241m=\u001b[39m build(\u001b[38;5;124m'\u001b[39m\u001b[38;5;124mdrive\u001b[39m\u001b[38;5;124m'\u001b[39m, \u001b[38;5;124m'\u001b[39m\u001b[38;5;124mv3\u001b[39m\u001b[38;5;124m'\u001b[39m)\n",
            "\u001b[0;31mNameError\u001b[0m: name 'auth' is not defined"
          ]
        }
      ],
      "source": [
        "# you can monitor your GEE tasks here : https://code.earthengine.google.com/tasks\n",
        "\n",
        "create_folder_if_not_exists(stats_csv_folder) # to store outputs in google drive\n",
        "\n",
        "counter=0 # starting place of counter used to keep track of number of tasks that are being run\n",
        "\n",
        "for aoi_name in list_of_countries:\n",
        "\n",
        "    aoi = admin_boundaries.filter(ee.Filter.eq(admin_asset_property_name,aoi_name))#.first()\n",
        "\n",
        "    # gets areas of landcover in each mountain belt in each country\n",
        "    # uses reduce_regions function imported from the cloned sepal_mgci git hub repository (see Imports section)\n",
        "    # pixels counted at native resolution (scale) of input land cover (or DEM if RSA implementation)\n",
        "    process = ee.FeatureCollection([\n",
        "        ee.Feature(\n",
        "            None,\n",
        "            reduce_regions(\n",
        "                aoi,\n",
        "                remap_matrix=default_map_matrix,\n",
        "                rsa=False,\n",
        "                # dem=param.DEM_DEFAULT,\n",
        "                dem=DEM_DEFAULT, #default digital elevation model (DEM). Relevant for the real surface area (RSA) implementation.\n",
        "                lc_years= year,\n",
        "                transition_matrix=False\n",
        "            )\n",
        "        ).set(\"process_id\", year[0][\"year\"])\n",
        "        for year in get_a_years(a_years) # creates GEE images and runs stats on each. Images to run are in the 'a_years\" dictionary (above)\n",
        "    ])\n",
        "\n",
        "    #make name acceptable for running tasks (i.e., removes special characters)\n",
        "    task_name = str(sanitize_description(unidecode(aoi_name)))\n",
        "\n",
        "\n",
        "    task = ee.batch.Export.table.toDrive(\n",
        "        **{  #asterisks unpack dictionary into keyword arguments format\n",
        "            \"collection\": process,\n",
        "            \"description\": task_name,\n",
        "            \"fileFormat\": \"CSV\",\n",
        "            \"folder\":stats_csv_folder,\n",
        "            \"selectors\": [\n",
        "                \"process_id\",\n",
        "                \"sub_a\",\n",
        "            ],\n",
        "        }\n",
        "    )\n",
        "\n",
        "    counter+=1\n",
        "\n",
        "    print (f\"\\r process {counter}/{len(list_of_countries)} {aoi_name} \", end=\"\") #print in place (remove \\r and end=\"\" for verbose version)\n",
        "\n",
        "    if export:\n",
        "      task.start()\n",
        "\n"
      ]
    },
    {
      "cell_type": "markdown",
      "metadata": {
        "id": "vM0SIvJtu_f8"
      },
      "source": [
        "# Read, process, and create report tables"
      ]
    },
    {
      "cell_type": "markdown",
      "source": [
        "#####Manually check your earth engine task status, once the tasks are complete, run the next cell. https://code.earthengine.google.com/tasks\n",
        "\n",
        "This formats individual excel reports for each country.\n",
        "See Error_log.csv for missing files/errors"
      ],
      "metadata": {
        "id": "3x7jwkZJWwE-"
      }
    },
    {
      "cell_type": "code",
      "execution_count": null,
      "metadata": {
        "id": "qkpDfHqQu_f9"
      },
      "outputs": [],
      "source": [
        "# Initialize the counter\n",
        "counter = 0\n",
        "\n",
        "# to store outputs in google drive\n",
        "create_folder_if_not_exists(excel_reports_folder)\n",
        "\n",
        "# Loop over each AOI name in the list of countries\n",
        "for aoi_name in list_of_countries:\n",
        "    counter += 1\n",
        "\n",
        "    # Clean the AOI name\n",
        "    aoi_name_clean = str(sanitize_description(unidecode(aoi_name)))\n",
        "\n",
        "    # Construct the file path for the stats CSV file\n",
        "    stats_csv_file = aoi_name_clean + \".csv\"\n",
        "    stats_csv_file_path = os.path.join(drive_home, stats_csv_folder, stats_csv_file)\n",
        "\n",
        "    message = f\"Process {counter}, {stats_csv_file}\"\n",
        "\n",
        "    try:\n",
        "        # Read the results from the CSV file and parse it to a dictionary\n",
        "        dict_results = read_from_csv(stats_csv_file_path)\n",
        "\n",
        "        details = {\n",
        "            \"geo_area_name\": aoi_name,\n",
        "            \"ref_area\": \" \",\n",
        "            \"source_detail\": \" \",\n",
        "        }\n",
        "\n",
        "        # Generate reports for the sub_a and mtn indicators\n",
        "        sub_a_reports = [sub_a.get_reports(parse_result(dict_results[year][\"sub_a\"], single=True), year, **details) for year in single_years]\n",
        "        mtn_reports = [mntn.get_report(parse_result(dict_results[year][\"sub_a\"], single=True), year, **details) for year in single_years]\n",
        "\n",
        "        # Concatenate the mtn reports\n",
        "        mtn_reports_df = pd.concat(mtn_reports)\n",
        "\n",
        "        # Concatenate the sub a reports\n",
        "        er_mtn_grnvi_df = pd.concat([report[0] for report in sub_a_reports])\n",
        "        er_mtn_grncov_df = pd.concat([report[1] for report in sub_a_reports])\n",
        "\n",
        "        # Define the output report file path\n",
        "        report_file_path = os.path.join(drive_home, excel_reports_folder, aoi_name_clean + \".xlsx\")\n",
        "\n",
        "        # Create the Excel file with the reports\n",
        "        with pd.ExcelWriter(report_file_path) as writer:\n",
        "            mtn_reports_df.to_excel(writer, sheet_name=\"Table1_ER_MTN_TOTL\", index=False)\n",
        "            er_mtn_grncov_df.to_excel(writer, sheet_name=\"Table2_ER_MTN_GRNCOV\", index=False)\n",
        "            er_mtn_grnvi_df.to_excel(writer, sheet_name=\"Table3_ER_MTN_GRNCVI\", index=False)\n",
        "\n",
        "            # Adjust column widths and alignment for each sheet\n",
        "            for sheetname in writer.sheets:\n",
        "                worksheet = writer.sheets[sheetname]\n",
        "                for col in worksheet.columns:\n",
        "                    max_length = max(len(str(cell.value)) for cell in col)\n",
        "                    column = col[0]\n",
        "                    adjusted_width = max(max_length, len(str(column.value))) + 4\n",
        "                    worksheet.column_dimensions[get_column_letter(column.column)].width = adjusted_width\n",
        "\n",
        "                    # Align \"obs_value\" column to the right\n",
        "                    if \"OBS\" in column.value:\n",
        "                        for cell in col:\n",
        "                            cell.alignment = Alignment(horizontal=\"right\")\n",
        "\n",
        "    except Exception as e:\n",
        "        # If an error occurs, catch the exception and handle it\n",
        "        message = f\"process {counter}, {stats_csv_file}, Error: {e}\"\n",
        "\n",
        "        # Get the current time\n",
        "        current_time = datetime.now().strftime('%Y-%m-%d %H:%M:%S')\n",
        "\n",
        "        # Write the error message and file name to the error log file\n",
        "        error_info = pd.DataFrame([[stats_csv_file, str(e), current_time]], columns=['File Name', 'Error Message', 'Time'])\n",
        "\n",
        "        mode = 'w' if not os.path.exists(error_log_file_path) else 'a'\n",
        "        header = False if os.path.exists(error_log_file_path) else True\n",
        "\n",
        "        # Append or write to the error log file\n",
        "        error_info.to_csv(error_log_file_path, mode=mode, header=header, index=False)\n",
        "\n",
        "    print(message)\n"
      ]
    },
    {
      "cell_type": "markdown",
      "source": [
        "#### Combine excel files"
      ],
      "metadata": {
        "id": "qTqI3Ag08k5b"
      }
    },
    {
      "cell_type": "markdown",
      "source": [
        "Make a list of files to combine"
      ],
      "metadata": {
        "id": "sVpLtG4Z7Jbe"
      }
    },
    {
      "cell_type": "code",
      "source": [
        "# Directory path where Excel reports are stored\n",
        "directory_path = os.path.join(drive_home, excel_reports_folder)\n",
        "\n",
        "# List files in the directory with '.xlsx' extension\n",
        "files = [file for file in os.listdir(directory_path) if file.endswith('.xlsx')]\n",
        "\n",
        "# Create a list of full file paths\n",
        "full_file_paths = [os.path.join(directory_path, file) for file in files]\n",
        "\n",
        "# Print the number of Excel files found in the folder\n",
        "print(f\"Number of Excel files in folder: {len(full_file_paths)}\")\n",
        "\n",
        "# folder to store outputs in google drive\n",
        "create_folder_if_not_exists(final_report_folder)\n",
        "\n",
        "# File path for the combined final report\n",
        "reports_combined_file_path = os.path.join(drive_home, final_report_folder, final_report_name)\n"
      ],
      "metadata": {
        "id": "sTyhwne7rr9D"
      },
      "execution_count": null,
      "outputs": []
    },
    {
      "cell_type": "markdown",
      "source": [
        "##### Run function to combine into a single report"
      ],
      "metadata": {
        "id": "C77flAQu7xWX"
      }
    },
    {
      "cell_type": "code",
      "source": [
        "append_excel_files(file_paths=full_file_paths,num_sheets=3,output_file_path=reports_combined_file_path)\n",
        "\n",
        "print (f\"\\n Complete! Output file for SDG 15.4.2 Component A here: {reports_combined_file_path}\")"
      ],
      "metadata": {
        "id": "FkS1ErA9AYj6"
      },
      "execution_count": null,
      "outputs": []
    },
    {
      "cell_type": "code",
      "source": [],
      "metadata": {
        "id": "QKSnKCYOBelT"
      },
      "execution_count": null,
      "outputs": []
    }
  ],
  "metadata": {
    "kernelspec": {
      "display_name": "(test) test-sepal_mgci",
      "language": "python",
      "name": "test-sepal_mgci"
    },
    "language_info": {
      "codemirror_mode": {
        "name": "ipython",
        "version": 3
      },
      "file_extension": ".py",
      "mimetype": "text/x-python",
      "name": "python",
      "nbconvert_exporter": "python",
      "pygments_lexer": "ipython3",
      "version": "3.10.12"
    },
    "colab": {
      "provenance": [],
      "include_colab_link": true
    }
  },
  "nbformat": 4,
  "nbformat_minor": 0
}