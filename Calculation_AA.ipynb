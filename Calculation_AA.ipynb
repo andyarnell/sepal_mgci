{
  "cells": [
    {
      "cell_type": "markdown",
      "metadata": {
        "id": "view-in-github",
        "colab_type": "text"
      },
      "source": [
        "<a href=\"https://colab.research.google.com/github/andyarnell/sepal_mgci/blob/master/Calculation_AA.ipynb\" target=\"_parent\"><img src=\"https://colab.research.google.com/assets/colab-badge.svg\" alt=\"Open In Colab\"/></a>"
      ]
    },
    {
      "cell_type": "code",
      "execution_count": 2,
      "metadata": {
        "id": "W3uMTaQGu_f4"
      },
      "outputs": [],
      "source": [
        "%load_ext autoreload\n",
        "%autoreload 2"
      ]
    },
    {
      "cell_type": "markdown",
      "source": [
        "#### Clone SDG 15.4.2 github repo into colab instance"
      ],
      "metadata": {
        "id": "qGfLFLEkwS1n"
      }
    },
    {
      "cell_type": "code",
      "source": [
        "!git clone https://github.com/andyarnell/sepal_mgci.git"
      ],
      "metadata": {
        "colab": {
          "base_uri": "https://localhost:8080/"
        },
        "id": "TNohZrOTvNqT",
        "outputId": "0accd0ed-275f-4fa9-e555-aa02c719873d"
      },
      "execution_count": 3,
      "outputs": [
        {
          "output_type": "stream",
          "name": "stdout",
          "text": [
            "Cloning into 'sepal_mgci'...\n",
            "remote: Enumerating objects: 2806, done.\u001b[K\n",
            "remote: Counting objects: 100% (744/744), done.\u001b[K\n",
            "remote: Compressing objects: 100% (296/296), done.\u001b[K\n",
            "remote: Total 2806 (delta 471), reused 691 (delta 447), pack-reused 2062\u001b[K\n",
            "Receiving objects: 100% (2806/2806), 4.88 MiB | 4.86 MiB/s, done.\n",
            "Resolving deltas: 100% (1747/1747), done.\n"
          ]
        }
      ]
    },
    {
      "cell_type": "code",
      "execution_count": 2,
      "metadata": {
        "colab": {
          "base_uri": "https://localhost:8080/",
          "height": 52,
          "referenced_widgets": [
            "2411219378494ebda140c88d9e4111cb"
          ]
        },
        "id": "Kg3K1EPJu_f5",
        "outputId": "619ff302-1883-4650-a73e-1983db557d83"
      },
      "outputs": [
        {
          "output_type": "stream",
          "name": "stdout",
          "text": [
            "/content/sepal_mgci\n"
          ]
        },
        {
          "output_type": "display_data",
          "data": {
            "text/plain": [
              "ResizeTrigger()"
            ],
            "application/vnd.jupyter.widget-view+json": {
              "version_major": 2,
              "version_minor": 0,
              "model_id": "2411219378494ebda140c88d9e4111cb"
            }
          },
          "metadata": {
            "application/vnd.jupyter.widget-view+json": {
              "colab": {
                "custom_widget_manager": {
                  "url": "https://ssl.gstatic.com/colaboratory-static/widgets/colab-cdn-widget-manager/2b70e893a8ba7c0f/manager.min.js"
                }
              }
            }
          }
        },
        {
          "output_type": "stream",
          "name": "stdout",
          "text": [
            "imports complete\n"
          ]
        }
      ],
      "source": [
        "import ee\n",
        "# !pip install pygaul # if not already installed\n",
        "# !pip install sepal_ui\n",
        "import pygaul\n",
        "import pandas as pd\n",
        "from pathlib import Path\n",
        "from openpyxl.utils import get_column_letter\n",
        "from openpyxl.styles import Alignment\n",
        "\n",
        "%cd \"/content/sepal_mgci\"\n",
        "\n",
        "# import component.parameter.module_parameter as param ## using only parameters needed instead\n",
        "\n",
        "from component.parameter.module_parameter import DEM_DEFAULT\n",
        "from component.parameter.module_parameter import LC_MAP_MATRIX\n",
        "\n",
        "gee_project_name = \"ee-andyarnellgee\" # need a valid google project name\n",
        "ee.Authenticate()\n",
        "ee.Initialize(project = gee_project_name)\n",
        "\n",
        "from component.scripts.gee import reduce_regions\n",
        "from component.scripts.scripts import get_a_years, map_matrix_to_dict, parse_result\n",
        "from component.scripts.scripts import read_from_csv\n",
        "from component.scripts import sub_a as sub_a\n",
        "from component.scripts import sub_b as sub_b\n",
        "from component.scripts import mountain_area as mntn\n",
        "\n",
        "print (\"imports complete\")\n"
      ]
    },
    {
      "cell_type": "markdown",
      "source": [
        "#### Access to Google Drive for script to retrieve output csvs.\n",
        "\n",
        "Alternatively these can be uploaded. To do open the File panel by clicking on the file icon on the left, then navigate to folder XXXX and click the upload icon (a sheet of paper with an up arrow in it) to upload the files (may need to zip, upload then unzip)."
      ],
      "metadata": {
        "id": "aUVGL6zwLpX5"
      }
    },
    {
      "cell_type": "code",
      "source": [
        "from google.colab import drive\n",
        "drive.mount('/content/drive')"
      ],
      "metadata": {
        "id": "NorUzAJ8Kj0Z",
        "outputId": "e54828f8-8218-4028-e2bf-e9b75827186b",
        "colab": {
          "base_uri": "https://localhost:8080/"
        }
      },
      "execution_count": 13,
      "outputs": [
        {
          "output_type": "stream",
          "name": "stdout",
          "text": [
            "Mounted at /content/drive\n"
          ]
        }
      ]
    },
    {
      "cell_type": "code",
      "execution_count": 14,
      "metadata": {
        "id": "BCaI_4Ixu_f6"
      },
      "outputs": [],
      "source": [
        "# Here I'm using pygaul to get the AOI based on the name\n",
        "# but you can use any feature collection from Earth Engine\n",
        "# just replace the aoi with your feature collection.\n",
        "\n",
        "aoi_name = \"Risaralda\"\n",
        "aoi = pygaul.Items(aoi_name)"
      ]
    },
    {
      "cell_type": "markdown",
      "metadata": {
        "id": "c_8UzlUnu_f6"
      },
      "source": [
        "## SUB INDICATOR A"
      ]
    },
    {
      "cell_type": "code",
      "execution_count": 4,
      "metadata": {
        "id": "PRSEqq5bu_f7"
      },
      "outputs": [],
      "source": [
        "# Read the default land cover remapping table and convert it to a dictionary\n",
        "# default_map_matrix = map_matrix_to_dict(param.LC_MAP_MATRIX)\n",
        "default_map_matrix = map_matrix_to_dict(LC_MAP_MATRIX)"
      ]
    },
    {
      "cell_type": "code",
      "execution_count": 5,
      "metadata": {
        "id": "PwqJFWR4u_f7"
      },
      "outputs": [],
      "source": [
        "# For SUB_A indicator, we need to set the following structure\n",
        "a_years = {\n",
        "    1: {\"asset\": \"users/amitghosh/sdg_module/esa/cci_landcover/2000\", \"year\": 2000},\n",
        "    2: {\"year\": 2003, \"asset\": \"users/amitghosh/sdg_module/esa/cci_landcover/2003\"},\n",
        "    3: {\"year\": 2007, \"asset\": \"users/amitghosh/sdg_module/esa/cci_landcover/2007\"},\n",
        "    4: {\"year\": 2010, \"asset\": \"users/amitghosh/sdg_module/esa/cci_landcover/2010\"},\n",
        "}\n",
        "\n",
        "# Just extract the years from the a_years dictionary\n",
        "single_years = [y[\"year\"] for  y in a_years.values()]"
      ]
    },
    {
      "cell_type": "code",
      "execution_count": 6,
      "metadata": {
        "id": "VftKLuY4u_f7"
      },
      "outputs": [],
      "source": [
        "process = ee.FeatureCollection([\n",
        "    ee.Feature(\n",
        "        None,\n",
        "        reduce_regions(\n",
        "            aoi,\n",
        "            remap_matrix=default_map_matrix,\n",
        "            rsa=False,\n",
        "            # dem=param.DEM_DEFAULT,\n",
        "            dem=DEM_DEFAULT,\n",
        "            lc_years= year,\n",
        "            transition_matrix=False\n",
        "        )\n",
        "    ).set(\"process_id\", year[0][\"year\"])\n",
        " for year in get_a_years(a_years)\n",
        "])"
      ]
    },
    {
      "cell_type": "code",
      "execution_count": 7,
      "metadata": {
        "id": "u8rTNGFzu_f7"
      },
      "outputs": [],
      "source": [
        "task_name = \"Risaralda_sub_a_3\""
      ]
    },
    {
      "cell_type": "code",
      "execution_count": 8,
      "metadata": {
        "id": "9H-7Q1Tcu_f8"
      },
      "outputs": [],
      "source": [
        "task = ee.batch.Export.table.toDrive(\n",
        "    **{\n",
        "        \"collection\": process,\n",
        "        \"description\": task_name,\n",
        "        \"fileFormat\": \"CSV\",\n",
        "        \"selectors\": [\n",
        "            \"process_id\",\n",
        "            \"sub_a\",\n",
        "        ],\n",
        "    }\n",
        ")\n",
        "task.start()"
      ]
    },
    {
      "cell_type": "markdown",
      "metadata": {
        "id": "vM0SIvJtu_f8"
      },
      "source": [
        "# Read, process, and create report tables"
      ]
    },
    {
      "cell_type": "code",
      "execution_count": 9,
      "metadata": {
        "id": "IA0zW-cIu_f8"
      },
      "outputs": [],
      "source": [
        "# Manually check your earth engine task status, once the task is completed, run the next cell\n",
        "# according to the task name you have set above."
      ]
    },
    {
      "cell_type": "code",
      "source": [
        "file_path = \"/content/drive/My Drive/Risaralda_sub_a_3.csv\" #'/content/drive/My Drive/data/example.txt'\n",
        "with open(file_path, 'r') as file:\n",
        "    contents = file.read()\n",
        "    print(contents)"
      ],
      "metadata": {
        "colab": {
          "base_uri": "https://localhost:8080/"
        },
        "id": "R4IccBmdObeP",
        "outputId": "d3167552-6d2c-44f8-e468-726e6846476c"
      },
      "execution_count": 22,
      "outputs": [
        {
          "output_type": "stream",
          "name": "stdout",
          "text": [
            "process_id,sub_a\n",
            "2003,\"[{group=4.0, groups=[{group=1, sum=0.638188059742647}, {group=2, sum=109.74337119852929}, {group=4, sum=102.63250426335807}, {group=5, sum=3.800090424264707}, {group=6, sum=0.0946088125}]}]\"\n",
            "2000,\"[{group=4.0, groups=[{group=1, sum=0.638188059742647}, {group=2, sum=109.64876921415429}, {group=4, sum=102.72710624773308}, {group=5, sum=3.800090424264707}, {group=6, sum=0.0946088125}]}]\"\n",
            "2007,\"[{group=4.0, groups=[{group=1, sum=0.638188059742647}, {group=2, sum=103.6890516807294}, {group=4, sum=108.97063215615817}, {group=5, sum=3.516282049264707}, {group=6, sum=0.0946088125}]}]\"\n",
            "2010,\"[{group=4.0, groups=[{group=1, sum=0.638188059742647}, {group=2, sum=102.13379678400756}, {group=4, sum=110.52588705288001}, {group=5, sum=3.516282049264707}, {group=6, sum=0.0946088125}]}]\"\n",
            "\n"
          ]
        }
      ]
    },
    {
      "cell_type": "code",
      "execution_count": null,
      "metadata": {
        "id": "36gQJUf_u_f8"
      },
      "outputs": [],
      "source": [
        "\n",
        "results_file_path = Path().home()/ \"downloads\"/ \"Risaralda_sub_a_3.csv\"\n",
        "report_folder = Path().home() / \"downloads\" / \"Risaralda\"\n",
        "report_folder.mkdir(exist_ok=True)\n",
        "\n",
        "output_name = str(\n",
        "    Path(report_folder, \"report_name.xlsx\")\n",
        ")"
      ]
    },
    {
      "cell_type": "code",
      "execution_count": null,
      "metadata": {
        "id": "1HCEZNe-u_f8"
      },
      "outputs": [],
      "source": [
        "# This line will read the results from the CSV file and parse it to a dictionary\n",
        "dict_results = read_from_csv(results_file_path)"
      ]
    },
    {
      "cell_type": "code",
      "execution_count": null,
      "metadata": {
        "id": "qkpDfHqQu_f9"
      },
      "outputs": [],
      "source": [
        "# Some extra details that have to be manually added to the report\n",
        "details = {\n",
        "    \"geo_area_name\" : \" \",\n",
        "    \"ref_area\" : \" \",\n",
        "    \"source_detail\" : \" \",\n",
        "}"
      ]
    },
    {
      "cell_type": "code",
      "execution_count": null,
      "metadata": {
        "id": "xZ8U_SSRu_f9",
        "outputId": "fc1e1dff-4da7-4c47-fdfa-45db2e0ec6a1"
      },
      "outputs": [
        {
          "name": "stdout",
          "output_type": "stream",
          "text": [
            "Reporting 2000 for sub_a\n",
            "Reporting 2000 for mtn\n",
            "Reporting 2003 for sub_a\n",
            "Reporting 2003 for mtn\n",
            "Reporting 2007 for sub_a\n",
            "Reporting 2007 for mtn\n",
            "Reporting 2010 for sub_a\n",
            "Reporting 2010 for mtn\n"
          ]
        }
      ],
      "source": [
        "# Following lines will generate the reports for the sub_a and mtn indicators\n",
        "\n",
        "sub_a_reports = []\n",
        "mtn_reports = []\n",
        "for year in single_years:\n",
        "    print(f\"Reporting {year} for sub_a\")\n",
        "    parsed_df = parse_result(dict_results[year][\"sub_a\"], single=True)\n",
        "\n",
        "    sub_a_reports.append(sub_a.get_reports(parsed_df, year, **details))\n",
        "\n",
        "    print(f\"Reporting {year} for mtn\")\n",
        "    mtn_reports.append(mntn.get_report(parsed_df, year, **details))\n"
      ]
    },
    {
      "cell_type": "code",
      "execution_count": null,
      "metadata": {
        "id": "jwgWD8rTu_f9"
      },
      "outputs": [],
      "source": [
        "mtn_reports_df = pd.concat(mtn_reports)\n",
        "\n",
        "# sub a reports\n",
        "er_mtn_grnvi_df = pd.concat([report[0] for report in sub_a_reports])\n",
        "er_mtn_grncov_df = pd.concat([report[1] for report in sub_a_reports])\n"
      ]
    },
    {
      "cell_type": "code",
      "execution_count": null,
      "metadata": {
        "id": "NsVuYMq3u_f-"
      },
      "outputs": [],
      "source": [
        "# This will create the excel file with the reports\n",
        "\n",
        "with pd.ExcelWriter(output_name) as writer:\n",
        "    mtn_reports_df.to_excel(writer, sheet_name=\"Table1_ER_MTN_TOTL\", index=False)\n",
        "    er_mtn_grncov_df.to_excel(\n",
        "        writer, sheet_name=\"Table2_ER_MTN_GRNCOV\", index=False\n",
        "    )\n",
        "    er_mtn_grnvi_df.to_excel(writer, sheet_name=\"Table3_ER_MTN_GRNCVI\", index=False)\n",
        "\n",
        "    for sheetname in writer.sheets:\n",
        "        worksheet = writer.sheets[sheetname]\n",
        "        for col in worksheet.columns:\n",
        "            max_length = 0\n",
        "            column = col[0]\n",
        "            for cell in col:\n",
        "                try:\n",
        "                    if len(str(cell.value)) > max_length:\n",
        "                        max_length = len(cell.value)\n",
        "                except:\n",
        "                    pass\n",
        "            adjusted_width = max(max_length, len(str(column.value))) + 4\n",
        "            worksheet.column_dimensions[get_column_letter(column.column)].width = (\n",
        "                adjusted_width\n",
        "            )\n",
        "\n",
        "            # Align \"obs_value\" column to the right\n",
        "            if \"OBS\" in column.value:\n",
        "                for cell in col:\n",
        "                    cell.alignment = Alignment(horizontal=\"right\")"
      ]
    }
  ],
  "metadata": {
    "kernelspec": {
      "display_name": "(test) test-sepal_mgci",
      "language": "python",
      "name": "test-sepal_mgci"
    },
    "language_info": {
      "codemirror_mode": {
        "name": "ipython",
        "version": 3
      },
      "file_extension": ".py",
      "mimetype": "text/x-python",
      "name": "python",
      "nbconvert_exporter": "python",
      "pygments_lexer": "ipython3",
      "version": "3.10.12"
    },
    "colab": {
      "provenance": [],
      "include_colab_link": true
    },
    "widgets": {
      "application/vnd.jupyter.widget-state+json": {
        "2411219378494ebda140c88d9e4111cb": {
          "model_module": "jupyter-vuetify",
          "model_name": "VuetifyTemplateModel",
          "model_module_version": "^1.9.2",
          "state": {
            "_component_instances": [],
            "_dom_classes": [],
            "_jupyter_vue": "IPY_MODEL_4218c1b18e424c60a84d0e5af9282a7a",
            "_model_module": "jupyter-vuetify",
            "_model_module_version": "^1.9.2",
            "_model_name": "VuetifyTemplateModel",
            "_view_count": null,
            "_view_module": "jupyter-vuetify",
            "_view_module_version": "^1.9.2",
            "_view_name": "VuetifyView",
            "components": null,
            "css": null,
            "data": null,
            "events": [],
            "layout": "IPY_MODEL_03f385f63103463e87aee2a74c5884ca",
            "methods": null,
            "template": "<script>{methods: {jupyter_resize(){/* force the resize event. useful for drawer clicks*/\nwindow.dispatchEvent(new Event(\"resize\"));\n}}}</script>"
          }
        }
      }
    }
  },
  "nbformat": 4,
  "nbformat_minor": 0
}