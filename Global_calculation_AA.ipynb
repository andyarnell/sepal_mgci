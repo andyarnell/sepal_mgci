{
  "cells": [
    {
      "cell_type": "markdown",
      "metadata": {
        "id": "view-in-github",
        "colab_type": "text"
      },
      "source": [
        "<a href=\"https://colab.research.google.com/github/andyarnell/sepal_mgci/blob/master/Global_calculation_AA.ipynb\" target=\"_parent\"><img src=\"https://colab.research.google.com/assets/colab-badge.svg\" alt=\"Open In Colab\"/></a>"
      ]
    },
    {
      "cell_type": "code",
      "execution_count": 1,
      "metadata": {
        "id": "W3uMTaQGu_f4"
      },
      "outputs": [],
      "source": [
        "%load_ext autoreload\n",
        "%autoreload 2"
      ]
    },
    {
      "cell_type": "markdown",
      "source": [
        "#### Clone SDG 15.4.2 github repo into colab instance"
      ],
      "metadata": {
        "id": "qGfLFLEkwS1n"
      }
    },
    {
      "cell_type": "code",
      "source": [
        "!git clone https://github.com/andyarnell/sepal_mgci.git"
      ],
      "metadata": {
        "id": "TNohZrOTvNqT",
        "outputId": "5e86769b-3d4a-428e-b57b-d14c488c07ec",
        "colab": {
          "base_uri": "https://localhost:8080/"
        }
      },
      "execution_count": 4,
      "outputs": [
        {
          "output_type": "stream",
          "name": "stdout",
          "text": [
            "Cloning into 'sepal_mgci'...\n",
            "remote: Enumerating objects: 2800, done.\u001b[K\n",
            "remote: Counting objects: 100% (738/738), done.\u001b[K\n",
            "remote: Compressing objects: 100% (290/290), done.\u001b[K\n",
            "remote: Total 2800 (delta 467), reused 692 (delta 447), pack-reused 2062\u001b[K\n",
            "Receiving objects: 100% (2800/2800), 4.88 MiB | 18.93 MiB/s, done.\n",
            "Resolving deltas: 100% (1743/1743), done.\n"
          ]
        }
      ]
    },
    {
      "cell_type": "code",
      "execution_count": 13,
      "metadata": {
        "id": "Kg3K1EPJu_f5"
      },
      "outputs": [],
      "source": [
        "import ee\n",
        "# !pip install pygaul # if not already installed\n",
        "import pygaul\n",
        "import pandas as pd\n",
        "from pathlib import Path\n",
        "from openpyxl.utils import get_column_letter\n",
        "from openpyxl.styles import Alignment\n",
        "\n",
        "# import component.parameter.module_parameter as param\n",
        "# from component.scripts.gee import reduce_regions\n",
        "# from component.scripts.scripts import get_a_years, map_matrix_to_dict, parse_result\n",
        "# from component.scripts.scripts import read_from_csv\n",
        "# from component.scripts import sub_a as sub_a\n",
        "# from component.scripts import sub_b as sub_b\n",
        "# from component.scripts import mountain_area as mntn\n",
        "\n",
        "\n",
        "# ee.Initialize()"
      ]
    },
    {
      "cell_type": "code",
      "execution_count": null,
      "metadata": {
        "id": "BCaI_4Ixu_f6"
      },
      "outputs": [],
      "source": [
        "# Here I'm using pygaul to get the AOI based on the name\n",
        "# but you can use any feature collection from Earth Engine\n",
        "# just replace the aoi with your feature collection.\n",
        "\n",
        "aoi_name = \"Risaralda\"\n",
        "aoi = pygaul.Items(aoi_name)"
      ]
    },
    {
      "cell_type": "markdown",
      "metadata": {
        "id": "c_8UzlUnu_f6"
      },
      "source": [
        "## SUB INDICATOR A"
      ]
    },
    {
      "cell_type": "code",
      "execution_count": null,
      "metadata": {
        "id": "PRSEqq5bu_f7"
      },
      "outputs": [],
      "source": [
        "# Read the default land cover remapping table and convert it to a dictionary\n",
        "default_map_matrix = map_matrix_to_dict(param.LC_MAP_MATRIX)"
      ]
    },
    {
      "cell_type": "code",
      "execution_count": null,
      "metadata": {
        "id": "PwqJFWR4u_f7",
        "outputId": "d875738d-efa3-42cb-d90e-ed3dae9a5a88"
      },
      "outputs": [
        {
          "data": {
            "text/plain": [
              "[2000, 2003, 2007, 2010]"
            ]
          },
          "execution_count": 10,
          "metadata": {},
          "output_type": "execute_result"
        }
      ],
      "source": [
        "# For SUB_A indicator, we need to set the following structure\n",
        "a_years = {\n",
        "    1: {\"asset\": \"users/amitghosh/sdg_module/esa/cci_landcover/2000\", \"year\": 2000},\n",
        "    2: {\"year\": 2003, \"asset\": \"users/amitghosh/sdg_module/esa/cci_landcover/2003\"},\n",
        "    3: {\"year\": 2007, \"asset\": \"users/amitghosh/sdg_module/esa/cci_landcover/2007\"},\n",
        "    4: {\"year\": 2010, \"asset\": \"users/amitghosh/sdg_module/esa/cci_landcover/2010\"},\n",
        "}\n",
        "\n",
        "# Just extract the years from the a_years dictionary\n",
        "single_years = [y[\"year\"] for  y in a_years.values()]"
      ]
    },
    {
      "cell_type": "code",
      "execution_count": null,
      "metadata": {
        "id": "VftKLuY4u_f7"
      },
      "outputs": [],
      "source": [
        "process = ee.FeatureCollection([\n",
        "    ee.Feature(\n",
        "        None,\n",
        "        reduce_regions(\n",
        "            aoi,\n",
        "            remap_matrix=default_map_matrix,\n",
        "            rsa=False,\n",
        "            dem=param.DEM_DEFAULT,\n",
        "            lc_years= year,\n",
        "            transition_matrix=False\n",
        "        )\n",
        "    ).set(\"process_id\", year[0][\"year\"])\n",
        " for year in get_a_years(a_years)\n",
        "])"
      ]
    },
    {
      "cell_type": "code",
      "execution_count": null,
      "metadata": {
        "id": "u8rTNGFzu_f7"
      },
      "outputs": [],
      "source": [
        "task_name = \"Risaralda_sub_a_3\""
      ]
    },
    {
      "cell_type": "code",
      "execution_count": null,
      "metadata": {
        "id": "9H-7Q1Tcu_f8"
      },
      "outputs": [],
      "source": [
        "task = ee.batch.Export.table.toDrive(\n",
        "    **{\n",
        "        \"collection\": process,\n",
        "        \"description\": task_name,\n",
        "        \"fileFormat\": \"CSV\",\n",
        "        \"selectors\": [\n",
        "            \"process_id\",\n",
        "            \"sub_a\",\n",
        "        ],\n",
        "    }\n",
        ")\n",
        "task.start()"
      ]
    },
    {
      "cell_type": "markdown",
      "metadata": {
        "id": "vM0SIvJtu_f8"
      },
      "source": [
        "# Read, process, and create report tables"
      ]
    },
    {
      "cell_type": "code",
      "execution_count": null,
      "metadata": {
        "id": "IA0zW-cIu_f8"
      },
      "outputs": [],
      "source": [
        "# Manually check your earth engine task status, once the task is completed, run the next cell\n",
        "# according to the task name you have set above."
      ]
    },
    {
      "cell_type": "code",
      "execution_count": null,
      "metadata": {
        "id": "36gQJUf_u_f8"
      },
      "outputs": [],
      "source": [
        "results_file_path = Path().home()/ \"downloads\"/ \"Risaralda_sub_a_3.csv\"\n",
        "report_folder = Path().home() / \"downloads\" / \"Risaralda\"\n",
        "report_folder.mkdir(exist_ok=True)\n",
        "\n",
        "output_name = str(\n",
        "    Path(report_folder, \"report_name.xlsx\")\n",
        ")"
      ]
    },
    {
      "cell_type": "code",
      "execution_count": null,
      "metadata": {
        "id": "1HCEZNe-u_f8"
      },
      "outputs": [],
      "source": [
        "# This line will read the results from the CSV file and parse it to a dictionary\n",
        "dict_results = read_from_csv(results_file_path)"
      ]
    },
    {
      "cell_type": "code",
      "execution_count": null,
      "metadata": {
        "id": "qkpDfHqQu_f9"
      },
      "outputs": [],
      "source": [
        "# Some extra details that have to be manually added to the report\n",
        "details = {\n",
        "    \"geo_area_name\" : \" \",\n",
        "    \"ref_area\" : \" \",\n",
        "    \"source_detail\" : \" \",\n",
        "}"
      ]
    },
    {
      "cell_type": "code",
      "execution_count": null,
      "metadata": {
        "id": "xZ8U_SSRu_f9",
        "outputId": "fc1e1dff-4da7-4c47-fdfa-45db2e0ec6a1"
      },
      "outputs": [
        {
          "name": "stdout",
          "output_type": "stream",
          "text": [
            "Reporting 2000 for sub_a\n",
            "Reporting 2000 for mtn\n",
            "Reporting 2003 for sub_a\n",
            "Reporting 2003 for mtn\n",
            "Reporting 2007 for sub_a\n",
            "Reporting 2007 for mtn\n",
            "Reporting 2010 for sub_a\n",
            "Reporting 2010 for mtn\n"
          ]
        }
      ],
      "source": [
        "# Following lines will generate the reports for the sub_a and mtn indicators\n",
        "\n",
        "sub_a_reports = []\n",
        "mtn_reports = []\n",
        "for year in single_years:\n",
        "    print(f\"Reporting {year} for sub_a\")\n",
        "    parsed_df = parse_result(dict_results[year][\"sub_a\"], single=True)\n",
        "\n",
        "    sub_a_reports.append(sub_a.get_reports(parsed_df, year, **details))\n",
        "\n",
        "    print(f\"Reporting {year} for mtn\")\n",
        "    mtn_reports.append(mntn.get_report(parsed_df, year, **details))\n"
      ]
    },
    {
      "cell_type": "code",
      "execution_count": null,
      "metadata": {
        "id": "jwgWD8rTu_f9"
      },
      "outputs": [],
      "source": [
        "mtn_reports_df = pd.concat(mtn_reports)\n",
        "\n",
        "# sub a reports\n",
        "er_mtn_grnvi_df = pd.concat([report[0] for report in sub_a_reports])\n",
        "er_mtn_grncov_df = pd.concat([report[1] for report in sub_a_reports])\n"
      ]
    },
    {
      "cell_type": "code",
      "execution_count": null,
      "metadata": {
        "id": "NsVuYMq3u_f-"
      },
      "outputs": [],
      "source": [
        "# This will create the excel file with the reports\n",
        "\n",
        "with pd.ExcelWriter(output_name) as writer:\n",
        "    mtn_reports_df.to_excel(writer, sheet_name=\"Table1_ER_MTN_TOTL\", index=False)\n",
        "    er_mtn_grncov_df.to_excel(\n",
        "        writer, sheet_name=\"Table2_ER_MTN_GRNCOV\", index=False\n",
        "    )\n",
        "    er_mtn_grnvi_df.to_excel(writer, sheet_name=\"Table3_ER_MTN_GRNCVI\", index=False)\n",
        "\n",
        "    for sheetname in writer.sheets:\n",
        "        worksheet = writer.sheets[sheetname]\n",
        "        for col in worksheet.columns:\n",
        "            max_length = 0\n",
        "            column = col[0]\n",
        "            for cell in col:\n",
        "                try:\n",
        "                    if len(str(cell.value)) > max_length:\n",
        "                        max_length = len(cell.value)\n",
        "                except:\n",
        "                    pass\n",
        "            adjusted_width = max(max_length, len(str(column.value))) + 4\n",
        "            worksheet.column_dimensions[get_column_letter(column.column)].width = (\n",
        "                adjusted_width\n",
        "            )\n",
        "\n",
        "            # Align \"obs_value\" column to the right\n",
        "            if \"OBS\" in column.value:\n",
        "                for cell in col:\n",
        "                    cell.alignment = Alignment(horizontal=\"right\")"
      ]
    }
  ],
  "metadata": {
    "kernelspec": {
      "display_name": "(test) test-sepal_mgci",
      "language": "python",
      "name": "test-sepal_mgci"
    },
    "language_info": {
      "codemirror_mode": {
        "name": "ipython",
        "version": 3
      },
      "file_extension": ".py",
      "mimetype": "text/x-python",
      "name": "python",
      "nbconvert_exporter": "python",
      "pygments_lexer": "ipython3",
      "version": "3.10.12"
    },
    "colab": {
      "provenance": [],
      "include_colab_link": true
    }
  },
  "nbformat": 4,
  "nbformat_minor": 0
}