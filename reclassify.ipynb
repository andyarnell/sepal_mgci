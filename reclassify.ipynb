{
 "cells": [
  {
   "cell_type": "code",
   "execution_count": 1,
   "id": "95a89689",
   "metadata": {},
   "outputs": [
    {
     "data": {
      "application/vnd.jupyter.widget-view+json": {
       "model_id": "d895a10bc58f426eac2e5018e78111ab",
       "version_major": 2,
       "version_minor": 0
      },
      "text/plain": [
       "Styles()"
      ]
     },
     "metadata": {},
     "output_type": "display_data"
    },
    {
     "data": {
      "application/vnd.jupyter.widget-view+json": {
       "model_id": "e1f196a89085494393d9140344ef0c18",
       "version_major": 2,
       "version_minor": 0
      },
      "text/plain": [
       "ResizeTrigger()"
      ]
     },
     "metadata": {},
     "output_type": "display_data"
    }
   ],
   "source": [
    "from component.tile.classes_table import *"
   ]
  },
  {
   "cell_type": "code",
   "execution_count": 2,
   "id": "5f472d4f",
   "metadata": {},
   "outputs": [],
   "source": [
    "import os\n",
    "from pathlib import Path"
   ]
  },
  {
   "cell_type": "code",
   "execution_count": 3,
   "id": "4437e676",
   "metadata": {},
   "outputs": [],
   "source": [
    "class UI(v.Card):\n",
    "    \n",
    "    def __init__(self, *args, **kwargs):\n",
    "        super().__init__(*args, **kwargs)\n",
    "        \n",
    "        self.root_dir=None\n",
    "        self.class_path=None\n",
    "        self.workspace()\n",
    "        \n",
    "        title = v.CardTitle(children=['Reclassify custom assets'])\n",
    "        description = v.CardText(children=['This module will help you to reclassify your current Land Cover / Land Use maps, whether in feature collection format o image (raster)'])\n",
    "        \n",
    "        self.w_class_file = v.Select(\n",
    "            label='Select a classes file', \n",
    "            items=self.get_classes_files(), \n",
    "            v_model=''\n",
    "        )\n",
    "        \n",
    "        structure = {'id':'number', 'code':'number', 'description':'string'}\n",
    "        items_path = 'component/parameter/ipcc_classification.csv'\n",
    "        self.lt = ClassTable(\n",
    "            structure=structure, \n",
    "            items=items_path,\n",
    "            out_path=self.class_path\n",
    "        )\n",
    "        \n",
    "        self.children=[\n",
    "            title,\n",
    "            description,\n",
    "            self.w_class_file,\n",
    "            self.lt\n",
    "        ]\n",
    "        \n",
    "        # Events\n",
    "        \n",
    "        # Refresh tables\n",
    "        self.lt.save_dialog.observe(self._refresh_files, 'reload')\n",
    "\n",
    "    def _refresh_files(self, *args):\n",
    "        \"\"\"Trigger event when a new file is created\"\"\"\n",
    "        self.w_class_file.items = self.get_classes_files()\n",
    "        \n",
    "    def get_classes_files(self):\n",
    "        \"\"\"Search for classes inside module path\"\"\"\n",
    "\n",
    "        look_up_folder = Path(self.class_path).glob('*.csv')\n",
    "        module_classes_folder = (Path(os.getcwd())/'component/parameter').glob('*.csv')\n",
    "        classes_files = [{'text':f.name, 'value':str(f)}  for f in list(look_up_folder)+list(module_classes_folder)]\n",
    "\n",
    "        return classes_files\n",
    "    \n",
    "    \n",
    "    def workspace(self):\n",
    "        \"\"\" Creates the workspace necessary to store the data\n",
    "\n",
    "        return:\n",
    "            returns env paths\n",
    "        \"\"\"\n",
    "\n",
    "        base_dir = Path('~').expanduser()\n",
    "\n",
    "        root_dir = base_dir/'module_results/mgci'\n",
    "        class_path = root_dir/'custom_classifications'\n",
    "\n",
    "        root_dir.mkdir(parents=True, exist_ok=True)\n",
    "        class_path.mkdir(parents=True, exist_ok=True)\n",
    "\n",
    "        self.root_dir = root_dir\n",
    "        self.class_path  = class_path"
   ]
  },
  {
   "cell_type": "code",
   "execution_count": 4,
   "id": "476169d7",
   "metadata": {},
   "outputs": [],
   "source": [
    "ui=UI()"
   ]
  },
  {
   "cell_type": "code",
   "execution_count": 6,
   "id": "6a9876ef",
   "metadata": {},
   "outputs": [
    {
     "data": {
      "application/vnd.jupyter.widget-view+json": {
       "model_id": "17976a948ffd4457a582913014477fd3",
       "version_major": 2,
       "version_minor": 0
      },
      "text/plain": [
       "UI(children=[CardTitle(children=['Reclassify custom assets']), CardText(children=['This module will help you t…"
      ]
     },
     "metadata": {},
     "output_type": "display_data"
    }
   ],
   "source": [
    "ui"
   ]
  },
  {
   "cell_type": "code",
   "execution_count": null,
   "id": "bba64fb1",
   "metadata": {},
   "outputs": [],
   "source": [
    "ui.lt.reload"
   ]
  },
  {
   "cell_type": "code",
   "execution_count": null,
   "id": "2aedce52",
   "metadata": {},
   "outputs": [],
   "source": [
    "classes_files"
   ]
  },
  {
   "cell_type": "code",
   "execution_count": null,
   "id": "38e25fc3",
   "metadata": {},
   "outputs": [],
   "source": [
    "class_file = classes_files[0]"
   ]
  },
  {
   "cell_type": "code",
   "execution_count": null,
   "id": "2844c674",
   "metadata": {},
   "outputs": [],
   "source": []
  },
  {
   "cell_type": "code",
   "execution_count": null,
   "id": "10e80b51",
   "metadata": {},
   "outputs": [],
   "source": [
    "class_file"
   ]
  },
  {
   "cell_type": "code",
   "execution_count": null,
   "id": "6c34cdb7",
   "metadata": {},
   "outputs": [],
   "source": [
    "from ipyleaflet import Map"
   ]
  },
  {
   "cell_type": "code",
   "execution_count": null,
   "id": "4eefd324",
   "metadata": {},
   "outputs": [],
   "source": [
    "import inspect"
   ]
  },
  {
   "cell_type": "code",
   "execution_count": null,
   "id": "bc13e60c",
   "metadata": {},
   "outputs": [],
   "source": [
    "map_=Map()"
   ]
  },
  {
   "cell_type": "code",
   "execution_count": null,
   "id": "3ffac5b8",
   "metadata": {},
   "outputs": [],
   "source": [
    "inspect.getfile(map_.on_interaction)"
   ]
  },
  {
   "cell_type": "code",
   "execution_count": null,
   "id": "700c09b4",
   "metadata": {},
   "outputs": [],
   "source": [
    "from pathlib import Path"
   ]
  },
  {
   "cell_type": "code",
   "execution_count": null,
   "id": "09882436",
   "metadata": {},
   "outputs": [],
   "source": []
  },
  {
   "cell_type": "code",
   "execution_count": null,
   "id": "6dc2f872",
   "metadata": {},
   "outputs": [],
   "source": [
    "Path.joinpath(Path('asdf'), 'asdf')"
   ]
  }
 ],
 "metadata": {
  "kernelspec": {
   "display_name": "Python 3",
   "language": "python",
   "name": "python3"
  },
  "language_info": {
   "codemirror_mode": {
    "name": "ipython",
    "version": 3
   },
   "file_extension": ".py",
   "mimetype": "text/x-python",
   "name": "python",
   "nbconvert_exporter": "python",
   "pygments_lexer": "ipython3",
   "version": "3.6.9"
  }
 },
 "nbformat": 4,
 "nbformat_minor": 5
}
