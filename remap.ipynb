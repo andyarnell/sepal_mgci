{
 "cells": [
  {
   "cell_type": "code",
   "execution_count": 1,
   "id": "unlimited-hollow",
   "metadata": {},
   "outputs": [
    {
     "data": {
      "application/vnd.jupyter.widget-view+json": {
       "model_id": "c4923236739c4da3948a7b5d42b557fe",
       "version_major": 2,
       "version_minor": 0
      },
      "text/plain": [
       "Styles()"
      ]
     },
     "metadata": {},
     "output_type": "display_data"
    },
    {
     "data": {
      "application/vnd.jupyter.widget-view+json": {
       "model_id": "692ec1d6bb754c61a64b1efe52293992",
       "version_major": 2,
       "version_minor": 0
      },
      "text/plain": [
       "ResizeTrigger()"
      ]
     },
     "metadata": {},
     "output_type": "display_data"
    }
   ],
   "source": [
    "import pandas as pd\n",
    "\n",
    "import ee\n",
    "from functools import partial\n",
    "from traitlets import (\n",
    "    Dict, HasTraits, Unicode, Any, link, observe\n",
    ")\n",
    "import ipyvuetify as v\n",
    "\n",
    "import sepal_ui.sepalwidgets as sw\n",
    "from sepal_ui.scripts import utils as su\n",
    "from component.widget.custom_widgets import *\n"
   ]
  },
  {
   "cell_type": "code",
   "execution_count": 2,
   "id": "annual-birth",
   "metadata": {},
   "outputs": [],
   "source": [
    "ee.Initialize()"
   ]
  },
  {
   "cell_type": "code",
   "execution_count": 3,
   "id": "informed-oakland",
   "metadata": {},
   "outputs": [],
   "source": [
    "\n",
    "# Let the user select which is the LC/LU column, could be just code or with description\n",
    "# Ask user if there is a description column\n",
    "# if there is a description, load both columns\n",
    "# From all the classes let the user to choose the corresponding ESA class\n"
   ]
  },
  {
   "cell_type": "code",
   "execution_count": 113,
   "id": "informational-connection",
   "metadata": {},
   "outputs": [],
   "source": [
    "class Remap(v.SimpleTable):\n",
    "    \n",
    "    matrix = Dict({}).tag(sync=True)\n",
    "    \n",
    "    def __init__(self, code_field, desc_field, *args, **kwargs):\n",
    "\n",
    "        \"Tile to display a remap values tile\"\n",
    "        \n",
    "        self.IPCC_CLASSES = {\n",
    "            1: ['Forest', 'green'], \n",
    "            2: ['Grassland', 'green'], \n",
    "            3: ['Cropland', 'green'], \n",
    "            4: ['Wetland', 'green'], \n",
    "            5: ['Settlement', 'non green']\n",
    "            6: ['Other', 'non green']\n",
    "        }\n",
    "        \n",
    "        self.code_field = code_field\n",
    "        self.desc_field = desc_field\n",
    "        self.desc_code = list(zip(self.code_field, self.desc_field))\n",
    "        \n",
    "        headers = ['Code', 'Description', 'Ipcc']\n",
    "        \n",
    "        # Instantiate an empty dictionary with code as keys and empty values\n",
    "        for code in self.code_field:\n",
    "            self.matrix[code] = ''\n",
    "        \n",
    "        header = [\n",
    "            v.Html(\n",
    "                tag = 'tr', \n",
    "                children = (\n",
    "                    [v.Html(tag = 'th', children = [h]) for h in headers]\n",
    "                )\n",
    "            )\n",
    "        ]\n",
    "        \n",
    "        rows = [\n",
    "            v.Html(tag='tr', children=[\n",
    "                v.Html(tag = 'td', children=[str(code)]), \n",
    "                v.Html(tag = 'td', children=[str(desc)]),\n",
    "                self.get_ipcc_class(code),\n",
    "                \n",
    "            ]) for code, desc in self.desc_code\n",
    "        ]\n",
    "        \n",
    "        self.children = [v.Html(tag = 'tbody', children = header + rows)]\n",
    "        \n",
    "        # Create table\n",
    "        super().__init__(*args, **kwargs)\n",
    "    \n",
    "    def store(self, code, change):\n",
    "        self.matrix[code] = change['new']\n",
    "        \n",
    "    def get_ipcc_class(self, code):\n",
    "        \n",
    "        \"\"\"Get a selector \"\"\"\n",
    "\n",
    "        select = v.Combobox(_metadata={'name':code}, items=[1,2,3,4,5,6], v_model=None)\n",
    "        select.observe(partial(self.store, code), 'v_model')\n",
    "        \n",
    "        return select\n",
    "        "
   ]
  },
  {
   "cell_type": "code",
   "execution_count": 115,
   "id": "gross-fourth",
   "metadata": {},
   "outputs": [],
   "source": [
    "# transition = Remap(code_field, desc_field)"
   ]
  },
  {
   "cell_type": "code",
   "execution_count": 116,
   "id": "periodic-edmonton",
   "metadata": {},
   "outputs": [],
   "source": [
    "# transition;"
   ]
  },
  {
   "cell_type": "code",
   "execution_count": 117,
   "id": "round-error",
   "metadata": {},
   "outputs": [],
   "source": [
    "class Flex(v.Flex, sw.SepalWidget):\n",
    "    def __init__(self, *args, **kwargs):\n",
    "        super().__init__(*args, **kwargs)"
   ]
  },
  {
   "cell_type": "code",
   "execution_count": 134,
   "id": "cheap-finger",
   "metadata": {},
   "outputs": [],
   "source": [
    "class GeeSelector(v.Card):\n",
    "    \n",
    "    asset = Any('').tag(sync=True)\n",
    "    code = Any('').tag(sync=True)\n",
    "    desc = Any('').tag(sync=True)\n",
    "\n",
    "    \n",
    "    def __init__(self, *args, **kwargs):\n",
    "        \n",
    "        super().__init__(*args, **kwargs)\n",
    "        \n",
    "        self.ee_asset = None\n",
    "        self.w_mapper = None\n",
    "        \n",
    "        self.asset_selector = AssetSelect(label='Select a LC/LU GEE asset', default_asset = 'users/dafguerrerom/FAO/LULC_2012_AOI')\n",
    "        \n",
    "        self.w_code = v.Select(label='Select code column', class_='pr-4', v_model='')\n",
    "        self.w_desc = v.Select(label='Select description column', class_='pr-4',  v_model='')\n",
    "        self.mapper_btn = sw.Btn('Get attributes', small=True)\n",
    "        \n",
    "        self.w_asset = Flex(\n",
    "            _metadata = {'name':'columns'},\n",
    "            class_='d-flex align-center mb-2',\n",
    "            children=[self.w_code, self.w_desc, self.mapper_btn]\n",
    "        )\n",
    "        \n",
    "        # List of components whose could be hidden/showed\n",
    "        \n",
    "        self.components = {}\n",
    "        \n",
    "        # Define view\n",
    "        self.children = [\n",
    "            self.asset_selector,\n",
    "            self.w_asset\n",
    "        ]\n",
    "        \n",
    "        #Link traits\n",
    "        \n",
    "        link((self.asset_selector, 'v_model'), (self, 'asset'))\n",
    "        link((self.w_code, 'v_model'), (self, 'code'))\n",
    "        link((self.w_desc, 'v_model'), (self, 'desc'))\n",
    "        \n",
    "        # Create Events\n",
    "        \n",
    "        self.mapper_btn.on_event('click', self._get_mapper_matrix)\n",
    "        \n",
    "        \n",
    "    def _get_mapper_matrix(self, widget, event, data):\n",
    "        \n",
    "        # Hide previous loaded mappers\n",
    "        self._hide_components()\n",
    "        \n",
    "        # Get code and description fields\n",
    "        code_fields, desc_fields = self._get_fields(self.code, self.desc)\n",
    "        \n",
    "        # Create mapper widget\n",
    "        component_name = 'mapper'\n",
    "        self.w_mapper = Remap(code_fields, \n",
    "                              desc_fields, \n",
    "                              dense=True, \n",
    "                              height='400px',\n",
    "        \n",
    "                              _metadata={'name':component_name})\n",
    "        \n",
    "        self.components[component_name] = self.w_mapper\n",
    "        self._add_widget(self.w_mapper, component_name)\n",
    "\n",
    "    def _hide_components(self):\n",
    "        \"\"\"Hide all possible componentes\"\"\"\n",
    "        \n",
    "        for component in self.components.values():\n",
    "            su.hide_component(component)\n",
    "    \n",
    "    def _validate_asset(self, asset):\n",
    "        try:\n",
    "            self.ee_asset = ee.FeatureCollection(asset)\n",
    "        except Exception as e:\n",
    "            print(f'There was an error {e}')\n",
    "    \n",
    "    @observe('asset')\n",
    "    def _get_items(self, change):\n",
    "        asset = change['new']\n",
    "        \n",
    "        # Hide previous loaded components\n",
    "        self._hide_components()\n",
    "        self._validate_asset(asset)\n",
    "        \n",
    "        self.w_code.loading=True\n",
    "        self.w_desc.loading=True\n",
    "        # Get columns of dataset\n",
    "        columns = self._get_cols()\n",
    "        \n",
    "        # Fill widgets with column names\n",
    "        self.w_code.items = columns\n",
    "        self.w_desc.items = columns\n",
    "        \n",
    "        self.w_code.loading=False\n",
    "        self.w_desc.loading=False\n",
    "    \n",
    "        \n",
    "    def _add_widget(self, widget, widget_name):\n",
    "        \"\"\"Add widget at the end of the children view\"\"\"\n",
    "        \n",
    "        su.show_component(widget)\n",
    "        \n",
    "        widgets_name = [widget._metadata['name'] for widget in self.children if widget._metadata]      \n",
    "            \n",
    "        if widget_name not in widgets_name:\n",
    "            self.children = self.children + [widget]        \n",
    "\n",
    "    def _get_fields(self, code, desc):\n",
    "        \n",
    "        # Get code and desc fields \n",
    "        code_fields = tuple(self.ee_asset.aggregate_array(code).getInfo())\n",
    "        desc_fields = tuple(self.ee_asset.aggregate_array(desc).getInfo())\n",
    "        \n",
    "        # Convert them into dataframe and remove duplicates\n",
    "        code_desc = list(zip(code_fields, desc_fields))\n",
    "        code_desc = pd.DataFrame(data=code_desc, columns = [code, desc]).drop_duplicates(subset=[code, desc]).sort_values(by=[code])\n",
    "        \n",
    "        code_fields = code_desc[code].to_list()\n",
    "        desc_fields = code_desc[desc].to_list()\n",
    "        \n",
    "        return code_fields, desc_fields\n",
    "\n",
    "    def _get_cols(self):\n",
    "        \n",
    "        if self.ee_asset:\n",
    "            columns = ee.Feature(self.ee_asset.first()).propertyNames().getInfo()\n",
    "            return sorted([str(col) for col in columns if col not in ['system:index', 'Shape_Area']])\n",
    "        "
   ]
  },
  {
   "cell_type": "code",
   "execution_count": 140,
   "id": "integral-venice",
   "metadata": {},
   "outputs": [],
   "source": [
    "gee_selector = GeeSelector()"
   ]
  },
  {
   "cell_type": "code",
   "execution_count": 141,
   "id": "effective-immune",
   "metadata": {},
   "outputs": [
    {
     "data": {
      "application/vnd.jupyter.widget-view+json": {
       "model_id": "a787856dc25d47b08a4fc7a0e9fbce8f",
       "version_major": 2,
       "version_minor": 0
      },
      "text/plain": [
       "GeeSelector(asset='users/dafguerrerom/FAO/LULC_2012_AOI', children=[AssetSelect(class_='my-5', clearable=True,…"
      ]
     },
     "metadata": {},
     "output_type": "display_data"
    }
   ],
   "source": [
    "gee_selector"
   ]
  },
  {
   "cell_type": "code",
   "execution_count": 156,
   "id": "classified-bedroom",
   "metadata": {},
   "outputs": [
    {
     "name": "stdout",
     "output_type": "stream",
     "text": [
      "Remap(children=[Html(children=[Html(children=[Html(children=['Code'], tag='th'), Html(children=['Description'], tag='th'), Html(children=['Ipcc'], tag='th')], tag='tr'), Html(children=[Html(children=['1.1.1. Tejido urbano continuo'], tag='td'), Html(children=['111'], tag='td'), Combobox(items=[1, 2, 3, 4, 5, 6], v_model=None)], tag='tr'), Html(children=[Html(children=['1.1.2. Tejido urbano discontinuo'], tag='td'), Html(children=['112'], tag='td'), Combobox(items=[1, 2, 3, 4, 5, 6], v_model=None)], tag='tr'), Html(children=[Html(children=['1.3.1. Zonas de extraccion minera'], tag='td'), Html(children=['1312'], tag='td'), Combobox(items=[1, 2, 3, 4, 5, 6], v_model=None)], tag='tr'), Html(children=[Html(children=['2.1.2. Cereales'], tag='td'), Html(children=['2121'], tag='td'), Combobox(items=[1, 2, 3, 4, 5, 6], v_model=None)], tag='tr'), Html(children=[Html(children=['2.1.4. Hortalizas'], tag='td'), Html(children=['2141'], tag='td'), Combobox(items=[1, 2, 3, 4, 5, 6], v_model=None)], tag='tr'), Html(children=[Html(children=['2.2.3. Cultivos permanentes arboreos'], tag='td'), Html(children=['2232'], tag='td'), Combobox(items=[1, 2, 3, 4, 5, 6], v_model=None)], tag='tr'), Html(children=[Html(children=['2.3.1. Pastos limpios'], tag='td'), Html(children=['231'], tag='td'), Combobox(items=[1, 2, 3, 4, 5, 6], v_model=None)], tag='tr'), Html(children=[Html(children=['2.3.2. Pastos arbolados'], tag='td'), Html(children=['232'], tag='td'), Combobox(items=[1, 2, 3, 4, 5, 6], v_model=None)], tag='tr'), Html(children=[Html(children=['2.3.3. Pastos enmalezados'], tag='td'), Html(children=['233'], tag='td'), Combobox(items=[1, 2, 3, 4, 5, 6], v_model=None)], tag='tr'), Html(children=[Html(children=['2.4.2. Mosaico de pastos y cultivos'], tag='td'), Html(children=['242'], tag='td'), Combobox(items=[1, 2, 3, 4, 5, 6], v_model=None)], tag='tr'), Html(children=[Html(children=['2.4.3. Mosaico de cultivos, pastos y espacios naturales'], tag='td'), Html(children=['243'], tag='td'), Combobox(items=[1, 2, 3, 4, 5, 6], v_model=None)], tag='tr'), Html(children=[Html(children=['2.4.4. Mosaico de pastos con espacios naturales'], tag='td'), Html(children=['244'], tag='td'), Combobox(items=[1, 2, 3, 4, 5, 6], v_model=None)], tag='tr'), Html(children=[Html(children=['2.4.5. Mosaico de cultivos con espacios naturales'], tag='td'), Html(children=['245'], tag='td'), Combobox(items=[1, 2, 3, 4, 5, 6], v_model=None)], tag='tr'), Html(children=[Html(children=['3.1.1. Bosque denso'], tag='td'), Html(children=['31121'], tag='td'), Combobox(items=[1, 2, 3, 4, 5, 6], v_model=None)], tag='tr'), Html(children=[Html(children=['3.1.1. Bosque denso'], tag='td'), Html(children=['31111'], tag='td'), Combobox(items=[1, 2, 3, 4, 5, 6], v_model=None)], tag='tr'), Html(children=[Html(children=['3.1.2. Bosque abierto'], tag='td'), Html(children=['31221'], tag='td'), Combobox(items=[1, 2, 3, 4, 5, 6], v_model=None)], tag='tr'), Html(children=[Html(children=['3.1.2. Bosque abierto'], tag='td'), Html(children=['31211'], tag='td'), Combobox(items=[1, 2, 3, 4, 5, 6], v_model=None)], tag='tr'), Html(children=[Html(children=['3.1.3. Bosque fragmentado'], tag='td'), Html(children=['3131'], tag='td'), Combobox(items=[1, 2, 3, 4, 5, 6], v_model=None)], tag='tr'), Html(children=[Html(children=['3.1.3. Bosque fragmentado'], tag='td'), Html(children=['3132'], tag='td'), Combobox(items=[1, 2, 3, 4, 5, 6], v_model=None)], tag='tr'), Html(children=[Html(children=['3.1.3. Bosque fragmentado'], tag='td'), Html(children=['313'], tag='td'), Combobox(items=[1, 2, 3, 4, 5, 6], v_model=None)], tag='tr'), Html(children=[Html(children=['3.1.4. Bosque de galeria y ripario'], tag='td'), Html(children=['314'], tag='td'), Combobox(items=[1, 2, 3, 4, 5, 6], v_model=None)], tag='tr'), Html(children=[Html(children=['3.2.1. Herbazal'], tag='td'), Html(children=['32111'], tag='td'), Combobox(items=[1, 2, 3, 4, 5, 6], v_model=None)], tag='tr'), Html(children=[Html(children=['3.2.1. Herbazal'], tag='td'), Html(children=['32112'], tag='td'), Combobox(items=[1, 2, 3, 4, 5, 6], v_model=None)], tag='tr'), Html(children=[Html(children=['3.2.2. Arbustal'], tag='td'), Html(children=['3221'], tag='td'), Combobox(items=[1, 2, 3, 4, 5, 6], v_model=None)], tag='tr'), Html(children=[Html(children=['3.2.2. Arbustal'], tag='td'), Html(children=['3222'], tag='td'), Combobox(items=[1, 2, 3, 4, 5, 6], v_model=None)], tag='tr'), Html(children=[Html(children=['3.2.3. Vegetacion secundaria o en transicion'], tag='td'), Html(children=['3232'], tag='td'), Combobox(items=[1, 2, 3, 4, 5, 6], v_model=None)], tag='tr'), Html(children=[Html(children=['3.2.3. Vegetacion secundaria o en transicion'], tag='td'), Html(children=['3231'], tag='td'), Combobox(items=[1, 2, 3, 4, 5, 6], v_model=None)], tag='tr'), Html(children=[Html(children=['3.2.3. Vegetacion secundaria o en transicion'], tag='td'), Html(children=['323'], tag='td'), Combobox(items=[1, 2, 3, 4, 5, 6], v_model=None)], tag='tr'), Html(children=[Html(children=['3.3.3. Tierras desnudas y degradadas'], tag='td'), Html(children=['333'], tag='td'), Combobox(items=[1, 2, 3, 4, 5, 6], v_model=None)], tag='tr'), Html(children=[Html(children=['3.3.4. Zonas quemadas'], tag='td'), Html(children=['334'], tag='td'), Combobox(items=[1, 2, 3, 4, 5, 6], v_model=None)], tag='tr'), Html(children=[Html(children=['5.1.1. Rios (50 m)'], tag='td'), Html(children=['511'], tag='td'), Combobox(items=[1, 2, 3, 4, 5, 6], v_model=None)], tag='tr'), Html(children=[Html(children=['5.1.2. Lagunas, lagos y cienagas naturales'], tag='td'), Html(children=['512'], tag='td'), Combobox(items=[1, 2, 3, 4, 5, 6], v_model=None)], tag='tr')], tag='tbody')], dense=True, height='400px', matrix={'1.1.1. Tejido urbano continuo': '', '1.1.2. Tejido urbano discontinuo': '', '1.3.1. Zonas de extraccion minera': '', '2.1.2. Cereales': '', '2.1.4. Hortalizas': '', '2.2.3. Cultivos permanentes arboreos': '', '2.3.1. Pastos limpios': '', '2.3.2. Pastos arbolados': '', '2.3.3. Pastos enmalezados': '', '2.4.2. Mosaico de pastos y cultivos': '', '2.4.3. Mosaico de cultivos, pastos y espacios naturales': '', '2.4.4. Mosaico de pastos con espacios naturales': '', '2.4.5. Mosaico de cultivos con espacios naturales': '', '3.1.1. Bosque denso': '', '3.1.2. Bosque abierto': '', '3.1.3. Bosque fragmentado': '', '3.1.4. Bosque de galeria y ripario': '', '3.2.1. Herbazal': '', '3.2.2. Arbustal': '', '3.2.3. Vegetacion secundaria o en transicion': '', '3.3.3. Tierras desnudas y degradadas': '', '3.3.4. Zonas quemadas': '', '5.1.1. Rios (50 m)': '', '5.1.2. Lagunas, lagos y cienagas naturales': ''})\n"
     ]
    }
   ],
   "source": [
    "print(gee_selector.w_mapper)"
   ]
  }
 ],
 "metadata": {
  "kernelspec": {
   "display_name": "Python 3",
   "language": "python",
   "name": "python3"
  },
  "language_info": {
   "codemirror_mode": {
    "name": "ipython",
    "version": 3
   },
   "file_extension": ".py",
   "mimetype": "text/x-python",
   "name": "python",
   "nbconvert_exporter": "python",
   "pygments_lexer": "ipython3",
   "version": "3.6.9"
  }
 },
 "nbformat": 4,
 "nbformat_minor": 5
}
