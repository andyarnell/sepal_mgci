{
 "cells": [
  {
   "cell_type": "code",
   "execution_count": 1,
   "id": "likely-commercial",
   "metadata": {},
   "outputs": [
    {
     "data": {
      "application/vnd.jupyter.widget-view+json": {
       "model_id": "a03f4108e5644d9181794d787b7acf0c",
       "version_major": 2,
       "version_minor": 0
      },
      "text/plain": [
       "Styles()"
      ]
     },
     "metadata": {},
     "output_type": "display_data"
    },
    {
     "data": {
      "application/vnd.jupyter.widget-view+json": {
       "model_id": "baf0963b04c04639a5890b8d78eeda61",
       "version_major": 2,
       "version_minor": 0
      },
      "text/plain": [
       "ResizeTrigger()"
      ]
     },
     "metadata": {},
     "output_type": "display_data"
    }
   ],
   "source": [
    "import pandas as pd\n",
    "\n",
    "import ee\n",
    "from functools import partial\n",
    "from traitlets import (\n",
    "    Dict, HasTraits, Unicode, Any, link, observe\n",
    ")\n",
    "import ipyvuetify as v\n",
    "\n",
    "import sepal_ui.sepalwidgets as sw\n",
    "from sepal_ui.scripts import utils as su\n",
    "from component.widget.custom_widgets import *\n"
   ]
  },
  {
   "cell_type": "code",
   "execution_count": 2,
   "id": "useful-jefferson",
   "metadata": {},
   "outputs": [],
   "source": [
    "ee.Initialize()"
   ]
  },
  {
   "cell_type": "code",
   "execution_count": 3,
   "id": "congressional-atmosphere",
   "metadata": {},
   "outputs": [],
   "source": [
    "\n",
    "# Let the user select which is the LC/LU column, could be just code or with description\n",
    "# Ask user if there is a description column\n",
    "# if there is a description, load both columns\n",
    "# From all the classes let the user to choose the corresponding ESA class\n"
   ]
  },
  {
   "cell_type": "code",
   "execution_count": 61,
   "id": "important-consequence",
   "metadata": {},
   "outputs": [],
   "source": [
    "GREEN = v.theme.themes.dark.success\n",
    "IPCC_CLASSES = {\n",
    "    1: ['Forest', GREEN], \n",
    "    2: ['Grassland', GREEN], \n",
    "    3: ['Cropland', GREEN], \n",
    "    4: ['Wetland', GREEN], \n",
    "    5: ['Settlement', 'gray'],\n",
    "    6: ['Other', 'gray']\n",
    "}"
   ]
  },
  {
   "cell_type": "code",
   "execution_count": 6,
   "id": "advised-explosion",
   "metadata": {},
   "outputs": [],
   "source": [
    "class Flex(v.Flex, sw.SepalWidget):\n",
    "    def __init__(self, *args, **kwargs):\n",
    "        super().__init__(*args, **kwargs)"
   ]
  },
  {
   "cell_type": "code",
   "execution_count": 11,
   "id": "mighty-restoration",
   "metadata": {},
   "outputs": [],
   "source": [
    "class Remap(v.SimpleTable):\n",
    "    \n",
    "    matrix = Dict({}).tag(sync=True)\n",
    "    \n",
    "    def __init__(self, code_field, *args, **kwargs):\n",
    "\n",
    "        \"Tile to display a remap values\"\n",
    "        \n",
    "        self.dense = True\n",
    "        \n",
    "        self.code_field = code_field\n",
    "        \n",
    "        headers = ['Code', 'Ipcc']\n",
    "        \n",
    "        # Instantiate an empty dictionary with code as keys and empty values\n",
    "        for code in self.code_field:\n",
    "            self.matrix[code] = ''\n",
    "        \n",
    "        header = [\n",
    "            v.Html(\n",
    "                tag = 'tr', \n",
    "                children = (\n",
    "                    [v.Html(tag = 'th', children = [h]) for h in headers]\n",
    "                )\n",
    "            )\n",
    "        ]\n",
    "        \n",
    "        rows = [\n",
    "            v.Html(tag='tr', children=[\n",
    "                v.Html(tag = 'td', children=[str(code)]), \n",
    "                self.get_ipcc_class(code),\n",
    "                \n",
    "            ]) for code in self.code_field\n",
    "        ]\n",
    "        \n",
    "        self.children = [v.Html(tag = 'tbody', children = header + rows)]\n",
    "        \n",
    "        # Create table\n",
    "        super().__init__(*args, **kwargs)\n",
    "    \n",
    "    def store(self, code, change):\n",
    "        \n",
    "        self.matrix[code] = change['new']\n",
    "        \n",
    "        # Change color\n",
    "        color = IPCC_CLASSES[change['new']['value']][1]\n",
    "        change['owner'].background_color = color\n",
    "\n",
    "\n",
    "    def get_ipcc_class(self, code):\n",
    "        \n",
    "        \"\"\"Get a selector \"\"\"        \n",
    "        items = [{ 'value':k, 'text':v[0] } for k, v in IPCC_CLASSES.items()]\n",
    "        \n",
    "        select = v.Combobox(\n",
    "            _metadata={'name':code}, \n",
    "            items=items, \n",
    "            v_model=None, \n",
    "            dense=True,\n",
    "            hide_details=True\n",
    "        )\n",
    "        \n",
    "        select.observe(partial(self.store, code), 'v_model')\n",
    "        \n",
    "        return select\n",
    "        "
   ]
  },
  {
   "cell_type": "code",
   "execution_count": 109,
   "id": "derived-mechanics",
   "metadata": {},
   "outputs": [],
   "source": [
    "class GeeSelector(v.Card):\n",
    "    \n",
    "    asset = Any('').tag(sync=True)\n",
    "    code_col = Any('').tag(sync=True)\n",
    "\n",
    "    \n",
    "    def __init__(self, *args, **kwargs):\n",
    "        \n",
    "        \n",
    "        super().__init__(*args, **kwargs)\n",
    "        \n",
    "        self.map = 0\n",
    "        self.ee_asset = None\n",
    "        self.w_mapper = None\n",
    "        \n",
    "        self.asset_selector = AssetSelect(\n",
    "            label='Select a LC/LU GEE asset', \n",
    "            default_asset = 'users/dafguerrerom/FAO/LULC_2012_AOI'\n",
    "        )\n",
    "        \n",
    "        self.w_code = v.Select(label='Select code column', class_='pr-4', v_model='')\n",
    "        self.mapper_btn = sw.Btn('Get attributes', small=True)\n",
    "        \n",
    "        self.w_asset = Flex(\n",
    "            _metadata = {'name':'columns'},\n",
    "            class_='d-flex align-center mb-2',\n",
    "            children=[self.w_code, self.mapper_btn]\n",
    "        )\n",
    "        \n",
    "        # List of components whose could be hidden/showed\n",
    "        \n",
    "        self.components = {}\n",
    "        \n",
    "        # Define view\n",
    "        self.children = [\n",
    "            self.asset_selector,\n",
    "            self.w_asset\n",
    "        ]\n",
    "        \n",
    "        #Link traits\n",
    "        \n",
    "        link((self.asset_selector, 'v_model'), (self, 'asset'))\n",
    "        link((self.w_code, 'v_model'), (self, 'code_col'))\n",
    "        \n",
    "        # Create Events\n",
    "        \n",
    "        self.mapper_btn.on_event('click', self._get_mapper_matrix)\n",
    "        \n",
    "        \n",
    "    def _get_mapper_matrix(self, widget, event, data):\n",
    "        \n",
    "        component_name = 'mapper'\n",
    "        # Hide previous loaded mappers\n",
    "        if self.w_mapper: self._remove_widget(self.w_mapper, component_name)\n",
    "        \n",
    "        # Get code and description fields\n",
    "        code_fields = self._get_fields(self.code_col)\n",
    "        \n",
    "        # Create mapper widget\n",
    "        self.w_mapper = Remap(code_fields, \n",
    "                              dense=True, \n",
    "                              height='400px',\n",
    "                              _metadata={'name':component_name})\n",
    "        \n",
    "        self.components[component_name] = self.w_mapper\n",
    "        self._add_widget(self.w_mapper, component_name)\n",
    "\n",
    "    def _hide_components(self):\n",
    "        \"\"\"Hide all possible componentes\"\"\"\n",
    "        \n",
    "        for component in self.components.values():\n",
    "            su.hide_component(component)\n",
    "    \n",
    "    def _validate_asset(self, asset):\n",
    "        try:\n",
    "            self.ee_asset = ee.FeatureCollection(asset)\n",
    "        except Exception as e:\n",
    "            print(f'There was an error {e}')\n",
    "    \n",
    "    @observe('asset')\n",
    "    def _get_items(self, change):\n",
    "        asset = change['new']\n",
    "        \n",
    "        # Hide previous loaded components\n",
    "        self._hide_components()\n",
    "        self._validate_asset(asset)\n",
    "        \n",
    "        self.w_code.loading=True\n",
    "        # Get columns of dataset\n",
    "        columns = self._get_cols()\n",
    "        \n",
    "        # Fill widgets with column names\n",
    "        self.w_code.items = columns\n",
    "        \n",
    "        self.w_code.loading=False\n",
    "    \n",
    "        \n",
    "    def _add_widget(self, widget, widget_name):\n",
    "        \"\"\"Add widget at the end of the children view\"\"\"\n",
    "        \n",
    "        su.show_component(widget)\n",
    "        \n",
    "        widgets_name = [widget._metadata['name'] for widget in self.children if widget._metadata]      \n",
    "            \n",
    "        if widget_name not in widgets_name:\n",
    "            self.children = self.children + [widget]\n",
    "            \n",
    "    def _remove_widget(self, widget, widget_name):\n",
    "        \"\"\"Add widget at the end of the children view\"\"\"\n",
    "        \n",
    "        widgets_name = [widget._metadata['name'] for widget in self.children if widget._metadata]      \n",
    "            \n",
    "        if widget_name in widgets_name:\n",
    "            \n",
    "            children = self.children\n",
    "            children.remove(widget)\n",
    "            \n",
    "            self.children = children\n",
    "\n",
    "    def _get_fields(self, col_name):\n",
    "        \n",
    "        return sorted(list(set(self.ee_asset.aggregate_array(col_name).getInfo())))\n",
    "\n",
    "    def _get_cols(self):\n",
    "        \n",
    "        if self.ee_asset:\n",
    "            columns = ee.Feature(self.ee_asset.first()).propertyNames().getInfo()\n",
    "            return sorted([str(col) for col in columns if col not in ['system:index', 'Shape_Area']])\n",
    "        "
   ]
  },
  {
   "cell_type": "code",
   "execution_count": 110,
   "id": "mathematical-mongolia",
   "metadata": {},
   "outputs": [],
   "source": [
    "gee_selector = GeeSelector()"
   ]
  },
  {
   "cell_type": "code",
   "execution_count": 114,
   "id": "refined-cambridge",
   "metadata": {},
   "outputs": [
    {
     "data": {
      "application/vnd.jupyter.widget-view+json": {
       "model_id": "182b6c78f0aa4e20b487d64d9fa1665a",
       "version_major": 2,
       "version_minor": 0
      },
      "text/plain": [
       "Card(children=[GeeSelector(asset='users/dafguerrerom/FAO/LULC_2012_AOI', children=[AssetSelect(class_='my-5', …"
      ]
     },
     "metadata": {},
     "output_type": "display_data"
    }
   ],
   "source": [
    "v.Card(children=[gee_selector], class_='pa-4')"
   ]
  },
  {
   "cell_type": "code",
   "execution_count": null,
   "id": "chubby-arrival",
   "metadata": {},
   "outputs": [],
   "source": []
  }
 ],
 "metadata": {
  "kernelspec": {
   "display_name": "Python 3",
   "language": "python",
   "name": "python3"
  },
  "language_info": {
   "codemirror_mode": {
    "name": "ipython",
    "version": 3
   },
   "file_extension": ".py",
   "mimetype": "text/x-python",
   "name": "python",
   "nbconvert_exporter": "python",
   "pygments_lexer": "ipython3",
   "version": "3.6.9"
  }
 },
 "nbformat": 4,
 "nbformat_minor": 5
}
