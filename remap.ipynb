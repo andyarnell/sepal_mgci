{
 "cells": [
  {
   "cell_type": "code",
   "execution_count": 1,
   "id": "39ba892f",
   "metadata": {
    "tags": []
   },
   "outputs": [
    {
     "data": {
      "application/vnd.jupyter.widget-view+json": {
       "model_id": "b12f873765de4d40ae3e56c1f130b7c0",
       "version_major": 2,
       "version_minor": 0
      },
      "text/plain": [
       "Styles()"
      ]
     },
     "metadata": {},
     "output_type": "display_data"
    },
    {
     "data": {
      "application/vnd.jupyter.widget-view+json": {
       "model_id": "38b38739fa414e31b98a313bb6a3292f",
       "version_major": 2,
       "version_minor": 0
      },
      "text/plain": [
       "ResizeTrigger()"
      ]
     },
     "metadata": {},
     "output_type": "display_data"
    },
    {
     "data": {
      "application/vnd.jupyter.widget-view+json": {
       "model_id": "106442fb21884fd98dee224286f3b407",
       "version_major": 2,
       "version_minor": 0
      },
      "text/plain": [
       "Styles()"
      ]
     },
     "metadata": {},
     "output_type": "display_data"
    }
   ],
   "source": [
    "import pandas as pd\n",
    "\n",
    "import ee\n",
    "from functools import partial\n",
    "from traitlets import (\n",
    "    Dict, HasTraits, Unicode, Any, link, observe\n",
    ")\n",
    "import ipyvuetify as v\n",
    "\n",
    "import sepal_ui.sepalwidgets as sw\n",
    "from sepal_ui.scripts import utils as su\n",
    "from component.widget.custom_widgets import *\n",
    "from component.scripts import *\n",
    "from component.tile import *\n",
    "from component.message import cm\n",
    "from component.frontend.styles import *"
   ]
  },
  {
   "cell_type": "code",
   "execution_count": 2,
   "id": "4a459ae6",
   "metadata": {},
   "outputs": [],
   "source": [
    "ee.Initialize()"
   ]
  },
  {
   "cell_type": "code",
   "execution_count": 3,
   "id": "766ab317",
   "metadata": {},
   "outputs": [],
   "source": [
    "class GeeSelector(v.Card):\n",
    "    \n",
    "    asset = Any('').tag(sync=True)\n",
    "    code_col = Any('').tag(sync=True)\n",
    "    \n",
    "    def __init__(self, *args, **kwargs):\n",
    "        \n",
    "        self.class_ = 'pa-4'\n",
    "        title = v.CardTitle(children=[cm.ui.title])\n",
    "        description = v.CardText(class_='py-0', children=[sw.Markdown(cm.ui.description)])\n",
    "        \n",
    "        super().__init__(*args, **kwargs)\n",
    "        \n",
    "        self.alert_output = Output()\n",
    "        self.alert = sw.Alert()\n",
    "        self.alert_dialog = Dialog(output=self.alert_output)\n",
    "        \n",
    "        self.ee_asset = None\n",
    "        self.w_mapper = Remap(\n",
    "            dense=True, \n",
    "            max_height=400,\n",
    "            _metadata={'name':'mapper'}\n",
    "        )\n",
    "        \n",
    "        self.asset_selector = AssetSelect(\n",
    "            label=cm.remap.label, \n",
    "            default_asset = 'users/dafguerrerom/FAO/LULC_2012_AOI'\n",
    "        )\n",
    "        \n",
    "        self.w_code = v.Select(label='', class_='pr-4', v_model='')\n",
    "        self.mapper_btn = sw.Btn(cm.remap.btn, small=True)\n",
    "        \n",
    "        self.w_asset = Flex(\n",
    "            _metadata = {'name':'code'},\n",
    "            class_='d-flex align-center mb-2',\n",
    "            children=[self.w_code, self.mapper_btn]\n",
    "        )\n",
    "        \n",
    "        # List of components whose could be hidden/showed\n",
    "        \n",
    "        self.components = {\n",
    "            'mapper': self.w_mapper,\n",
    "            'code' : self.w_asset\n",
    "        }\n",
    "        \n",
    "        # Define view\n",
    "        self.children = [\n",
    "            self.alert_dialog,\n",
    "            title,\n",
    "            description,\n",
    "            self.asset_selector,\n",
    "        ]\n",
    "        \n",
    "        #Link traits\n",
    "        link((self, 'asset'), (self.asset_selector, 'v_model'))\n",
    "        link((self.w_code, 'v_model'), (self, 'code_col'))\n",
    "        \n",
    "        # Create Events\n",
    "        self.mapper_btn.on_event('click', self._get_mapper_matrix_event)\n",
    "        \n",
    "        # Decorate functions\n",
    "        self._get_mapper_matrix = loading(self.alert, self.alert_dialog, self.mapper_btn)(self._get_mapper_matrix)\n",
    "        self._validate_asset = loading(self.alert, self.alert_dialog)(self._validate_asset)\n",
    "        \n",
    "        \n",
    "    def _get_mapper_matrix_event(self, widget, event, data):\n",
    "        self._get_mapper_matrix()\n",
    "        \n",
    "    def _get_mapper_matrix(self):\n",
    "        \n",
    "        assert (self.code_col != ''), cm.remap.error.no_code_col\n",
    "        \n",
    "        if self.asset_type == 'TABLE':\n",
    "            code_fields = self._get_fields()\n",
    "        elif self.asset_type == 'IMAGE':\n",
    "            code_fields = self._get_classes()\n",
    "        \n",
    "        # Create mapper widget\n",
    "        self.w_mapper._get_matrix(code_fields)\n",
    "\n",
    "        self._add_widget(self.w_mapper, 'mapper')\n",
    "\n",
    "    def _hide_components(self):\n",
    "        \"\"\"Hide all possible componentes\"\"\"\n",
    "        self.code_col = ''\n",
    "        for component in self.components.values():\n",
    "            su.hide_component(component)\n",
    "    \n",
    "    def _validate_asset(self, asset):\n",
    "        \n",
    "        asset_info = ee.data.getAsset(asset)\n",
    "        self.asset_type = asset_info['type']\n",
    "        \n",
    "        if self.asset_type == 'TABLE':\n",
    "            self.w_code.label = cm.remap.code_label\n",
    "            self.ee_asset = ee.FeatureCollection(asset)\n",
    "\n",
    "        elif self.asset_type == 'IMAGE':\n",
    "            self.w_code.label = cm.remap.band_label\n",
    "            self.ee_asset = ee.Image(asset)\n",
    "        else:\n",
    "            err_str = cm.remap.error_type\n",
    "            raise AttributeError(err_str)\n",
    "\n",
    "    @observe('asset')\n",
    "    def _get_items(self, change):\n",
    "        \n",
    "        asset = change['new']\n",
    "        \n",
    "        if asset:\n",
    "            \n",
    "            # Hide previous loaded components\n",
    "            self._hide_components()\n",
    "            self.w_code.items=[]\n",
    "            self._add_widget(self.w_asset, 'code')\n",
    "            self._validate_asset(asset)\n",
    "\n",
    "            self.w_code.loading=True\n",
    "\n",
    "            # Get columns of dataset\n",
    "            if self.asset_type == 'TABLE':\n",
    "                columns = self._get_cols()\n",
    "\n",
    "            elif self.asset_type == 'IMAGE':\n",
    "                columns = self._get_bands()\n",
    "\n",
    "            # Fill widgets with column names\n",
    "            self.w_code.items = columns\n",
    "\n",
    "            self.w_code.loading=False\n",
    "    \n",
    "        \n",
    "    def _add_widget(self, widget, widget_name):\n",
    "        \"\"\"Add widget at the end of the children view\"\"\"\n",
    "        \n",
    "        su.show_component(widget)\n",
    "        \n",
    "        widgets_name = [widget._metadata['name'] for widget in self.children if widget._metadata]      \n",
    "            \n",
    "        if widget_name not in widgets_name:\n",
    "            self.children = self.children + [widget]\n",
    "            \n",
    "    def _remove_widget(self, widget, widget_name):\n",
    "        \"\"\"Add widget at the end of the children view\"\"\"\n",
    "        \n",
    "        widgets_name = [widget._metadata['name'] for widget in self.children if widget._metadata]      \n",
    "            \n",
    "        if widget_name in widgets_name:\n",
    "            \n",
    "            children = self.children\n",
    "            children.remove(widget)\n",
    "            \n",
    "            self.children = children\n",
    "\n",
    "    def _get_bands(self):\n",
    "        \"\"\"Get bands from Image asset\"\"\"\n",
    "        return list(self.ee_asset.bandTypes().getInfo().keys())\n",
    "        \n",
    "    def _get_fields(self):\n",
    "        \"\"\"Get fields from Feature Collection\"\"\"\n",
    "        return sorted(list(set(self.ee_asset.aggregate_array(self.code_col).getInfo())))\n",
    "\n",
    "    def _get_cols(self):\n",
    "        \n",
    "        if self.ee_asset:\n",
    "            columns = ee.Feature(self.ee_asset.first()).propertyNames().getInfo()\n",
    "            return sorted([str(col) for col in columns if col not in ['system:index', 'Shape_Area']])\n",
    "        \n",
    "    def _get_classes(self):\n",
    "        \"\"\"Get raster classes\"\"\"\n",
    "        \n",
    "        # Reduce image\n",
    "        reduced = self.ee_asset.reduceRegion(\n",
    "          reducer = ee.Reducer.autoHistogram(maxBuckets=40000), \n",
    "          geometry = self.ee_asset.geometry(), \n",
    "          scale=30, \n",
    "          maxPixels=1e13\n",
    "        )\n",
    "\n",
    "        array = ee.Array(ee.List(reduced.get(self.code_col))).getInfo()\n",
    "        df = pd.DataFrame(data=array, columns=['code', 'count'])\n",
    "        \n",
    "        return list(df[df['count']>0]['code'].unique())\n",
    "        "
   ]
  },
  {
   "cell_type": "code",
   "execution_count": 4,
   "id": "996bb468",
   "metadata": {},
   "outputs": [],
   "source": [
    "gee_selector = GeeSelector()"
   ]
  },
  {
   "cell_type": "code",
   "execution_count": 5,
   "id": "38233be8",
   "metadata": {
    "scrolled": true,
    "tags": []
   },
   "outputs": [
    {
     "data": {
      "application/vnd.jupyter.widget-view+json": {
       "model_id": "0145b1f3c4974e64be25fad0cdd575cf",
       "version_major": 2,
       "version_minor": 0
      },
      "text/plain": [
       "GeeSelector(children=[Dialog(children=[Card(children=[Output()])], max_width=436.0, overlay_color='black', v_m…"
      ]
     },
     "metadata": {},
     "output_type": "display_data"
    }
   ],
   "source": [
    "gee_selector"
   ]
  },
  {
   "cell_type": "code",
   "execution_count": null,
   "id": "477243f2",
   "metadata": {},
   "outputs": [],
   "source": [
    "gee_selector.w_mapper.matrix"
   ]
  }
 ],
 "metadata": {
  "kernelspec": {
   "display_name": "Python 3",
   "language": "python",
   "name": "python3"
  },
  "language_info": {
   "codemirror_mode": {
    "name": "ipython",
    "version": 3
   },
   "file_extension": ".py",
   "mimetype": "text/x-python",
   "name": "python",
   "nbconvert_exporter": "python",
   "pygments_lexer": "ipython3",
   "version": "3.6.9"
  }
 },
 "nbformat": 4,
 "nbformat_minor": 5
}
