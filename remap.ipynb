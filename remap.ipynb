{
 "cells": [
  {
   "cell_type": "code",
   "execution_count": 1,
   "id": "differential-shark",
   "metadata": {},
   "outputs": [],
   "source": [
    "from functools import partial\n",
    "import ipyvuetify as v\n",
    "import ee"
   ]
  },
  {
   "cell_type": "code",
   "execution_count": 2,
   "id": "opening-shark",
   "metadata": {},
   "outputs": [],
   "source": [
    "ee.Initialize()"
   ]
  },
  {
   "cell_type": "code",
   "execution_count": 3,
   "id": "threaded-suspension",
   "metadata": {},
   "outputs": [],
   "source": [
    "# Get all columns from asset\n",
    "# Let the user select which is the LC/LU column, could be just code or with description\n",
    "# Ask user if there is a description column\n",
    "# if there is a description, load both columns\n",
    "# From all the classes let the user to choose the corresponding ESA class\n"
   ]
  },
  {
   "cell_type": "code",
   "execution_count": 4,
   "id": "joined-coral",
   "metadata": {},
   "outputs": [],
   "source": [
    "aoi_path = 'users/dafguerrerom/FAO/LULC_2012_AOI'"
   ]
  },
  {
   "cell_type": "code",
   "execution_count": 5,
   "id": "natural-consumption",
   "metadata": {},
   "outputs": [],
   "source": [
    "asset = ee.FeatureCollection(aoi_path)"
   ]
  },
  {
   "cell_type": "code",
   "execution_count": 6,
   "id": "timely-seventh",
   "metadata": {},
   "outputs": [],
   "source": [
    "def get_fields(column):\n",
    "    return sorted([str(e) for e in list(set(asset.aggregate_array(column).getInfo()))])"
   ]
  },
  {
   "cell_type": "code",
   "execution_count": 7,
   "id": "pleasant-column",
   "metadata": {},
   "outputs": [],
   "source": [
    "def get_cols(asset):\n",
    "    columns = ee.Feature(asset.first()).propertyNames().getInfo()\n",
    "    return sorted([str(col) for col in columns if col not in ['system:index', 'Shape_Area']])"
   ]
  },
  {
   "cell_type": "code",
   "execution_count": 8,
   "id": "organizational-portland",
   "metadata": {},
   "outputs": [],
   "source": [
    "from traitlets import Dict, HasTraits"
   ]
  },
  {
   "cell_type": "code",
   "execution_count": 9,
   "id": "frank-tiffany",
   "metadata": {},
   "outputs": [],
   "source": [
    "cols = get_cols(asset)\n",
    "cols;"
   ]
  },
  {
   "cell_type": "code",
   "execution_count": 16,
   "id": "divine-prerequisite",
   "metadata": {},
   "outputs": [],
   "source": [
    "code_field = get_fields('CODIGO')[:5]\n",
    "desc_field = get_fields('LEYENDA3N')[:5]"
   ]
  },
  {
   "cell_type": "code",
   "execution_count": 78,
   "id": "educated-superior",
   "metadata": {},
   "outputs": [],
   "source": [
    "class Matrix(v.SimpleTable):\n",
    "    \n",
    "    matrix = Dict({}).tag(sync=True)\n",
    "    \n",
    "    def __init__(self, code_field, desc_field):\n",
    "        \n",
    "        self.code_field = code_field\n",
    "        self.desc_field = desc_field\n",
    "        self.desc_code = list(zip(self.code_field, self.desc_field))\n",
    "        \n",
    "        headers = ['Code', 'Description', 'Ipcc']\n",
    "        \n",
    "        # Instantiate an empty dictionary with code as keys and empty values\n",
    "        for code in self.code_field:\n",
    "            self.matrix[code] = ''\n",
    "        \n",
    "        header = [\n",
    "            v.Html(\n",
    "                tag = 'tr', \n",
    "                children = (\n",
    "                    [v.Html(tag = 'th', children = [h]) for h in headers]\n",
    "                )\n",
    "            )\n",
    "        ]\n",
    "        \n",
    "        rows = [\n",
    "            v.Html(tag='tr', children=[\n",
    "                v.Html(tag = 'td', children=[code]), \n",
    "                v.Html(tag = 'td', children=[desc]),\n",
    "                self.get_ipcc_class(code),\n",
    "                \n",
    "            ]) for code, desc in self.desc_code\n",
    "        ]\n",
    "        \n",
    "        self.children = [v.Html(tag = 'tbody', children = header + rows)]\n",
    "        \n",
    "        # Create table\n",
    "        super().__init__()\n",
    "    \n",
    "    def store(self, code, change):\n",
    "        self.matrix[code] = change['new']\n",
    "        \n",
    "    def get_ipcc_class(self, code):\n",
    "        \n",
    "        \"\"\"Get a selector \"\"\"\n",
    "\n",
    "        select = v.Select(_metadata={'name':code}, items=[1,2,3,4,5,6], v_model=None)\n",
    "        select.observe(partial(self.store, code), 'v_model')\n",
    "        \n",
    "        return select\n",
    "        "
   ]
  },
  {
   "cell_type": "code",
   "execution_count": 79,
   "id": "dramatic-summer",
   "metadata": {
    "scrolled": false
   },
   "outputs": [],
   "source": [
    "transition = Matrix(code_field, desc_field)"
   ]
  },
  {
   "cell_type": "code",
   "execution_count": 80,
   "id": "retired-cancer",
   "metadata": {
    "scrolled": false
   },
   "outputs": [
    {
     "data": {
      "application/vnd.jupyter.widget-view+json": {
       "model_id": "0c4f3575c96f4b0c9befca6364f59a5f",
       "version_major": 2,
       "version_minor": 0
      },
      "text/plain": [
       "Matrix(children=[Html(children=[Html(children=[Html(children=['Code'], tag='th'), Html(children=['Description'…"
      ]
     },
     "metadata": {},
     "output_type": "display_data"
    }
   ],
   "source": [
    "transition"
   ]
  }
 ],
 "metadata": {
  "kernelspec": {
   "display_name": "Python 3",
   "language": "python",
   "name": "python3"
  },
  "language_info": {
   "codemirror_mode": {
    "name": "ipython",
    "version": 3
   },
   "file_extension": ".py",
   "mimetype": "text/x-python",
   "name": "python",
   "nbconvert_exporter": "python",
   "pygments_lexer": "ipython3",
   "version": "3.6.9"
  }
 },
 "nbformat": 4,
 "nbformat_minor": 5
}
