{
 "cells": [
  {
   "cell_type": "code",
   "execution_count": 1,
   "id": "6d726d7b",
   "metadata": {
    "tags": []
   },
   "outputs": [
    {
     "data": {
      "application/vnd.jupyter.widget-view+json": {
       "model_id": "1ef8676552b04884997fbbc6e16a93d4",
       "version_major": 2,
       "version_minor": 0
      },
      "text/plain": [
       "Styles()"
      ]
     },
     "metadata": {},
     "output_type": "display_data"
    },
    {
     "data": {
      "application/vnd.jupyter.widget-view+json": {
       "model_id": "b41e79cc27a843229fb930950b27098b",
       "version_major": 2,
       "version_minor": 0
      },
      "text/plain": [
       "ResizeTrigger()"
      ]
     },
     "metadata": {},
     "output_type": "display_data"
    }
   ],
   "source": [
    "import pandas as pd\n",
    "\n",
    "import ee\n",
    "from functools import partial\n",
    "from traitlets import (\n",
    "    Dict, HasTraits, Unicode, Any, link, observe\n",
    ")\n",
    "import ipyvuetify as v\n",
    "\n",
    "import sepal_ui.sepalwidgets as sw\n",
    "from sepal_ui.scripts import utils as su\n",
    "from component.widget.custom_widgets import *\n",
    "from component.scripts import *\n",
    "from component.tile import *\n",
    "from component.message import cm"
   ]
  },
  {
   "cell_type": "code",
   "execution_count": 2,
   "id": "9b0f958a",
   "metadata": {},
   "outputs": [],
   "source": [
    "ee.Initialize()"
   ]
  },
  {
   "cell_type": "code",
   "execution_count": 3,
   "id": "ebab02e8",
   "metadata": {},
   "outputs": [],
   "source": [
    "class GeeSelector(v.Card):\n",
    "    \n",
    "    asset = Any('').tag(sync=True)\n",
    "    code_col = Any('').tag(sync=True)\n",
    "    matrix = Dict().tag(sync=True)\n",
    "\n",
    "    \n",
    "    def __init__(self, *args, **kwargs):\n",
    "        \n",
    "        self.class_ = 'pa-4'\n",
    "        \n",
    "        super().__init__(*args, **kwargs)\n",
    "        \n",
    "        self.alert = sw.Alert().show()\n",
    "        \n",
    "        self.ee_asset = None\n",
    "        self.w_mapper = Remap(\n",
    "            dense=True, \n",
    "            max_height=400,\n",
    "            _metadata={'name':'mapper'}\n",
    "        )\n",
    "        \n",
    "        self.asset_selector = AssetSelect(\n",
    "            label=cm.remap.label, \n",
    "            default_asset = 'users/dafguerrerom/FAO/LULC_2012_AOI'\n",
    "        )\n",
    "        \n",
    "        self.w_code = v.Select(label='', class_='pr-4', v_model='')\n",
    "        self.mapper_btn = sw.Btn(cm.remap.btn, small=True)\n",
    "        \n",
    "        self.w_asset = Flex(\n",
    "            _metadata = {'name':'code'},\n",
    "            class_='d-flex align-center mb-2',\n",
    "            children=[self.w_code, self.mapper_btn]\n",
    "        )\n",
    "        \n",
    "        # List of components whose could be hidden/showed\n",
    "        \n",
    "        self.components = {\n",
    "            'mapper': self.w_mapper,\n",
    "            'code' : self.w_asset\n",
    "        }\n",
    "        \n",
    "        # Define view\n",
    "        self.children = [\n",
    "            self.alert,\n",
    "            self.asset_selector,\n",
    "        ]\n",
    "        \n",
    "        #Link traits\n",
    "        link((self, 'asset'), (self.asset_selector, 'v_model'))\n",
    "        link((self.w_code, 'v_model'), (self, 'code_col'))\n",
    "        link((self, 'matrix'), (self.w_mapper, 'matrix'))\n",
    "        \n",
    "        # Create Events\n",
    "        self.mapper_btn.on_event('click', self._get_mapper_matrix_event)\n",
    "        \n",
    "        # Decorate functions\n",
    "        self._get_mapper_matrix = loading(self.mapper_btn, self.alert)(self._get_mapper_matrix)\n",
    "        self._validate_asset = loading(self.alert)(self._validate_asset)\n",
    "        \n",
    "    def _get_mapper_matrix_event(self, widget, event, data):\n",
    "        self._get_mapper_matrix()\n",
    "        \n",
    "    def _get_mapper_matrix(self):\n",
    "        \n",
    "        if self.asset_type == 'TABLE':\n",
    "            code_fields = self._get_fields()\n",
    "        elif self.asset_type == 'IMAGE':\n",
    "            code_fields = self._get_classes()\n",
    "        \n",
    "        # Create mapper widget\n",
    "        self.w_mapper._get_matrix(code_fields)\n",
    "\n",
    "        self._add_widget(self.w_mapper, 'mapper')\n",
    "\n",
    "    def _hide_components(self):\n",
    "        \"\"\"Hide all possible componentes\"\"\"\n",
    "        self.code_col = ''\n",
    "        for component in self.components.values():\n",
    "            su.hide_component(component)\n",
    "    \n",
    "    def _validate_asset(self, asset):\n",
    "        \n",
    "        asset_info = ee.data.getAsset(asset)\n",
    "        self.asset_type = asset_info['type']\n",
    "        \n",
    "        if self.asset_type == 'TABLE':\n",
    "            self.w_code.label = cm.remap.code_label\n",
    "            self.ee_asset = ee.FeatureCollection(asset)\n",
    "\n",
    "        elif self.asset_type == 'IMAGE':\n",
    "            self.w_code.label = cm.remap.band_label\n",
    "            self.ee_asset = ee.Image(asset)\n",
    "        else:\n",
    "            err_str = cm.remap.error_type\n",
    "            raise AttributeError(err_str)\n",
    "\n",
    "    @observe('asset')\n",
    "    def _get_items(self, change):\n",
    "        asset = change['new']\n",
    "        \n",
    "        # Hide previous loaded components\n",
    "        self._hide_components()\n",
    "        self.w_code.items=[]\n",
    "        self._add_widget(self.w_asset, 'code')\n",
    "        self._validate_asset(asset)\n",
    "        \n",
    "        self.w_code.loading=True\n",
    "        \n",
    "        # Get columns of dataset\n",
    "        if self.asset_type == 'TABLE':\n",
    "            columns = self._get_cols()\n",
    "        \n",
    "        elif self.asset_type == 'IMAGE':\n",
    "            columns = self._get_bands()\n",
    "        \n",
    "        # Fill widgets with column names\n",
    "        self.w_code.items = columns\n",
    "        \n",
    "        self.w_code.loading=False\n",
    "    \n",
    "        \n",
    "    def _add_widget(self, widget, widget_name):\n",
    "        \"\"\"Add widget at the end of the children view\"\"\"\n",
    "        \n",
    "        su.show_component(widget)\n",
    "        \n",
    "        widgets_name = [widget._metadata['name'] for widget in self.children if widget._metadata]      \n",
    "            \n",
    "        if widget_name not in widgets_name:\n",
    "            self.children = self.children + [widget]\n",
    "            \n",
    "    def _remove_widget(self, widget, widget_name):\n",
    "        \"\"\"Add widget at the end of the children view\"\"\"\n",
    "        \n",
    "        widgets_name = [widget._metadata['name'] for widget in self.children if widget._metadata]      \n",
    "            \n",
    "        if widget_name in widgets_name:\n",
    "            \n",
    "            children = self.children\n",
    "            children.remove(widget)\n",
    "            \n",
    "            self.children = children\n",
    "\n",
    "    def _get_bands(self):\n",
    "        \"\"\"Get bands from Image asset\"\"\"\n",
    "        return list(self.ee_asset.bandTypes().getInfo().keys())\n",
    "        \n",
    "    def _get_fields(self):\n",
    "        \"\"\"Get fields from Feature Collection\"\"\"\n",
    "        return sorted(list(set(self.ee_asset.aggregate_array(self.code_col).getInfo())))\n",
    "\n",
    "    def _get_cols(self):\n",
    "        \n",
    "        if self.ee_asset:\n",
    "            columns = ee.Feature(self.ee_asset.first()).propertyNames().getInfo()\n",
    "            return sorted([str(col) for col in columns if col not in ['system:index', 'Shape_Area']])\n",
    "        \n",
    "    def _get_classes(self):\n",
    "        \"\"\"Get raster classes\"\"\"\n",
    "        # Reduce image\n",
    "        \n",
    "        reduced = self.ee_asset.reduceRegion(\n",
    "          reducer = ee.Reducer.autoHistogram(maxBuckets=40000), \n",
    "          geometry = self.ee_asset.geometry(), \n",
    "          scale=30, \n",
    "          maxPixels=1e13\n",
    "        )\n",
    "\n",
    "        array = ee.Array(ee.List(reduced.get(self.code_col))).getInfo()\n",
    "        df = pd.DataFrame(data=array, columns=['code', 'count'])\n",
    "        \n",
    "        return list(df[df['count']>0]['code'].unique())\n",
    "        "
   ]
  },
  {
   "cell_type": "code",
   "execution_count": 4,
   "id": "7b3f8d7b",
   "metadata": {},
   "outputs": [],
   "source": [
    "gee_selector = GeeSelector()"
   ]
  },
  {
   "cell_type": "code",
   "execution_count": 5,
   "id": "68881b32",
   "metadata": {
    "scrolled": true,
    "tags": []
   },
   "outputs": [
    {
     "data": {
      "application/vnd.jupyter.widget-view+json": {
       "model_id": "55ff2d056de44f39b56b7140f70875e1",
       "version_major": 2,
       "version_minor": 0
      },
      "text/plain": [
       "GeeSelector(children=[Alert(class_='mt-5', text=True, type='info'), AssetSelect(class_='my-5', clearable=True,…"
      ]
     },
     "metadata": {},
     "output_type": "display_data"
    }
   ],
   "source": [
    "gee_selector"
   ]
  },
  {
   "cell_type": "code",
   "execution_count": 14,
   "id": "ae1027ce",
   "metadata": {},
   "outputs": [],
   "source": []
  },
  {
   "cell_type": "code",
   "execution_count": 20,
   "id": "acce28f1",
   "metadata": {},
   "outputs": [
    {
     "data": {
      "text/plain": [
       "(<ee.featurecollection.FeatureCollection at 0x7fa7d1c09438>, 'CODIGO')"
      ]
     },
     "execution_count": 20,
     "metadata": {},
     "output_type": "execute_result"
    }
   ],
   "source": [
    "fc = gee_selector.ee_asset\n",
    "band = gee_selector.code_col\n",
    "fc, band"
   ]
  },
  {
   "cell_type": "code",
   "execution_count": 43,
   "id": "fd0d26eb",
   "metadata": {},
   "outputs": [],
   "source": []
  },
  {
   "cell_type": "code",
   "execution_count": 46,
   "id": "63dece7d",
   "metadata": {},
   "outputs": [],
   "source": [
    "from geemap import Map"
   ]
  },
  {
   "cell_type": "code",
   "execution_count": 47,
   "id": "eeac63fd",
   "metadata": {},
   "outputs": [],
   "source": [
    "map_=Map()\n",
    "map_.addLayer(ee_object=image)"
   ]
  },
  {
   "cell_type": "code",
   "execution_count": 48,
   "id": "f55789c0",
   "metadata": {},
   "outputs": [
    {
     "data": {
      "application/vnd.jupyter.widget-view+json": {
       "model_id": "079beb5816c642f3a508c2510f37dc75",
       "version_major": 2,
       "version_minor": 0
      },
      "text/plain": [
       "Map(center=[40, -100], controls=(WidgetControl(options=['position'], widget=HBox(children=(ToggleButton(value=…"
      ]
     },
     "metadata": {},
     "output_type": "display_data"
    }
   ],
   "source": [
    "map_"
   ]
  }
 ],
 "metadata": {
  "kernelspec": {
   "display_name": "Python 3",
   "language": "python",
   "name": "python3"
  },
  "language_info": {
   "codemirror_mode": {
    "name": "ipython",
    "version": 3
   },
   "file_extension": ".py",
   "mimetype": "text/x-python",
   "name": "python",
   "nbconvert_exporter": "python",
   "pygments_lexer": "ipython3",
   "version": "3.6.9"
  }
 },
 "nbformat": 4,
 "nbformat_minor": 5
}
