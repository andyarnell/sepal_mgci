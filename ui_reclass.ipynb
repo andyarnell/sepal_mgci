{
 "cells": [
  {
   "cell_type": "code",
   "execution_count": 1,
   "id": "09d16933",
   "metadata": {},
   "outputs": [
    {
     "data": {
      "application/vnd.jupyter.widget-view+json": {
       "model_id": "6418901fde254e5983bbd796b5ab3ebb",
       "version_major": 2,
       "version_minor": 0
      },
      "text/plain": [
       "Styles()"
      ]
     },
     "metadata": {},
     "output_type": "display_data"
    },
    {
     "data": {
      "application/vnd.jupyter.widget-view+json": {
       "model_id": "0ee178cccf344e9082f5c81abb1ec223",
       "version_major": 2,
       "version_minor": 0
      },
      "text/plain": [
       "ResizeTrigger()"
      ]
     },
     "metadata": {},
     "output_type": "display_data"
    }
   ],
   "source": [
    "from component.tile.classes_table import *\n",
    "from component.widget.custom_widgets import *\n",
    "from component.scripts.scripts import *"
   ]
  },
  {
   "cell_type": "code",
   "execution_count": 2,
   "id": "d2564cbb",
   "metadata": {},
   "outputs": [],
   "source": [
    "import os\n",
    "from pathlib import Path"
   ]
  },
  {
   "cell_type": "code",
   "execution_count": 3,
   "id": "cb49e70a",
   "metadata": {},
   "outputs": [],
   "source": [
    "class CustomizeClass(v.Card):\n",
    "    \n",
    "    def __init__(self, class_path, *args, **kwargs):\n",
    "        super().__init__(*args, **kwargs)\n",
    "        \n",
    "        self.title = v.CardTitle(children=['Edit or create new classifications'])\n",
    "        self.class_path = class_path\n",
    "        self.structure = {'id':'number', 'code':'number', 'description':'string'}\n",
    "        self.w_class_file = v.Select(\n",
    "            label='Select a classes file', \n",
    "            items=self.get_classes_files(), \n",
    "            v_model='',\n",
    "            dense=True\n",
    "        )\n",
    "        self.ct = ClassTable(\n",
    "            out_path=self.class_path,\n",
    "            _metadata = {'name':'class_table'}\n",
    "        ).hide()\n",
    "\n",
    "        use_btn = sw.Btn('Get table')\n",
    "        self.children=[\n",
    "            self.title,\n",
    "            v.Flex(class_='d-flex', children=[\n",
    "                self.w_class_file,\n",
    "                use_btn,\n",
    "            ]),\n",
    "            self.ct\n",
    "        ]\n",
    "        \n",
    "        # Events\n",
    "        self.ct.save_dialog.observe(self._refresh_files, 'reload')\n",
    "        use_btn.on_event('click', self.get_class_table)\n",
    "        \n",
    "    def get_class_table(self, *args):\n",
    "        \"\"\"Display class table widget in view\"\"\"\n",
    "\n",
    "        # Call class table method to build items\n",
    "        self.ct.populate_table(self.structure, self.w_class_file.v_model)\n",
    "        self.ct.show()\n",
    "                \n",
    "    def _refresh_files(self, *args):\n",
    "        \"\"\"Trigger event when a new file is created\"\"\"\n",
    "        self.w_class_file.items = self.get_classes_files()\n",
    "        \n",
    "    def get_classes_files(self):\n",
    "        \"\"\"Search for classes inside module path\"\"\"\n",
    "\n",
    "        look_up_folder = Path(self.class_path).glob('*.csv')\n",
    "        module_classes_folder = (Path(os.getcwd())/'component/parameter').glob('*.csv')\n",
    "        \n",
    "        classes_files = [{'divider':True}, {'header':'New classification'}] + \\\n",
    "                        [{'text':'Create new classification...', 'value':''}] + \\\n",
    "                        [{'divider':True}, {'header':'Local classifications'}] + \\\n",
    "                        [{'text':f.name, 'value':str(f)}  for f in list(look_up_folder)+list(module_classes_folder)]\n",
    "\n",
    "        return classes_files"
   ]
  },
  {
   "cell_type": "code",
   "execution_count": 4,
   "id": "e7883962",
   "metadata": {},
   "outputs": [],
   "source": [
    "class UI(v.Card):\n",
    "    \n",
    "    def __init__(self, *args, **kwargs):\n",
    "        super().__init__(*args, **kwargs)\n",
    "        \n",
    "        self.root_dir=None\n",
    "        self.class_path=None\n",
    "        self.workspace()\n",
    "        \n",
    "        title = v.CardTitle(children=['Reclassify custom assets'])\n",
    "        description = v.CardText(children=['This module will help you to reclassify your current Land Cover / Land Use maps, whether in feature collection format o image (raster)'])\n",
    "        \n",
    "        self.customize_class = CustomizeClass(self.class_path)\n",
    "        self.w_class_file = self.customize_class.w_class_file\n",
    "\n",
    "        tabs_titles = ['Reclassify', 'Customize classification']\n",
    "        tab_content = [\n",
    "            v.Card(children=[\n",
    "                title,\n",
    "                description,\n",
    "                self.w_class_file,\n",
    "            ]),\n",
    "            self.customize_class\n",
    "        ]\n",
    "\n",
    "        self.children=[\n",
    "            Tabs(tabs_titles, tab_content)\n",
    "        ]\n",
    "        \n",
    "        # Events\n",
    "        \n",
    "        # Refresh tables\n",
    "        \n",
    "    \n",
    "    def workspace(self):\n",
    "        \"\"\" Creates the workspace necessary to store the data\n",
    "\n",
    "        return:\n",
    "            returns env paths\n",
    "        \"\"\"\n",
    "\n",
    "        base_dir = Path('~').expanduser()\n",
    "\n",
    "        root_dir = base_dir/'module_results/mgci'\n",
    "        class_path = root_dir/'custom_classifications'\n",
    "\n",
    "        root_dir.mkdir(parents=True, exist_ok=True)\n",
    "        class_path.mkdir(parents=True, exist_ok=True)\n",
    "\n",
    "        self.root_dir = root_dir\n",
    "        self.class_path  = class_path"
   ]
  },
  {
   "cell_type": "code",
   "execution_count": 5,
   "id": "a22edf6a",
   "metadata": {},
   "outputs": [],
   "source": [
    "ui=UI()"
   ]
  },
  {
   "cell_type": "code",
   "execution_count": 6,
   "id": "591666ef",
   "metadata": {},
   "outputs": [
    {
     "data": {
      "application/vnd.jupyter.widget-view+json": {
       "model_id": "e338ee137aac4b79b8cbb8f1c1c3943c",
       "version_major": 2,
       "version_minor": 0
      },
      "text/plain": [
       "UI(children=[Tabs(children=[Tabs(children=[Tab(children=['Reclassify']), Tab(children=['Customize classificati…"
      ]
     },
     "metadata": {},
     "output_type": "display_data"
    }
   ],
   "source": [
    "ui"
   ]
  }
 ],
 "metadata": {
  "kernelspec": {
   "display_name": "Python 3",
   "language": "python",
   "name": "python3"
  },
  "language_info": {
   "codemirror_mode": {
    "name": "ipython",
    "version": 3
   },
   "file_extension": ".py",
   "mimetype": "text/x-python",
   "name": "python",
   "nbconvert_exporter": "python",
   "pygments_lexer": "ipython3",
   "version": "3.6.9"
  }
 },
 "nbformat": 4,
 "nbformat_minor": 5
}
