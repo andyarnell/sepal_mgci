{
 "cells": [
  {
   "cell_type": "code",
   "execution_count": 1,
   "id": "85b73106",
   "metadata": {},
   "outputs": [
    {
     "data": {
      "application/vnd.jupyter.widget-view+json": {
       "model_id": "4d9a8a967f3f4b22aaa79b23b056fb66",
       "version_major": 2,
       "version_minor": 0
      },
      "text/plain": [
       "Styles()"
      ]
     },
     "metadata": {},
     "output_type": "display_data"
    },
    {
     "data": {
      "application/vnd.jupyter.widget-view+json": {
       "model_id": "8f80dffbcf0443468bbcc31ff395be06",
       "version_major": 2,
       "version_minor": 0
      },
      "text/plain": [
       "ResizeTrigger()"
      ]
     },
     "metadata": {},
     "output_type": "display_data"
    }
   ],
   "source": [
    "from component.tile.classes_table import *\n",
    "from component.widget.custom_widgets import *\n",
    "from component.scripts.scripts import *"
   ]
  },
  {
   "cell_type": "code",
   "execution_count": 2,
   "id": "66bba3f5",
   "metadata": {},
   "outputs": [],
   "source": [
    "import os\n",
    "from pathlib import Path"
   ]
  },
  {
   "cell_type": "code",
   "execution_count": 6,
   "id": "d2794589",
   "metadata": {},
   "outputs": [],
   "source": [
    "class CustomizeClass(v.Card):\n",
    "    \n",
    "    def __init__(self, class_path, class_widget, *args, **kwargs):\n",
    "        super().__init__(*args, **kwargs)\n",
    "        \n",
    "        self.class_widget = class_widget\n",
    "        self.class_path = class_path\n",
    "        \n",
    "        structure = {'id':'number', 'code':'number', 'description':'string'}\n",
    "        items_path = class_path.v_model\n",
    "        \n",
    "        self.ct = ClassTable(\n",
    "            structure=structure,\n",
    "            items=items_path,\n",
    "            out_path=self.class_path,\n",
    "            _metadata = {'name':'class_table'}\n",
    "        )\n",
    "        \n",
    "        use_btn = sw.Btn('Use button')\n",
    "        \n",
    "\n",
    "        self.children=[\n",
    "            class_widget,\n",
    "            use_btn\n",
    "        ]\n",
    "        \n",
    "        # Events\n",
    "        \n",
    "        use_btn.on_event('click', get_class_table)\n",
    "        \n",
    "    def get_class_table(self):\n",
    "        \"\"\"Display class table widget in view\"\"\"\n",
    "        \n",
    "        # Remove class table widget if is already in view\n",
    "        remove_widget(self, self.ct, 'class_table')\n",
    "        \n",
    "        \n",
    "        \n",
    "        \n",
    "        \n",
    "    "
   ]
  },
  {
   "cell_type": "code",
   "execution_count": 7,
   "id": "5526ddce",
   "metadata": {},
   "outputs": [],
   "source": [
    "class UI(v.Card):\n",
    "    \n",
    "    def __init__(self, *args, **kwargs):\n",
    "        super().__init__(*args, **kwargs)\n",
    "        \n",
    "        self.root_dir=None\n",
    "        self.class_path=None\n",
    "        self.workspace()\n",
    "        \n",
    "        title = v.CardTitle(children=['Reclassify custom assets'])\n",
    "        description = v.CardText(children=['This module will help you to reclassify your current Land Cover / Land Use maps, whether in feature collection format o image (raster)'])\n",
    "        \n",
    "        self.w_class_file = v.Select(\n",
    "            label='Select a classes file', \n",
    "            items=self.get_classes_files(), \n",
    "            v_model=''\n",
    "        )\n",
    "        \n",
    "        self.customize_class = CustomizeClass(self.class_path, self.w_class_file)\n",
    "\n",
    "        tabs_titles = ['Reclassify', 'Customize classification']\n",
    "        tab_content = [\n",
    "            v.Card(children=[\n",
    "                title,\n",
    "                description,\n",
    "                self.w_class_file,\n",
    "            ]),\n",
    "            self.customize_class\n",
    "        ]\n",
    "\n",
    "        self.children=[\n",
    "            Tabs(tabs_titles, tab_content)\n",
    "        ]\n",
    "        \n",
    "        # Events\n",
    "        \n",
    "        # Refresh tables\n",
    "        self.customize_class.ct.save_dialog.observe(self._refresh_files, 'reload')\n",
    "\n",
    "    def _refresh_files(self, *args):\n",
    "        \"\"\"Trigger event when a new file is created\"\"\"\n",
    "        self.w_class_file.items = self.get_classes_files()\n",
    "        \n",
    "    def get_classes_files(self):\n",
    "        \"\"\"Search for classes inside module path\"\"\"\n",
    "\n",
    "        look_up_folder = Path(self.class_path).glob('*.csv')\n",
    "        module_classes_folder = (Path(os.getcwd())/'component/parameter').glob('*.csv')\n",
    "        classes_files = [{'text':f.name, 'value':str(f)}  for f in list(look_up_folder)+list(module_classes_folder)]\n",
    "\n",
    "        return classes_files\n",
    "    \n",
    "    \n",
    "    def workspace(self):\n",
    "        \"\"\" Creates the workspace necessary to store the data\n",
    "\n",
    "        return:\n",
    "            returns env paths\n",
    "        \"\"\"\n",
    "\n",
    "        base_dir = Path('~').expanduser()\n",
    "\n",
    "        root_dir = base_dir/'module_results/mgci'\n",
    "        class_path = root_dir/'custom_classifications'\n",
    "\n",
    "        root_dir.mkdir(parents=True, exist_ok=True)\n",
    "        class_path.mkdir(parents=True, exist_ok=True)\n",
    "\n",
    "        self.root_dir = root_dir\n",
    "        self.class_path  = class_path"
   ]
  },
  {
   "cell_type": "code",
   "execution_count": 8,
   "id": "69433034",
   "metadata": {},
   "outputs": [],
   "source": [
    "ui=UI()"
   ]
  },
  {
   "cell_type": "code",
   "execution_count": 9,
   "id": "fedbf3da",
   "metadata": {},
   "outputs": [
    {
     "data": {
      "application/vnd.jupyter.widget-view+json": {
       "model_id": "e256e33ed792419bbf937e5d3234ec0b",
       "version_major": 2,
       "version_minor": 0
      },
      "text/plain": [
       "UI(children=[Tabs(children=[Tabs(children=[Tab(children=['Reclassify']), Tab(children=['Customize classificati…"
      ]
     },
     "metadata": {},
     "output_type": "display_data"
    }
   ],
   "source": [
    "ui"
   ]
  },
  {
   "cell_type": "code",
   "execution_count": null,
   "id": "4742b674",
   "metadata": {},
   "outputs": [],
   "source": [
    "ui.lt.reload"
   ]
  },
  {
   "cell_type": "code",
   "execution_count": null,
   "id": "1d6159ae",
   "metadata": {},
   "outputs": [],
   "source": [
    "classes_files"
   ]
  },
  {
   "cell_type": "code",
   "execution_count": null,
   "id": "bd5461a9",
   "metadata": {},
   "outputs": [],
   "source": [
    "class_file = classes_files[0]"
   ]
  },
  {
   "cell_type": "code",
   "execution_count": null,
   "id": "dd3d8ef5",
   "metadata": {},
   "outputs": [],
   "source": []
  },
  {
   "cell_type": "code",
   "execution_count": null,
   "id": "533fea45",
   "metadata": {},
   "outputs": [],
   "source": [
    "class_file"
   ]
  },
  {
   "cell_type": "code",
   "execution_count": null,
   "id": "d34111b6",
   "metadata": {},
   "outputs": [],
   "source": [
    "from ipyleaflet import Map"
   ]
  },
  {
   "cell_type": "code",
   "execution_count": null,
   "id": "e32cdaff",
   "metadata": {},
   "outputs": [],
   "source": [
    "import inspect"
   ]
  },
  {
   "cell_type": "code",
   "execution_count": null,
   "id": "3b16ec90",
   "metadata": {},
   "outputs": [],
   "source": [
    "map_=Map()"
   ]
  },
  {
   "cell_type": "code",
   "execution_count": null,
   "id": "3da997b1",
   "metadata": {},
   "outputs": [],
   "source": [
    "inspect.getfile(map_.on_interaction)"
   ]
  },
  {
   "cell_type": "code",
   "execution_count": null,
   "id": "814a8d7d",
   "metadata": {},
   "outputs": [],
   "source": [
    "from pathlib import Path"
   ]
  },
  {
   "cell_type": "code",
   "execution_count": null,
   "id": "918c5358",
   "metadata": {},
   "outputs": [],
   "source": []
  },
  {
   "cell_type": "code",
   "execution_count": null,
   "id": "9361f5fc",
   "metadata": {},
   "outputs": [],
   "source": [
    "Path.joinpath(Path('asdf'), 'asdf')"
   ]
  }
 ],
 "metadata": {
  "kernelspec": {
   "display_name": "Python 3",
   "language": "python",
   "name": "python3"
  },
  "language_info": {
   "codemirror_mode": {
    "name": "ipython",
    "version": 3
   },
   "file_extension": ".py",
   "mimetype": "text/x-python",
   "name": "python",
   "nbconvert_exporter": "python",
   "pygments_lexer": "ipython3",
   "version": "3.6.9"
  }
 },
 "nbformat": 4,
 "nbformat_minor": 5
}
