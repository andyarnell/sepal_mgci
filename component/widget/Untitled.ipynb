{
 "cells": [
  {
   "cell_type": "code",
   "execution_count": 9,
   "id": "creative-clock",
   "metadata": {},
   "outputs": [],
   "source": [
    "import ipyvuetify as v\n",
    "import ee\n",
    "import sepal_ui.sepalwidgets as sw\n",
    "from sepal_ui.scripts import utils as su\n",
    "\n",
    "su.init_ee()\n",
    "\n",
    "class AssetSelect(v.Combobox, sw.SepalWidget):\n",
    "    \"\"\"\n",
    "    Custom widget input to select an asset inside the asset folder of the user\n",
    "    \n",
    "    Args:\n",
    "        label (str): the label of the input\n",
    "        folder (str): the folder of the user assets\n",
    "        default_asset (str): the id of a default asset\n",
    "        \n",
    "    Attributes:\n",
    "        folder (str): the folder of the user assets\n",
    "    \"\"\"\n",
    "    \n",
    "    def __init__(self, label = 'Select an asset', folder = None, default_asset = None, *args, **kwargs):\n",
    "        \n",
    "        # if folder is not set use the root one \n",
    "        self.folder = folder if folder else ee.data.getAssetRoots()[0]['id'] + '/'\n",
    "        \n",
    "        \n",
    "        self.label = label\n",
    "        self.v_model = default_asset\n",
    "        \n",
    "        self.clearable = True\n",
    "        self.dense = True\n",
    "        self.persistent_hint = True\n",
    "        \n",
    "        self.class_ = 'mb-5'\n",
    "        self.placeholder = 'users/someCustomUser/customAsset'\n",
    "        self.hint = 'select an asset in the list or write a custom asset ' + \\\n",
    "                    'name. Be careful that you need to have access to this asset to use it'\n",
    "        \n",
    "        self.items = self._get_items()\n",
    "        \n",
    "        super().__init__(*args, **kwargs)\n",
    "\n",
    "    def _get_items(self):\n",
    "        \n",
    "        # get the list of user asset\n",
    "        assets = ee.data.listAssets({'parent': self.folder})['assets']\n",
    "        \n",
    "        tables = [e['id'] for e in assets if e['type'] == 'TABLE']\n",
    "        images = [e['id'] for e in assets if e['type'] == 'IMAGE']\n",
    "        \n",
    "        items = [{'divider':True}, {'header':'Tables'}] + \\\n",
    "                tables + \\\n",
    "                [{'divider':True}, {'header':'Rasters'}] + \\\n",
    "                images\n",
    "        \n",
    "        return items"
   ]
  },
  {
   "cell_type": "code",
   "execution_count": 11,
   "id": "perfect-watson",
   "metadata": {},
   "outputs": [
    {
     "data": {
      "application/vnd.jupyter.widget-view+json": {
       "model_id": "0df54be3fbde453da8b2a8d5b930e6ae",
       "version_major": 2,
       "version_minor": 0
      },
      "text/plain": [
       "AssetSelect(class_='mb-5', clearable=True, dense=True, hint='select an asset in the list or write a custom ass…"
      ]
     },
     "metadata": {},
     "output_type": "display_data"
    }
   ],
   "source": [
    "AssetSelect()"
   ]
  },
  {
   "cell_type": "code",
   "execution_count": 2,
   "id": "english-distance",
   "metadata": {},
   "outputs": [],
   "source": [
    "folder = ee.data.getAssetRoots()[0]['id'] + '/'"
   ]
  },
  {
   "cell_type": "code",
   "execution_count": 4,
   "id": "metropolitan-wholesale",
   "metadata": {},
   "outputs": [],
   "source": [
    "assets = ee.data.listAssets({'parent': folder})['assets']"
   ]
  },
  {
   "cell_type": "code",
   "execution_count": 5,
   "id": "ancient-updating",
   "metadata": {},
   "outputs": [
    {
     "data": {
      "text/plain": [
       "[{'type': 'FOLDER',\n",
       "  'name': 'projects/earthengine-legacy/assets/users/dafguerrerom/Agresta',\n",
       "  'id': 'users/dafguerrerom/Agresta'},\n",
       " {'type': 'TABLE',\n",
       "  'name': 'projects/earthengine-legacy/assets/users/dafguerrerom/CE_2020-04-30',\n",
       "  'id': 'users/dafguerrerom/CE_2020-04-30'},\n",
       " {'type': 'IMAGE',\n",
       "  'name': 'projects/earthengine-legacy/assets/users/dafguerrerom/CODED_Results',\n",
       "  'id': 'users/dafguerrerom/CODED_Results'},\n",
       " {'type': 'TABLE',\n",
       "  'name': 'projects/earthengine-legacy/assets/users/dafguerrerom/ComarcaPinares',\n",
       "  'id': 'users/dafguerrerom/ComarcaPinares'},\n",
       " {'type': 'TABLE',\n",
       "  'name': 'projects/earthengine-legacy/assets/users/dafguerrerom/ExtentSHP',\n",
       "  'id': 'users/dafguerrerom/ExtentSHP'},\n",
       " {'type': 'FOLDER',\n",
       "  'name': 'projects/earthengine-legacy/assets/users/dafguerrerom/FAO',\n",
       "  'id': 'users/dafguerrerom/FAO'},\n",
       " {'type': 'FOLDER',\n",
       "  'name': 'projects/earthengine-legacy/assets/users/dafguerrerom/FAO2',\n",
       "  'id': 'users/dafguerrerom/FAO2'},\n",
       " {'type': 'FOLDER',\n",
       "  'name': 'projects/earthengine-legacy/assets/users/dafguerrerom/GEFBolivia',\n",
       "  'id': 'users/dafguerrerom/GEFBolivia'},\n",
       " {'type': 'IMAGE',\n",
       "  'name': 'projects/earthengine-legacy/assets/users/dafguerrerom/GainColombiaFAO',\n",
       "  'id': 'users/dafguerrerom/GainColombiaFAO'},\n",
       " {'type': 'FOLDER',\n",
       "  'name': 'projects/earthengine-legacy/assets/users/dafguerrerom/LT',\n",
       "  'id': 'users/dafguerrerom/LT'},\n",
       " {'type': 'TABLE',\n",
       "  'name': 'projects/earthengine-legacy/assets/users/dafguerrerom/MunicipiosRioja',\n",
       "  'id': 'users/dafguerrerom/MunicipiosRioja'},\n",
       " {'type': 'IMAGE',\n",
       "  'name': 'projects/earthengine-legacy/assets/users/dafguerrerom/Optical_mosaic_2021-03-24_11-38-41',\n",
       "  'id': 'users/dafguerrerom/Optical_mosaic_2021-03-24_11-38-41'},\n",
       " {'type': 'TABLE',\n",
       "  'name': 'projects/earthengine-legacy/assets/users/dafguerrerom/ReducedAreas_107PHU',\n",
       "  'id': 'users/dafguerrerom/ReducedAreas_107PHU'},\n",
       " {'type': 'TABLE',\n",
       "  'name': 'projects/earthengine-legacy/assets/users/dafguerrerom/SAE_data_test',\n",
       "  'id': 'users/dafguerrerom/SAE_data_test'},\n",
       " {'type': 'FOLDER',\n",
       "  'name': 'projects/earthengine-legacy/assets/users/dafguerrerom/TFM',\n",
       "  'id': 'users/dafguerrerom/TFM'},\n",
       " {'type': 'TABLE',\n",
       "  'name': 'projects/earthengine-legacy/assets/users/dafguerrerom/aoi_Manual_2020-07-29_08-58-48',\n",
       "  'id': 'users/dafguerrerom/aoi_Manual_2020-07-29_08-58-48'},\n",
       " {'type': 'TABLE',\n",
       "  'name': 'projects/earthengine-legacy/assets/users/dafguerrerom/aoi_Manual_2021-03-17_14-17-31',\n",
       "  'id': 'users/dafguerrerom/aoi_Manual_2021-03-17_14-17-31'},\n",
       " {'type': 'TABLE',\n",
       "  'name': 'projects/earthengine-legacy/assets/users/dafguerrerom/aoi_Manual_2021-03-22_16-59-11',\n",
       "  'id': 'users/dafguerrerom/aoi_Manual_2021-03-22_16-59-11'},\n",
       " {'type': 'TABLE',\n",
       "  'name': 'projects/earthengine-legacy/assets/users/dafguerrerom/aoi_Manual_2021-03-26_13-18-05',\n",
       "  'id': 'users/dafguerrerom/aoi_Manual_2021-03-26_13-18-05'},\n",
       " {'type': 'TABLE',\n",
       "  'name': 'projects/earthengine-legacy/assets/users/dafguerrerom/aoi_Manual_2021-03-26_13-22-00',\n",
       "  'id': 'users/dafguerrerom/aoi_Manual_2021-03-26_13-22-00'},\n",
       " {'type': 'IMAGE',\n",
       "  'name': 'projects/earthengine-legacy/assets/users/dafguerrerom/close_SMCmap_2014_10_13_dguerrero_1107',\n",
       "  'id': 'users/dafguerrerom/close_SMCmap_2014_10_13_dguerrero_1107'},\n",
       " {'type': 'TABLE',\n",
       "  'name': 'projects/earthengine-legacy/assets/users/dafguerrerom/firms_entire',\n",
       "  'id': 'users/dafguerrerom/firms_entire'},\n",
       " {'type': 'TABLE',\n",
       "  'name': 'projects/earthengine-legacy/assets/users/dafguerrerom/fishnett',\n",
       "  'id': 'users/dafguerrerom/fishnett'},\n",
       " {'type': 'TABLE',\n",
       "  'name': 'projects/earthengine-legacy/assets/users/dafguerrerom/landsat_test_grid',\n",
       "  'id': 'users/dafguerrerom/landsat_test_grid'},\n",
       " {'type': 'TABLE',\n",
       "  'name': 'projects/earthengine-legacy/assets/users/dafguerrerom/sentinel_test_grid',\n",
       "  'id': 'users/dafguerrerom/sentinel_test_grid'}]"
      ]
     },
     "execution_count": 5,
     "metadata": {},
     "output_type": "execute_result"
    }
   ],
   "source": [
    "assets"
   ]
  },
  {
   "cell_type": "code",
   "execution_count": 13,
   "id": "responsible-netscape",
   "metadata": {},
   "outputs": [
    {
     "ename": "AttributeError",
     "evalue": "module 'os' has no attribute '__version__'",
     "output_type": "error",
     "traceback": [
      "\u001b[0;31m---------------------------------------------------------------------------\u001b[0m",
      "\u001b[0;31mAttributeError\u001b[0m                            Traceback (most recent call last)",
      "\u001b[0;32m<ipython-input-13-e66a12e49ddc>\u001b[0m in \u001b[0;36m<module>\u001b[0;34m\u001b[0m\n\u001b[1;32m      1\u001b[0m \u001b[0;32mimport\u001b[0m \u001b[0mos\u001b[0m\u001b[0;34m\u001b[0m\u001b[0;34m\u001b[0m\u001b[0m\n\u001b[0;32m----> 2\u001b[0;31m \u001b[0mos\u001b[0m\u001b[0;34m.\u001b[0m\u001b[0m__version__\u001b[0m\u001b[0;34m\u001b[0m\u001b[0;34m\u001b[0m\u001b[0m\n\u001b[0m",
      "\u001b[0;31mAttributeError\u001b[0m: module 'os' has no attribute '__version__'"
     ]
    }
   ],
   "source": [
    "import os\n",
    "os.__version__"
   ]
  }
 ],
 "metadata": {
  "kernelspec": {
   "display_name": "Python 3",
   "language": "python",
   "name": "python3"
  },
  "language_info": {
   "codemirror_mode": {
    "name": "ipython",
    "version": 3
   },
   "file_extension": ".py",
   "mimetype": "text/x-python",
   "name": "python",
   "nbconvert_exporter": "python",
   "pygments_lexer": "ipython3",
   "version": "3.6.9"
  }
 },
 "nbformat": 4,
 "nbformat_minor": 5
}
