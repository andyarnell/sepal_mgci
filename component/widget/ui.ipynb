{
 "cells": [
  {
   "cell_type": "code",
   "execution_count": null,
   "id": "56218fc7-4759-4d5d-b08e-035de6293231",
   "metadata": {},
   "outputs": [],
   "source": [
    "%load_ext autoreload\n",
    "%autoreload 2"
   ]
  },
  {
   "cell_type": "code",
   "execution_count": null,
   "id": "a84ce131-326f-47c7-9578-1955c463f874",
   "metadata": {},
   "outputs": [],
   "source": [
    "from sub_a import Calculation\n",
    "Calculation()"
   ]
  },
  {
   "cell_type": "code",
   "execution_count": null,
   "id": "c2654b8e-25a0-4091-ad45-6daaa6c0482f",
   "metadata": {},
   "outputs": [],
   "source": []
  },
  {
   "cell_type": "code",
   "execution_count": null,
   "id": "f71a14f4-b0a2-4f00-9e16-d1cdb2902b13",
   "metadata": {},
   "outputs": [],
   "source": []
  },
  {
   "cell_type": "code",
   "execution_count": null,
   "id": "30e70034-a0c9-425e-a905-32386c495977",
   "metadata": {},
   "outputs": [],
   "source": [
    "import ipyvuetify as v\n",
    "import sepal_ui.sepalwidgets as sw\n",
    "from traitlets import Int, Dict"
   ]
  },
  {
   "cell_type": "code",
   "execution_count": null,
   "id": "0d1b5b10-b5ca-4a3a-82fe-a32ccfd8bd3d",
   "metadata": {},
   "outputs": [],
   "source": [
    "class CustomList(sw.List):\n",
    "\n",
    "    counter = Int(1).tag(syc=True)\n",
    "    max_ = Int(4-1).tag(syc=True)\n",
    "    v_model = Dict({}).tag(syc=True)\n",
    "\n",
    "    def __init__(self):\n",
    "\n",
    "        super().__init__()\n",
    "\n",
    "        self.add_btn = v.Icon(children=[\"mdi-plus\"])\n",
    "\n",
    "        self.children = self.get_element(single=True)\n",
    "\n",
    "        self.add_btn.on_event(\"click\", self.add_element)\n",
    "\n",
    "    def remove_element(self, *args, id_):\n",
    "        \"\"\"Removes element from the current list\"\"\"\n",
    "        \n",
    "        self.children = [\n",
    "            chld for chld in self.children if chld not in self.get_children(id_)\n",
    "        ]\n",
    "        \n",
    "        self.v_model.pop(id_, None)\n",
    "        \n",
    "        self.counter -= 1\n",
    "\n",
    "    def add_element(self, *args):\n",
    "        \"\"\"Creates a new element and append to the current list\"\"\"\n",
    "        \n",
    "        if self.counter <= self.max_:\n",
    "            self.counter += 1\n",
    "            self.children = self.children + self.get_element()\n",
    "            \n",
    "    def update_model(self, *args, id_, pos):\n",
    "        \"\"\"update v_model content based on select changes\"\"\"\n",
    "        \n",
    "        if not id_ in self.v_model:\n",
    "            self.v_model[id_] = {}\n",
    "            \n",
    "        self.v_model[id_][pos] = args[-1]\n",
    "        \n",
    "    def get_element(self, single=False):\n",
    "        \n",
    "        id_ = self.counter\n",
    "\n",
    "        sub_btn = v.Icon(children=[\"mdi-minus\"])\n",
    "        sub_btn.on_event(\"click\", lambda *args: self.remove_element(*args, id_=id_))\n",
    "\n",
    "        actions = (\n",
    "            [v.ListItemAction(children=[self.add_btn])]\n",
    "            if single\n",
    "            else [\n",
    "                v.ListItemAction(\n",
    "                    children=[self.add_btn],\n",
    "                ),\n",
    "                v.ListItemAction(\n",
    "                    children=[sub_btn],\n",
    "                ),\n",
    "            ]\n",
    "        )\n",
    "        \n",
    "        w_basep = v.Select(label=\"Baseline period year\", items=list(range(10)))\n",
    "        w_reportp = v.Select(label=\"Reporting period\", items=list(range(10)))\n",
    "        \n",
    "        w_basep.on_event(\"change\", lambda *args: self.update_model(*args, id_=id_, pos=\"base\"))\n",
    "        w_reportp.on_event(\"change\", lambda *args: self.update_model(*args, id_=id_, pos=\"report\"))\n",
    "        \n",
    "        item = [\n",
    "            v.ListItem(\n",
    "                attributes={\"id\": id_},\n",
    "                children=[\n",
    "                    v.ListItemContent(\n",
    "                        children=[w_basep, w_reportp]\n",
    "                    ),\n",
    "                ]\n",
    "                + actions,\n",
    "            ),\n",
    "            v.Divider(attributes={\"id\": id_},)\n",
    "        ]\n",
    "        \n",
    "        return item\n"
   ]
  },
  {
   "cell_type": "code",
   "execution_count": null,
   "id": "a51bd1a5-b9af-4cdc-96a0-892d0afc8014",
   "metadata": {},
   "outputs": [],
   "source": [
    "custom_list = CustomList()\n",
    "custom_list"
   ]
  },
  {
   "cell_type": "code",
   "execution_count": null,
   "id": "d61736b3-d654-42a4-a65a-c9a5476a72c0",
   "metadata": {},
   "outputs": [],
   "source": [
    "custom_list.v_model"
   ]
  },
  {
   "cell_type": "code",
   "execution_count": null,
   "id": "5a9f70db-dd70-472e-bfbd-6117cef11afc",
   "metadata": {},
   "outputs": [],
   "source": []
  }
 ],
 "metadata": {
  "kernelspec": {
   "display_name": "(test) test-sepal_mgci",
   "language": "python",
   "name": "test-sepal_mgci"
  },
  "language_info": {
   "codemirror_mode": {
    "name": "ipython",
    "version": 3
   },
   "file_extension": ".py",
   "mimetype": "text/x-python",
   "name": "python",
   "nbconvert_exporter": "python",
   "pygments_lexer": "ipython3",
   "version": "3.8.10"
  }
 },
 "nbformat": 4,
 "nbformat_minor": 5
}
