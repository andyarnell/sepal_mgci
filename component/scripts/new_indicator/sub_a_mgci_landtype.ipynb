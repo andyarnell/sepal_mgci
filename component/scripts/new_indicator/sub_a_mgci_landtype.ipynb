{
 "cells": [
  {
   "cell_type": "code",
   "execution_count": null,
   "id": "8c00cdf5-47e5-4456-b74c-b5f5d06e4b00",
   "metadata": {},
   "outputs": [],
   "source": [
    "from pathlib import Path\n",
    "import pandas as pd\n",
    "import re\n",
    "from numpy import nan"
   ]
  },
  {
   "cell_type": "code",
   "execution_count": null,
   "id": "27abe8c7-95be-4ee2-8d50-9c0e4bcaa505",
   "metadata": {},
   "outputs": [],
   "source": [
    "iso_table = pd.read_csv(\n",
    "    \"https://raw.githubusercontent.com/sepal-contrib/sepal_mgci/master/component/parameter/m49_countries.csv\",\n",
    "    sep=\";\",\n",
    ")\n",
    "belt_table = pd.read_csv(\"data/sources/5_belts_translation.csv\")\n",
    "mgci_columns = [\n",
    "    \"SeriesID\",\n",
    "    \"SeriesDescription\",\n",
    "    \"GeoAreaCode\",\n",
    "    \"GeoAreaName\",\n",
    "    \"TimePeriod\",\n",
    "    \"Value\",\n",
    "    \"Time_Detail\",\n",
    "    \"Source\",\n",
    "    \"FootNote\",\n",
    "    \"Nature\",\n",
    "    \"Units\",\n",
    "    \"Reporting Type\",\n",
    "    \"Observation Status\",\n",
    "    \"Bioclimatic Belt\",\n",
    "    \"Land Type\",\n",
    "    \"ISOalpha3\",\n",
    "    \"Type\",\n",
    "    \"SeriesCode\",\n",
    "]\n",
    "lcluc_matrix = pd.read_csv(\"data/sources/cci_map_matrix.csv\")\n",
    "lcluc_matrix = lcluc_matrix[[\"target_code\", \"green\"]]\n",
    "lcluc_matrix.drop_duplicates(keep=\"first\", inplace=True)\n",
    "lcluc_matrix = lcluc_matrix.reset_index(drop=True)\n",
    "\n",
    "lcluc_table = pd.read_csv(\"data/sources/cci_map_matrix.csv\")\n",
    "lcluc_table = (\n",
    "    lcluc_table.groupby([\"target_code\", \"target_desc\"])\n",
    "    .sum()\n",
    "    .reset_index()[[\"target_code\", \"target_desc\"]]\n",
    ")"
   ]
  },
  {
   "cell_type": "code",
   "execution_count": null,
   "id": "1a1307fc-8b0b-4d96-b2cf-27f546d00073",
   "metadata": {},
   "outputs": [],
   "source": [
    "def get_belt_desc(row):\n",
    "    \"\"\"return bioclimatic belt description\"\"\"\n",
    "    desc = belt_table[belt_table.code == row[\"belt_class\"]][\"desc\"]\n",
    "\n",
    "    return desc.values[0] if len(desc) else \"Total\"\n",
    "\n",
    "\n",
    "def get_lc_desc(row):\n",
    "    \"\"\"return landcover description\"\"\"\n",
    "    desc = lcluc_table[lcluc_table.target_code == row[\"lc_class\"]][\"target_desc\"]\n",
    "\n",
    "    return desc.values[0] if len(desc) else \"All\""
   ]
  },
  {
   "cell_type": "code",
   "execution_count": null,
   "id": "43259865-0e55-490b-9e7f-57b14489e8c1",
   "metadata": {},
   "outputs": [],
   "source": [
    "def get_mgci_report(df, iso_code):\n",
    "    \"\"\"\n",
    "    Get the MGCI report table for the given iso_code and year\n",
    "\n",
    "    df (DataFrame): grouped dataframe from raw data\n",
    "    iso_code (str): country iso code\n",
    "    \"\"\"\n",
    "\n",
    "    # subset dataframe to the one we are working on\n",
    "    df_ = df[df.iso_code == iso_code].copy(deep=True)\n",
    "    # Check lenght, if zero (0), there are not belts in the country.\n",
    "    if not len(df_):\n",
    "        return pd.DataFrame([[iso_code, None, None, None]])\n",
    "\n",
    "    # \"iso_code\", \"belt_class\", target, \"sum\"\n",
    "    belt_area = (\n",
    "        df_.groupby([\"iso_code\", \"belt_class\"])\n",
    "        .sum()\n",
    "        .reset_index()[[\"iso_code\", \"belt_class\", \"sum\"]]\n",
    "    )\n",
    "    belt_area[\"lc_class\"] = \"All\"\n",
    "\n",
    "    df_ = pd.concat([df_, belt_area])\n",
    "\n",
    "    by_lc = (\n",
    "        df_.groupby([\"iso_code\", \"lc_class\"])\n",
    "        .sum()\n",
    "        .reset_index()[[\"iso_code\", \"lc_class\", \"sum\"]]\n",
    "    )\n",
    "    by_lc[\"belt_class\"] = \"Total\"\n",
    "\n",
    "    return pd.concat([df_, by_lc])"
   ]
  },
  {
   "cell_type": "code",
   "execution_count": null,
   "id": "4cdd83d8-64f6-4291-9f79-8ea66f993c23",
   "metadata": {},
   "outputs": [],
   "source": [
    "i = 0\n",
    "\n",
    "\n",
    "def create_report(df, iso_code, target_year):\n",
    "    global i\n",
    "    i += 1\n",
    "    try:\n",
    "        country_df = get_mgci_report(df, iso_code)\n",
    "        report_df = country_df\n",
    "        report_df[\"SeriesID\"] = i\n",
    "        report_df[\"Value\"] = report_df[\"sum\"]\n",
    "        report_df[\"SeriesDescription\"] = \"Mountain Green Cover Index\"\n",
    "        report_df[\"GeoAreaName\"] = report_df.iso_code\n",
    "        report_df[\"GeoAreaCode\"] = iso_table[\n",
    "            iso_table.iso31661 == report_df.GeoAreaName.unique()[0]\n",
    "        ][\"m49\"].iloc[0]\n",
    "        report_df[\"TimePeriod\"] = target_year\n",
    "        report_df[\"Time_Detail\"] = target_year\n",
    "        report_df[\n",
    "            \"Source\"\n",
    "        ] = \"Food and Agriculture Organisation of United Nations (FAO)\"\n",
    "        report_df[\"FootNote\"] = \"FAO estimate\"\n",
    "        report_df[\"Nature\"] = \"G\"\n",
    "        report_df[\"Units\"] = \"SQKM_PA\"\n",
    "        report_df[\"Reporting Type\"] = \"G\"\n",
    "        report_df[\"Observation Status\"] = \"A\"\n",
    "        report_df[\"Bioclimatic Belt\"] = report_df.apply(get_belt_desc, axis=1)\n",
    "        report_df[\"ISOalpha3\"] = nan\n",
    "        report_df[\"Land Type\"] = report_df.apply(get_lc_desc, axis=1)\n",
    "        report_df[\"Type\"] = \"Region\"\n",
    "        report_df[\"SeriesCode\"] = \"ER_MTN_GRNCVI\"\n",
    "        return report_df\n",
    "\n",
    "    except Exception as e:\n",
    "        print(iso_code)\n",
    "        raise e"
   ]
  },
  {
   "cell_type": "markdown",
   "id": "ea0aa2de-e148-4c19-b74d-b38f9d1eeb02",
   "metadata": {},
   "source": [
    "## Loop over years"
   ]
  },
  {
   "cell_type": "code",
   "execution_count": null,
   "id": "2178e18a-4de3-4d91-bd06-b57e0369e7d8",
   "metadata": {},
   "outputs": [],
   "source": [
    "class Progress:\n",
    "    def __init__(self):\n",
    "        self.processed_years = []"
   ]
  },
  {
   "cell_type": "code",
   "execution_count": null,
   "id": "04caf453-cc5a-4229-a4d1-a0d35780ff32",
   "metadata": {},
   "outputs": [],
   "source": [
    "def report_by_dataset(csv_path):\n",
    "    \"\"\"Create and save the subindicator for each of the dates in the given csv path\n",
    "\n",
    "    csv_path: Has to be created using the reduce_results notebook. It has the formatted data.\n",
    "\n",
    "    \"\"\"\n",
    "\n",
    "    raw_df = pd.read_csv(csv_path)\n",
    "\n",
    "    # Extract years from the CSV file\n",
    "    years = [\n",
    "        int(x) for x in re.search(r\"\\d{4}_\\d{4}\", str(csv_path)).group().split(\"_\")\n",
    "    ]\n",
    "\n",
    "    def report_date(year):\n",
    "\n",
    "        target_year = year\n",
    "\n",
    "        target = \"from_class\" if years.index(target_year) == 0 else \"to_class\"\n",
    "        print(f\"Processing {target_year}, {target} for {csv_path}\")\n",
    "\n",
    "        df = (\n",
    "            raw_df.groupby(\n",
    "                by=[\n",
    "                    \"iso_code\",\n",
    "                    \"belt_class\",\n",
    "                    target,\n",
    "                ]\n",
    "            )\n",
    "            .sum()\n",
    "            .reset_index()\n",
    "        )\n",
    "        df = df[[\"iso_code\", \"belt_class\", target, \"sum\"]]\n",
    "        df.rename(columns={target: \"lc_class\"}, inplace=True)\n",
    "\n",
    "        countries_df = [\n",
    "            create_report(df, iso_code, target_year)\n",
    "            for iso_code in df.iso_code.unique()\n",
    "        ]\n",
    "\n",
    "        final = pd.concat(countries_df)[mgci_columns]\n",
    "        return final\n",
    "\n",
    "    # To this for the two years\n",
    "    return pd.concat([report_date(year) for year in years])"
   ]
  },
  {
   "cell_type": "code",
   "execution_count": null,
   "id": "e3031372-8ccc-4607-93b7-c5792da778e4",
   "metadata": {},
   "outputs": [],
   "source": [
    "# # Test with one country\n",
    "# raw_df = pd.read_csv(\"data/global_group_1_2_3/global_grouped_data_2015_2018.csv\")\n",
    "# df = raw_df.groupby(by=[\"iso_code\", \"belt_class\", \"from_class\", ]).sum().reset_index()[[\"iso_code\", \"belt_class\", \"from_class\", \"sum\"]]\n",
    "# df.rename(columns={\"from_class\":\"lc_class\"}, inplace=True)\n",
    "\n",
    "# create_report(df, \"COL\", 2020)"
   ]
  },
  {
   "cell_type": "code",
   "execution_count": null,
   "id": "4dc9b4ef-3fda-4562-a700-9e60b62af45f",
   "metadata": {},
   "outputs": [],
   "source": [
    "# Now let's do this for each of the datasets"
   ]
  },
  {
   "cell_type": "code",
   "execution_count": null,
   "id": "e5f7f791-32f0-4111-a025-9fe91618304d",
   "metadata": {},
   "outputs": [],
   "source": [
    "progress = Progress()\n",
    "reports_by_year = [\n",
    "    report_by_dataset(csv_path)\n",
    "    for csv_path in Path(\"data/global_group_1_2_3\").glob(\"global*.csv\")\n",
    "]"
   ]
  },
  {
   "cell_type": "code",
   "execution_count": null,
   "id": "21720e3b-4a62-4b40-9714-28bb104b8e84",
   "metadata": {},
   "outputs": [],
   "source": [
    "reports_by_year_df = pd.concat(reports_by_year)\n",
    "reports_by_year_df = reports_by_year_df.sort_values(\n",
    "    [\"GeoAreaName\", \"TimePeriod\", \"Bioclimatic Belt\"]\n",
    ")"
   ]
  },
  {
   "cell_type": "code",
   "execution_count": null,
   "id": "80741789-d99b-4c07-8397-17e80755a9b7",
   "metadata": {},
   "outputs": [],
   "source": [
    "out_path = Path(\"data/reporting/subA_landtype/\")\n",
    "out_path.mkdir(exist_ok=True, parents=True)\n",
    "reports_by_year_df.to_csv(out_path / f\"SubIndA_LandType.csv\")"
   ]
  },
  {
   "cell_type": "code",
   "execution_count": null,
   "id": "2efd60e8-2199-4ffd-9c98-2dadb02deeba",
   "metadata": {},
   "outputs": [],
   "source": [
    "path = Path(\"data/reporting/subA_landtype/\")\n",
    "pd.concat([pd.read_csv(csv) for csv in path.glob(\"[!.]*.csv\")]).to_csv(\n",
    "    path / \"SubIndA_LandType.csv\"\n",
    ")"
   ]
  },
  {
   "cell_type": "markdown",
   "id": "cc8e128a-1c09-451d-8bfc-13d5acdb9929",
   "metadata": {
    "tags": []
   },
   "source": [
    "## Test with a single country\n"
   ]
  },
  {
   "cell_type": "code",
   "execution_count": null,
   "id": "a86dc1e5-6e7c-4332-b414-4c5d39109c92",
   "metadata": {},
   "outputs": [],
   "source": [
    "csv_path = Path(\"data/global_group_1_2_3/global_grouped_data_2000_2015.csv\")\n",
    "\n",
    "raw_df = pd.read_csv(csv_path)\n",
    "\n",
    "# Extract years from the CSV file\n",
    "years = [int(x) for x in re.search(r\"\\d{4}_\\d{4}\", str(csv_path)).group().split(\"_\")]\n",
    "\n",
    "target_year = 2000\n",
    "\n",
    "target = \"from_class\" if years.index(target_year) == 0 else \"to_class\"\n",
    "\n",
    "df = (\n",
    "    raw_df.groupby(\n",
    "        by=[\n",
    "            \"iso_code\",\n",
    "            \"belt_class\",\n",
    "            target,\n",
    "        ]\n",
    "    )\n",
    "    .sum()\n",
    "    .reset_index()\n",
    ")\n",
    "df = df[[\"iso_code\", \"belt_class\", target, \"sum\"]]\n",
    "df.rename(columns={target: \"lc_class\"}, inplace=True)"
   ]
  },
  {
   "cell_type": "code",
   "execution_count": null,
   "id": "c573cf9a-26d5-41aa-9d73-98748ce9e250",
   "metadata": {},
   "outputs": [],
   "source": [
    "test_df = get_mgci_report(df, \"AFG\")"
   ]
  },
  {
   "cell_type": "code",
   "execution_count": null,
   "id": "7d7106ed-3d32-49c2-bc8f-6f63f2a47f6b",
   "metadata": {},
   "outputs": [],
   "source": [
    "test_df"
   ]
  },
  {
   "cell_type": "code",
   "execution_count": null,
   "id": "45570a45-7788-4c4c-a60e-c4c4ae01a253",
   "metadata": {},
   "outputs": [],
   "source": [
    "by_lc = (\n",
    "    test_df.groupby([\"iso_code\", \"lc_class\"])\n",
    "    .sum()\n",
    "    .reset_index()[[\"iso_code\", \"lc_class\", \"sum\"]]\n",
    ")\n",
    "by_lc[\"belt_class\"] = \"Total\"\n",
    "by_lc"
   ]
  },
  {
   "cell_type": "code",
   "execution_count": null,
   "id": "31b5fe99-51a4-408b-b684-2a955d97428d",
   "metadata": {},
   "outputs": [],
   "source": [
    "pd.concat([test_df, by_lc])"
   ]
  }
 ],
 "metadata": {
  "kernelspec": {
   "display_name": "Python 3",
   "language": "python",
   "name": "python3"
  },
  "language_info": {
   "codemirror_mode": {
    "name": "ipython",
    "version": 3
   },
   "file_extension": ".py",
   "mimetype": "text/x-python",
   "name": "python",
   "nbconvert_exporter": "python",
   "pygments_lexer": "ipython3",
   "version": "3.8.10"
  }
 },
 "nbformat": 4,
 "nbformat_minor": 5
}
