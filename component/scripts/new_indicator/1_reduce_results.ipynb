{
 "cells": [
  {
   "cell_type": "markdown",
   "id": "fa680232-10db-404a-9e53-06b2cf996b4a",
   "metadata": {},
   "source": [
    "## Intro\n",
    "\n",
    "This notebook presents the workflow to retrieve land cover transitions between two dates from GEE. \n",
    "\n",
    "- It requires three datasets: landcover, mountains (bioclimatic ranges) and a countries dataset\n",
    "    - Mountains https://code.earthengine.google.com/5e3188ca6b263bce592ce39778f1298e\n",
    "- The input paraemeters are the desired dates, landcover transition matrix and ESA CCI translation matrix."
   ]
  },
  {
   "cell_type": "code",
   "execution_count": null,
   "id": "ba26cdb6-ba72-4e8f-a03f-84a91eab54a4",
   "metadata": {},
   "outputs": [],
   "source": [
    "import ee\n",
    "import pandas as pd\n",
    "from functools import partial\n",
    "import sepal_ui.aoi as aoi"
   ]
  },
  {
   "cell_type": "code",
   "execution_count": null,
   "id": "b6f8e499-df37-4adf-bfda-4d0c448e14dd",
   "metadata": {},
   "outputs": [],
   "source": [
    "aoi_tile = aoi.AoiTile()"
   ]
  },
  {
   "cell_type": "code",
   "execution_count": null,
   "id": "ec616792-bdcf-48d3-a6bc-34657ce9d935",
   "metadata": {},
   "outputs": [],
   "source": [
    "aoi_tile"
   ]
  },
  {
   "cell_type": "code",
   "execution_count": null,
   "id": "5b4d7e51-b3d3-4acb-9c01-4ee1f8b793d5",
   "metadata": {},
   "outputs": [],
   "source": [
    "ee.Initialize()"
   ]
  },
  {
   "cell_type": "code",
   "execution_count": null,
   "id": "57e99e0f-5bdf-4a06-ab2c-23bd39800081",
   "metadata": {},
   "outputs": [],
   "source": [
    "landcover = ee.ImageCollection(\"users/amitghosh/sdg_module/esa/cci_landcover\")\n",
    "mountains = ee.Image(\"users/xavidelamo/SDG1542_Mntn_BioclimaticBelts\")\n",
    "countries = ee.FeatureCollection(\"projects/ee-xavidelamo/assets/M49_Countries\");"
   ]
  },
  {
   "cell_type": "code",
   "execution_count": null,
   "id": "bce35914-688c-4640-a1df-e0688cabc50f",
   "metadata": {},
   "outputs": [],
   "source": [
    "start_year = 2005\n",
    "end_year = 2010"
   ]
  },
  {
   "cell_type": "code",
   "execution_count": null,
   "id": "541ee740-77c5-4bf9-a1ad-28033b2a7cfc",
   "metadata": {},
   "outputs": [],
   "source": [
    "from_, target = (\n",
    "    pd.read_csv(\"data/cci_map_matrix.csv\")[[\"from_code\", \"target_code\"]]\n",
    "    .transpose()\n",
    "    .values.tolist()\n",
    ")"
   ]
  },
  {
   "cell_type": "code",
   "execution_count": null,
   "id": "d247071d-dcfa-4c17-a709-84ab57cb55f4",
   "metadata": {},
   "outputs": [],
   "source": [
    "lc_f_class = [f\"lc_f{c}\" for c in range(1, 10 + 1)]"
   ]
  },
  {
   "cell_type": "code",
   "execution_count": null,
   "id": "653463c9-e6f1-4f61-bdac-46000a2c92c0",
   "metadata": {},
   "outputs": [],
   "source": [
    "def export_map(image, name, aoi, folder=\"RSA\"):\n",
    "    \"\"\"Export images\"\"\"\n",
    "\n",
    "    if not isinstance(image, ee.Image):\n",
    "        raise Exception(\"The source has to be an image\")\n",
    "\n",
    "    test_task = ee.batch.Export.image.toDrive(\n",
    "        **{\n",
    "            \"region\": aoi.geometry(),\n",
    "            \"image\": image,\n",
    "            \"folder\": \"RSA\",\n",
    "            \"description\": name,\n",
    "        }\n",
    "    )\n",
    "\n",
    "    test_task.start()"
   ]
  },
  {
   "cell_type": "code",
   "execution_count": null,
   "id": "1d81f8e1-f51b-4dcd-9664-4b1db90614f4",
   "metadata": {},
   "outputs": [],
   "source": [
    "def reduce_regions(iso_country, map_=False):\n",
    "    \"\"\"Reduce regions by bioclimatic belt, lcyear1 and lcyear2\n",
    "\n",
    "    iso_country  (str, FeatureCollection): If str, it will be the isocode, otherwise,\n",
    "        it will be a feature collection use to clip with.\n",
    "\n",
    "    map_ (bool, optional): Whether we are calling this function from a ee.map function or not\n",
    "\n",
    "    \"\"\"\n",
    "\n",
    "    aoi = (\n",
    "        countries.filter(ee.Filter.eq(\"ISOCode\", iso_country)) if map_ else iso_country\n",
    "    )\n",
    "\n",
    "    clip_mountains = mountains.clip(aoi)\n",
    "\n",
    "    landcover_start = (\n",
    "        landcover.filter(ee.Filter.calendarRange(start_year, start_year, \"year\"))\n",
    "        .first()\n",
    "        .clip(aoi)\n",
    "        .remap(from_, target)\n",
    "    )\n",
    "\n",
    "    landcover_end = (\n",
    "        landcover.filter(ee.Filter.calendarRange(end_year, end_year, \"year\"))\n",
    "        .first()\n",
    "        .clip(aoi)\n",
    "        .remap(from_, target)\n",
    "    )\n",
    "\n",
    "    scale = (\n",
    "        landcover_start.projection()\n",
    "        .nominalScale()\n",
    "        .min(clip_mountains.projection().nominalScale())\n",
    "    )\n",
    "\n",
    "    zonal_change = (\n",
    "        ee.Image.pixelArea()\n",
    "        .divide(1e6)\n",
    "        .updateMask(clip_mountains.mask())\n",
    "        .addBands(landcover_end)\n",
    "        .addBands(landcover_start)\n",
    "        .addBands(clip_mountains)\n",
    "        .reduceRegion(\n",
    "            **{\n",
    "                \"scale\": scale,\n",
    "                \"reducer\": ee.Reducer.sum().group(1).group(2).group(3),\n",
    "                \"geometry\": aoi,\n",
    "                \"maxPixels\": 1e19,\n",
    "                \"bestEffort\": True,\n",
    "                # \"tileScale\": 4,\n",
    "            }\n",
    "        )\n",
    "    )\n",
    "\n",
    "    return (\n",
    "        [\n",
    "            clip_mountains,\n",
    "            landcover_start,\n",
    "            landcover_end,\n",
    "            ee.List([iso_country if iso_country else \"Test\", zonal_change]),\n",
    "        ]\n",
    "        if not map_\n",
    "        else ee.List([iso_country, zonal_change])\n",
    "    )"
   ]
  },
  {
   "cell_type": "markdown",
   "id": "b496c096-cc75-4d0a-a891-de8bcb66bb8a",
   "metadata": {},
   "source": [
    "## Loop over all countries"
   ]
  },
  {
   "cell_type": "code",
   "execution_count": null,
   "id": "88e3881c-a85e-49da-9f46-70260abeeaaa",
   "metadata": {},
   "outputs": [],
   "source": [
    "result = countries.aggregate_array(\"ISOCode\").map(partial(reduce_regions, map_=True))\n",
    "\n",
    "all_areas = ee.FeatureCollection(ee.Feature(None, {\"results\": result}))\n",
    "\n",
    "task = ee.batch.Export.table.toDrive(\n",
    "    **{\n",
    "        \"collection\": all_areas,\n",
    "        \"description\": f\"grouped_data_{start_year}_{end_year}\",\n",
    "        \"fileFormat\": \"CSV\",\n",
    "    }\n",
    ")"
   ]
  },
  {
   "cell_type": "code",
   "execution_count": null,
   "id": "982b5edf-56bf-482e-be1c-de13896bbd0e",
   "metadata": {},
   "outputs": [],
   "source": [
    "task.start()"
   ]
  },
  {
   "cell_type": "markdown",
   "id": "213f4c81-8a85-4b9a-9a25-4a81605a13ea",
   "metadata": {},
   "source": [
    "## Use test data with only one feature collection"
   ]
  },
  {
   "cell_type": "code",
   "execution_count": null,
   "id": "0f07a678-d9c0-4db7-a58a-f2e7396d9245",
   "metadata": {
    "tags": []
   },
   "outputs": [],
   "source": [
    "# Use test\n",
    "test_aoi = aoi_tile.view.model.feature_collection\n",
    "test_result = reduce_regions(test_aoi)\n",
    "test_area = ee.FeatureCollection(ee.Feature(None, {\"results\": test_result[3]}))\n",
    "test_task = ee.batch.Export.table.toDrive(\n",
    "    **{\n",
    "        \"folder\": \"RSA\",\n",
    "        \"collection\": test_area,\n",
    "        \"description\": \"test_grouped_2000_2015_in_mountain3\",\n",
    "        \"fileFormat\": \"CSV\",\n",
    "    }\n",
    ")\n",
    "# test_task.start()\n",
    "\n",
    "# Also export layers\n",
    "\n",
    "export_map(test_result[0], \"test_mountains\", test_aoi)\n",
    "export_map(test_result[1], \"test_lcstart\", test_aoi)\n",
    "export_map(test_result[2], \"test_lcend\", test_aoi)"
   ]
  },
  {
   "cell_type": "markdown",
   "id": "2da97739-7a47-49f3-88c6-3034c77264b9",
   "metadata": {
    "tags": []
   },
   "source": [
    "# Read results\n",
    "\n",
    "The following worflow will read the GEE output and will un-nest the data for each country, bioclimatic belt, and land cover change classes."
   ]
  },
  {
   "cell_type": "code",
   "execution_count": null,
   "id": "6e05c065-da6e-4769-9ffc-35585c81e816",
   "metadata": {},
   "outputs": [],
   "source": [
    "import pandas as pd\n",
    "import re"
   ]
  },
  {
   "cell_type": "code",
   "execution_count": null,
   "id": "078a67bb-0e27-4502-b8f2-5874e8921fa7",
   "metadata": {},
   "outputs": [],
   "source": [
    "df = pd.read_csv(\"data/global_group_1_2_3/grouped_data_2015_2018.csv\")\n",
    "df;"
   ]
  },
  {
   "cell_type": "code",
   "execution_count": null,
   "id": "f3ed5990-ac3e-4f15-a9e5-e32dc62ca3f4",
   "metadata": {},
   "outputs": [],
   "source": [
    "line = (\n",
    "    re.sub(r\"([a-zA-Z]+)\", r\"'\\1'\", df.results.loc[0])\n",
    "    .replace(\"=\", \":\")\n",
    "    .replace(\"'E'\", \"E\")\n",
    "    .replace(\"<'FeatureCollection'>,\", \"\")\n",
    ")\n",
    "area = eval(line)"
   ]
  },
  {
   "cell_type": "code",
   "execution_count": null,
   "id": "8b2df7ae-8c82-4dae-924b-d6b5df7518dd",
   "metadata": {},
   "outputs": [],
   "source": [
    "df = pd.DataFrame(area, columns=[\"iso_code\", \"groups\"])\n",
    "# df = df[df.iso_code.isin([\"COL\", \"ARG\"])].reset_index(drop=True).reset_index() # Test with a small df\n",
    "df = df.reset_index()\n",
    "df.rename(columns={\"index\": \"iso_index\"}, inplace=True)\n",
    "df;"
   ]
  },
  {
   "cell_type": "code",
   "execution_count": null,
   "id": "d4d6cc6f-22f5-4d74-8170-2633c09bcf45",
   "metadata": {},
   "outputs": [],
   "source": [
    "base_df = pd.json_normalize(df[\"groups\"])\n",
    "base_df = pd.json_normalize(base_df[\"groups\"]).reset_index()\n",
    "base_df.rename(columns={\"index\": \"iso_index\"}, inplace=True)\n",
    "base_df;"
   ]
  },
  {
   "cell_type": "code",
   "execution_count": null,
   "id": "fe4bdd12-caaa-4fa6-8250-250cb4be1711",
   "metadata": {},
   "outputs": [],
   "source": [
    "belts_df_melted = (\n",
    "    pd.melt(base_df, id_vars=[\"iso_index\"])\n",
    "    .reset_index()[[\"iso_index\", \"value\"]]\n",
    "    .reset_index()\n",
    ")\n",
    "belts_df_melted.rename(columns={\"index\": \"belt_index\"}, inplace=True)\n",
    "belts_df_melted;"
   ]
  },
  {
   "cell_type": "code",
   "execution_count": null,
   "id": "3810097b-d197-4660-9929-675c67d1d8b2",
   "metadata": {},
   "outputs": [],
   "source": [
    "belt_df = pd.json_normalize(belts_df_melted[\"value\"]).reset_index()\n",
    "belt_df.rename(columns={\"index\": \"belt_index\", \"group\": \"belt_class\"}, inplace=True)\n",
    "belt_df;"
   ]
  },
  {
   "cell_type": "code",
   "execution_count": null,
   "id": "8edc5c67-5d8e-4a13-ade9-29a75f467304",
   "metadata": {},
   "outputs": [],
   "source": [
    "from_df = pd.json_normalize(belt_df[\"groups\"]).reset_index()\n",
    "from_df.rename(columns={\"index\": \"belt_index\"}, inplace=True)\n",
    "from_df_melted = pd.melt(from_df, id_vars=[\"belt_index\"]).reset_index()[\n",
    "    [\"index\", \"belt_index\", \"value\"]\n",
    "]\n",
    "from_df_melted.rename(columns={\"index\": \"from_index\"}, inplace=True)\n",
    "from_df_melted;"
   ]
  },
  {
   "cell_type": "code",
   "execution_count": null,
   "id": "c8c3ffe8-8f8c-4163-a85e-d8199d6dd390",
   "metadata": {},
   "outputs": [],
   "source": [
    "from_df = pd.json_normalize(from_df_melted[\"value\"]).reset_index()\n",
    "from_df.rename(columns={\"index\": \"from_index\", \"group\": \"from_class\"}, inplace=True)\n",
    "from_df;"
   ]
  },
  {
   "cell_type": "code",
   "execution_count": null,
   "id": "8228753d-8309-486d-b88f-e791816ff7f6",
   "metadata": {},
   "outputs": [],
   "source": [
    "to_df = pd.json_normalize(from_df[\"groups\"]).reset_index()\n",
    "to_df.rename(columns={\"index\": \"from_index\"}, inplace=True)\n",
    "to_df_melted = pd.melt(to_df, id_vars=[\"from_index\"]).reset_index()[\n",
    "    [\"index\", \"from_index\", \"value\"]\n",
    "]\n",
    "to_df_melted.rename(columns={\"index\": \"to_index\"}, inplace=True)\n",
    "to_df_melted;"
   ]
  },
  {
   "cell_type": "code",
   "execution_count": null,
   "id": "46a3f4ae-396c-45e5-bc50-b0fd91a069c5",
   "metadata": {},
   "outputs": [],
   "source": [
    "to_df = pd.json_normalize(to_df_melted[\"value\"]).reset_index()\n",
    "to_df.rename(columns={\"index\": \"to_index\", \"group\": \"to_class\"}, inplace=True)\n",
    "to_df;"
   ]
  },
  {
   "cell_type": "markdown",
   "id": "f9f4db2c-306b-42e0-9bb4-b9a43ba92c49",
   "metadata": {
    "tags": []
   },
   "source": [
    "# Merge all the dataframes\n",
    "Go back and merge every dataframe with their indexes."
   ]
  },
  {
   "cell_type": "code",
   "execution_count": null,
   "id": "43de4852-6e53-4219-870f-25592654b1bc",
   "metadata": {},
   "outputs": [],
   "source": [
    "merge_to_df = pd.merge(\n",
    "    to_df_melted[[\"to_index\", \"from_index\"]],\n",
    "    to_df,\n",
    "    left_on=\"to_index\",\n",
    "    right_on=\"to_index\",\n",
    ")\n",
    "merge_to_df;"
   ]
  },
  {
   "cell_type": "code",
   "execution_count": null,
   "id": "f0bef94d-6e4b-4e9f-ac43-ae2516afe5b9",
   "metadata": {},
   "outputs": [],
   "source": [
    "merge_from_df = pd.merge(\n",
    "    from_df[[\"from_index\", \"from_class\"]],\n",
    "    merge_to_df,\n",
    "    left_on=\"from_index\",\n",
    "    right_on=\"from_index\",\n",
    ")\n",
    "merge_from_df = pd.merge(\n",
    "    from_df_melted[[\"from_index\", \"belt_index\"]],\n",
    "    merge_from_df,\n",
    "    left_on=\"from_index\",\n",
    "    right_on=\"from_index\",\n",
    ")\n",
    "merge_from_df;"
   ]
  },
  {
   "cell_type": "code",
   "execution_count": null,
   "id": "6c6c85a4-8334-4552-bc4e-06cd67c72b36",
   "metadata": {},
   "outputs": [],
   "source": [
    "merge_belt_df = pd.merge(\n",
    "    belt_df[[\"belt_index\", \"belt_class\"]],\n",
    "    merge_from_df,\n",
    "    left_on=\"belt_index\",\n",
    "    right_on=\"belt_index\",\n",
    ")\n",
    "merge_belt_df = pd.merge(\n",
    "    belts_df_melted[[\"belt_index\", \"iso_index\"]],\n",
    "    merge_belt_df,\n",
    "    left_on=\"belt_index\",\n",
    "    right_on=\"belt_index\",\n",
    ")\n",
    "merge_belt_df;"
   ]
  },
  {
   "cell_type": "code",
   "execution_count": null,
   "id": "8e2bf05a-365b-4b80-8cba-267f48ed5b9d",
   "metadata": {},
   "outputs": [],
   "source": [
    "merged_df = pd.merge(\n",
    "    df[[\"iso_index\", \"iso_code\"]],\n",
    "    merge_belt_df,\n",
    "    left_on=\"iso_index\",\n",
    "    right_on=\"iso_index\",\n",
    ")\n",
    "merged_df;"
   ]
  },
  {
   "cell_type": "code",
   "execution_count": null,
   "id": "ccfe6756-b935-4234-835b-0026b834928e",
   "metadata": {},
   "outputs": [],
   "source": [
    "merged_df.to_csv(\"data/global_group_1_2_3/global_grouped_data_2015_2018.csv\")"
   ]
  }
 ],
 "metadata": {
  "kernelspec": {
   "display_name": "Python 3",
   "language": "python",
   "name": "python3"
  },
  "language_info": {
   "codemirror_mode": {
    "name": "ipython",
    "version": 3
   },
   "file_extension": ".py",
   "mimetype": "text/x-python",
   "name": "python",
   "nbconvert_exporter": "python",
   "pygments_lexer": "ipython3",
   "version": "3.8.10"
  }
 },
 "nbformat": 4,
 "nbformat_minor": 5
}
