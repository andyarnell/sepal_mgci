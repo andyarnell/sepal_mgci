{
 "cells": [
  {
   "cell_type": "markdown",
   "id": "df4cdef9-b4fc-4916-83d2-905badc304ba",
   "metadata": {},
   "source": [
    "## Create global bioclimatic belts area\n",
    "\n",
    "This notebook will use the "
   ]
  },
  {
   "cell_type": "code",
   "execution_count": null,
   "id": "41411c71-8827-4333-8a3a-d44beac04d35",
   "metadata": {},
   "outputs": [],
   "source": [
    "import pandas as pd\n",
    "import re"
   ]
  },
  {
   "cell_type": "code",
   "execution_count": null,
   "id": "bcbe9569-160c-4cff-aba9-98ec62782879",
   "metadata": {},
   "outputs": [],
   "source": [
    "df = pd.read_csv(\"data/all_countries_areas_list.csv\")"
   ]
  },
  {
   "cell_type": "code",
   "execution_count": null,
   "id": "ca355849-b0d3-4e56-bd3a-f9fe7f2fe7c3",
   "metadata": {},
   "outputs": [],
   "source": [
    "import re\n",
    "\n",
    "line = re.sub(r\"([a-zA-Z]+)\", r\"'\\1'\", df.results.loc[0]).replace(\"=\", \":\")\n",
    "area = eval(line)"
   ]
  },
  {
   "cell_type": "code",
   "execution_count": null,
   "id": "c95ba2ea-098f-4db3-bd08-78437a57ff3a",
   "metadata": {},
   "outputs": [],
   "source": [
    "df = pd.DataFrame(area, columns=[\"ISOCode\", \"RSA\", \"PLAN\"])\n",
    "df = df.reset_index()"
   ]
  },
  {
   "cell_type": "code",
   "execution_count": null,
   "id": "8c046f45-68d3-496d-bb7a-be11831d1e18",
   "metadata": {},
   "outputs": [],
   "source": [
    "df[df.index == 57]"
   ]
  },
  {
   "cell_type": "code",
   "execution_count": null,
   "id": "951977e3-3a75-4371-a5eb-4a0899960524",
   "metadata": {},
   "outputs": [],
   "source": [
    "def normalize_dict_columns(df, column):\n",
    "    \"\"\"Extract column values\"\"\"\n",
    "\n",
    "    # Extract groups from RSA column\n",
    "    df1 = pd.json_normalize(df[column])\n",
    "\n",
    "    # Extract group from groups and keep country index\n",
    "    df2 = pd.json_normalize(df1[\"groups\"]).reset_index()\n",
    "\n",
    "    # Melt columns into rows in the group:[0,1,2,3], and keep groups index\n",
    "    melted = pd.melt(df2, id_vars=[\"index\"], value_vars=[0, 1, 2, 3]).reset_index()\n",
    "\n",
    "    # Extract sum and group from value and keep the index\n",
    "    normalized = pd.json_normalize(melted[\"value\"]).reset_index()\n",
    "\n",
    "    # Merge melted dataframe with \"group\" and \"sum\" df values\n",
    "    result = pd.merge(melted, normalized, left_on=\"level_0\", right_on=\"index\")\n",
    "    display(result.head(11))\n",
    "    return result[[\"index_x\", \"variable\", \"group\", \"sum\"]]"
   ]
  },
  {
   "cell_type": "code",
   "execution_count": null,
   "id": "ae3ad563-79e2-459c-9c8c-6202bc012b49",
   "metadata": {},
   "outputs": [],
   "source": [
    "plan_area_df = normalize_dict_columns(df, \"PLAN\")\n",
    "rsa_df = normalize_dict_columns(df, \"RSA\")"
   ]
  },
  {
   "cell_type": "code",
   "execution_count": null,
   "id": "23711f15-e31e-4d1f-92ef-702548c875c2",
   "metadata": {},
   "outputs": [],
   "source": [
    "rsa_df.columns = [\"contry_index\", \"variable\", \"group_rsa\", \"sum_rsa\"]\n",
    "plan_area_df.columns = [\"contry_index\", \"variable\", \"group_plan\", \"sum_plan\"]"
   ]
  },
  {
   "cell_type": "code",
   "execution_count": null,
   "id": "25979c22-f617-47eb-ab1e-33f6370fcbe2",
   "metadata": {},
   "outputs": [],
   "source": [
    "plan_area_df"
   ]
  },
  {
   "cell_type": "code",
   "execution_count": null,
   "id": "c9a217b0-dae2-4193-b3d4-b9f430ac9a1c",
   "metadata": {},
   "outputs": [],
   "source": [
    "rsa_df"
   ]
  },
  {
   "cell_type": "code",
   "execution_count": null,
   "id": "f6c850a7-c863-4a20-a5b3-0e9b8b4a5b7f",
   "metadata": {},
   "outputs": [],
   "source": [
    "# Take care, is merged with index\n",
    "area_df = pd.merge(rsa_df, plan_area_df)\n",
    "area_df"
   ]
  },
  {
   "cell_type": "code",
   "execution_count": null,
   "id": "30e20383-aa8f-43c4-8e88-3f6c0c2abe2e",
   "metadata": {},
   "outputs": [],
   "source": [
    "final_result = pd.merge(df, area_df, left_on=\"index\", right_on=\"contry_index\")\n",
    "final_result.to_csv(\"data/results.csv\")"
   ]
  }
 ],
 "metadata": {
  "kernelspec": {
   "display_name": "Python 3",
   "language": "python",
   "name": "python3"
  },
  "language_info": {
   "codemirror_mode": {
    "name": "ipython",
    "version": 3
   },
   "file_extension": ".py",
   "mimetype": "text/x-python",
   "name": "python",
   "nbconvert_exporter": "python",
   "pygments_lexer": "ipython3",
   "version": "3.8.10"
  }
 },
 "nbformat": 4,
 "nbformat_minor": 5
}
