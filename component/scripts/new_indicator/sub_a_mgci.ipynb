{
 "cells": [
  {
   "cell_type": "code",
   "execution_count": null,
   "id": "8c00cdf5-47e5-4456-b74c-b5f5d06e4b00",
   "metadata": {},
   "outputs": [],
   "source": [
    "from pathlib import Path\n",
    "import pandas as pd\n",
    "import re\n",
    "from numpy import nan"
   ]
  },
  {
   "cell_type": "code",
   "execution_count": null,
   "id": "27abe8c7-95be-4ee2-8d50-9c0e4bcaa505",
   "metadata": {},
   "outputs": [],
   "source": [
    "iso_table = pd.read_csv(\n",
    "    \"https://raw.githubusercontent.com/sepal-contrib/sepal_mgci/master/component/parameter/m49_countries.csv\",\n",
    "    sep=\";\",\n",
    ")\n",
    "belt_table = pd.read_csv(\"data/sources/5_belts_translation.csv\")\n",
    "mgci_columns = [\n",
    "    \"SeriesID\",\n",
    "    \"SeriesDescription\",\n",
    "    \"GeoAreaCode\",\n",
    "    \"GeoAreaName\",\n",
    "    \"TimePeriod\",\n",
    "    \"Value\",\n",
    "    \"Time_Detail\",\n",
    "    \"Source\",\n",
    "    \"FootNote\",\n",
    "    \"Nature\",\n",
    "    \"Units\",\n",
    "    \"Reporting Type\",\n",
    "    \"Observation Status\",\n",
    "    \"Bioclimatic Belt\",\n",
    "    \"ISOalpha3\",\n",
    "    \"Type\",\n",
    "    \"SeriesCode\",\n",
    "]\n",
    "lcluc_matrix = pd.read_csv(\"data/sources/cci_map_matrix.csv\")\n",
    "lcluc_matrix = lcluc_matrix[[\"target_code\", \"green\"]]\n",
    "lcluc_matrix.drop_duplicates(keep=\"first\", inplace=True)\n",
    "lcluc_matrix = lcluc_matrix.reset_index(drop=True)"
   ]
  },
  {
   "cell_type": "code",
   "execution_count": null,
   "id": "bc624540-e15b-4901-9363-0ba0130cafbb",
   "metadata": {},
   "outputs": [],
   "source": [
    "def return_green(row):\n",
    "    \"\"\"Return the corresponding green/non-green value from target lulc code\"\"\"\n",
    "    return lcluc_matrix[lcluc_matrix.target_code == row[\"lc_class\"]][\"green\"].values[0]"
   ]
  },
  {
   "cell_type": "code",
   "execution_count": null,
   "id": "43259865-0e55-490b-9e7f-57b14489e8c1",
   "metadata": {},
   "outputs": [],
   "source": [
    "def get_mgci_report(df, iso_code):\n",
    "    \"\"\"\n",
    "    Get the MGCI report table for the given iso_code and year\n",
    "\n",
    "    df (DataFrame): grouped dataframe from raw data\n",
    "    iso_code (str): country iso code\n",
    "    \"\"\"\n",
    "\n",
    "    # subset dataframe to the one we are working on\n",
    "    df_ = df[df.iso_code == iso_code].copy(deep=True)\n",
    "    df_[\"is_green\"] = df_.apply(return_green, axis=1)\n",
    "\n",
    "    # Get the green and non green area for each belt\n",
    "    tmp_df = df_.groupby([\"iso_code\", \"belt_class\", \"is_green\"]).sum().reset_index()\n",
    "\n",
    "    # Split by green and non-green\n",
    "    green_df = tmp_df[tmp_df.is_green == 1]\n",
    "    non_green_df = tmp_df[tmp_df.is_green == 0]\n",
    "\n",
    "    # Merge and calculate mgci\n",
    "    green_non_green = pd.merge(\n",
    "        green_df,\n",
    "        non_green_df,\n",
    "        on=[\"belt_class\", \"iso_code\"],\n",
    "        suffixes=[\"green\", \"non_green\"],\n",
    "        how=\"outer\",\n",
    "    )\n",
    "    green_non_green = green_non_green.fillna(0)\n",
    "\n",
    "    green_non_green[\"mgci\"] = (\n",
    "        green_non_green[\"sumgreen\"]\n",
    "        / (green_non_green[\"sumgreen\"] + green_non_green[\"sumnon_green\"])\n",
    "        * 100\n",
    "    )\n",
    "    green_non_green = green_non_green[\n",
    "        [\"iso_code\", \"belt_class\", \"sumgreen\", \"sumnon_green\", \"mgci\"]\n",
    "    ]\n",
    "    # Return a dataframe with all the columns\n",
    "    total_mgci = pd.DataFrame(\n",
    "        [\n",
    "            [\n",
    "                green_non_green.iloc[:, 0].unique()[0],\n",
    "                \"Total\",\n",
    "                green_non_green.sum()[\"sumgreen\"]\n",
    "                / (\n",
    "                    green_non_green.sum()[\"sumgreen\"]\n",
    "                    + green_non_green.sum()[\"sumnon_green\"]\n",
    "                )\n",
    "                * 100,\n",
    "            ]\n",
    "        ],\n",
    "        columns=[\"iso_code\", \"belt_class\", \"mgci\"],\n",
    "    ).fillna(0)\n",
    "\n",
    "    result = pd.concat([green_non_green, total_mgci])\n",
    "    return result"
   ]
  },
  {
   "cell_type": "code",
   "execution_count": null,
   "id": "4fc85590-a349-4317-9ae9-5368451bff07",
   "metadata": {},
   "outputs": [],
   "source": [
    "def get_belt_desc(row):\n",
    "    \"\"\"return bioclimatic belt description\"\"\"\n",
    "    desc = belt_table[belt_table.code == row[\"belt_class\"]][\"desc\"]\n",
    "\n",
    "    return desc.values[0] if len(desc) else \"Total\""
   ]
  },
  {
   "cell_type": "code",
   "execution_count": null,
   "id": "4cdd83d8-64f6-4291-9f79-8ea66f993c23",
   "metadata": {},
   "outputs": [],
   "source": [
    "i = 0\n",
    "\n",
    "\n",
    "def create_report(df, iso_code, target_year):\n",
    "\n",
    "    if iso_code == \"KWT\":\n",
    "        print(iso_code)\n",
    "\n",
    "    global i\n",
    "    i += 1\n",
    "    try:\n",
    "        country_df = get_mgci_report(df, iso_code)\n",
    "        report_df = pd.DataFrame(columns=mgci_columns)\n",
    "        report_df = country_df\n",
    "        report_df[\"SeriesID\"] = i\n",
    "        report_df[\"Value\"] = report_df.mgci\n",
    "        report_df[\"SeriesDescription\"] = \"Mountain Green Cover Index\"\n",
    "        report_df[\"GeoAreaName\"] = report_df.iso_code\n",
    "        report_df[\"GeoAreaCode\"] = iso_table[\n",
    "            iso_table.iso31661 == report_df.GeoAreaName.unique()[0]\n",
    "        ][\"m49\"].iloc[0]\n",
    "        report_df[\"TimePeriod\"] = target_year\n",
    "        report_df[\"Time_Detail\"] = target_year\n",
    "        report_df[\n",
    "            \"Source\"\n",
    "        ] = \"Food and Agriculture Organisation of United Nations (FAO)\"\n",
    "        report_df[\"FootNote\"] = \"FAO estimate\"\n",
    "        report_df[\"Nature\"] = \"G\"\n",
    "        report_df[\"Units\"] = \"PERCENT\"\n",
    "        report_df[\"Reporting Type\"] = \"G\"\n",
    "        report_df[\"Observation Status\"] = \"A\"\n",
    "        report_df[\"Bioclimatic Belt\"] = report_df.apply(get_belt_desc, axis=1)\n",
    "        report_df[\"ISOalpha3\"] = nan\n",
    "        report_df[\"Type\"] = \"Region\"\n",
    "        report_df[\"SeriesCode\"] = \"ER_MTN_GRNCVI\"\n",
    "        return report_df\n",
    "\n",
    "    except Exception as e:\n",
    "        print(iso_code)\n",
    "        raise e"
   ]
  },
  {
   "cell_type": "markdown",
   "id": "ea0aa2de-e148-4c19-b74d-b38f9d1eeb02",
   "metadata": {},
   "source": [
    "## Loop over years"
   ]
  },
  {
   "cell_type": "code",
   "execution_count": null,
   "id": "e28dd970-acb7-4898-81d1-4e218a1e43a2",
   "metadata": {
    "tags": []
   },
   "outputs": [],
   "source": [
    "class Progress:\n",
    "    def __init__(self):\n",
    "        self.processed_years = []"
   ]
  },
  {
   "cell_type": "code",
   "execution_count": null,
   "id": "04caf453-cc5a-4229-a4d1-a0d35780ff32",
   "metadata": {
    "tags": []
   },
   "outputs": [],
   "source": [
    "def report_by_dataset(csv_path):\n",
    "    \"\"\"Create and save the subindicator for each of the dates in the given csv path\n",
    "\n",
    "    csv_path: Has to be created using the reduce_results notebook. It has the formatted data.\n",
    "\n",
    "    \"\"\"\n",
    "\n",
    "    raw_df = pd.read_csv(csv_path)\n",
    "\n",
    "    # Extract years from the CSV file\n",
    "    years = [\n",
    "        int(x) for x in re.search(r\"\\d{4}_\\d{4}\", str(csv_path)).group().split(\"_\")\n",
    "    ]\n",
    "\n",
    "    def report_date(year):\n",
    "\n",
    "        target_year = year\n",
    "        progress.processed_years.append(target_year)\n",
    "\n",
    "        target = \"from_class\" if years.index(target_year) == 0 else \"to_class\"\n",
    "        print(f\"Processing {target_year}, {target} for {csv_path}\")\n",
    "\n",
    "        df = raw_df.groupby(by=[\"belt_class\", target, \"iso_code\"]).sum().reset_index()\n",
    "        df = df[[\"iso_code\", \"belt_class\", target, \"sum\"]]\n",
    "        df.rename(columns={target: \"lc_class\"}, inplace=True)\n",
    "\n",
    "        countries_df = [\n",
    "            create_report(df, iso_code, target_year)\n",
    "            for iso_code in df.iso_code.unique()\n",
    "        ]\n",
    "\n",
    "        final = pd.concat(countries_df)[mgci_columns]\n",
    "\n",
    "        return final\n",
    "\n",
    "    # To this for the two years\n",
    "    return pd.concat(\n",
    "        [report_date(year) for year in years if year not in progress.processed_years]\n",
    "    )"
   ]
  },
  {
   "cell_type": "code",
   "execution_count": null,
   "id": "4dc9b4ef-3fda-4562-a700-9e60b62af45f",
   "metadata": {},
   "outputs": [],
   "source": [
    "# Now let's do this for each of the datasets"
   ]
  },
  {
   "cell_type": "code",
   "execution_count": null,
   "id": "aa496b46-dfe2-4e5d-bd0d-76c5e2b91e63",
   "metadata": {},
   "outputs": [],
   "source": [
    "list(Path(\"data/global_group_1_2_3\").glob(\"global*.csv\"))"
   ]
  },
  {
   "cell_type": "code",
   "execution_count": null,
   "id": "e5f7f791-32f0-4111-a025-9fe91618304d",
   "metadata": {},
   "outputs": [],
   "source": [
    "progress = Progress()\n",
    "reports_by_year = [\n",
    "    report_by_dataset(csv_path)\n",
    "    for csv_path in Path(\"data/global_group_1_2_3\").glob(\"global*.csv\")\n",
    "]"
   ]
  },
  {
   "cell_type": "code",
   "execution_count": null,
   "id": "1cd55eca-ea2c-4eb0-ba49-2852798501ae",
   "metadata": {},
   "outputs": [],
   "source": [
    "reports_by_year_df = pd.concat(reports_by_year)\n",
    "reports_by_year_df = reports_by_year_df.sort_values(\n",
    "    [\"GeoAreaName\", \"TimePeriod\", \"Bioclimatic Belt\"]\n",
    ")"
   ]
  },
  {
   "cell_type": "code",
   "execution_count": null,
   "id": "0d28df5e-032a-4d76-8ca9-8d6f16ee8714",
   "metadata": {},
   "outputs": [],
   "source": [
    "out_path = Path(\"data/reporting/subA_mgci/\")\n",
    "out_path.mkdir(exist_ok=True, parents=True)\n",
    "reports_by_year_df.to_csv(out_path / f\"SubIndA_MGCI.csv\")"
   ]
  },
  {
   "cell_type": "markdown",
   "id": "6602ee5a-c1d0-4586-b45d-9fe9db82b98f",
   "metadata": {},
   "source": [
    "## Test with a single country"
   ]
  },
  {
   "cell_type": "code",
   "execution_count": null,
   "id": "f818db19-354b-4bdd-92f1-f3e978dde4f6",
   "metadata": {},
   "outputs": [],
   "source": [
    "# Do this for only one\n",
    "csv_path = Path(\"data/global_group_1_2_3/global_grouped_data_2000_2015.csv\")\n",
    "raw_df = pd.read_csv(csv_path)\n",
    "\n",
    "# Extract years from the CSV file\n",
    "years = [int(x) for x in re.search(r\"\\d{4}_\\d{4}\", str(csv_path)).group().split(\"_\")]\n",
    "\n",
    "\n",
    "target_year = 2000\n",
    "\n",
    "target = \"from_class\" if years.index(target_year) == 0 else \"to_class\"\n",
    "df = raw_df.groupby(by=[\"belt_class\", target, \"iso_code\"]).sum().reset_index()\n",
    "df = df[[\"iso_code\", \"belt_class\", target, \"sum\"]]\n",
    "df.rename(columns={target: \"lc_class\"}, inplace=True)\n",
    "\n",
    "create_report(df, \"AFG\", target_year)"
   ]
  }
 ],
 "metadata": {
  "kernelspec": {
   "display_name": "Python 3",
   "language": "python",
   "name": "python3"
  },
  "language_info": {
   "codemirror_mode": {
    "name": "ipython",
    "version": 3
   },
   "file_extension": ".py",
   "mimetype": "text/x-python",
   "name": "python",
   "nbconvert_exporter": "python",
   "pygments_lexer": "ipython3",
   "version": "3.8.10"
  }
 },
 "nbformat": 4,
 "nbformat_minor": 5
}
