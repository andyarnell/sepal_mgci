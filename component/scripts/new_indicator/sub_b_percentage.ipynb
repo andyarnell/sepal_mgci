{
 "cells": [
  {
   "cell_type": "code",
   "execution_count": null,
   "id": "3393de35-f918-4c9f-a270-39890475e75d",
   "metadata": {},
   "outputs": [],
   "source": [
    "import pandas as pd\n",
    "from pathlib import Path\n",
    "import re\n",
    "import numpy as np"
   ]
  },
  {
   "cell_type": "code",
   "execution_count": null,
   "id": "f58c3b9b-5e26-40a3-bd1f-7ed632363058",
   "metadata": {},
   "outputs": [],
   "source": [
    "iso_table = pd.read_csv(\n",
    "    \"https://raw.githubusercontent.com/sepal-contrib/sepal_mgci/master/component/parameter/m49_countries.csv\",\n",
    "    sep=\";\",\n",
    ")\n",
    "belt_table = pd.read_csv(\"data/sources/5_belts_translation.csv\")\n",
    "columns = [\n",
    "    \"SeriesID\",\n",
    "    \"SeriesDescription\",\n",
    "    \"GeoAreaCode\",\n",
    "    \"GeoAreaName\",\n",
    "    \"TimePeriod\",\n",
    "    \"Value\",\n",
    "    \"Time_Detail\",\n",
    "    \"Source\",\n",
    "    \"FootNote\",\n",
    "    \"Nature\",\n",
    "    \"Units\",\n",
    "    \"Reporting Type\",\n",
    "    \"Observation Status\",\n",
    "    \"Bioclimatic Belt\",\n",
    "    \"ISOalpha3\",\n",
    "    \"Type\",\n",
    "    \"SeriesCode\",\n",
    "]\n",
    "\n",
    "transition = pd.read_csv(\"data/sources/1_Land_cover_transition_csv.csv\")"
   ]
  },
  {
   "cell_type": "code",
   "execution_count": null,
   "id": "d8895b90-c574-4b7a-841b-8f918647a8b0",
   "metadata": {},
   "outputs": [],
   "source": [
    "def get_impact(row):\n",
    "    \"\"\"Return the type of the impact based on the initial and last class\"\"\"\n",
    "\n",
    "    # Check that both\n",
    "    if not all([row[\"from_class\"], row[\"to_class\"]]):\n",
    "        return 0\n",
    "\n",
    "    return transition[\n",
    "        (transition.from_code == row[\"from_class\"])\n",
    "        & (transition.to_code == row[\"to_class\"])\n",
    "    ][\"impact_code\"].values[0]\n",
    "\n",
    "\n",
    "def get_belt_desc(row):\n",
    "    \"\"\"return bioclimatic belt description\"\"\"\n",
    "    desc = belt_table[belt_table.code == row[\"belt_class\"]][\"desc\"]\n",
    "\n",
    "    return desc.values[0] if len(desc) else \"Total\""
   ]
  },
  {
   "cell_type": "code",
   "execution_count": null,
   "id": "13ec721c-fc30-410b-9cfe-c96aedbbd72f",
   "metadata": {},
   "outputs": [],
   "source": [
    "def get_pdma(df, iso_code):\n",
    "    \"\"\"\n",
    "    Get the MGCI report table for the given iso_code and year\n",
    "\n",
    "    df (DataFrame): grouped dataframe from raw data\n",
    "    iso_code (str): country iso code\n",
    "\n",
    "    \"\"\"\n",
    "\n",
    "    # Prepare df\n",
    "    df_ = df[df.iso_code == iso_code].copy(deep=True)\n",
    "\n",
    "    # Get the rest of the proportion (stable+increase aka 0,1)\n",
    "    stable_recover = (\n",
    "        df_[df_.impact.isin([0, 1])]\n",
    "        .groupby([\"iso_code\", \"belt_class\"])\n",
    "        .sum()\n",
    "        .reset_index()[[\"iso_code\", \"belt_class\", \"sum\"]]\n",
    "    )\n",
    "\n",
    "    # Get degraded area (-1 class is degraded)\n",
    "    degraded = df_[df_.impact == -1][[\"iso_code\", \"belt_class\", \"sum\"]]\n",
    "\n",
    "    # If there nothing degraded\n",
    "    if not len(degraded):\n",
    "        degraded = stable_recover.copy(deep=True)\n",
    "        degraded[\"sum\"] = 0\n",
    "\n",
    "    # Get the degradation rate by belt\n",
    "    pdma_df = pd.merge(\n",
    "        stable_recover, degraded, on=[\"iso_code\", \"belt_class\"], how=\"outer\"\n",
    "    )\n",
    "\n",
    "    pdma_df.rename(\n",
    "        columns={\"sum_x\": \"sum_stable_recover\", \"sum_y\": \"sum_degraded\"}, inplace=True\n",
    "    )\n",
    "    pdma_df[\"pdma\"] = (\n",
    "        pdma_df[\"sum_degraded\"]\n",
    "        / (pdma_df[\"sum_stable_recover\"] + pdma_df[\"sum_degraded\"])\n",
    "        * 100\n",
    "    )\n",
    "\n",
    "    # Return a dataframe with all the columns\n",
    "    total_pdma = pd.DataFrame(\n",
    "        [\n",
    "            [\n",
    "                iso_code,\n",
    "                \"Total\",\n",
    "                pdma_df[\"sum_degraded\"].sum()\n",
    "                / pdma_df[[\"sum_stable_recover\", \"sum_degraded\"]].sum().sum()\n",
    "                * 100,\n",
    "            ]\n",
    "        ],\n",
    "        columns=[\"iso_code\", \"belt_class\", \"pdma\"],\n",
    "    ).fillna(0)\n",
    "\n",
    "    result = pd.concat([pdma_df, total_pdma])\n",
    "\n",
    "    return result"
   ]
  },
  {
   "cell_type": "code",
   "execution_count": null,
   "id": "da0f0699-b008-4dd6-a27c-aa42d49827b0",
   "metadata": {},
   "outputs": [],
   "source": [
    "def create_report(df, iso_code, years, i):\n",
    "\n",
    "    i += 1\n",
    "    try:\n",
    "        report_df = get_pdma(df, iso_code)\n",
    "        report_df[\"SeriesID\"] = i\n",
    "        report_df[\"Value\"] = report_df.pdma\n",
    "        report_df[\"SeriesDescription\"] = \"Proportion of degraded mountain land\"\n",
    "        report_df[\"GeoAreaName\"] = report_df.iso_code\n",
    "        report_df[\"GeoAreaCode\"] = iso_table[\n",
    "            iso_table.iso31661 == report_df.GeoAreaName.unique()[0]\n",
    "        ][\"m49\"].iloc[0]\n",
    "        report_df[\"TimePeriod\"] = years[1]\n",
    "        report_df[\"Time_Detail\"] = f\"{years[0]}-{years[1]}\"\n",
    "        report_df[\n",
    "            \"Source\"\n",
    "        ] = \"Food and Agriculture Organisation of United Nations (FAO)\"\n",
    "        report_df[\"FootNote\"] = \"FAO estimate\"\n",
    "        report_df[\"Nature\"] = \"G\"\n",
    "        report_df[\"Units\"] = \"PERCENT\"\n",
    "        report_df[\"Reporting Type\"] = \"G\"\n",
    "        report_df[\"Observation Status\"] = \"A\"\n",
    "        report_df[\"Bioclimatic Belt\"] = report_df.apply(get_belt_desc, axis=1)\n",
    "        report_df[\"ISOalpha3\"] = np.nan\n",
    "        report_df[\"Type\"] = \"Region\"\n",
    "        report_df[\"SeriesCode\"] = \"XXXX\"\n",
    "        return report_df[columns]\n",
    "\n",
    "    except Exception as e:\n",
    "\n",
    "        print(iso_code)\n",
    "        raise e"
   ]
  },
  {
   "cell_type": "code",
   "execution_count": null,
   "id": "c9374b4c-f77a-4a33-b9f1-4ed4c5107606",
   "metadata": {},
   "outputs": [],
   "source": [
    "def report_by_dataset(csv_path):\n",
    "    \"\"\"Create and save the subindicator for each of the given csv path\n",
    "\n",
    "    csv_path: Has to be created using the reduce_results notebook. It has the formatted data.\n",
    "\n",
    "    \"\"\"\n",
    "\n",
    "    csv_path = Path(csv_path)\n",
    "\n",
    "    # Extract years from the CSV file\n",
    "    years = [\n",
    "        int(x) for x in re.search(r\"\\d{4}_\\d{4}\", str(csv_path)).group().split(\"_\")\n",
    "    ]\n",
    "\n",
    "    raw_df = pd.read_csv(csv_path)\n",
    "    raw_df = raw_df.fillna(0)\n",
    "    raw_df[\"impact\"] = raw_df.apply(get_impact, axis=1)\n",
    "    raw_df = raw_df.groupby([\"iso_code\", \"belt_class\", \"impact\"]).sum().reset_index()\n",
    "    raw_df = raw_df[raw_df[\"sum\"] > 0]\n",
    "\n",
    "    global i\n",
    "    i = 0\n",
    "\n",
    "    report_by_country = [\n",
    "        create_report(raw_df, iso_code, years, i)\n",
    "        for iso_code in raw_df.iso_code.unique()\n",
    "    ]\n",
    "\n",
    "    return pd.concat(report_by_country)"
   ]
  },
  {
   "cell_type": "code",
   "execution_count": null,
   "id": "11945546-b9ff-4078-8beb-35dc14721ba4",
   "metadata": {},
   "outputs": [],
   "source": [
    "reports_by_year = [\n",
    "    report_by_dataset(csv_path)\n",
    "    for csv_path in Path(\"data/global_group_1_2_3\").glob(\"global*.csv\")\n",
    "    if \"2005\" not in csv_path.name\n",
    "]"
   ]
  },
  {
   "cell_type": "code",
   "execution_count": null,
   "id": "2671fd43-d0f2-4add-a360-9e126a0dac26",
   "metadata": {},
   "outputs": [],
   "source": [
    "reports_by_year_df = pd.concat(reports_by_year)\n",
    "reports_by_year_df = reports_by_year_df.sort_values(\n",
    "    [\"GeoAreaName\", \"TimePeriod\", \"Bioclimatic Belt\"]\n",
    ")"
   ]
  },
  {
   "cell_type": "code",
   "execution_count": null,
   "id": "599d2db8-8a95-4cc4-a0ae-a64e88334dea",
   "metadata": {},
   "outputs": [],
   "source": [
    "out_path = Path(\"data/reporting/subB_pdma/\")\n",
    "out_path.mkdir(exist_ok=True, parents=True)\n",
    "reports_by_year_df.to_csv(out_path / f\"SubIndB_pdma.csv\")"
   ]
  },
  {
   "cell_type": "markdown",
   "id": "608058ed-6b98-448a-958f-c6979469cb12",
   "metadata": {
    "tags": []
   },
   "source": [
    "## Test for one year"
   ]
  },
  {
   "cell_type": "code",
   "execution_count": null,
   "id": "67d3caae-fd69-4a58-bf58-b7b6c08acc07",
   "metadata": {},
   "outputs": [],
   "source": [
    "list(Path(\"data/global_group_1_2_3\").glob(\"global*.csv\"))"
   ]
  },
  {
   "cell_type": "code",
   "execution_count": null,
   "id": "692323e4-b89b-46f1-b4b2-bd3597ae278f",
   "metadata": {},
   "outputs": [],
   "source": [
    "csv_path = Path(\"data/global_group_1_2_3/global_grouped_data_2015_2018.csv\")\n",
    "\n",
    "# Extract years from the CSV file\n",
    "years = [int(x) for x in re.search(r\"\\d{4}_\\d{4}\", str(csv_path)).group().split(\"_\")]\n",
    "\n",
    "raw_df = pd.read_csv(csv_path)\n",
    "raw_df = raw_df.fillna(0)\n",
    "raw_df[\"impact\"] = raw_df.apply(get_impact, axis=1)\n",
    "raw_df = raw_df.groupby([\"iso_code\", \"belt_class\", \"impact\"]).sum().reset_index()\n",
    "raw_df = raw_df[raw_df[\"sum\"] > 0]"
   ]
  },
  {
   "cell_type": "code",
   "execution_count": null,
   "id": "6e50e839-02ab-4226-8739-8d167a72af0d",
   "metadata": {},
   "outputs": [],
   "source": [
    "df = get_pdma(raw_df, \"AFG\")\n",
    "df"
   ]
  }
 ],
 "metadata": {
  "kernelspec": {
   "display_name": "Python 3",
   "language": "python",
   "name": "python3"
  },
  "language_info": {
   "codemirror_mode": {
    "name": "ipython",
    "version": 3
   },
   "file_extension": ".py",
   "mimetype": "text/x-python",
   "name": "python",
   "nbconvert_exporter": "python",
   "pygments_lexer": "ipython3",
   "version": "3.8.10"
  }
 },
 "nbformat": 4,
 "nbformat_minor": 5
}
