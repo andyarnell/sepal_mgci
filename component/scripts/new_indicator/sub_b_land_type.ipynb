{
 "cells": [
  {
   "cell_type": "code",
   "execution_count": null,
   "id": "3393de35-f918-4c9f-a270-39890475e75d",
   "metadata": {},
   "outputs": [],
   "source": [
    "import pandas as pd\n",
    "from pathlib import Path\n",
    "import re\n",
    "import numpy as np"
   ]
  },
  {
   "cell_type": "code",
   "execution_count": null,
   "id": "f58c3b9b-5e26-40a3-bd1f-7ed632363058",
   "metadata": {},
   "outputs": [],
   "source": [
    "iso_table = pd.read_csv(\n",
    "    \"https://raw.githubusercontent.com/sepal-contrib/sepal_mgci/master/component/parameter/m49_countries.csv\",\n",
    "    sep=\";\",\n",
    ")\n",
    "belt_table = pd.read_csv(\"data/sources/5_belts_translation.csv\")\n",
    "columns = [\n",
    "    \"SeriesID\",\n",
    "    \"SeriesDescription\",\n",
    "    \"GeoAreaCode\",\n",
    "    \"GeoAreaName\",\n",
    "    \"TimePeriod\",\n",
    "    \"Value\",\n",
    "    \"Time_Detail\",\n",
    "    \"Source\",\n",
    "    \"FootNote\",\n",
    "    \"Nature\",\n",
    "    \"Units\",\n",
    "    \"Reporting Type\",\n",
    "    \"Observation Status\",\n",
    "    \"Impact Type\",\n",
    "    \"Bioclimatic Belt\",\n",
    "    \"ISOalpha3\",\n",
    "    \"Type\",\n",
    "    \"SeriesCode\",\n",
    "]\n",
    "\n",
    "transition = pd.read_csv(\"data/sources/1_Land_cover_transition_csv.csv\")\n",
    "transition[\"impact\"] = transition[\"impact\"].str.strip()\n",
    "\n",
    "impact_table = (\n",
    "    transition.groupby([\"impact\", \"impact_code\"])\n",
    "    .sum()\n",
    "    .reset_index()[[\"impact\", \"impact_code\"]]\n",
    ")"
   ]
  },
  {
   "cell_type": "code",
   "execution_count": null,
   "id": "d8895b90-c574-4b7a-841b-8f918647a8b0",
   "metadata": {},
   "outputs": [],
   "source": [
    "def get_impact(row):\n",
    "    \"\"\"Return the type of the impact based on the initial and last class\"\"\"\n",
    "\n",
    "    # Check that both\n",
    "    if not all([row[\"from_class\"], row[\"to_class\"]]):\n",
    "        return 0\n",
    "\n",
    "    return transition[\n",
    "        (transition.from_code == row[\"from_class\"])\n",
    "        & (transition.to_code == row[\"to_class\"])\n",
    "    ][\"impact_code\"].values[0]\n",
    "\n",
    "\n",
    "def get_impact_desc(row):\n",
    "    \"\"\"Return impact description based on its code\"\"\"\n",
    "    desc = impact_table[impact_table.impact_code == row[\"impact\"]][\"impact\"]\n",
    "\n",
    "    return desc.values[0] if len(desc) else \"All\"\n",
    "\n",
    "\n",
    "def get_belt_desc(row):\n",
    "    \"\"\"return bioclimatic belt description\"\"\"\n",
    "    desc = belt_table[belt_table.code == row[\"belt_class\"]][\"desc\"]\n",
    "\n",
    "    return desc.values[0] if len(desc) else \"Total\""
   ]
  },
  {
   "cell_type": "code",
   "execution_count": null,
   "id": "13ec721c-fc30-410b-9cfe-c96aedbbd72f",
   "metadata": {},
   "outputs": [],
   "source": [
    "def get_pdma(df, iso_code):\n",
    "    \"\"\"\n",
    "    Get the MGCI report table for the given iso_code and year\n",
    "\n",
    "    df (DataFrame): grouped dataframe from raw data\n",
    "    iso_code (str): country iso code\n",
    "\n",
    "    \"\"\"\n",
    "\n",
    "    # Prepare df\n",
    "    df_ = df[df.iso_code == iso_code].copy(deep=True)\n",
    "\n",
    "    # Summary area by belt\n",
    "    by_belt = (\n",
    "        df_.groupby([\"iso_code\", \"belt_class\"])\n",
    "        .sum()\n",
    "        .reset_index()[[\"iso_code\", \"belt_class\", \"sum\"]]\n",
    "    )\n",
    "    by_belt[\"impact\"] = \"All\"\n",
    "\n",
    "    # Summary area by impact\n",
    "    by_impact = (\n",
    "        df_.groupby([\"iso_code\", \"impact\"])\n",
    "        .sum()\n",
    "        .reset_index()[[\"iso_code\", \"impact\", \"sum\"]]\n",
    "    )\n",
    "    by_impact[\"belt_class\"] = \"Total\"\n",
    "\n",
    "    result = pd.concat([df_, by_belt, by_impact])\n",
    "\n",
    "    return result"
   ]
  },
  {
   "cell_type": "code",
   "execution_count": null,
   "id": "da0f0699-b008-4dd6-a27c-aa42d49827b0",
   "metadata": {},
   "outputs": [],
   "source": [
    "def create_report(df, iso_code, years, i):\n",
    "\n",
    "    i += 1\n",
    "    try:\n",
    "        report_df = get_pdma(df, iso_code)\n",
    "        report_df[\"SeriesID\"] = i\n",
    "        report_df[\"Value\"] = report_df[\"sum\"]\n",
    "        report_df[\"SeriesDescription\"] = \"Proportion of degraded mountain land\"\n",
    "        report_df[\"GeoAreaName\"] = report_df.iso_code\n",
    "        report_df[\"GeoAreaCode\"] = iso_table[\n",
    "            iso_table.iso31661 == report_df.GeoAreaName.unique()[0]\n",
    "        ][\"m49\"].iloc[0]\n",
    "        report_df[\"TimePeriod\"] = years[1]\n",
    "        report_df[\"Time_Detail\"] = f\"{years[0]}-{years[1]}\"\n",
    "        report_df[\n",
    "            \"Source\"\n",
    "        ] = \"Food and Agriculture Organisation of United Nations (FAO)\"\n",
    "        report_df[\"FootNote\"] = \"FAO estimate\"\n",
    "        report_df[\"Nature\"] = \"G\"\n",
    "        report_df[\"Units\"] = \"KM2_PA\"\n",
    "        report_df[\"Reporting Type\"] = \"G\"\n",
    "        report_df[\"Observation Status\"] = \"A\"\n",
    "        report_df[\"Bioclimatic Belt\"] = report_df.apply(get_belt_desc, axis=1)\n",
    "        report_df[\"ISOalpha3\"] = np.nan\n",
    "        report_df[\"Impact Type\"] = report_df.apply(get_impact_desc, axis=1)\n",
    "        report_df[\"SeriesCode\"] = \"XXXX\"\n",
    "        report_df[\"Type\"] = \"Region\"\n",
    "        return report_df[columns]\n",
    "\n",
    "    except Exception as e:\n",
    "\n",
    "        print(iso_code)\n",
    "        raise e"
   ]
  },
  {
   "cell_type": "code",
   "execution_count": null,
   "id": "c9374b4c-f77a-4a33-b9f1-4ed4c5107606",
   "metadata": {},
   "outputs": [],
   "source": [
    "def report_by_dataset(csv_path):\n",
    "    \"\"\"Create and save the subindicator for each of the given csv path\n",
    "\n",
    "    csv_path: Has to be created using the reduce_results notebook. It has the formatted data.\n",
    "\n",
    "    \"\"\"\n",
    "\n",
    "    csv_path = Path(csv_path)\n",
    "\n",
    "    # Extract years from the CSV file\n",
    "    years = [\n",
    "        int(x) for x in re.search(r\"\\d{4}_\\d{4}\", str(csv_path)).group().split(\"_\")\n",
    "    ]\n",
    "\n",
    "    raw_df = pd.read_csv(csv_path)\n",
    "    raw_df = raw_df.fillna(0)\n",
    "    raw_df[\"impact\"] = raw_df.apply(get_impact, axis=1)\n",
    "    raw_df = raw_df.groupby([\"iso_code\", \"belt_class\", \"impact\"]).sum().reset_index()\n",
    "    raw_df = raw_df[raw_df[\"sum\"] > 0][[\"iso_code\", \"belt_class\", \"impact\", \"sum\"]]\n",
    "\n",
    "    global i\n",
    "    i = 0\n",
    "\n",
    "    report_by_country = [\n",
    "        create_report(raw_df, iso_code, years, i)\n",
    "        for iso_code in raw_df.iso_code.unique()\n",
    "    ]\n",
    "\n",
    "    return pd.concat(report_by_country)"
   ]
  },
  {
   "cell_type": "code",
   "execution_count": null,
   "id": "11945546-b9ff-4078-8beb-35dc14721ba4",
   "metadata": {},
   "outputs": [],
   "source": [
    "reports_by_year = [\n",
    "    report_by_dataset(csv_path)\n",
    "    for csv_path in Path(\"data/global_group_1_2_3\").glob(\"global*.csv\")\n",
    "    if \"2005\" not in csv_path.name\n",
    "]"
   ]
  },
  {
   "cell_type": "code",
   "execution_count": null,
   "id": "affb3b1d-ffad-4db0-940b-889d9e4ff6c2",
   "metadata": {},
   "outputs": [],
   "source": [
    "reports_by_year_df = pd.concat(reports_by_year)\n",
    "reports_by_year_df = reports_by_year_df.sort_values(\n",
    "    [\"GeoAreaName\", \"TimePeriod\", \"Bioclimatic Belt\"]\n",
    ")"
   ]
  },
  {
   "cell_type": "code",
   "execution_count": null,
   "id": "065a86ab-d34e-4619-8f7e-99279553d3bd",
   "metadata": {},
   "outputs": [],
   "source": [
    "out_path = Path(\"data/reporting/subB_pdma_TransitionType/\")\n",
    "out_path.mkdir(exist_ok=True, parents=True)\n",
    "reports_by_year_df.to_csv(out_path / f\"SubIndB_pdma_TransitionType.csv\")"
   ]
  },
  {
   "cell_type": "markdown",
   "id": "c61cf6b2-9c2d-4100-a3ab-f6417b1721e3",
   "metadata": {},
   "source": [
    "## Test with a single country"
   ]
  },
  {
   "cell_type": "code",
   "execution_count": null,
   "id": "1c5d0ff9-450d-4e0e-a864-5c8cdfe99e1f",
   "metadata": {},
   "outputs": [],
   "source": [
    "csv_path = Path(\"data/global_group_1_2_3/global_grouped_data_2000_2015.csv\")\n",
    "\n",
    "# Extract years from the CSV file\n",
    "years = [int(x) for x in re.search(r\"\\d{4}_\\d{4}\", str(csv_path)).group().split(\"_\")]\n",
    "\n",
    "raw_df = pd.read_csv(csv_path)\n",
    "raw_df = raw_df.fillna(0)\n",
    "raw_df[\"impact\"] = raw_df.apply(get_impact, axis=1)\n",
    "raw_df = raw_df.groupby([\"iso_code\", \"belt_class\", \"impact\"]).sum().reset_index()\n",
    "raw_df = raw_df[raw_df[\"sum\"] > 0][[\"iso_code\", \"belt_class\", \"impact\", \"sum\"]]\n",
    "i = 0"
   ]
  },
  {
   "cell_type": "code",
   "execution_count": null,
   "id": "51bb70df-a489-4f0a-aa35-0f8c2781d417",
   "metadata": {},
   "outputs": [],
   "source": [
    "create_report(raw_df, \"COL\", years, i)"
   ]
  },
  {
   "cell_type": "code",
   "execution_count": null,
   "id": "b8fcd9be-2cc8-47cf-afdf-4c7d27a9be5f",
   "metadata": {},
   "outputs": [],
   "source": [
    "test_data = [\n",
    "    [\"COL\", 1.0, -1.0, 0.377574],\n",
    "    [\"COL\", 1.0, 0.0, 251.801384],\n",
    "    [\"COL\", 2.0, -1.0, 15.024332],\n",
    "    [\"COL\", 2.0, 0.0, 5565.770271],\n",
    "    [\"COL\", 2.0, 1.0, 4.730281],\n",
    "    [\"COL\", 3.0, -1.0, 603.914079],\n",
    "    [\"COL\", 3.0, 0.0, 65314.962632],\n",
    "    [\"COL\", 3.0, 1.0, 913.755952],\n",
    "    [\"COL\", 4.0, -1.0, 3475.691478],\n",
    "    [\"COL\", 4.0, 0.0, 223495.762720],\n",
    "    [\"COL\", 4.0, 1.0, 4316.702990],\n",
    "]\n",
    "columns = [\"iso_code\", \"belt_class\", \"impact\", \"sum\"]"
   ]
  },
  {
   "cell_type": "code",
   "execution_count": null,
   "id": "acbcd974-900c-49cb-8c07-9925a0058682",
   "metadata": {},
   "outputs": [],
   "source": [
    "test_df = pd.DataFrame(test_data, columns=columns)\n",
    "test_df"
   ]
  }
 ],
 "metadata": {
  "kernelspec": {
   "display_name": "Python 3",
   "language": "python",
   "name": "python3"
  },
  "language_info": {
   "codemirror_mode": {
    "name": "ipython",
    "version": 3
   },
   "file_extension": ".py",
   "mimetype": "text/x-python",
   "name": "python",
   "nbconvert_exporter": "python",
   "pygments_lexer": "ipython3",
   "version": "3.8.10"
  }
 },
 "nbformat": 4,
 "nbformat_minor": 5
}
