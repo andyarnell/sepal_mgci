{
 "cells": [
  {
   "cell_type": "markdown",
   "id": "aa422aa3-b31f-4703-a34b-7fb8e7155d46",
   "metadata": {
    "tags": []
   },
   "source": [
    "# Read country area (raw from GEE)\n",
    "\n",
    "This workflow will read the area from the raw GEE file. Used in this script https://code.earthengine.google.com/bb89c118c424044bc00d9e4231fafb36"
   ]
  },
  {
   "cell_type": "code",
   "execution_count": null,
   "id": "41411c71-8827-4333-8a3a-d44beac04d35",
   "metadata": {},
   "outputs": [],
   "source": [
    "import pandas as pd\n",
    "import re"
   ]
  },
  {
   "cell_type": "code",
   "execution_count": null,
   "id": "bcbe9569-160c-4cff-aba9-98ec62782879",
   "metadata": {},
   "outputs": [],
   "source": [
    "df = pd.read_csv(\"data/all_countries_areas_global_country.csv\")"
   ]
  },
  {
   "cell_type": "code",
   "execution_count": null,
   "id": "ca355849-b0d3-4e56-bd3a-f9fe7f2fe7c3",
   "metadata": {},
   "outputs": [],
   "source": [
    "import re\n",
    "\n",
    "line = (\n",
    "    re.sub(r\"([a-zA-Z]+)\", r\"'\\1'\", df.results.loc[0])\n",
    "    .replace(\"=\", \":\")\n",
    "    .replace(\"'E'\", \"E\")\n",
    ")\n",
    "area = eval(line)"
   ]
  },
  {
   "cell_type": "code",
   "execution_count": null,
   "id": "c95ba2ea-098f-4db3-bd08-78437a57ff3a",
   "metadata": {},
   "outputs": [],
   "source": [
    "df = pd.DataFrame(area, columns=[\"ISOCode\", \"RSA\", \"PLAN\"])\n",
    "df = df.reset_index()"
   ]
  },
  {
   "cell_type": "code",
   "execution_count": null,
   "id": "cd225bc1-0e71-4e3a-9c63-a4c4ac609c39",
   "metadata": {},
   "outputs": [],
   "source": [
    "df[\"RSA\"] = pd.json_normalize(df[\"RSA\"])\n",
    "df[\"PLAN\"] = pd.json_normalize(df[\"PLAN\"])"
   ]
  },
  {
   "cell_type": "code",
   "execution_count": null,
   "id": "4503e2e2-1460-44c3-adce-4bf0296910ef",
   "metadata": {},
   "outputs": [],
   "source": [
    "df.to_csv(\"data/global_country_area.csv\")"
   ]
  }
 ],
 "metadata": {
  "kernelspec": {
   "display_name": "Python 3",
   "language": "python",
   "name": "python3"
  },
  "language_info": {
   "codemirror_mode": {
    "name": "ipython",
    "version": 3
   },
   "file_extension": ".py",
   "mimetype": "text/x-python",
   "name": "python",
   "nbconvert_exporter": "python",
   "pygments_lexer": "ipython3",
   "version": "3.8.10"
  }
 },
 "nbformat": 4,
 "nbformat_minor": 5
}
