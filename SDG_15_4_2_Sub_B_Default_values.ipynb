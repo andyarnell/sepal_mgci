{
  "cells": [
    {
      "cell_type": "markdown",
      "metadata": {
        "id": "view-in-github",
        "colab_type": "text"
      },
      "source": [
        "<a href=\"https://colab.research.google.com/github/andyarnell/sepal_mgci/blob/master/SDG_15_4_2_Sub_B_Default_values.ipynb\" target=\"_parent\"><img src=\"https://colab.research.google.com/assets/colab-badge.svg\" alt=\"Open In Colab\"/></a>"
      ]
    },
    {
      "cell_type": "markdown",
      "source": [
        "# **SDG 15.4.2 Sub-indicator B: Calculate Global Default Values**\n",
        "\n",
        "* This script allows batch processing for this indicator for all countries.\n",
        "\n",
        "* Output is a combined excel file on your Google Drive.\n",
        "\n",
        "* Runs on the cloud using [Google Colab](https://research.google.com/colaboratory/faq.html)\n",
        "\n",
        "* Requires: [Google Earth Engine](https://earthengine.google.com/) (GEE) account and project and access to Google Drive\n"
      ],
      "metadata": {
        "id": "82FWR5yMh0HV"
      }
    },
    {
      "cell_type": "markdown",
      "source": [
        "### 1) Install required packages"
      ],
      "metadata": {
        "id": "YdoCOI_1yWY0"
      }
    },
    {
      "cell_type": "code",
      "execution_count": 3,
      "metadata": {
        "colab": {
          "base_uri": "https://localhost:8080/",
          "height": 156
        },
        "id": "Kg3K1EPJu_f5",
        "outputId": "9f421ca5-6558-456a-8783-88b21464dbdd"
      },
      "outputs": [
        {
          "output_type": "stream",
          "name": "stdout",
          "text": [
            "The autoreload extension is already loaded. To reload it, use:\n",
            "  %reload_ext autoreload\n",
            "ipyvuetify is already installed.\n",
            "ee is already installed.\n",
            "unidecode is already installed.\n",
            "google-api-python-client has been installed.\n",
            "google-auth-httplib2 has been installed.\n",
            "google-auth-oauthlib has been installed.\n"
          ]
        }
      ],
      "source": [
        "# to automatically reload modules.\n",
        "%load_ext autoreload\n",
        "\n",
        "# Set to reload all modules before executing code.\n",
        "%autoreload 2\n",
        "\n",
        "# Function to install a package if it's not already installed\n",
        "def install_if_not_exists(package_name):\n",
        "    try:\n",
        "        __import__(package_name)\n",
        "        print(f\"{package_name} is already installed.\")\n",
        "    except ImportError:\n",
        "        !pip install -q {package_name}\n",
        "        print(f\"{package_name} has been installed.\")\n",
        "\n",
        "# List of packages to install if not already installed\n",
        "packages_to_install = ['ipyvuetify','ee', 'unidecode', 'google-api-python-client',\n",
        "                      'google-auth-httplib2', 'google-auth-oauthlib']\n",
        "\n",
        "# Install necessary packages\n",
        "for package in packages_to_install:\n",
        "    install_if_not_exists(package)"
      ]
    },
    {
      "cell_type": "markdown",
      "source": [
        "### 2) Access GitHub repository\n",
        "Clones repository for SDG 15.4.2 into colab.\n",
        "Provides functions and lookup tables etc."
      ],
      "metadata": {
        "id": "qGfLFLEkwS1n"
      }
    },
    {
      "cell_type": "code",
      "source": [
        "# Change the current working directory to \"/content\" for cloning the repo into.\n",
        "%cd \"/content\"\n",
        "\n",
        "# Clone the GitHub repository \"sepal_mgci\" into the current directory.\n",
        "# NB 'fatal' error on reruns are typically just saying it already exists\n",
        "# !git clone https://github.com/sepal-contrib/sepal_mgci\n",
        "\n",
        "!git clone https://github.com/andyarnell/sepal_mgci\n",
        "\n",
        "# Change working directory to the cloned sepal_mgci github repository\n",
        "%cd \"/content/sepal_mgci\""
      ],
      "metadata": {
        "id": "TNohZrOTvNqT",
        "colab": {
          "base_uri": "https://localhost:8080/"
        },
        "outputId": "1bc861f3-07ab-4c72-e229-38e4f6fead17"
      },
      "execution_count": 4,
      "outputs": [
        {
          "output_type": "stream",
          "name": "stdout",
          "text": [
            "/content\n",
            "fatal: destination path 'sepal_mgci' already exists and is not an empty directory.\n",
            "/content/sepal_mgci\n"
          ]
        }
      ]
    },
    {
      "cell_type": "markdown",
      "source": [
        "### 3) Setup Google Earth Engine\n",
        "Launches access request pop up window"
      ],
      "metadata": {
        "id": "FAzzmzMHzFmS"
      }
    },
    {
      "cell_type": "code",
      "source": [
        "# Google Earth Engine project\n",
        "gee_project_name = \"ee-andyarnellgee\" # \"insert cloud project here\"  # a registered cloud project (if unsure of name see pic here: https://developers.google.com/earth-engine/cloud/assets)\n",
        "\n",
        "import ee # google earth engine\n",
        "\n",
        "ee.Authenticate()\n",
        "\n",
        "ee.Initialize(project=gee_project_name) # NB gee project name is defined in parameters section"
      ],
      "metadata": {
        "id": "gHI-M8y_qwaP"
      },
      "execution_count": 5,
      "outputs": []
    },
    {
      "cell_type": "markdown",
      "source": [
        "### 4) Setup Google Drive\n",
        "Launches access request pop up window"
      ],
      "metadata": {
        "id": "aUVGL6zwLpX5"
      }
    },
    {
      "cell_type": "code",
      "source": [
        "# for accessing google drive\n",
        "from google.colab import auth, drive\n",
        "from googleapiclient.discovery import build\n",
        "\n",
        "drive.mount('/content/drive')"
      ],
      "metadata": {
        "id": "NorUzAJ8Kj0Z",
        "colab": {
          "base_uri": "https://localhost:8080/"
        },
        "outputId": "2a91b31b-6f2d-45ea-e0af-6708e46939e8"
      },
      "execution_count": 6,
      "outputs": [
        {
          "output_type": "stream",
          "name": "stdout",
          "text": [
            "Mounted at /content/drive\n"
          ]
        }
      ]
    },
    {
      "cell_type": "markdown",
      "source": [
        "### 5) Import remaining packages"
      ],
      "metadata": {
        "id": "L5jsWgqWyiCP"
      }
    },
    {
      "cell_type": "code",
      "source": [
        "from component.scripts.colab_imports import * # import all packages listed in the imports.py script"
      ],
      "metadata": {
        "id": "2Wquh4ZQbgfZ",
        "colab": {
          "base_uri": "https://localhost:8080/"
        },
        "outputId": "b6ba8eee-d0e3-4dea-b744-05e6b6a8fbb2"
      },
      "execution_count": 7,
      "outputs": [
        {
          "output_type": "stream",
          "name": "stdout",
          "text": [
            "Imports complete\n"
          ]
        }
      ]
    },
    {
      "cell_type": "markdown",
      "source": [
        "### 6) Set parameters\n"
      ],
      "metadata": {
        "id": "Bi0XpRRDo6V1"
      }
    },
    {
      "cell_type": "markdown",
      "source": [
        "Input parameters"
      ],
      "metadata": {
        "id": "5aIr_OxkG-Ky"
      }
    },
    {
      "cell_type": "code",
      "source": [
        "\n",
        "# Admin boundaries asset\n",
        "admin_asset_id = \"FAO/GAUL/2015/level0\" # administrative units feature collection\n",
        "\n",
        "admin_asset_property_name = \"ADM0_NAME\" # property/column name for selecting admin boundaries (e.g. ISO3 code or country name)\n",
        "\n",
        "\n",
        "# Land cover assets\n",
        "\n",
        "# For Sub-indicator B (sub_b), we need to set the following structure\n",
        "sub_b_year = {\n",
        "    \"baseline\": {\n",
        "        \"base\": {\n",
        "            \"asset\": \"users/amitghosh/sdg_module/esa/cci_landcover/2000\",\n",
        "            \"year\": 2000,\n",
        "        },\n",
        "        \"report\": {\n",
        "            \"asset\": \"users/amitghosh/sdg_module/esa/cci_landcover/2015\",\n",
        "            \"year\": 2015,\n",
        "        },\n",
        "    },\n",
        "    # And the reporting year\n",
        "    2: {\"asset\": \"users/amitghosh/sdg_module/esa/cci_landcover/2018\", \"year\": 2018},\n",
        "}\n"
      ],
      "metadata": {
        "id": "t9C1qT5bGoqt"
      },
      "execution_count": 8,
      "outputs": []
    },
    {
      "cell_type": "markdown",
      "source": [
        "Output parameters\n",
        "- NB if no CSVs are being created, check that 'export = True' below.\n",
        "\n",
        "---\n",
        "\n"
      ],
      "metadata": {
        "id": "naz3Qe4JHFER"
      }
    },
    {
      "cell_type": "code",
      "source": [
        "final_report_folder = \"sdg_15_4_2_B_combined_report\" # folder name in Google Drive for final output (if doesnt exist creates one)\n",
        "\n",
        "final_report_name = \"sdg_15_4_2_B_default_global.xlsx\" # file name for final excel output\n",
        "\n",
        "# export GEE tasks or not\n",
        "export = True # default: True. Set to False if debugging or limiting accidental re-exporting of tasks\n",
        "\n",
        "# prints more messages\n",
        "debug = False # default: False. Set to True if debugging code"
      ],
      "metadata": {
        "id": "mSvTM29TnndR"
      },
      "execution_count": 9,
      "outputs": []
    },
    {
      "cell_type": "markdown",
      "source": [
        "Temporary output parameters\n"
      ],
      "metadata": {
        "id": "iV8-wbddOJuT"
      }
    },
    {
      "cell_type": "code",
      "source": [
        "stats_csv_folder = \"sdg_15_4_2_B_csvs\" # for storing stats tables exported from GEE for each admin boundary/AOI\n",
        "\n",
        "excel_reports_folder = \"sdg_15_4_2_B_reports\" # for storing formatted excel tables for each admin boundary/AOI\n",
        "\n",
        "drive_home =\"/content/drive/MyDrive/\" # Google Drive location. Don't change unless you know this is incorrect\n",
        "\n",
        "error_log_file_path = drive_home + excel_reports_folder + \"/\"+\"1_error_log\" +\".csv\" # for storing errors\n"
      ],
      "metadata": {
        "id": "TCBNkALuOL1N"
      },
      "execution_count": 10,
      "outputs": []
    },
    {
      "cell_type": "markdown",
      "source": [
        "### 7) Setup inputs for processing\n"
      ],
      "metadata": {
        "id": "dVfL5w0eBi4I"
      }
    },
    {
      "cell_type": "markdown",
      "source": [
        "Create list of boundaries to process"
      ],
      "metadata": {
        "id": "qi5zNGTWN3df"
      }
    },
    {
      "cell_type": "code",
      "source": [
        "# admin boundary feature collection\n",
        "admin_boundaries = ee.FeatureCollection(admin_asset_id)\n",
        "\n",
        "# list to process\n",
        "list_of_countries = admin_boundaries.aggregate_array(admin_asset_property_name).getInfo()\n",
        "\n",
        "print (\"Length of admin boundaries to process\", len(list_of_countries))\n",
        "\n",
        "list_of_countries = list(set(list_of_countries)) # remove dupicates\n",
        "\n",
        "print (\"Length of distinct admin boundaries to process\", (len(set(list_of_countries))))\n"
      ],
      "metadata": {
        "id": "BiuBEJwPue2v",
        "colab": {
          "base_uri": "https://localhost:8080/"
        },
        "outputId": "39580edb-1fe0-40e0-d324-9b237a051a12"
      },
      "execution_count": 11,
      "outputs": [
        {
          "output_type": "stream",
          "name": "stdout",
          "text": [
            "Length of admin boundaries to process 292\n",
            "Length of distinct admin boundaries to process 276\n"
          ]
        }
      ]
    },
    {
      "cell_type": "markdown",
      "source": [
        "Read the default land cover remapping table and convert it to a dictionary"
      ],
      "metadata": {
        "id": "2G1q9TSiUsc1"
      }
    },
    {
      "cell_type": "code",
      "execution_count": 12,
      "metadata": {
        "id": "PRSEqq5bu_f7"
      },
      "outputs": [],
      "source": [
        "default_map_matrix = map_matrix_to_dict(LC_MAP_MATRIX) # LC_MAP_MATRIX stores the path to the remapping table"
      ]
    },
    {
      "cell_type": "markdown",
      "source": [
        "Set the default transition matrix file path."
      ],
      "metadata": {
        "id": "P_qX5MSJZ9gs"
      }
    },
    {
      "cell_type": "code",
      "source": [
        "default_transition_matrix_path = TRANSITION_MATRIX_FILE #  location of the CSV table defining which land cover transitions are “degradation” etc.\n",
        "print(default_transition_matrix_path) # view the file path"
      ],
      "metadata": {
        "colab": {
          "base_uri": "https://localhost:8080/"
        },
        "id": "REH6-a1xZ9VI",
        "outputId": "a818c65d-58af-401d-b532-4e50543d0120"
      },
      "execution_count": 13,
      "outputs": [
        {
          "output_type": "stream",
          "name": "stdout",
          "text": [
            "/content/sepal_mgci/component/parameter/transition_matrix.csv\n"
          ]
        }
      ]
    },
    {
      "cell_type": "markdown",
      "source": [
        "Select years of land cover to process"
      ],
      "metadata": {
        "id": "4-Ut_-S35Yg8"
      }
    },
    {
      "cell_type": "code",
      "execution_count": 14,
      "metadata": {
        "id": "PwqJFWR4u_f7",
        "collapsed": true,
        "colab": {
          "base_uri": "https://localhost:8080/"
        },
        "outputId": "b0a8f723-9076-4ff7-ecff-41d8a23b35f0"
      },
      "outputs": [
        {
          "output_type": "execute_result",
          "data": {
            "text/plain": [
              "[({'asset': 'users/amitghosh/sdg_module/esa/cci_landcover/2000', 'year': 2000},\n",
              "  {'asset': 'users/amitghosh/sdg_module/esa/cci_landcover/2015', 'year': 2015},\n",
              "  {'asset': 'users/amitghosh/sdg_module/esa/cci_landcover/2018',\n",
              "   'year': 2018})]"
            ]
          },
          "metadata": {},
          "execution_count": 14
        }
      ],
      "source": [
        "# extracts the years from the b_years dictionary\n",
        "years = get_b_years(sub_b_year)\n",
        "years"
      ]
    },
    {
      "cell_type": "markdown",
      "source": [
        "### 8) Calculate area statistics by country\n",
        "* Runs for each country and each mountain biobelt\n",
        "* Gets area of land cover reclassified into the 10 SEAM classes\n",
        "* Repeat for each year specified\n"
      ],
      "metadata": {
        "id": "iNxHtR984cNk"
      }
    },
    {
      "cell_type": "code",
      "execution_count": 15,
      "metadata": {
        "id": "VftKLuY4u_f7",
        "colab": {
          "base_uri": "https://localhost:8080/"
        },
        "outputId": "3bb2db1c-654a-416d-945b-e8b5c685a480"
      },
      "outputs": [
        {
          "output_type": "stream",
          "name": "stdout",
          "text": [
            "Folder 'sdg_15_4_2_B_csvs' already exists.\n",
            " process 276/276 Liechtenstein "
          ]
        }
      ],
      "source": [
        "# you can monitor your GEE tasks here : https://code.earthengine.google.com/tasks\n",
        "\n",
        "create_folder_if_not_exists(stats_csv_folder) # to store outputs in google drive\n",
        "\n",
        "counter=0 # starting place of counter used to keep track of number of tasks that are being run\n",
        "\n",
        "for aoi_name in list_of_countries:\n",
        "\n",
        "  aoi = admin_boundaries.filter(ee.Filter.eq(admin_asset_property_name,aoi_name))#.first()\n",
        "\n",
        "  process = ee.FeatureCollection([\n",
        "      ee.Feature(\n",
        "          None,\n",
        "          reduce_regions(\n",
        "              aoi,\n",
        "              remap_matrix=default_map_matrix,\n",
        "              rsa=False,\n",
        "              dem=DEM_DEFAULT, #default digital elevation model (DEM). Relevant for the real surface area (RSA) implementation.\n",
        "              lc_years= year,\n",
        "              transition_matrix=default_transition_matrix_path # a matrix of transitions between land cover classes. Used to assess if change between two inputs is to a different (e.g. degraded) state\n",
        "          )\n",
        "      ).set(\"process_id\", \"_\".join([str(y[\"year\"]) for y in year]))\n",
        "  for year in years # creates GEE images for each year listed and counts areas under different transitions Subindicator B. Images to run are in the 'b_years\" dictionary (above)\n",
        "  ])\n",
        "  #make name acceptable for running tasks (i.e., removes special characters)\n",
        "  task_name = str(sanitize_description(unidecode(aoi_name)))\n",
        "\n",
        "  task = ee.batch.Export.table.toDrive(\n",
        "      **{  #asterisks unpack dictionary into keyword arguments format\n",
        "          \"collection\": process,\n",
        "          \"description\": task_name,\n",
        "          \"fileFormat\": \"CSV\",\n",
        "          \"folder\":stats_csv_folder\n",
        "      }\n",
        "  )\n",
        "\n",
        "  counter+=1\n",
        "\n",
        "  print (f\"\\r process {counter}/{len(list_of_countries)} {aoi_name} \", end=\"\") #print in place (remove \\r and end=\"\" for verbose version)\n",
        "\n",
        "  if export:\n",
        "    task.start()\n",
        "\n"
      ]
    },
    {
      "cell_type": "markdown",
      "metadata": {
        "id": "vM0SIvJtu_f8"
      },
      "source": [
        "### 9) Read and translate results into report tables for each country"
      ]
    },
    {
      "cell_type": "markdown",
      "source": [
        "#####NOTE: you will need to wait until results files for each country have been created in your google drive (from previous step).\n",
        "- see here to monitor the tasks https://code.earthengine.google.com/tasks\n",
        "- once tasks are complete, you can run the cell below\n",
        "\n",
        "This cell formats individual excel reports for each country.\n",
        "See Error_log.csv for missing files/errors"
      ],
      "metadata": {
        "id": "3x7jwkZJWwE-"
      }
    },
    {
      "cell_type": "code",
      "execution_count": 18,
      "metadata": {
        "id": "qkpDfHqQu_f9",
        "colab": {
          "base_uri": "https://localhost:8080/"
        },
        "outputId": "8c6769bd-1549-4627-8d66-0a220c1b6fdd"
      },
      "outputs": [
        {
          "output_type": "stream",
          "name": "stdout",
          "text": [
            "Folder 'sdg_15_4_2_B_reports' already exists.\n",
            "process 1, Timor-Leste.csv, Error: [Errno 2] No such file or directory: '/content/drive/MyDrive/sdg_15_4_2_B_csvs/Timor-Leste.csv'\n",
            "process 2, Ethiopia.csv, Error: [Errno 2] No such file or directory: '/content/drive/MyDrive/sdg_15_4_2_B_csvs/Ethiopia.csv'\n",
            "Reporting {'baseline': (2000, 2015)} for sub_b\n",
            "Reporting {'report': [2015, 2018]} for sub_b\n",
            "Process 3, Andorra.csv\n",
            "process 4, Togo.csv, Error: [Errno 2] No such file or directory: '/content/drive/MyDrive/sdg_15_4_2_B_csvs/Togo.csv'\n",
            "Reporting {'baseline': (2000, 2015)} for sub_b\n",
            "Reporting {'report': [2015, 2018]} for sub_b\n",
            "Process 5, British Virgin Islands.csv\n",
            "process 6, Cameroon.csv, Error: [Errno 2] No such file or directory: '/content/drive/MyDrive/sdg_15_4_2_B_csvs/Cameroon.csv'\n",
            "process 7, Paracel Islands.csv, Error: [Errno 2] No such file or directory: '/content/drive/MyDrive/sdg_15_4_2_B_csvs/Paracel Islands.csv'\n",
            "process 8, Niue.csv, Error: [Errno 2] No such file or directory: '/content/drive/MyDrive/sdg_15_4_2_B_csvs/Niue.csv'\n",
            "process 9, United States Virgin Islands.csv, Error: [Errno 2] No such file or directory: '/content/drive/MyDrive/sdg_15_4_2_B_csvs/United States Virgin Islands.csv'\n",
            "process 10, Clipperton Island.csv, Error: [Errno 2] No such file or directory: '/content/drive/MyDrive/sdg_15_4_2_B_csvs/Clipperton Island.csv'\n",
            "Reporting {'baseline': (2000, 2015)} for sub_b\n",
            "Reporting {'report': [2015, 2018]} for sub_b\n",
            "Process 11, Mongolia.csv\n",
            "process 12, Solomon Islands.csv, Error: [Errno 2] No such file or directory: '/content/drive/MyDrive/sdg_15_4_2_B_csvs/Solomon Islands.csv'\n",
            "process 13, Venezuela.csv, Error: [Errno 2] No such file or directory: '/content/drive/MyDrive/sdg_15_4_2_B_csvs/Venezuela.csv'\n",
            "process 14, Tajikistan.csv, Error: [Errno 2] No such file or directory: '/content/drive/MyDrive/sdg_15_4_2_B_csvs/Tajikistan.csv'\n",
            "Reporting {'baseline': (2000, 2015)} for sub_b\n",
            "process 15, Palmyra Atoll.csv, Error: 'DataFrame' object has no attribute 'transition'\n",
            "process 16, Guinea-Bissau.csv, Error: [Errno 2] No such file or directory: '/content/drive/MyDrive/sdg_15_4_2_B_csvs/Guinea-Bissau.csv'\n",
            "process 17, Central African Republic.csv, Error: [Errno 2] No such file or directory: '/content/drive/MyDrive/sdg_15_4_2_B_csvs/Central African Republic.csv'\n",
            "process 18, Baker Island.csv, Error: [Errno 2] No such file or directory: '/content/drive/MyDrive/sdg_15_4_2_B_csvs/Baker Island.csv'\n",
            "Reporting {'baseline': (2000, 2015)} for sub_b\n",
            "Reporting {'report': [2015, 2018]} for sub_b\n",
            "Process 19, Israel.csv\n",
            "Reporting {'baseline': (2000, 2015)} for sub_b\n",
            "Reporting {'report': [2015, 2018]} for sub_b\n",
            "Process 20, Botswana.csv\n",
            "process 21, Finland.csv, Error: [Errno 2] No such file or directory: '/content/drive/MyDrive/sdg_15_4_2_B_csvs/Finland.csv'\n",
            "process 22, Belarus.csv, Error: [Errno 2] No such file or directory: '/content/drive/MyDrive/sdg_15_4_2_B_csvs/Belarus.csv'\n",
            "process 23, Italy.csv, Error: [Errno 2] No such file or directory: '/content/drive/MyDrive/sdg_15_4_2_B_csvs/Italy.csv'\n",
            "Reporting {'baseline': (2000, 2015)} for sub_b\n",
            "Reporting {'report': [2015, 2018]} for sub_b\n",
            "Process 24, Iraq.csv\n",
            "process 25, Saint Helena.csv, Error: [Errno 2] No such file or directory: '/content/drive/MyDrive/sdg_15_4_2_B_csvs/Saint Helena.csv'\n",
            "process 26, San Marino.csv, Error: [Errno 2] No such file or directory: '/content/drive/MyDrive/sdg_15_4_2_B_csvs/San Marino.csv'\n",
            "process 27, Guyana.csv, Error: [Errno 2] No such file or directory: '/content/drive/MyDrive/sdg_15_4_2_B_csvs/Guyana.csv'\n",
            "process 28, Bolivia.csv, Error: [Errno 2] No such file or directory: '/content/drive/MyDrive/sdg_15_4_2_B_csvs/Bolivia.csv'\n",
            "Reporting {'baseline': (2000, 2015)} for sub_b\n",
            "Reporting {'report': [2015, 2018]} for sub_b\n",
            "Process 29, Reunion.csv\n",
            "process 30, Rwanda.csv, Error: [Errno 2] No such file or directory: '/content/drive/MyDrive/sdg_15_4_2_B_csvs/Rwanda.csv'\n",
            "process 31, Namibia.csv, Error: [Errno 2] No such file or directory: '/content/drive/MyDrive/sdg_15_4_2_B_csvs/Namibia.csv'\n",
            "process 32, Anguilla.csv, Error: [Errno 2] No such file or directory: '/content/drive/MyDrive/sdg_15_4_2_B_csvs/Anguilla.csv'\n",
            "process 33, Chad.csv, Error: [Errno 2] No such file or directory: '/content/drive/MyDrive/sdg_15_4_2_B_csvs/Chad.csv'\n",
            "Reporting {'baseline': (2000, 2015)} for sub_b\n",
            "Reporting {'report': [2015, 2018]} for sub_b\n",
            "Process 34, Somalia.csv\n",
            "process 35, Armenia.csv, Error: [Errno 2] No such file or directory: '/content/drive/MyDrive/sdg_15_4_2_B_csvs/Armenia.csv'\n",
            "process 36, Sweden.csv, Error: [Errno 2] No such file or directory: '/content/drive/MyDrive/sdg_15_4_2_B_csvs/Sweden.csv'\n",
            "Reporting {'baseline': (2000, 2015)} for sub_b\n",
            "Reporting {'report': [2015, 2018]} for sub_b\n",
            "Process 37, Isle of Man.csv\n",
            "process 38, Antarctica.csv, Error: [Errno 2] No such file or directory: '/content/drive/MyDrive/sdg_15_4_2_B_csvs/Antarctica.csv'\n",
            "process 39, Jersey.csv, Error: [Errno 2] No such file or directory: '/content/drive/MyDrive/sdg_15_4_2_B_csvs/Jersey.csv'\n",
            "process 40, Mexico.csv, Error: [Errno 2] No such file or directory: '/content/drive/MyDrive/sdg_15_4_2_B_csvs/Mexico.csv'\n",
            "process 41, Hungary.csv, Error: [Errno 2] No such file or directory: '/content/drive/MyDrive/sdg_15_4_2_B_csvs/Hungary.csv'\n",
            "process 42, New Caledonia.csv, Error: [Errno 2] No such file or directory: '/content/drive/MyDrive/sdg_15_4_2_B_csvs/New Caledonia.csv'\n",
            "process 43, Bahamas.csv, Error: [Errno 2] No such file or directory: '/content/drive/MyDrive/sdg_15_4_2_B_csvs/Bahamas.csv'\n",
            "process 44, The former Yugoslav Republic of Macedonia.csv, Error: [Errno 2] No such file or directory: '/content/drive/MyDrive/sdg_15_4_2_B_csvs/The former Yugoslav Republic of Macedonia.csv'\n",
            "process 45, Western Sahara.csv, Error: [Errno 2] No such file or directory: '/content/drive/MyDrive/sdg_15_4_2_B_csvs/Western Sahara.csv'\n",
            "process 46, Abyei.csv, Error: [Errno 2] No such file or directory: '/content/drive/MyDrive/sdg_15_4_2_B_csvs/Abyei.csv'\n",
            "Reporting {'baseline': (2000, 2015)} for sub_b\n",
            "Reporting {'report': [2015, 2018]} for sub_b\n",
            "Process 47, Montserrat.csv\n",
            "process 48, Peru.csv, Error: [Errno 2] No such file or directory: '/content/drive/MyDrive/sdg_15_4_2_B_csvs/Peru.csv'\n",
            "process 49, Norfolk Island.csv, Error: [Errno 2] No such file or directory: '/content/drive/MyDrive/sdg_15_4_2_B_csvs/Norfolk Island.csv'\n",
            "process 50, Libya.csv, Error: [Errno 2] No such file or directory: '/content/drive/MyDrive/sdg_15_4_2_B_csvs/Libya.csv'\n",
            "process 51, Wake Island.csv, Error: [Errno 2] No such file or directory: '/content/drive/MyDrive/sdg_15_4_2_B_csvs/Wake Island.csv'\n",
            "process 52, Tunisia.csv, Error: [Errno 2] No such file or directory: '/content/drive/MyDrive/sdg_15_4_2_B_csvs/Tunisia.csv'\n",
            "process 53, Burkina Faso.csv, Error: [Errno 2] No such file or directory: '/content/drive/MyDrive/sdg_15_4_2_B_csvs/Burkina Faso.csv'\n",
            "Reporting {'baseline': (2000, 2015)} for sub_b\n",
            "process 54, Cocos Keeling Islands.csv, Error: 'DataFrame' object has no attribute 'transition'\n",
            "process 55, Zimbabwe.csv, Error: [Errno 2] No such file or directory: '/content/drive/MyDrive/sdg_15_4_2_B_csvs/Zimbabwe.csv'\n",
            "process 56, Bangladesh.csv, Error: [Errno 2] No such file or directory: '/content/drive/MyDrive/sdg_15_4_2_B_csvs/Bangladesh.csv'\n",
            "process 57, Guinea.csv, Error: [Errno 2] No such file or directory: '/content/drive/MyDrive/sdg_15_4_2_B_csvs/Guinea.csv'\n",
            "process 58, Dominican Republic.csv, Error: [Errno 2] No such file or directory: '/content/drive/MyDrive/sdg_15_4_2_B_csvs/Dominican Republic.csv'\n",
            "process 59, Ecuador.csv, Error: [Errno 2] No such file or directory: '/content/drive/MyDrive/sdg_15_4_2_B_csvs/Ecuador.csv'\n",
            "process 60, Algeria.csv, Error: [Errno 2] No such file or directory: '/content/drive/MyDrive/sdg_15_4_2_B_csvs/Algeria.csv'\n",
            "Reporting {'baseline': (2000, 2015)} for sub_b\n",
            "Reporting {'report': [2015, 2018]} for sub_b\n",
            "Process 61, Tonga.csv\n",
            "process 62, Egypt.csv, Error: [Errno 2] No such file or directory: '/content/drive/MyDrive/sdg_15_4_2_B_csvs/Egypt.csv'\n",
            "process 63, United States of America.csv, Error: [Errno 2] No such file or directory: '/content/drive/MyDrive/sdg_15_4_2_B_csvs/United States of America.csv'\n",
            "process 64, Kuwait.csv, Error: [Errno 2] No such file or directory: '/content/drive/MyDrive/sdg_15_4_2_B_csvs/Kuwait.csv'\n",
            "process 65, Turkey.csv, Error: [Errno 2] No such file or directory: '/content/drive/MyDrive/sdg_15_4_2_B_csvs/Turkey.csv'\n",
            "process 66, Macau.csv, Error: [Errno 2] No such file or directory: '/content/drive/MyDrive/sdg_15_4_2_B_csvs/Macau.csv'\n",
            "Reporting {'baseline': (2000, 2015)} for sub_b\n",
            "Reporting {'report': [2015, 2018]} for sub_b\n",
            "Process 67, Serbia.csv\n",
            "process 68, Morocco.csv, Error: [Errno 2] No such file or directory: '/content/drive/MyDrive/sdg_15_4_2_B_csvs/Morocco.csv'\n",
            "process 69, Azerbaijan.csv, Error: [Errno 2] No such file or directory: '/content/drive/MyDrive/sdg_15_4_2_B_csvs/Azerbaijan.csv'\n",
            "process 70, Bermuda.csv, Error: [Errno 2] No such file or directory: '/content/drive/MyDrive/sdg_15_4_2_B_csvs/Bermuda.csv'\n",
            "process 71, Yemen.csv, Error: [Errno 2] No such file or directory: '/content/drive/MyDrive/sdg_15_4_2_B_csvs/Yemen.csv'\n",
            "process 72, Scarborough Reef.csv, Error: [Errno 2] No such file or directory: '/content/drive/MyDrive/sdg_15_4_2_B_csvs/Scarborough Reef.csv'\n",
            "process 73, Canada.csv, Error: [Errno 2] No such file or directory: '/content/drive/MyDrive/sdg_15_4_2_B_csvs/Canada.csv'\n",
            "process 74, Kazakhstan.csv, Error: [Errno 2] No such file or directory: '/content/drive/MyDrive/sdg_15_4_2_B_csvs/Kazakhstan.csv'\n",
            "process 75, Howland Island.csv, Error: [Errno 2] No such file or directory: '/content/drive/MyDrive/sdg_15_4_2_B_csvs/Howland Island.csv'\n",
            "process 76, French Polynesia.csv, Error: [Errno 2] No such file or directory: '/content/drive/MyDrive/sdg_15_4_2_B_csvs/French Polynesia.csv'\n",
            "process 77, Greece.csv, Error: [Errno 2] No such file or directory: '/content/drive/MyDrive/sdg_15_4_2_B_csvs/Greece.csv'\n",
            "process 78, Uzbekistan.csv, Error: [Errno 2] No such file or directory: '/content/drive/MyDrive/sdg_15_4_2_B_csvs/Uzbekistan.csv'\n",
            "process 79, Puerto Rico.csv, Error: [Errno 2] No such file or directory: '/content/drive/MyDrive/sdg_15_4_2_B_csvs/Puerto Rico.csv'\n",
            "process 80, United Republic of Tanzania.csv, Error: [Errno 2] No such file or directory: '/content/drive/MyDrive/sdg_15_4_2_B_csvs/United Republic of Tanzania.csv'\n",
            "process 81, Syrian Arab Republic.csv, Error: [Errno 2] No such file or directory: '/content/drive/MyDrive/sdg_15_4_2_B_csvs/Syrian Arab Republic.csv'\n",
            "process 82, Belize.csv, Error: [Errno 2] No such file or directory: '/content/drive/MyDrive/sdg_15_4_2_B_csvs/Belize.csv'\n",
            "process 83, Saint Kitts and Nevis.csv, Error: [Errno 2] No such file or directory: '/content/drive/MyDrive/sdg_15_4_2_B_csvs/Saint Kitts and Nevis.csv'\n",
            "process 84, Dominica.csv, Error: [Errno 2] No such file or directory: '/content/drive/MyDrive/sdg_15_4_2_B_csvs/Dominica.csv'\n",
            "process 85, Mozambique.csv, Error: [Errno 2] No such file or directory: '/content/drive/MyDrive/sdg_15_4_2_B_csvs/Mozambique.csv'\n",
            "process 86, Sierra Leone.csv, Error: [Errno 2] No such file or directory: '/content/drive/MyDrive/sdg_15_4_2_B_csvs/Sierra Leone.csv'\n",
            "process 87, Denmark.csv, Error: [Errno 2] No such file or directory: '/content/drive/MyDrive/sdg_15_4_2_B_csvs/Denmark.csv'\n",
            "process 88, Mauritania.csv, Error: [Errno 2] No such file or directory: '/content/drive/MyDrive/sdg_15_4_2_B_csvs/Mauritania.csv'\n",
            "process 89, Madagascar.csv, Error: [Errno 2] No such file or directory: '/content/drive/MyDrive/sdg_15_4_2_B_csvs/Madagascar.csv'\n",
            "Reporting {'baseline': (2000, 2015)} for sub_b\n",
            "Reporting {'report': [2015, 2018]} for sub_b\n",
            "Process 90, Martinique.csv\n",
            "process 91, Kenya.csv, Error: [Errno 2] No such file or directory: '/content/drive/MyDrive/sdg_15_4_2_B_csvs/Kenya.csv'\n",
            "process 92, Democratic Republic of the Congo.csv, Error: [Errno 2] No such file or directory: '/content/drive/MyDrive/sdg_15_4_2_B_csvs/Democratic Republic of the Congo.csv'\n",
            "Reporting {'baseline': (2000, 2015)} for sub_b\n",
            "Reporting {'report': [2015, 2018]} for sub_b\n",
            "Process 93, Thailand.csv\n",
            "process 94, Benin.csv, Error: [Errno 2] No such file or directory: '/content/drive/MyDrive/sdg_15_4_2_B_csvs/Benin.csv'\n",
            "process 95, Albania.csv, Error: [Errno 2] No such file or directory: '/content/drive/MyDrive/sdg_15_4_2_B_csvs/Albania.csv'\n",
            "process 96, Indonesia.csv, Error: [Errno 2] No such file or directory: '/content/drive/MyDrive/sdg_15_4_2_B_csvs/Indonesia.csv'\n",
            "process 97, New Zealand.csv, Error: [Errno 2] No such file or directory: '/content/drive/MyDrive/sdg_15_4_2_B_csvs/New Zealand.csv'\n",
            "process 98, Russian Federation.csv, Error: [Errno 2] No such file or directory: '/content/drive/MyDrive/sdg_15_4_2_B_csvs/Russian Federation.csv'\n",
            "process 99, Suriname.csv, Error: [Errno 2] No such file or directory: '/content/drive/MyDrive/sdg_15_4_2_B_csvs/Suriname.csv'\n",
            "process 100, Mauritius.csv, Error: [Errno 2] No such file or directory: '/content/drive/MyDrive/sdg_15_4_2_B_csvs/Mauritius.csv'\n",
            "process 101, Iran  Islamic Republic of.csv, Error: [Errno 2] No such file or directory: '/content/drive/MyDrive/sdg_15_4_2_B_csvs/Iran  Islamic Republic of.csv'\n",
            "process 102, Myanmar.csv, Error: [Errno 2] No such file or directory: '/content/drive/MyDrive/sdg_15_4_2_B_csvs/Myanmar.csv'\n",
            "process 103, Iceland.csv, Error: [Errno 2] No such file or directory: '/content/drive/MyDrive/sdg_15_4_2_B_csvs/Iceland.csv'\n",
            "Reporting {'baseline': (2000, 2015)} for sub_b\n",
            "Reporting {'report': [2015, 2018]} for sub_b\n",
            "Process 104, Fiji.csv\n",
            "process 105, Trinidad and Tobago.csv, Error: [Errno 2] No such file or directory: '/content/drive/MyDrive/sdg_15_4_2_B_csvs/Trinidad and Tobago.csv'\n",
            "process 106, Zambia.csv, Error: [Errno 2] No such file or directory: '/content/drive/MyDrive/sdg_15_4_2_B_csvs/Zambia.csv'\n",
            "process 107, Holy See.csv, Error: [Errno 2] No such file or directory: '/content/drive/MyDrive/sdg_15_4_2_B_csvs/Holy See.csv'\n",
            "process 108, Niger.csv, Error: [Errno 2] No such file or directory: '/content/drive/MyDrive/sdg_15_4_2_B_csvs/Niger.csv'\n",
            "process 109, Lao Peoples Democratic Republic.csv, Error: [Errno 2] No such file or directory: '/content/drive/MyDrive/sdg_15_4_2_B_csvs/Lao Peoples Democratic Republic.csv'\n",
            "process 110, Germany.csv, Error: [Errno 2] No such file or directory: '/content/drive/MyDrive/sdg_15_4_2_B_csvs/Germany.csv'\n",
            "process 111, Cape Verde.csv, Error: [Errno 2] No such file or directory: '/content/drive/MyDrive/sdg_15_4_2_B_csvs/Cape Verde.csv'\n",
            "process 112, Saudi Arabia.csv, Error: [Errno 2] No such file or directory: '/content/drive/MyDrive/sdg_15_4_2_B_csvs/Saudi Arabia.csv'\n",
            "process 113, Poland.csv, Error: [Errno 2] No such file or directory: '/content/drive/MyDrive/sdg_15_4_2_B_csvs/Poland.csv'\n",
            "process 114, Eritrea.csv, Error: [Errno 2] No such file or directory: '/content/drive/MyDrive/sdg_15_4_2_B_csvs/Eritrea.csv'\n",
            "process 115, Malaysia.csv, Error: [Errno 2] No such file or directory: '/content/drive/MyDrive/sdg_15_4_2_B_csvs/Malaysia.csv'\n",
            "process 116, Estonia.csv, Error: [Errno 2] No such file or directory: '/content/drive/MyDrive/sdg_15_4_2_B_csvs/Estonia.csv'\n",
            "process 117, Tromelin Island.csv, Error: [Errno 2] No such file or directory: '/content/drive/MyDrive/sdg_15_4_2_B_csvs/Tromelin Island.csv'\n",
            "Reporting {'baseline': (2000, 2015)} for sub_b\n",
            "Reporting {'report': [2015, 2018]} for sub_b\n",
            "Process 118, Faroe Islands.csv\n",
            "process 119, Gambia.csv, Error: [Errno 2] No such file or directory: '/content/drive/MyDrive/sdg_15_4_2_B_csvs/Gambia.csv'\n",
            "process 120, Guadeloupe.csv, Error: [Errno 2] No such file or directory: '/content/drive/MyDrive/sdg_15_4_2_B_csvs/Guadeloupe.csv'\n",
            "process 121, Jamaica.csv, Error: [Errno 2] No such file or directory: '/content/drive/MyDrive/sdg_15_4_2_B_csvs/Jamaica.csv'\n",
            "process 122, Viet Nam.csv, Error: [Errno 2] No such file or directory: '/content/drive/MyDrive/sdg_15_4_2_B_csvs/Viet Nam.csv'\n",
            "process 123, Cambodia.csv, Error: [Errno 2] No such file or directory: '/content/drive/MyDrive/sdg_15_4_2_B_csvs/Cambodia.csv'\n",
            "process 124, Bird Island.csv, Error: [Errno 2] No such file or directory: '/content/drive/MyDrive/sdg_15_4_2_B_csvs/Bird Island.csv'\n",
            "process 125, Argentina.csv, Error: [Errno 2] No such file or directory: '/content/drive/MyDrive/sdg_15_4_2_B_csvs/Argentina.csv'\n",
            "process 126, Azores Islands.csv, Error: [Errno 2] No such file or directory: '/content/drive/MyDrive/sdg_15_4_2_B_csvs/Azores Islands.csv'\n",
            "process 127, Micronesia Federated States of.csv, Error: [Errno 2] No such file or directory: '/content/drive/MyDrive/sdg_15_4_2_B_csvs/Micronesia Federated States of.csv'\n",
            "Reporting {'baseline': (2000, 2015)} for sub_b\n",
            "Reporting {'report': [2015, 2018]} for sub_b\n",
            "Process 128, Greenland.csv\n",
            "Reporting {'baseline': (2000, 2015)} for sub_b\n",
            "Reporting {'report': [2015, 2018]} for sub_b\n",
            "Process 129, Bulgaria.csv\n",
            "process 130, Uruguay.csv, Error: [Errno 2] No such file or directory: '/content/drive/MyDrive/sdg_15_4_2_B_csvs/Uruguay.csv'\n",
            "process 131, Qatar.csv, Error: [Errno 2] No such file or directory: '/content/drive/MyDrive/sdg_15_4_2_B_csvs/Qatar.csv'\n",
            "Reporting {'baseline': (2000, 2015)} for sub_b\n",
            "Reporting {'report': [2015, 2018]} for sub_b\n",
            "Process 132, Bhutan.csv\n",
            "process 133, Ilemi triangle.csv, Error: [Errno 2] No such file or directory: '/content/drive/MyDrive/sdg_15_4_2_B_csvs/Ilemi triangle.csv'\n",
            "Reporting {'baseline': (2000, 2015)} for sub_b\n",
            "Reporting {'report': [2015, 2018]} for sub_b\n",
            "Process 134, Monaco.csv\n",
            "Reporting {'baseline': (2000, 2015)} for sub_b\n",
            "Reporting {'report': [2015, 2018]} for sub_b\n",
            "Process 135, Montenegro.csv\n",
            "Reporting {'baseline': (2000, 2015)} for sub_b\n",
            "Reporting {'report': [2015, 2018]} for sub_b\n",
            "Process 136, Bosnia and Herzegovina.csv\n",
            "process 137, Jammu and Kashmir.csv, Error: [Errno 2] No such file or directory: '/content/drive/MyDrive/sdg_15_4_2_B_csvs/Jammu and Kashmir.csv'\n",
            "process 138, Saint Vincent and the Grenadines.csv, Error: [Errno 2] No such file or directory: '/content/drive/MyDrive/sdg_15_4_2_B_csvs/Saint Vincent and the Grenadines.csv'\n",
            "process 139, Swaziland.csv, Error: [Errno 2] No such file or directory: '/content/drive/MyDrive/sdg_15_4_2_B_csvs/Swaziland.csv'\n",
            "process 140, Falkland Islands Malvinas.csv, Error: [Errno 2] No such file or directory: '/content/drive/MyDrive/sdg_15_4_2_B_csvs/Falkland Islands Malvinas.csv'\n",
            "process 141, Ukraine.csv, Error: [Errno 2] No such file or directory: '/content/drive/MyDrive/sdg_15_4_2_B_csvs/Ukraine.csv'\n",
            "Reporting {'baseline': (2000, 2015)} for sub_b\n",
            "Reporting {'report': [2015, 2018]} for sub_b\n",
            "Process 142, Philippines.csv\n",
            "process 143, Lithuania.csv, Error: [Errno 2] No such file or directory: '/content/drive/MyDrive/sdg_15_4_2_B_csvs/Lithuania.csv'\n",
            "process 144, Svalbard and Jan Mayen Islands.csv, Error: [Errno 2] No such file or directory: '/content/drive/MyDrive/sdg_15_4_2_B_csvs/Svalbard and Jan Mayen Islands.csv'\n",
            "process 145, Chile.csv, Error: [Errno 2] No such file or directory: '/content/drive/MyDrive/sdg_15_4_2_B_csvs/Chile.csv'\n",
            "process 146, Kyrgyzstan.csv, Error: [Errno 2] No such file or directory: '/content/drive/MyDrive/sdg_15_4_2_B_csvs/Kyrgyzstan.csv'\n",
            "process 147, Wallis and Futuna.csv, Error: [Errno 2] No such file or directory: '/content/drive/MyDrive/sdg_15_4_2_B_csvs/Wallis and Futuna.csv'\n",
            "process 148, Gaza Strip.csv, Error: [Errno 2] No such file or directory: '/content/drive/MyDrive/sdg_15_4_2_B_csvs/Gaza Strip.csv'\n",
            "process 149, Northern Mariana Islands.csv, Error: [Errno 2] No such file or directory: '/content/drive/MyDrive/sdg_15_4_2_B_csvs/Northern Mariana Islands.csv'\n",
            "process 150, Guatemala.csv, Error: [Errno 2] No such file or directory: '/content/drive/MyDrive/sdg_15_4_2_B_csvs/Guatemala.csv'\n",
            "process 151, South Georgia and the South Sandwich Islands.csv, Error: [Errno 2] No such file or directory: '/content/drive/MyDrive/sdg_15_4_2_B_csvs/South Georgia and the South Sandwich Islands.csv'\n",
            "process 152, Spain.csv, Error: [Errno 2] No such file or directory: '/content/drive/MyDrive/sdg_15_4_2_B_csvs/Spain.csv'\n",
            "process 153, Dem Peoples Rep of Korea.csv, Error: [Errno 2] No such file or directory: '/content/drive/MyDrive/sdg_15_4_2_B_csvs/Dem Peoples Rep of Korea.csv'\n",
            "process 154, India.csv, Error: [Errno 2] No such file or directory: '/content/drive/MyDrive/sdg_15_4_2_B_csvs/India.csv'\n",
            "Reporting {'baseline': (2000, 2015)} for sub_b\n",
            "Reporting {'report': [2015, 2018]} for sub_b\n",
            "Process 155, Lebanon.csv\n",
            "process 156, Latvia.csv, Error: [Errno 2] No such file or directory: '/content/drive/MyDrive/sdg_15_4_2_B_csvs/Latvia.csv'\n",
            "process 157, Europa Island.csv, Error: [Errno 2] No such file or directory: '/content/drive/MyDrive/sdg_15_4_2_B_csvs/Europa Island.csv'\n",
            "Reporting {'baseline': (2000, 2015)} for sub_b\n",
            "process 158, Ashmore and Cartier Islands.csv, Error: 'DataFrame' object has no attribute 'transition'\n",
            "process 159, Senkaku Islands.csv, Error: [Errno 2] No such file or directory: '/content/drive/MyDrive/sdg_15_4_2_B_csvs/Senkaku Islands.csv'\n",
            "process 160, ChinaIndia.csv, Error: [Errno 2] No such file or directory: '/content/drive/MyDrive/sdg_15_4_2_B_csvs/ChinaIndia.csv'\n",
            "process 161, Marshall Islands.csv, Error: [Errno 2] No such file or directory: '/content/drive/MyDrive/sdg_15_4_2_B_csvs/Marshall Islands.csv'\n",
            "process 162, Grenada.csv, Error: [Errno 2] No such file or directory: '/content/drive/MyDrive/sdg_15_4_2_B_csvs/Grenada.csv'\n",
            "Reporting {'baseline': (2000, 2015)} for sub_b\n",
            "Reporting {'report': [2015, 2018]} for sub_b\n",
            "Process 163, Sudan.csv\n",
            "process 164, Pakistan.csv, Error: [Errno 2] No such file or directory: '/content/drive/MyDrive/sdg_15_4_2_B_csvs/Pakistan.csv'\n",
            "process 165, Saint Pierre et Miquelon.csv, Error: [Errno 2] No such file or directory: '/content/drive/MyDrive/sdg_15_4_2_B_csvs/Saint Pierre et Miquelon.csv'\n",
            "process 166, Seychelles.csv, Error: [Errno 2] No such file or directory: '/content/drive/MyDrive/sdg_15_4_2_B_csvs/Seychelles.csv'\n",
            "process 167, West Bank.csv, Error: [Errno 2] No such file or directory: '/content/drive/MyDrive/sdg_15_4_2_B_csvs/West Bank.csv'\n",
            "process 168, Nigeria.csv, Error: [Errno 2] No such file or directory: '/content/drive/MyDrive/sdg_15_4_2_B_csvs/Nigeria.csv'\n",
            "process 169, Paraguay.csv, Error: [Errno 2] No such file or directory: '/content/drive/MyDrive/sdg_15_4_2_B_csvs/Paraguay.csv'\n",
            "process 170, U.K. of Great Britain and Northern Ireland.csv, Error: [Errno 2] No such file or directory: '/content/drive/MyDrive/sdg_15_4_2_B_csvs/U.K. of Great Britain and Northern Ireland.csv'\n",
            "Reporting {'baseline': (2000, 2015)} for sub_b\n",
            "Reporting {'report': [2015, 2018]} for sub_b\n",
            "Process 171, Mayotte.csv\n",
            "process 172, Vanuatu.csv, Error: [Errno 2] No such file or directory: '/content/drive/MyDrive/sdg_15_4_2_B_csvs/Vanuatu.csv'\n",
            "process 173, Ghana.csv, Error: [Errno 2] No such file or directory: '/content/drive/MyDrive/sdg_15_4_2_B_csvs/Ghana.csv'\n",
            "process 174, France.csv, Error: [Errno 2] No such file or directory: '/content/drive/MyDrive/sdg_15_4_2_B_csvs/France.csv'\n",
            "process 175, Samoa.csv, Error: [Errno 2] No such file or directory: '/content/drive/MyDrive/sdg_15_4_2_B_csvs/Samoa.csv'\n",
            "process 176, Midway Island.csv, Error: [Errno 2] No such file or directory: '/content/drive/MyDrive/sdg_15_4_2_B_csvs/Midway Island.csv'\n",
            "process 177, American Samoa.csv, Error: [Errno 2] No such file or directory: '/content/drive/MyDrive/sdg_15_4_2_B_csvs/American Samoa.csv'\n",
            "process 178, Kiribati.csv, Error: [Errno 2] No such file or directory: '/content/drive/MyDrive/sdg_15_4_2_B_csvs/Kiribati.csv'\n",
            "Reporting {'baseline': (2000, 2015)} for sub_b\n",
            "Reporting {'report': [2015, 2018]} for sub_b\n",
            "Process 179, Liberia.csv\n",
            "process 180, Maldives.csv, Error: [Errno 2] No such file or directory: '/content/drive/MyDrive/sdg_15_4_2_B_csvs/Maldives.csv'\n",
            "process 181, Comoros.csv, Error: [Errno 2] No such file or directory: '/content/drive/MyDrive/sdg_15_4_2_B_csvs/Comoros.csv'\n",
            "process 182, Kingman Reef.csv, Error: [Errno 2] No such file or directory: '/content/drive/MyDrive/sdg_15_4_2_B_csvs/Kingman Reef.csv'\n",
            "process 183, Cote dIvoire.csv, Error: [Errno 2] No such file or directory: '/content/drive/MyDrive/sdg_15_4_2_B_csvs/Cote dIvoire.csv'\n",
            "process 184, Nepal.csv, Error: [Errno 2] No such file or directory: '/content/drive/MyDrive/sdg_15_4_2_B_csvs/Nepal.csv'\n",
            "process 185, Spratly Islands.csv, Error: [Errno 2] No such file or directory: '/content/drive/MyDrive/sdg_15_4_2_B_csvs/Spratly Islands.csv'\n",
            "process 186, Costa Rica.csv, Error: [Errno 2] No such file or directory: '/content/drive/MyDrive/sdg_15_4_2_B_csvs/Costa Rica.csv'\n",
            "process 187, Guernsey.csv, Error: [Errno 2] No such file or directory: '/content/drive/MyDrive/sdg_15_4_2_B_csvs/Guernsey.csv'\n",
            "Reporting {'baseline': (2000, 2015)} for sub_b\n",
            "process 188, Pitcairn.csv, Error: 'DataFrame' object has no attribute 'transition'\n",
            "process 189, Papua New Guinea.csv, Error: [Errno 2] No such file or directory: '/content/drive/MyDrive/sdg_15_4_2_B_csvs/Papua New Guinea.csv'\n",
            "Reporting {'baseline': (2000, 2015)} for sub_b\n",
            "Reporting {'report': [2015, 2018]} for sub_b\n",
            "Process 190, Lesotho.csv\n",
            "process 191, South Africa.csv, Error: [Errno 2] No such file or directory: '/content/drive/MyDrive/sdg_15_4_2_B_csvs/South Africa.csv'\n",
            "Reporting {'baseline': (2000, 2015)} for sub_b\n",
            "Reporting {'report': [2015, 2018]} for sub_b\n",
            "Process 192, Taiwan.csv\n",
            "process 193, Madeira Islands.csv, Error: [Errno 2] No such file or directory: '/content/drive/MyDrive/sdg_15_4_2_B_csvs/Madeira Islands.csv'\n",
            "Reporting {'baseline': (2000, 2015)} for sub_b\n",
            "Reporting {'report': [2015, 2018]} for sub_b\n",
            "Process 194, South Sudan.csv\n",
            "process 195, Bassas da India.csv, Error: [Errno 2] No such file or directory: '/content/drive/MyDrive/sdg_15_4_2_B_csvs/Bassas da India.csv'\n",
            "process 196, Switzerland.csv, Error: [Errno 2] No such file or directory: '/content/drive/MyDrive/sdg_15_4_2_B_csvs/Switzerland.csv'\n",
            "process 197, Singapore.csv, Error: [Errno 2] No such file or directory: '/content/drive/MyDrive/sdg_15_4_2_B_csvs/Singapore.csv'\n",
            "process 198, Norway.csv, Error: [Errno 2] No such file or directory: '/content/drive/MyDrive/sdg_15_4_2_B_csvs/Norway.csv'\n",
            "process 199, Bahrain.csv, Error: [Errno 2] No such file or directory: '/content/drive/MyDrive/sdg_15_4_2_B_csvs/Bahrain.csv'\n",
            "process 200, Croatia.csv, Error: [Errno 2] No such file or directory: '/content/drive/MyDrive/sdg_15_4_2_B_csvs/Croatia.csv'\n",
            "process 201, Brunei Darussalam.csv, Error: [Errno 2] No such file or directory: '/content/drive/MyDrive/sdg_15_4_2_B_csvs/Brunei Darussalam.csv'\n",
            "process 202, Arunachal Pradesh.csv, Error: [Errno 2] No such file or directory: '/content/drive/MyDrive/sdg_15_4_2_B_csvs/Arunachal Pradesh.csv'\n",
            "Reporting {'baseline': (2000, 2015)} for sub_b\n",
            "process 203, Tokelau.csv, Error: 'DataFrame' object has no attribute 'transition'\n",
            "process 204, Guam.csv, Error: [Errno 2] No such file or directory: '/content/drive/MyDrive/sdg_15_4_2_B_csvs/Guam.csv'\n",
            "process 205, Cuba.csv, Error: [Errno 2] No such file or directory: '/content/drive/MyDrive/sdg_15_4_2_B_csvs/Cuba.csv'\n",
            "Reporting {'baseline': (2000, 2015)} for sub_b\n",
            "Reporting {'report': [2015, 2018]} for sub_b\n",
            "Process 206, Saint Lucia.csv\n",
            "process 207, British Indian Ocean Territory.csv, Error: [Errno 2] No such file or directory: '/content/drive/MyDrive/sdg_15_4_2_B_csvs/British Indian Ocean Territory.csv'\n",
            "process 208, Aruba.csv, Error: [Errno 2] No such file or directory: '/content/drive/MyDrive/sdg_15_4_2_B_csvs/Aruba.csv'\n",
            "process 209, Oman.csv, Error: [Errno 2] No such file or directory: '/content/drive/MyDrive/sdg_15_4_2_B_csvs/Oman.csv'\n",
            "process 210, French Guiana.csv, Error: [Errno 2] No such file or directory: '/content/drive/MyDrive/sdg_15_4_2_B_csvs/French Guiana.csv'\n",
            "process 211, Turks and Caicos islands.csv, Error: [Errno 2] No such file or directory: '/content/drive/MyDrive/sdg_15_4_2_B_csvs/Turks and Caicos islands.csv'\n",
            "process 212, Cook Islands.csv, Error: [Errno 2] No such file or directory: '/content/drive/MyDrive/sdg_15_4_2_B_csvs/Cook Islands.csv'\n",
            "process 213, Gabon.csv, Error: [Errno 2] No such file or directory: '/content/drive/MyDrive/sdg_15_4_2_B_csvs/Gabon.csv'\n",
            "process 214, Burundi.csv, Error: [Errno 2] No such file or directory: '/content/drive/MyDrive/sdg_15_4_2_B_csvs/Burundi.csv'\n",
            "process 215, Sri Lanka.csv, Error: [Errno 2] No such file or directory: '/content/drive/MyDrive/sdg_15_4_2_B_csvs/Sri Lanka.csv'\n",
            "Reporting {'baseline': (2000, 2015)} for sub_b\n",
            "Reporting {'report': [2015, 2018]} for sub_b\n",
            "Process 216, Christmas Island.csv\n",
            "process 217, French Southern and Antarctic Territories.csv, Error: [Errno 2] No such file or directory: '/content/drive/MyDrive/sdg_15_4_2_B_csvs/French Southern and Antarctic Territories.csv'\n",
            "process 218, Matan al-Sarra.csv, Error: [Errno 2] No such file or directory: '/content/drive/MyDrive/sdg_15_4_2_B_csvs/Matan al-Sarra.csv'\n",
            "process 219, Sao Tome and Principe.csv, Error: [Errno 2] No such file or directory: '/content/drive/MyDrive/sdg_15_4_2_B_csvs/Sao Tome and Principe.csv'\n",
            "process 220, Glorioso Island.csv, Error: [Errno 2] No such file or directory: '/content/drive/MyDrive/sdg_15_4_2_B_csvs/Glorioso Island.csv'\n",
            "process 221, Malta.csv, Error: [Errno 2] No such file or directory: '/content/drive/MyDrive/sdg_15_4_2_B_csvs/Malta.csv'\n",
            "process 222, China.csv, Error: [Errno 2] No such file or directory: '/content/drive/MyDrive/sdg_15_4_2_B_csvs/China.csv'\n",
            "process 223, Ireland.csv, Error: [Errno 2] No such file or directory: '/content/drive/MyDrive/sdg_15_4_2_B_csvs/Ireland.csv'\n",
            "process 224, United Arab Emirates.csv, Error: [Errno 2] No such file or directory: '/content/drive/MyDrive/sdg_15_4_2_B_csvs/United Arab Emirates.csv'\n",
            "process 225, Haiti.csv, Error: [Errno 2] No such file or directory: '/content/drive/MyDrive/sdg_15_4_2_B_csvs/Haiti.csv'\n",
            "Reporting {'baseline': (2000, 2015)} for sub_b\n",
            "process 226, Netherlands Antilles.csv, Error: 'DataFrame' object has no attribute 'transition'\n",
            "process 227, Senegal.csv, Error: [Errno 2] No such file or directory: '/content/drive/MyDrive/sdg_15_4_2_B_csvs/Senegal.csv'\n",
            "process 228, Japan.csv, Error: [Errno 2] No such file or directory: '/content/drive/MyDrive/sdg_15_4_2_B_csvs/Japan.csv'\n",
            "process 229, Mali.csv, Error: [Errno 2] No such file or directory: '/content/drive/MyDrive/sdg_15_4_2_B_csvs/Mali.csv'\n",
            "process 230, Austria.csv, Error: [Errno 2] No such file or directory: '/content/drive/MyDrive/sdg_15_4_2_B_csvs/Austria.csv'\n",
            "process 231, Bouvet Island.csv, Error: [Errno 2] No such file or directory: '/content/drive/MyDrive/sdg_15_4_2_B_csvs/Bouvet Island.csv'\n",
            "Reporting {'baseline': (2000, 2015)} for sub_b\n",
            "Reporting {'report': [2015, 2018]} for sub_b\n",
            "Process 232, Aksai Chin.csv\n",
            "process 233, Panama.csv, Error: [Errno 2] No such file or directory: '/content/drive/MyDrive/sdg_15_4_2_B_csvs/Panama.csv'\n",
            "process 234, Congo.csv, Error: [Errno 2] No such file or directory: '/content/drive/MyDrive/sdg_15_4_2_B_csvs/Congo.csv'\n",
            "process 235, Navassa Island.csv, Error: [Errno 2] No such file or directory: '/content/drive/MyDrive/sdg_15_4_2_B_csvs/Navassa Island.csv'\n",
            "process 236, El Salvador.csv, Error: [Errno 2] No such file or directory: '/content/drive/MyDrive/sdg_15_4_2_B_csvs/El Salvador.csv'\n",
            "process 237, Nauru.csv, Error: [Errno 2] No such file or directory: '/content/drive/MyDrive/sdg_15_4_2_B_csvs/Nauru.csv'\n",
            "process 238, Juan de Nova Island.csv, Error: [Errno 2] No such file or directory: '/content/drive/MyDrive/sdg_15_4_2_B_csvs/Juan de Nova Island.csv'\n",
            "process 239, Colombia.csv, Error: [Errno 2] No such file or directory: '/content/drive/MyDrive/sdg_15_4_2_B_csvs/Colombia.csv'\n",
            "process 240, Romania.csv, Error: [Errno 2] No such file or directory: '/content/drive/MyDrive/sdg_15_4_2_B_csvs/Romania.csv'\n",
            "process 241, Johnston Atoll.csv, Error: [Errno 2] No such file or directory: '/content/drive/MyDrive/sdg_15_4_2_B_csvs/Johnston Atoll.csv'\n",
            "process 242, Barbados.csv, Error: [Errno 2] No such file or directory: '/content/drive/MyDrive/sdg_15_4_2_B_csvs/Barbados.csv'\n",
            "process 243, Czech Republic.csv, Error: [Errno 2] No such file or directory: '/content/drive/MyDrive/sdg_15_4_2_B_csvs/Czech Republic.csv'\n",
            "process 244, Luxembourg.csv, Error: [Errno 2] No such file or directory: '/content/drive/MyDrive/sdg_15_4_2_B_csvs/Luxembourg.csv'\n",
            "process 245, Cayman Islands.csv, Error: [Errno 2] No such file or directory: '/content/drive/MyDrive/sdg_15_4_2_B_csvs/Cayman Islands.csv'\n",
            "Reporting {'baseline': (2000, 2015)} for sub_b\n",
            "process 246, Jarvis Island.csv, Error: 'DataFrame' object has no attribute 'transition'\n",
            "Reporting {'baseline': (2000, 2015)} for sub_b\n",
            "Reporting {'report': [2015, 2018]} for sub_b\n",
            "Process 247, Hong Kong.csv\n",
            "process 248, Equatorial Guinea.csv, Error: [Errno 2] No such file or directory: '/content/drive/MyDrive/sdg_15_4_2_B_csvs/Equatorial Guinea.csv'\n",
            "process 249, Jordan.csv, Error: [Errno 2] No such file or directory: '/content/drive/MyDrive/sdg_15_4_2_B_csvs/Jordan.csv'\n",
            "Reporting {'baseline': (2000, 2015)} for sub_b\n",
            "Reporting {'report': [2015, 2018]} for sub_b\n",
            "Process 250, Georgia.csv\n",
            "process 251, Brazil.csv, Error: [Errno 2] No such file or directory: '/content/drive/MyDrive/sdg_15_4_2_B_csvs/Brazil.csv'\n",
            "process 252, Afghanistan.csv, Error: [Errno 2] No such file or directory: '/content/drive/MyDrive/sdg_15_4_2_B_csvs/Afghanistan.csv'\n",
            "process 253, Djibouti.csv, Error: [Errno 2] No such file or directory: '/content/drive/MyDrive/sdg_15_4_2_B_csvs/Djibouti.csv'\n",
            "Reporting {'baseline': (2000, 2015)} for sub_b\n",
            "Reporting {'report': [2015, 2018]} for sub_b\n",
            "Process 254, Halaib triangle.csv\n",
            "process 255, Turkmenistan.csv, Error: [Errno 2] No such file or directory: '/content/drive/MyDrive/sdg_15_4_2_B_csvs/Turkmenistan.csv'\n",
            "process 256, Nicaragua.csv, Error: [Errno 2] No such file or directory: '/content/drive/MyDrive/sdg_15_4_2_B_csvs/Nicaragua.csv'\n",
            "process 257, Australia.csv, Error: [Errno 2] No such file or directory: '/content/drive/MyDrive/sdg_15_4_2_B_csvs/Australia.csv'\n",
            "process 258, Slovenia.csv, Error: [Errno 2] No such file or directory: '/content/drive/MyDrive/sdg_15_4_2_B_csvs/Slovenia.csv'\n",
            "process 259, Netherlands.csv, Error: [Errno 2] No such file or directory: '/content/drive/MyDrive/sdg_15_4_2_B_csvs/Netherlands.csv'\n",
            "process 260, Moldova, Republic of.csv, Error: [Errno 2] No such file or directory: '/content/drive/MyDrive/sdg_15_4_2_B_csvs/Moldova, Republic of.csv'\n",
            "Reporting {'baseline': (2000, 2015)} for sub_b\n",
            "Reporting {'report': [2015, 2018]} for sub_b\n",
            "Process 261, Portugal.csv\n",
            "process 262, Palau.csv, Error: [Errno 2] No such file or directory: '/content/drive/MyDrive/sdg_15_4_2_B_csvs/Palau.csv'\n",
            "process 263, Angola.csv, Error: [Errno 2] No such file or directory: '/content/drive/MyDrive/sdg_15_4_2_B_csvs/Angola.csv'\n",
            "process 264, Cyprus.csv, Error: [Errno 2] No such file or directory: '/content/drive/MyDrive/sdg_15_4_2_B_csvs/Cyprus.csv'\n",
            "process 265, Malawi.csv, Error: [Errno 2] No such file or directory: '/content/drive/MyDrive/sdg_15_4_2_B_csvs/Malawi.csv'\n",
            "process 266, Slovakia.csv, Error: [Errno 2] No such file or directory: '/content/drive/MyDrive/sdg_15_4_2_B_csvs/Slovakia.csv'\n",
            "process 267, Kuril islands.csv, Error: [Errno 2] No such file or directory: '/content/drive/MyDrive/sdg_15_4_2_B_csvs/Kuril islands.csv'\n",
            "Reporting {'baseline': (2000, 2015)} for sub_b\n",
            "process 268, Antigua and Barbuda.csv, Error: 'DataFrame' object has no attribute 'transition'\n",
            "process 269, Gibraltar.csv, Error: [Errno 2] No such file or directory: '/content/drive/MyDrive/sdg_15_4_2_B_csvs/Gibraltar.csv'\n",
            "process 270, Heard Island and McDonald Islands.csv, Error: [Errno 2] No such file or directory: '/content/drive/MyDrive/sdg_15_4_2_B_csvs/Heard Island and McDonald Islands.csv'\n",
            "process 271, Tuvalu.csv, Error: [Errno 2] No such file or directory: '/content/drive/MyDrive/sdg_15_4_2_B_csvs/Tuvalu.csv'\n",
            "process 272, Belgium.csv, Error: [Errno 2] No such file or directory: '/content/drive/MyDrive/sdg_15_4_2_B_csvs/Belgium.csv'\n",
            "process 273, Uganda.csv, Error: [Errno 2] No such file or directory: '/content/drive/MyDrive/sdg_15_4_2_B_csvs/Uganda.csv'\n",
            "process 274, Republic of Korea.csv, Error: [Errno 2] No such file or directory: '/content/drive/MyDrive/sdg_15_4_2_B_csvs/Republic of Korea.csv'\n",
            "process 275, Honduras.csv, Error: [Errno 2] No such file or directory: '/content/drive/MyDrive/sdg_15_4_2_B_csvs/Honduras.csv'\n",
            "process 276, Liechtenstein.csv, Error: [Errno 2] No such file or directory: '/content/drive/MyDrive/sdg_15_4_2_B_csvs/Liechtenstein.csv'\n"
          ]
        }
      ],
      "source": [
        "# Initialize the counter\n",
        "counter = 0\n",
        "\n",
        "# to store outputs in google drive\n",
        "create_folder_if_not_exists(excel_reports_folder)\n",
        "\n",
        "# Loop over each AOI name in the list of countries\n",
        "for aoi_name in list_of_countries:\n",
        "    counter += 1\n",
        "\n",
        "    # Clean the AOI name\n",
        "    aoi_name_clean = str(sanitize_description(unidecode(aoi_name)))\n",
        "\n",
        "    # Construct the file path for the stats CSV file\n",
        "    stats_csv_file = aoi_name_clean + \".csv\"\n",
        "    stats_csv_file_path = os.path.join(drive_home, stats_csv_folder, stats_csv_file)\n",
        "\n",
        "    message = f\"Process {counter}, {stats_csv_file}\"\n",
        "\n",
        "    try:\n",
        "        # Read the results from the CSV file and parse it to a dictionary\n",
        "        dict_results = read_from_csv(stats_csv_file_path)\n",
        "\n",
        "        # details = {\n",
        "        #     \"geo_area_name\": aoi_name,\n",
        "        #     \"ref_area\": \" \",\n",
        "        #     \"source_detail\": \" \",\n",
        "        # }\n",
        "\n",
        "        sub_b_reports = []\n",
        "        reporting_years_sub_b = get_reporting_years(sub_b_year, \"sub_b\")\n",
        "        _, sub_b_years = get_sub_b_items(reporting_years_sub_b)\n",
        "\n",
        "        for year in sub_b_years:\n",
        "            print(f\"Reporting {year} for sub_b\")\n",
        "            # Get year label for the report\n",
        "            parsed_df = parse_to_year(dict_results, year)\n",
        "            sub_b_reports.append(\n",
        "                sub_b.get_reports(\n",
        "                    parsed_df,\n",
        "                    year,\n",
        "                    geo_area_name = aoi_name,\n",
        "                    ref_area = \"\",\n",
        "                    source_detail = \"\",\n",
        "                    transition_matrix = default_transition_matrix_path\n",
        "                ))\n",
        "        # sub b reports\n",
        "        er_mtn_dgrp_df = pd.concat([report[0] for report in sub_b_reports])\n",
        "        er_mtn_dgda_df = pd.concat([report[1] for report in sub_b_reports])\n",
        "\n",
        "\n",
        "\n",
        "\n",
        "        # Define the output report file path\n",
        "        report_file_path = os.path.join(drive_home, excel_reports_folder, aoi_name_clean + \".xlsx\")\n",
        "\n",
        "        # This will create the excel file with the reports\n",
        "        with pd.ExcelWriter(report_file_path) as writer:\n",
        "            er_mtn_dgda_df.to_excel(writer, sheet_name=\"Table4_ER_MTN_DGRDA\", index=False)\n",
        "            er_mtn_dgrp_df.to_excel(writer, sheet_name=\"Table5_ER_MTN_DGRDP\", index=False)\n",
        "\n",
        "            for sheetname in writer.sheets:\n",
        "                worksheet = writer.sheets[sheetname]\n",
        "                for col in worksheet.columns:\n",
        "                    max_length = 0\n",
        "                    column = col[0]\n",
        "                    for cell in col:\n",
        "                        try:\n",
        "                            if len(str(cell.value)) > max_length:\n",
        "                                max_length = len(cell.value)\n",
        "                        except:\n",
        "                            pass\n",
        "                    adjusted_width = max(max_length, len(str(column.value))) + 4\n",
        "                    worksheet.column_dimensions[get_column_letter(column.column)].width = (\n",
        "                        adjusted_width\n",
        "                    )\n",
        "\n",
        "                    # Align \"obs_value\" column to the right\n",
        "                    if \"OBS\" in column.value:\n",
        "                        for cell in col:\n",
        "                            cell.alignment = Alignment(horizontal=\"right\")\n",
        "\n",
        "\n",
        "    except Exception as e:\n",
        "        # If an error occurs, catch the exception and handle it\n",
        "        message = f\"process {counter}, {stats_csv_file}, Error: {e}\"\n",
        "\n",
        "        # Get the current time\n",
        "        current_time = datetime.now().strftime('%Y-%m-%d %H:%M:%S')\n",
        "\n",
        "        # Write the error message and file name to the error log file\n",
        "        error_info = pd.DataFrame([[stats_csv_file, str(e), current_time]], columns=['File Name', 'Error Message', 'Time'])\n",
        "\n",
        "        mode = 'w' if not os.path.exists(error_log_file_path) else 'a'\n",
        "        header = False if os.path.exists(error_log_file_path) else True\n",
        "\n",
        "        # Append or write to the error log file\n",
        "        error_info.to_csv(error_log_file_path, mode=mode, header=header, index=False)\n",
        "\n",
        "    print(message)\n"
      ]
    },
    {
      "cell_type": "markdown",
      "source": [
        "### 10) Combine excel report files into one"
      ],
      "metadata": {
        "id": "qTqI3Ag08k5b"
      }
    },
    {
      "cell_type": "markdown",
      "source": [
        "Make a list of files to combine\n",
        "- Note:  only combines excel files that are present in your google drive (from Step 9)."
      ],
      "metadata": {
        "id": "sVpLtG4Z7Jbe"
      }
    },
    {
      "cell_type": "code",
      "source": [
        "# Directory path where Excel reports are stored\n",
        "directory_path = os.path.join(drive_home, excel_reports_folder)\n",
        "\n",
        "# List files in the directory with '.xlsx' extension\n",
        "files = [file for file in os.listdir(directory_path) if file.endswith('.xlsx')]\n",
        "\n",
        "# Create a list of full file paths\n",
        "full_file_paths = [os.path.join(directory_path, file) for file in files]\n",
        "\n",
        "# Print the number of Excel files found in the folder\n",
        "print(f\"Number of Excel files in folder: {len(full_file_paths)}\")\n",
        "\n",
        "# folder to store outputs in google drive\n",
        "create_folder_if_not_exists(final_report_folder)\n",
        "\n",
        "# File path for the combined final report\n",
        "reports_combined_file_path = os.path.join(drive_home, final_report_folder, final_report_name)\n"
      ],
      "metadata": {
        "id": "sTyhwne7rr9D",
        "colab": {
          "base_uri": "https://localhost:8080/"
        },
        "outputId": "32c46593-e32f-4d6a-da32-295baea86864"
      },
      "execution_count": 19,
      "outputs": [
        {
          "output_type": "stream",
          "name": "stdout",
          "text": [
            "Number of Excel files in folder: 37\n",
            "Folder 'sdg_15_4_2_B_combined_report' already exists.\n"
          ]
        }
      ]
    },
    {
      "cell_type": "markdown",
      "source": [
        "##### Run function to combine into a single report"
      ],
      "metadata": {
        "id": "C77flAQu7xWX"
      }
    },
    {
      "cell_type": "code",
      "source": [
        "append_excel_files(file_paths=full_file_paths,num_sheets=3,output_file_path=reports_combined_file_path)\n",
        "\n",
        "print (f\"\\n Complete! Output file for SDG 15.4.2 Component B here: {reports_combined_file_path}\")"
      ],
      "metadata": {
        "id": "FkS1ErA9AYj6",
        "colab": {
          "base_uri": "https://localhost:8080/"
        },
        "outputId": "9efce1a9-9860-4c07-817d-ff82d9bcb629"
      },
      "execution_count": 20,
      "outputs": [
        {
          "output_type": "stream",
          "name": "stdout",
          "text": [
            "Processing 37/37: /content/drive/MyDrive/sdg_15_4_2_B_reports/Portugal.xlsx\n",
            " Complete! Output file for SDG 15.4.2 Component B here: /content/drive/MyDrive/sdg_15_4_2_B_combined_report/sdg_15_4_2_B_default_global.xlsx\n"
          ]
        }
      ]
    }
  ],
  "metadata": {
    "kernelspec": {
      "display_name": "(test) test-sepal_mgci",
      "language": "python",
      "name": "test-sepal_mgci"
    },
    "language_info": {
      "codemirror_mode": {
        "name": "ipython",
        "version": 3
      },
      "file_extension": ".py",
      "mimetype": "text/x-python",
      "name": "python",
      "nbconvert_exporter": "python",
      "pygments_lexer": "ipython3",
      "version": "3.10.12"
    },
    "colab": {
      "provenance": [],
      "include_colab_link": true
    }
  },
  "nbformat": 4,
  "nbformat_minor": 0
}