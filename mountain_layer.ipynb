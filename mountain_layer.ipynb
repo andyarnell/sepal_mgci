{
 "cells": [
  {
   "cell_type": "code",
   "execution_count": 10,
   "id": "08befc39",
   "metadata": {
    "tags": []
   },
   "outputs": [],
   "source": [
    "from importlib import reload\n",
    "import ipyvuetify as v\n",
    "from component.widget.custom_widgets import *\n",
    "import component.message as c_m"
   ]
  },
  {
   "cell_type": "code",
   "execution_count": 11,
   "id": "61dd27dc",
   "metadata": {},
   "outputs": [],
   "source": [
    "c_m=reload(c_m)\n",
    "cm = c_m.cm"
   ]
  },
  {
   "cell_type": "code",
   "execution_count": 12,
   "id": "1cd8103f",
   "metadata": {},
   "outputs": [],
   "source": [
    "class MountainLayer(v.Card):\n",
    "    \n",
    "    def __init__(self, *args, **kwargs):\n",
    "        \n",
    "        super().__init__(*args, **kwargs)\n",
    "        \n",
    "        title = v.CardTitle(children=[cm.mountain_layer.title])\n",
    "        description = v.CardText(children=[sw.Markdown(cm.mountain_layer.text)])\n",
    "        \n",
    "        self.w_select_dem = v.Select(\n",
    "            label=cm.mountain_layer.w_dem.label,\n",
    "            v_model='',\n",
    "            items=[\n",
    "                {'text':cm.mountain_layer.w_dem.items[0], 'value':'custom'},\n",
    "                {'text':cm.mountain_layer.w_dem.items[1], 'value':'srtm_1'},\n",
    "                {'text':cm.mountain_layer.w_dem.items[2], 'value':'srtm_3'},\n",
    "                {'text':cm.mountain_layer.w_dem.items[3], 'value':'alos'},\n",
    "            ]\n",
    "        )\n",
    "        \n",
    "        self.w_custom_dem = AssetSelect(only='raster').hide()\n",
    "        \n",
    "        self.children=[\n",
    "            title,\n",
    "            description,\n",
    "            self.w_select_dem,\n",
    "            self.w_custom_dem\n",
    "        ]\n",
    "        \n",
    "        self.w_select_dem.observe(self.display_custom_dem, 'v_model')\n",
    "    \n",
    "    def display_custom_dem(self, change):\n",
    "        \"\"\"Display custom dem widget when w_select_dem == 'custom'\"\"\"\n",
    "        \n",
    "        v_model = change['new']\n",
    "        self.w_custom_dem.show() if v_model == 'custom' else self.w_custom_dem.hide()\n",
    "        \n",
    "        "
   ]
  },
  {
   "cell_type": "code",
   "execution_count": 13,
   "id": "780ad574",
   "metadata": {},
   "outputs": [
    {
     "data": {
      "application/vnd.jupyter.widget-view+json": {
       "model_id": "61f827ad81204d57a433dc1f95323575",
       "version_major": 2,
       "version_minor": 0
      },
      "text/plain": [
       "MountainLayer(children=[CardTitle(children=['Mountain descriptor layer']), CardText(children=[Markdown(align_c…"
      ]
     },
     "metadata": {},
     "output_type": "display_data"
    }
   ],
   "source": [
    "ml = MountainLayer()\n",
    "ml"
   ]
  }
 ],
 "metadata": {
  "kernelspec": {
   "display_name": "Python 3",
   "language": "python",
   "name": "python3"
  },
  "language_info": {
   "codemirror_mode": {
    "name": "ipython",
    "version": 3
   },
   "file_extension": ".py",
   "mimetype": "text/x-python",
   "name": "python",
   "nbconvert_exporter": "python",
   "pygments_lexer": "ipython3",
   "version": "3.6.9"
  }
 },
 "nbformat": 4,
 "nbformat_minor": 5
}
