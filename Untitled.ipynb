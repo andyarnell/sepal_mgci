{
 "cells": [
  {
   "cell_type": "code",
   "execution_count": 32,
   "id": "infrared-button",
   "metadata": {},
   "outputs": [],
   "source": [
    "import ipyvuetify as v\n",
    "import ee\n",
    "import sepal_ui.sepalwidgets as sw\n",
    "from sepal_ui.scripts import utils as su\n",
    "\n",
    "su.init_ee()\n",
    "\n",
    "class AssetSelect(v.Combobox, sw.SepalWidget):\n",
    "    \"\"\"\n",
    "    Custom widget input to select an asset inside the asset folder of the user\n",
    "    \n",
    "    Args:\n",
    "        label (str): the label of the input\n",
    "        folder (str): the folder of the user assets\n",
    "        default_asset (str): the id of a default asset\n",
    "        \n",
    "    Attributes:\n",
    "        folder (str): the folder of the user assets\n",
    "    \"\"\"\n",
    "    \n",
    "    def __init__(self, label = 'Select an asset', folder = None, default_asset = None, *args, **kwargs):\n",
    "        \n",
    "        # if folder is not set use the root one \n",
    "        self.folder = folder if folder else ee.data.getAssetRoots()[0]['id'] + '/'\n",
    "        \n",
    "        \n",
    "        self.label = label\n",
    "        self.v_model = default_asset\n",
    "        \n",
    "        self.clearable = True\n",
    "        self.dense = True\n",
    "        self.persistent_hint = True\n",
    "        \n",
    "        self.class_ = 'my-5'\n",
    "        self.placeholder = 'users/someCustomUser/customAsset'\n",
    "        self.hint = 'select an asset in the list or write a custom asset ' + \\\n",
    "                    'name. Be careful that you need to have access to this asset to use it'\n",
    "        \n",
    "        self.items = self._get_items()\n",
    "        \n",
    "        super().__init__(*args, **kwargs)\n",
    "\n",
    "    def _get_items(self):\n",
    "        \n",
    "        # get the list of user asset\n",
    "        assets = ee.data.listAssets({'parent': self.folder})['assets']\n",
    "        \n",
    "        tables = [e['id'] for e in assets if e['type'] == 'TABLE']\n",
    "        images = [e['id'] for e in assets if e['type'] == 'IMAGE']\n",
    "        \n",
    "        items = [{'divider':True}, {'header':'Tables'}] + \\\n",
    "                tables + \\\n",
    "                [{'divider':True}, {'header':'Rasters'}] + \\\n",
    "                images\n",
    "        \n",
    "        return items"
   ]
  },
  {
   "cell_type": "code",
   "execution_count": 33,
   "id": "married-mozambique",
   "metadata": {},
   "outputs": [
    {
     "data": {
      "application/vnd.jupyter.widget-view+json": {
       "model_id": "0ce67040c9f24d69b6e52baa7631ee1e",
       "version_major": 2,
       "version_minor": 0
      },
      "text/plain": [
       "AssetSelect(class_='my-5', clearable=True, dense=True, hint='select an asset in the list or write a custom ass…"
      ]
     },
     "metadata": {},
     "output_type": "display_data"
    }
   ],
   "source": [
    "AssetSelect()"
   ]
  }
 ],
 "metadata": {
  "kernelspec": {
   "display_name": "Python 3",
   "language": "python",
   "name": "python3"
  },
  "language_info": {
   "codemirror_mode": {
    "name": "ipython",
    "version": 3
   },
   "file_extension": ".py",
   "mimetype": "text/x-python",
   "name": "python",
   "nbconvert_exporter": "python",
   "pygments_lexer": "ipython3",
   "version": "3.6.9"
  }
 },
 "nbformat": 4,
 "nbformat_minor": 5
}
