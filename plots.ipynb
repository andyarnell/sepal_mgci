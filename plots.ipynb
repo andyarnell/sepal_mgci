{
 "cells": [
  {
   "cell_type": "code",
   "execution_count": null,
   "metadata": {},
   "outputs": [],
   "source": [
    "from component.tile.calculation_tile import CalculationTile\n",
    "from component.tile.dashboard_tile import DashboardTile\n",
    "from component.tile.vegetation_tile import VegetationTile\n",
    "from component.tile.aoi_tile import AoiTile\n",
    "\n",
    "from component.widget.calc_params import Calculation\n",
    "from component.model import MgciModel\n",
    "from sepal_ui.aoi.aoi_model import AoiModel"
   ]
  },
  {
   "cell_type": "code",
   "execution_count": null,
   "metadata": {},
   "outputs": [],
   "source": [
    "aoi_tile = AoiTile()\n",
    "aoi_tile;"
   ]
  },
  {
   "cell_type": "code",
   "execution_count": null,
   "metadata": {},
   "outputs": [],
   "source": [
    "model = MgciModel(AoiModel(admin=\"959\"))"
   ]
  },
  {
   "cell_type": "code",
   "execution_count": null,
   "metadata": {},
   "outputs": [],
   "source": [
    "vegetation_tile = VegetationTile(model=model, aoi_model=model.aoi_model)\n",
    "vegetation_tile"
   ]
  },
  {
   "cell_type": "code",
   "execution_count": null,
   "metadata": {},
   "outputs": [],
   "source": [
    "calculation_tile = CalculationTile(model=model, units=\"sqkm\", rsa=True)\n",
    "calculation_tile;"
   ]
  },
  {
   "cell_type": "code",
   "execution_count": null,
   "metadata": {},
   "outputs": [],
   "source": [
    "import tests.test_result as test\n",
    "import component.scripts as cs"
   ]
  },
  {
   "cell_type": "code",
   "execution_count": null,
   "metadata": {},
   "outputs": [],
   "source": [
    "model.results = test.results\n",
    "model.sub_a_year = test.sub_a_year\n",
    "model.sub_b_year = test.sub_b_year\n",
    "model.reporting_a_years = {}\n",
    "model.reporting_a_years = cs.get_sub_a_break_points(model.sub_a_year)\n",
    "model.same_asset_matrix = False"
   ]
  },
  {
   "cell_type": "code",
   "execution_count": null,
   "metadata": {},
   "outputs": [],
   "source": [
    "df = cs.get_result_from_year(model, \"2010_2015\", \"sub_b\")"
   ]
  },
  {
   "cell_type": "code",
   "execution_count": null,
   "metadata": {},
   "outputs": [],
   "source": [
    "df"
   ]
  },
  {
   "cell_type": "code",
   "execution_count": null,
   "metadata": {},
   "outputs": [],
   "source": [
    "# group by from_lc and to_lc\n",
    "df_sankey = df[df.belt_class==4].groupby([\"from_lc\", \"to_lc\"], as_index=False).sum()"
   ]
  },
  {
   "cell_type": "code",
   "execution_count": null,
   "metadata": {},
   "outputs": [],
   "source": [
    "import plotly.graph_objects as go\n",
    "\n",
    "# Define nodes\n",
    "nodes = list(set(df_sankey['from_lc']).union(set(df_sankey['to_lc'])))\n",
    "node_labels = [f'LC {i}' for i in nodes]"
   ]
  },
  {
   "cell_type": "code",
   "execution_count": null,
   "metadata": {},
   "outputs": [],
   "source": [
    "# Define links\n",
    "links = []\n",
    "for i, row in df_sankey.iterrows():\n",
    "    source = nodes.index(row['from_lc'])\n",
    "    target = nodes.index(row['to_lc'])\n",
    "    value = row['sum']\n",
    "    links.append(dict(source=source, target=target, value=value))\n",
    "\n",
    "links"
   ]
  },
  {
   "cell_type": "code",
   "execution_count": null,
   "metadata": {},
   "outputs": [],
   "source": [
    "# Create Sankey diagram\n",
    "fig = go.Figure(data=[go.Sankey(\n",
    "    arrangement='fixed',\n",
    "    node=dict(\n",
    "        pad=50,\n",
    "        thickness=20,\n",
    "        line=dict(color='gray', width=0.5),\n",
    "        label=node_labels,\n",
    "        color='blue'\n",
    "    ),\n",
    "    link=dict(\n",
    "        source=[link['source'] for link in links],\n",
    "        target=[link['target'] for link in links],\n",
    "        value=[link['value'] for link in links],\n",
    "    ))])\n",
    "\n",
    "fig.update_layout(title_text='Sankey Diagram', font_size=10)\n",
    "fig.show()\n"
   ]
  }
 ],
 "metadata": {
  "kernelspec": {
   "display_name": "Python 3",
   "language": "python",
   "name": "python3"
  },
  "language_info": {
   "codemirror_mode": {
    "name": "ipython",
    "version": 3
   },
   "file_extension": ".py",
   "mimetype": "text/x-python",
   "name": "python",
   "nbconvert_exporter": "python",
   "pygments_lexer": "ipython3",
   "version": "3.10.6"
  }
 },
 "nbformat": 4,
 "nbformat_minor": 2
}
