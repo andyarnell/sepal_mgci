{
 "cells": [
  {
   "cell_type": "code",
   "execution_count": null,
   "metadata": {},
   "outputs": [],
   "source": [
    "from sepal_ui import aoi\n",
    "from component.tile import *\n",
    "from component.model import *"
   ]
  },
  {
   "cell_type": "code",
   "execution_count": null,
   "metadata": {},
   "outputs": [],
   "source": [
    "# Define area of interest tile\n",
    "aoi_tile = aoi.AoiTile()\n",
    "aoi_tile"
   ]
  },
  {
   "cell_type": "code",
   "execution_count": null,
   "metadata": {},
   "outputs": [],
   "source": [
    "model = MgciModel()"
   ]
  },
  {
   "cell_type": "code",
   "execution_count": null,
   "metadata": {},
   "outputs": [],
   "source": [
    "mountain_tile = MountainTile(aoi=aoi_tile, model=model)"
   ]
  },
  {
   "cell_type": "code",
   "execution_count": null,
   "metadata": {},
   "outputs": [],
   "source": [
    "mountain_tile"
   ]
  },
  {
   "cell_type": "code",
   "execution_count": null,
   "metadata": {},
   "outputs": [],
   "source": [
    "vegetation_tile = VegetationTile(aoi_model=aoi_tile.view.model)"
   ]
  },
  {
   "cell_type": "code",
   "execution_count": null,
   "metadata": {
    "tags": []
   },
   "outputs": [],
   "source": [
    "vegetation_tile"
   ]
  },
  {
   "cell_type": "code",
   "execution_count": null,
   "metadata": {},
   "outputs": [],
   "source": [
    "from component.scripts.scripts import *"
   ]
  },
  {
   "cell_type": "code",
   "execution_count": null,
   "metadata": {},
   "outputs": [],
   "source": [
    "mountain_layer = mountain_tile.model.kapos_image\n",
    "vegetation_layer = vegetation_tile.reclassify_tile.model.reclass_ee\n",
    "asset_type = vegetation_tile.reclassify_tile.model.asset_type\n",
    "aoi_geometry = aoi_tile.view.model.feature_collection.geometry()"
   ]
  },
  {
   "cell_type": "code",
   "execution_count": null,
   "metadata": {},
   "outputs": [],
   "source": [
    "vegetation_layer"
   ]
  },
  {
   "cell_type": "code",
   "execution_count": null,
   "metadata": {},
   "outputs": [],
   "source": [
    "mountain_layer"
   ]
  },
  {
   "cell_type": "code",
   "execution_count": null,
   "metadata": {},
   "outputs": [],
   "source": [
    "ee.Image.pixelArea().divide(10000)\\\n",
    "    .updateMask(vegetation_layer.mask().And(mountain_layer.mask()))\\\n",
    "    .reduceRegion(reducer=ee.Reducer.sum(), scale=300, geometry=aoi_geometry).getInfo()"
   ]
  },
  {
   "cell_type": "code",
   "execution_count": null,
   "metadata": {},
   "outputs": [],
   "source": [
    "def get_lulc_area_per_class(lulc, kapos, aoi, scale=30):\n",
    "    \n",
    "    \"\"\"Reduce land use/land cover image to kapos regions\n",
    "    \n",
    "    Args:\n",
    "        lulc (ee.Image, categorical): Input image to reduce\n",
    "        kapos (ee.Image, categorical): Input region\n",
    "        aoi (ee.FeatureCollection, ee.Geometry): Region to reduce image\n",
    "        scale (int, optional): By default using 30meters as scale\n",
    "        \n",
    "    Return:\n",
    "        ee.Dicionary.\n",
    "    \"\"\"\n",
    "\n",
    "    return ee.Image.pixelArea().divide(10000)\\\n",
    "      .updateMask(lulc.mask().And(kapos.mask()))\\\n",
    "      .addBands(lulc)\\\n",
    "      .addBands(kapos)\\\n",
    "      .reduceRegion(**{\n",
    "        'reducer': ee.Reducer.sum().group(1).group(2), \n",
    "        'geometry': aoi, \n",
    "        'maxPixels': 1e13,\n",
    "        'scale': scale,\n",
    "        'bestEffort':True,\n",
    "        'tileScale':4\n",
    "      })"
   ]
  },
  {
   "cell_type": "code",
   "execution_count": null,
   "metadata": {},
   "outputs": [],
   "source": []
  },
  {
   "cell_type": "code",
   "execution_count": null,
   "metadata": {},
   "outputs": [],
   "source": [
    "result = get_lulc_area_per_class(vegetation_layer, mountain_layer, aoi_geometry, scale=300).getInfo()"
   ]
  },
  {
   "cell_type": "code",
   "execution_count": null,
   "metadata": {},
   "outputs": [],
   "source": [
    "result"
   ]
  },
  {
   "cell_type": "code",
   "execution_count": null,
   "metadata": {},
   "outputs": [],
   "source": [
    "mountain_classes = [result['groups'][i]['group'] for i in range(len(result['groups']))]\n",
    "mountain_classes"
   ]
  },
  {
   "cell_type": "code",
   "execution_count": null,
   "metadata": {},
   "outputs": [],
   "source": [
    "total_area = 0\n",
    "for kapos_class in class_area_per_kapos.values():\n",
    "    for area in kapos_class.values():\n",
    "        total_area += area"
   ]
  },
  {
   "cell_type": "code",
   "execution_count": null,
   "metadata": {},
   "outputs": [],
   "source": [
    "total_area"
   ]
  },
  {
   "cell_type": "code",
   "execution_count": null,
   "metadata": {},
   "outputs": [],
   "source": [
    "class_area_per_kapos"
   ]
  },
  {
   "cell_type": "code",
   "execution_count": null,
   "metadata": {},
   "outputs": [],
   "source": [
    "mountainClasses = [1, 2, 3, 4, 5]"
   ]
  },
  {
   "cell_type": "code",
   "execution_count": null,
   "metadata": {},
   "outputs": [],
   "source": [
    "def get_area(classification):\n",
    "    \n",
    "    area = ee.Image.pixelArea()\n",
    "        .updateMask(classification)  \n",
    "        .addBands(classification)\n",
    "        .reduceRegion(\n",
    "          reducer=ee.Reducer.sum().group(1), \n",
    "          geometry=geometry, \n",
    "          scale=30\n",
    "    )\n",
    "    \n",
    "    return area"
   ]
  },
  {
   "cell_type": "code",
   "execution_count": null,
   "metadata": {},
   "outputs": [],
   "source": [
    "def mountain_class(mountain_class):\n",
    "  var area = getArea(\n",
    "    classification.updateMask(mountains.eq(mountainClass))\n",
    "  )\n",
    "  return {mountainClass: mountainClass, area: area}"
   ]
  },
  {
   "cell_type": "code",
   "execution_count": null,
   "metadata": {},
   "outputs": [],
   "source": [
    "var mountainClasses = [1, 2, 3, 4, 5]\n",
    "var areaByMountainClass = mountainClasses.map(function (mountainClass) {\n",
    "  var area = getArea(\n",
    "    classification.updateMask(mountains.eq(mountainClass))\n",
    "  )\n",
    "  return {mountainClass: mountainClass, area: area}\n",
    "})\n",
    "print(areaByMountainClass)\n",
    "\n",
    "\n",
    "function getArea(classification) {\n",
    "  var area = ee.Image.pixelArea()\n",
    "    .updateMask(classification)  \n",
    "    .addBands(classification)\n",
    "    .reduceRegion({\n",
    "      reducer: ee.Reducer.sum().group(1), \n",
    "      geometry: geometry, \n",
    "      scale: 100\n",
    "    })\n",
    "    \n",
    "    return area\n",
    "}  \n",
    "  Map.addLayer(classification.randomVisualizer())"
   ]
  },
  {
   "cell_type": "code",
   "execution_count": null,
   "metadata": {},
   "outputs": [],
   "source": [
    "mountain_layer.get('properties').getInfo()"
   ]
  },
  {
   "cell_type": "code",
   "execution_count": null,
   "metadata": {},
   "outputs": [],
   "source": [
    "import geemap"
   ]
  },
  {
   "cell_type": "code",
   "execution_count": null,
   "metadata": {},
   "outputs": [],
   "source": [
    "from component.parameter.directory import *\n",
    "from pathlib import Path"
   ]
  },
  {
   "cell_type": "code",
   "execution_count": null,
   "metadata": {},
   "outputs": [],
   "source": [
    "# Mountain layer has to be transformed into vector\n",
    "\n",
    "\n",
    "# Vegetation layer has to be an Image"
   ]
  },
  {
   "cell_type": "code",
   "execution_count": null,
   "metadata": {},
   "outputs": [],
   "source": [
    "out_path = RESULTS_DIR/'zonal_statistics'\n",
    "out_path.mkdir(parents=True, exist_ok=True)\n",
    "out_file = out_path/'zonal_{}.csv'.format(aoi_tile.view.model.name)"
   ]
  },
  {
   "cell_type": "code",
   "execution_count": null,
   "metadata": {},
   "outputs": [],
   "source": [
    "out_file"
   ]
  }
 ],
 "metadata": {
  "kernelspec": {
   "display_name": "Python 3",
   "language": "python",
   "name": "python3"
  },
  "language_info": {
   "codemirror_mode": {
    "name": "ipython",
    "version": 3
   },
   "file_extension": ".py",
   "mimetype": "text/x-python",
   "name": "python",
   "nbconvert_exporter": "python",
   "pygments_lexer": "ipython3",
   "version": "3.6.9"
  }
 },
 "nbformat": 4,
 "nbformat_minor": 4
}
