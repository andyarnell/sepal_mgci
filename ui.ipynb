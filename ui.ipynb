{
 "cells": [
  {
   "cell_type": "code",
   "execution_count": null,
   "id": "6320d7f9-989e-4e60-a809-0453c05affc4",
   "metadata": {},
   "outputs": [],
   "source": [
    "import sepal_ui.sepalwidgets as sw\n",
    "from sepal_ui import aoi\n",
    "from component.tile import DashboardTile, VegetationTile, MountainTile\n",
    "from component.model import MgciModel\n",
    "from component.message import cm\n",
    "from component.parameter import CUSTOM_AOI_ITEMS"
   ]
  },
  {
   "cell_type": "code",
   "execution_count": null,
   "id": "302a2177-bdae-428d-a1a1-8c758cb32979",
   "metadata": {},
   "outputs": [],
   "source": [
    "# Create an appBar\n",
    "app_bar = sw.AppBar(cm.app.title)"
   ]
  },
  {
   "cell_type": "code",
   "execution_count": null,
   "id": "41695f79-8c81-4c18-bdfc-879b9c567ccd",
   "metadata": {},
   "outputs": [],
   "source": [
    "%run 'about_ui.ipynb'"
   ]
  },
  {
   "cell_type": "code",
   "execution_count": null,
   "id": "734d4e94-a351-4cf0-aec8-f02b15b9c579",
   "metadata": {},
   "outputs": [],
   "source": [
    "# Define area of interest tile\n",
    "aoi_tile = aoi.AoiTile(methods=['-POINTS', '-DRAW'])\n",
    "aoi_tile.view.w_method.items = CUSTOM_AOI_ITEMS\n",
    "\n",
    "mgci_model = MgciModel(aoi_model=aoi_tile.view.model)\n",
    "\n",
    "mountain_tile = MountainTile(model=mgci_model)\n",
    "vegetation_tile = VegetationTile(\n",
    "    model=mgci_model, \n",
    "    aoi_model=aoi_tile.view.model\n",
    ")\n",
    "dashboard_tile = DashboardTile(model=mgci_model)"
   ]
  },
  {
   "cell_type": "code",
   "execution_count": null,
   "id": "dcd06625-8e1b-424a-8639-8b8d04754b5c",
   "metadata": {},
   "outputs": [],
   "source": [
    "# Gather all the partial tiles that you created previously\n",
    "app_content = [\n",
    "    aoi_tile, \n",
    "    mountain_tile,\n",
    "    vegetation_tile,\n",
    "    dashboard_tile,\n",
    "    about_tile,\n",
    "    disclaimer_tile\n",
    "]"
   ]
  },
  {
   "cell_type": "code",
   "execution_count": null,
   "id": "adf89022-8220-4731-8a06-111f28c4edbc",
   "metadata": {},
   "outputs": [],
   "source": [
    "# create a drawer for each group of tile \n",
    "# use the DrawerItem widget from sepalwidget (name_of_drawer, icon, the id of the widgets you want to display)\n",
    "# use the display_tile() method to link the times with the drawer items\n",
    "items = [\n",
    "    sw.DrawerItem(cm.app.drawer_item.aoi, 'mdi-map-marker-check', card=\"aoi_tile\").display_tile(app_content),\n",
    "    sw.DrawerItem(cm.app.drawer_item.mountain, 'mdi-image-filter-hdr', card=\"mountain_tile\").display_tile(app_content),\n",
    "    sw.DrawerItem(cm.app.drawer_item.vegetation, 'mdi-pine-tree', card=\"vegetation_tile\").display_tile(app_content),\n",
    "    sw.DrawerItem(cm.app.drawer_item.dashboard, 'mdi-view-dashboard', card=\"dashboard_tile\").display_tile(app_content),\n",
    "    sw.DrawerItem(cm.app.drawer_item.about, 'mdi-help-circle', card=\"about_tile\").display_tile(app_content),\n",
    "]\n",
    "\n",
    "# !!! not mandatory !!! \n",
    "# Add the links to the code, wiki and issue tracker of your \n",
    "code_link = 'https://github.com/dfguerrerom/sepal_mgci'\n",
    "wiki_link = 'https://docs.sepal.io/en/latest/modules/dwn/sepal_mgci.html'\n",
    "issue_link = 'https://github.com/dfguerrerom/sepal_mgci/issues/new'\n",
    "\n",
    "# Create the side drawer with all its components \n",
    "# The display_drawer() method link the drawer with the app bar\n",
    "app_drawer = sw.NavDrawer(\n",
    "    items = items, \n",
    "    code  = code_link, \n",
    "    wiki  = wiki_link, \n",
    "    issue = issue_link\n",
    ").display_drawer(app_bar.toggle_button)"
   ]
  },
  {
   "cell_type": "code",
   "execution_count": null,
   "id": "25cca845-9098-4771-b0cd-be4fbe0389bf",
   "metadata": {},
   "outputs": [],
   "source": [
    "# build the Html final app by gathering everything \n",
    "app = sw.App(\n",
    "    tiles    = app_content, \n",
    "    appBar   = app_bar, \n",
    "    navDrawer= app_drawer\n",
    ").show_tile('aoi_tile') # id of the tile you want to display"
   ]
  },
  {
   "cell_type": "code",
   "execution_count": null,
   "id": "81605f26-1ed3-4bdb-8c17-706c5c07fa38",
   "metadata": {},
   "outputs": [],
   "source": [
    "app"
   ]
  }
 ],
 "metadata": {
  "kernelspec": {
   "display_name": "Python 3",
   "language": "python",
   "name": "python3"
  },
  "language_info": {
   "codemirror_mode": {
    "name": "ipython",
    "version": 3
   },
   "file_extension": ".py",
   "mimetype": "text/x-python",
   "name": "python",
   "nbconvert_exporter": "python",
   "pygments_lexer": "ipython3",
   "version": "3.8.10"
  }
 },
 "nbformat": 4,
 "nbformat_minor": 5
}
