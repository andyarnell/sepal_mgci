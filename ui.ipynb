{
 "cells": [
  {
   "cell_type": "code",
   "execution_count": null,
   "metadata": {},
   "outputs": [],
   "source": [
    "# !!! testing purpose !!!\n",
    "# this cell is for testing the translation component \n",
    "# try uncomment the 2 following line to see the fr translation of the module\n",
    "#import os\n",
    "#os.environ[\"CUSTOM_LANGUAGE\"] = \"fr\""
   ]
  },
  {
   "cell_type": "code",
   "execution_count": null,
   "metadata": {},
   "outputs": [],
   "source": [
    "from sepal_ui import sepalwidgets as sw\n",
    "from component.message import cm"
   ]
  },
  {
   "cell_type": "code",
   "execution_count": null,
   "metadata": {},
   "outputs": [],
   "source": [
    "# Create an appBar\n",
    "app_bar = sw.AppBar(cm.app.title)"
   ]
  },
  {
   "cell_type": "code",
   "execution_count": null,
   "metadata": {},
   "outputs": [],
   "source": [
    "# Create a footer\n",
    "# the footer will be display in the bottom of the page \n",
    "# it's not a mandatory feature \n",
    "app_footer = sw.Footer(cm.app.footer.format(2020))"
   ]
  },
  {
   "cell_type": "code",
   "execution_count": null,
   "metadata": {},
   "outputs": [],
   "source": [
    "# load the patial files\n",
    "%run 'aoi_ui.ipynb'\n",
    "%run 'default_process_ui.ipynb'\n",
    "%run 'about_ui.ipynb'\n",
    "\n",
    "# Gather all the partial tiles that you created previously\n",
    "app_content = [\n",
    "    aoi_tile, \n",
    "    default_process_tile, \n",
    "    default_result_tile, \n",
    "    about_tile, \n",
    "    disclaimer_tile\n",
    "]"
   ]
  },
  {
   "cell_type": "code",
   "execution_count": null,
   "metadata": {},
   "outputs": [],
   "source": [
    "# create a drawer for each group of tile \n",
    "# use the DrawerItem widget from sepalwidget (name_of_drawer, icon, the id of the widgets you want to display)\n",
    "# use the display_tile() method to link the times with the drawer items\n",
    "items = [\n",
    "    sw.DrawerItem(cm.app.drawer_item.aoi,             'mdi-map-marker-check', card=\"aoi_widget\").display_tile(app_content),\n",
    "    sw.DrawerItem(cm.app.drawer_item.default_process, 'mdi-cogs',             card=\"default_process_tile\").display_tile(app_content),\n",
    "    sw.DrawerItem(cm.app.drawer_item.default_result,  'mdi-chart-bar',        card=\"default_result_tile\").display_tile(app_content),\n",
    "    sw.DrawerItem(cm.app.drawer_item.about,           'mdi-help-circle',      card=\"about_widget\").display_tile(app_content)\n",
    "]\n",
    "\n",
    "# !!! not mandatory !!! \n",
    "# Add the links to the code, wiki and issue tracker of your \n",
    "code_link = 'https://github.com/ingdanielguerrero/sepal_mgci'\n",
    "wiki_link = 'https://github.com/ingdanielguerrero/sepal_mgci/blob/master/doc/fake_doc.md'\n",
    "issue_link = 'https://github.com/ingdanielguerrero/sepal_mgci/issues/new'\n",
    "\n",
    "# Create the side drawer with all its components \n",
    "# The display_drawer() method link the drawer with the app bar\n",
    "app_drawer = sw.NavDrawer(\n",
    "    items = items, \n",
    "    code  = code_link, \n",
    "    wiki  = wiki_link, \n",
    "    issue = issue_link\n",
    ").display_drawer(app_bar.toggle_button)\n"
   ]
  },
  {
   "cell_type": "code",
   "execution_count": null,
   "metadata": {},
   "outputs": [],
   "source": [
    "# build the Html final app by gathering everything \n",
    "app = sw.App(\n",
    "    tiles    = app_content, \n",
    "    appBar   = app_bar, \n",
    "    footer   = app_footer, \n",
    "    navDrawer= app_drawer\n",
    ").show_tile('aoi_widget') # id of the tile you want to display"
   ]
  },
  {
   "cell_type": "code",
   "execution_count": null,
   "metadata": {},
   "outputs": [],
   "source": [
    "# display the app\n",
    "# this final cell will be the only one displaying something in this notebook \n",
    "# if you run all this notebook you may see elements displayed on the left side of your screen but it won't work\n",
    "# it can only be launched with voila as it's creating a full page javascript interface\n",
    "app"
   ]
  },
  {
   "cell_type": "code",
   "execution_count": 4,
   "metadata": {},
   "outputs": [],
   "source": [
    "import asyncio\n",
    "def wait_for_change(widget, value):\n",
    "    future = asyncio.Future()\n",
    "    def getvalue(change):\n",
    "        # make the new value available\n",
    "        future.set_result(change.new)\n",
    "        widget.unobserve(getvalue, value)\n",
    "    widget.observe(getvalue, value)\n",
    "    return future\n"
   ]
  },
  {
   "cell_type": "code",
   "execution_count": 5,
   "metadata": {},
   "outputs": [
    {
     "data": {
      "application/vnd.jupyter.widget-view+json": {
       "model_id": "38b2f9e631384dd598d576bad3d2205d",
       "version_major": 2,
       "version_minor": 0
      },
      "text/plain": [
       "IntSlider(value=0)"
      ]
     },
     "metadata": {},
     "output_type": "display_data"
    }
   ],
   "source": [
    "from ipywidgets import IntSlider, Output\n",
    "slider = IntSlider()\n",
    "out = Output()\n",
    "\n",
    "async def f():\n",
    "    for i in range(10):\n",
    "        out.append_stdout('did work ' + str(i) + '\\n')\n",
    "        x = await wait_for_change(slider, 'value')\n",
    "        out.append_stdout('async function continued with value ' + str(x) + '\\n')\n",
    "asyncio.ensure_future(f())\n",
    "\n",
    "slider\n"
   ]
  },
  {
   "cell_type": "code",
   "execution_count": 6,
   "metadata": {},
   "outputs": [
    {
     "data": {
      "application/vnd.jupyter.widget-view+json": {
       "model_id": "8b8e24fbedcf48ce8113c48c84bcf48e",
       "version_major": 2,
       "version_minor": 0
      },
      "text/plain": [
       "Output(outputs=({'output_type': 'stream', 'name': 'stdout', 'text': 'did work 0\\n'},))"
      ]
     },
     "metadata": {},
     "output_type": "display_data"
    }
   ],
   "source": [
    "out\n"
   ]
  },
  {
   "cell_type": "code",
   "execution_count": null,
   "metadata": {},
   "outputs": [],
   "source": []
  }
 ],
 "metadata": {
  "kernelspec": {
   "display_name": "Python 3",
   "language": "python",
   "name": "python3"
  },
  "language_info": {
   "codemirror_mode": {
    "name": "ipython",
    "version": 3
   },
   "file_extension": ".py",
   "mimetype": "text/x-python",
   "name": "python",
   "nbconvert_exporter": "python",
   "pygments_lexer": "ipython3",
   "version": "3.6.9"
  }
 },
 "nbformat": 4,
 "nbformat_minor": 4
}
