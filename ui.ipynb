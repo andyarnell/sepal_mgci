{
 "cells": [
  {
   "cell_type": "code",
   "execution_count": 1,
   "metadata": {
    "scrolled": true,
    "tags": []
   },
   "outputs": [
    {
     "data": {
      "application/vnd.jupyter.widget-view+json": {
       "model_id": "a138e3dc939a4d92bf26bfa18bec2bfd",
       "version_major": 2,
       "version_minor": 0
      },
      "text/plain": [
       "Styles()"
      ]
     },
     "metadata": {},
     "output_type": "display_data"
    },
    {
     "data": {
      "application/vnd.jupyter.widget-view+json": {
       "model_id": "675e2a70f188470685ac702129adc244",
       "version_major": 2,
       "version_minor": 0
      },
      "text/plain": [
       "ResizeTrigger()"
      ]
     },
     "metadata": {},
     "output_type": "display_data"
    }
   ],
   "source": [
    "from sepal_ui import aoi\n",
    "from component.tile import *\n",
    "from component.model import *"
   ]
  },
  {
   "cell_type": "code",
   "execution_count": 2,
   "metadata": {},
   "outputs": [
    {
     "data": {
      "application/vnd.jupyter.widget-view+json": {
       "model_id": "1f1691146da64e0e9fa5179b07744d12",
       "version_major": 2,
       "version_minor": 0
      },
      "text/plain": [
       "AoiTile(align_center=True, children=[Card(children=[Html(children=['Select AOI'], tag='h2'), Flex(children=[La…"
      ]
     },
     "metadata": {},
     "output_type": "display_data"
    }
   ],
   "source": [
    "# Define area of interest tile\n",
    "aoi_tile = aoi.AoiTile()\n",
    "aoi_tile"
   ]
  },
  {
   "cell_type": "code",
   "execution_count": 3,
   "metadata": {},
   "outputs": [],
   "source": [
    "model = MgciModel()"
   ]
  },
  {
   "cell_type": "code",
   "execution_count": 4,
   "metadata": {},
   "outputs": [],
   "source": [
    "mountain_tile = MountainTile(aoi=aoi_tile, model=model)"
   ]
  },
  {
   "cell_type": "code",
   "execution_count": 5,
   "metadata": {},
   "outputs": [
    {
     "data": {
      "application/vnd.jupyter.widget-view+json": {
       "model_id": "7c0e6a227b2343179e522633ecb92205",
       "version_major": 2,
       "version_minor": 0
      },
      "text/plain": [
       "MountainTile(children=[CardTitle(children=['Mountain descriptor layer']), CardText(children=[Markdown(align_ce…"
      ]
     },
     "metadata": {},
     "output_type": "display_data"
    }
   ],
   "source": [
    "mountain_tile"
   ]
  },
  {
   "cell_type": "code",
   "execution_count": 6,
   "metadata": {},
   "outputs": [],
   "source": [
    "vegetation_tile = VegetationTile(aoi=aoi_tile, model=model)"
   ]
  },
  {
   "cell_type": "code",
   "execution_count": 7,
   "metadata": {
    "tags": []
   },
   "outputs": [
    {
     "data": {
      "application/vnd.jupyter.widget-view+json": {
       "model_id": "4209a5dc0ba84a589b7821617fd9dbcd",
       "version_major": 2,
       "version_minor": 0
      },
      "text/plain": [
       "VegetationTile(children=[CardTitle(children=['Vegetation layer']), CardText(children=[Markdown(align_center=Tr…"
      ]
     },
     "metadata": {},
     "output_type": "display_data"
    }
   ],
   "source": [
    "vegetation_tile"
   ]
  },
  {
   "cell_type": "code",
   "execution_count": 8,
   "metadata": {
    "tags": []
   },
   "outputs": [
    {
     "data": {
      "text/plain": [
       "{'type': 'Image',\n",
       " 'bands': [{'id': 'remapped',\n",
       "   'data_type': {'type': 'PixelType', 'precision': 'int', 'min': 1, 'max': 4},\n",
       "   'dimensions': [1298, 1298],\n",
       "   'crs': 'EPSG:3042',\n",
       "   'crs_transform': [30, 0, 508080, 0, -30, 4697640]}],\n",
       " 'version': 1559072041717005,\n",
       " 'id': 'users/dafguerrerom/Agresta/LT/Lt_dist_yod_M105_mask_2004_B7',\n",
       " 'properties': {'system:footprint': {'type': 'LinearRing',\n",
       "   'coordinates': [[-2.431363608808854, 42.07906556297198],\n",
       "    [-2.431360441691899, 42.07909927528526],\n",
       "    [-2.4282037642104153, 42.429515771476076],\n",
       "    [-2.428351251461071, 42.429640880333324],\n",
       "    [-2.4284764199494457, 42.42977860040156],\n",
       "    [-2.4285364406227865, 42.42978737476859],\n",
       "    [-2.901587974875251, 42.431169525560925],\n",
       "    [-2.901756691804011, 42.431060003927044],\n",
       "    [-2.90194262388423, 42.430966829437764],\n",
       "    [-2.9019512311632156, 42.43093364715335],\n",
       "    [-2.9019541256467654, 42.430899859857156],\n",
       "    [-2.9024954733365003, 42.08046666270109],\n",
       "    [-2.9023478532207614, 42.0803420995007],\n",
       "    [-2.902222323162664, 42.08020483642235],\n",
       "    [-2.9021626050959153, 42.0801963870946],\n",
       "    [-2.431726622185959, 42.078831127824714],\n",
       "    [-2.4315580098823224, 42.078940001403865],\n",
       "    [-2.4313724314929623, 42.07903233469673],\n",
       "    [-2.431363608808854, 42.07906556297198]]},\n",
       "  'system:asset_size': 797637}}"
      ]
     },
     "execution_count": 8,
     "metadata": {},
     "output_type": "execute_result"
    }
   ],
   "source": [
    "vegetation_tile.reclassify_tile.model.reclass_ee.getInfo()"
   ]
  },
  {
   "cell_type": "code",
   "execution_count": 9,
   "metadata": {},
   "outputs": [
    {
     "data": {
      "text/plain": [
       "{'type': 'Image',\n",
       " 'bands': [{'id': 'yod',\n",
       "   'data_type': {'type': 'PixelType',\n",
       "    'precision': 'int',\n",
       "    'min': -32768,\n",
       "    'max': 32767},\n",
       "   'dimensions': [1298, 1298],\n",
       "   'crs': 'EPSG:3042',\n",
       "   'crs_transform': [30, 0, 508080, 0, -30, 4697640]}],\n",
       " 'version': 1559072041717005,\n",
       " 'id': 'users/dafguerrerom/Agresta/LT/Lt_dist_yod_M105_mask_2004_B7',\n",
       " 'properties': {'system:footprint': {'type': 'LinearRing',\n",
       "   'coordinates': [[-2.431363608808854, 42.07906556297198],\n",
       "    [-2.431360441691899, 42.07909927528526],\n",
       "    [-2.4282037642104153, 42.429515771476076],\n",
       "    [-2.428351251461071, 42.429640880333324],\n",
       "    [-2.4284764199494457, 42.42977860040156],\n",
       "    [-2.4285364406227865, 42.42978737476859],\n",
       "    [-2.901587974875251, 42.431169525560925],\n",
       "    [-2.901756691804011, 42.431060003927044],\n",
       "    [-2.90194262388423, 42.430966829437764],\n",
       "    [-2.9019512311632156, 42.43093364715335],\n",
       "    [-2.9019541256467654, 42.430899859857156],\n",
       "    [-2.9024954733365003, 42.08046666270109],\n",
       "    [-2.9023478532207614, 42.0803420995007],\n",
       "    [-2.902222323162664, 42.08020483642235],\n",
       "    [-2.9021626050959153, 42.0801963870946],\n",
       "    [-2.431726622185959, 42.078831127824714],\n",
       "    [-2.4315580098823224, 42.078940001403865],\n",
       "    [-2.4313724314929623, 42.07903233469673],\n",
       "    [-2.431363608808854, 42.07906556297198]]},\n",
       "  'system:asset_size': 797637}}"
      ]
     },
     "execution_count": 9,
     "metadata": {},
     "output_type": "execute_result"
    }
   ],
   "source": [
    "vegetation_tile.reclassify_tile.model.ee_object.getInfo()"
   ]
  },
  {
   "cell_type": "code",
   "execution_count": null,
   "metadata": {},
   "outputs": [],
   "source": []
  }
 ],
 "metadata": {
  "kernelspec": {
   "display_name": "Python 3",
   "language": "python",
   "name": "python3"
  },
  "language_info": {
   "codemirror_mode": {
    "name": "ipython",
    "version": 3
   },
   "file_extension": ".py",
   "mimetype": "text/x-python",
   "name": "python",
   "nbconvert_exporter": "python",
   "pygments_lexer": "ipython3",
   "version": "3.6.9"
  }
 },
 "nbformat": 4,
 "nbformat_minor": 4
}
