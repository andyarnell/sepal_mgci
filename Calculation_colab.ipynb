{
  "cells": [
    {
      "cell_type": "markdown",
      "metadata": {
        "id": "view-in-github",
        "colab_type": "text"
      },
      "source": [
        "<a href=\"https://colab.research.google.com/github/andyarnell/sepal_mgci/blob/master/Calculation_colab.ipynb\" target=\"_parent\"><img src=\"https://colab.research.google.com/assets/colab-badge.svg\" alt=\"Open In Colab\"/></a>"
      ]
    },
    {
      "cell_type": "markdown",
      "source": [
        "#### Clone SDG 15.4.2 github repo into colab instance"
      ],
      "metadata": {
        "id": "qGfLFLEkwS1n"
      }
    },
    {
      "cell_type": "code",
      "source": [
        "# Change the current working directory to \"/content\".\n",
        "%cd \"/content\"\n",
        "\n",
        "# Clone the GitHub repository \"sepal_mgci\" into the current directory.\n",
        "!git clone https://github.com/andyarnell/sepal_mgci.git"
      ],
      "metadata": {
        "colab": {
          "base_uri": "https://localhost:8080/"
        },
        "id": "TNohZrOTvNqT",
        "outputId": "0080ee26-ee73-4fd5-c8f3-17d8e04b9b19"
      },
      "execution_count": 1,
      "outputs": [
        {
          "output_type": "stream",
          "name": "stdout",
          "text": [
            "/content\n",
            "fatal: destination path 'sepal_mgci' already exists and is not an empty directory.\n"
          ]
        }
      ]
    },
    {
      "cell_type": "markdown",
      "source": [
        "#### Installing missing packages"
      ],
      "metadata": {
        "id": "YdoCOI_1yWY0"
      }
    },
    {
      "cell_type": "code",
      "execution_count": 2,
      "metadata": {
        "colab": {
          "base_uri": "https://localhost:8080/",
          "height": 121
        },
        "id": "Kg3K1EPJu_f5",
        "outputId": "d31702b7-a8ab-43bb-b57e-42ec3e38a1ca"
      },
      "outputs": [
        {
          "output_type": "stream",
          "name": "stdout",
          "text": [
            "geemap is already installed.\n",
            "unidecode is already installed.\n"
          ]
        },
        {
          "output_type": "display_data",
          "data": {
            "text/plain": [
              "<IPython.core.display.HTML object>"
            ],
            "text/html": [
              "<style>/*******************************************************************************\n",
              " * Customization of the provided css from the different libs used by sepal_ui\n",
              " */\n",
              "\n",
              "/* replace the map panel elements on top */\n",
              ".leaflet-pane,\n",
              ".leaflet-top,\n",
              ".leaflet-bottom {\n",
              "  z-index: 2 !important;\n",
              "}\n",
              "\n",
              "/* remove the shadow from the widgets on the maps */\n",
              ".leaflet-widgetcontrol {\n",
              "  box-shadow: none;\n",
              "}\n",
              "\n",
              "/* remove extra padding on top of the content */\n",
              "main.v-content {\n",
              "  padding-top: 0px !important;\n",
              "}\n",
              "\n",
              "/* remove all the backgrounds from the controls and widget to be colored naturelly by the map */\n",
              ".leaflet-control-container .vuetify-styles .v-application {\n",
              "  background: rgb(0, 0, 0, 0);\n",
              "}\n",
              ".v-alert__wrapper .progress {\n",
              "  background-color: transparent;\n",
              "}\n",
              "\n",
              "/* set the bar on top of the map (800) when set to fullscreen */\n",
              "header.v-app-bar {\n",
              "  z-index: 800 !important;\n",
              "}\n",
              "\n",
              "/* set the menu_content on top of the map when it's set to fullscreen */\n",
              ".v-menu__content {\n",
              "  max-width: 100% !important;\n",
              "}\n",
              "\n",
              "/* make sure navigation drawers are always visible when they exist */\n",
              "nav.v-navigation-drawer {\n",
              "  z-index: 900 !important;\n",
              "}\n",
              "\n",
              "/* create extra position for the leaflet map controls */\n",
              ".leaflet-center {\n",
              "  left: 50%;\n",
              "  transform: translate(-50%, 0%);\n",
              "}\n",
              "\n",
              ".leaflet-middle {\n",
              "  top: 50%;\n",
              "  position: absolute;\n",
              "  z-index: 1000;\n",
              "  pointer-events: none;\n",
              "  transform: translate(0%, -50%);\n",
              "}\n",
              "\n",
              ".leaflet-center.leaflet-middle {\n",
              "  transform: translate(-50%, -50%);\n",
              "}\n",
              "\n",
              "/* create extra classes to customize the layer_control table */\n",
              ".v-no-hover:hover {\n",
              "  background-color: transparent !important;\n",
              "}\n",
              "\n",
              ".v-no-border tbody tr td,\n",
              ".v-no-border tbody tr th {\n",
              "  border: none !important;\n",
              "}\n",
              "\n",
              "/* extra css rules to make the messages disappear beneath the SimpleSlider */\n",
              ".v-no-messages .v-messages {\n",
              "  display: none;\n",
              "}\n",
              "\n",
              ".v-no-messages .v-input__slot {\n",
              "  margin-bottom: 0;\n",
              "}\n",
              "\n",
              "/* specific css for the btn placed on maps */\n",
              ".v-btn.v-size--default.v-map-btn:not(.v-btn--round) {\n",
              "  padding: 0px;\n",
              "  min-width: 0px;\n",
              "  width: 30px;\n",
              "  height: 30px;\n",
              "}\n",
              "\n",
              "/* add specific css for the zoom btn of the map */\n",
              ".v-btn.v-zoom-plus {\n",
              "  border-bottom-left-radius: 0;\n",
              "  border-bottom-right-radius: 0;\n",
              "}\n",
              "\n",
              ".v-btn.v-zoom-minus {\n",
              "  margin-top: -1px;\n",
              "  border-top-left-radius: 0;\n",
              "  border-top-right-radius: 0;\n",
              "}\n",
              "\n",
              "/* css rules for fullscreen menus */\n",
              ".v-card.v-menu-fullscreen {\n",
              "  width: calc(100vw - 80px);\n",
              "  height: calc(100vh - 20px);\n",
              "}\n",
              "\n",
              "/* hide the disclaimer message placed on top of the ui notebook\n",
              " * the message will be displayed until the css is loaded */\n",
              "#loading-app {\n",
              "  display: none !important;\n",
              "}\n",
              "\n",
              "/* Related with https://github.com/12rambau/sepal_ui/issues/893 */\n",
              "#rendered_cells {\n",
              "  contain: revert !important;\n",
              "  background-color: revert !important;\n",
              "}\n",
              "</style>"
            ]
          },
          "metadata": {}
        },
        {
          "output_type": "display_data",
          "data": {
            "text/plain": [
              "<IPython.core.display.HTML object>"
            ],
            "text/html": [
              "<link rel=\"stylesheet\" href=\"https://cdnjs.cloudflare.com/ajax/libs/font-awesome/6.2.1/css/all.min.css\"/>"
            ]
          },
          "metadata": {}
        },
        {
          "output_type": "display_data",
          "data": {
            "text/plain": [
              "<IPython.core.display.Javascript object>"
            ],
            "application/javascript": [
              "/*******************************************************************************\n",
              " * remove any links from fontawesome 5 created by jupyter in favor of\n",
              " * fontawesome 6. to be removed when Jupyter updates it\n",
              " */\n",
              "\n",
              "function remove_fa5() {\n",
              "  let links = document.querySelectorAll(\n",
              "    \"link[href^='https://cdn.jsdelivr.net/npm/@fortawesome/fontawesome-free@^5']\"\n",
              "  );\n",
              "\n",
              "  links.forEach((link) => link.remove());\n",
              "}\n",
              "\n",
              "if (document.readyState != \"loading\") remove_fa5();\n",
              "else document.addEventListener(\"DOMContentLoaded\", remove_fa5);\n"
            ]
          },
          "metadata": {}
        },
        {
          "output_type": "stream",
          "name": "stdout",
          "text": [
            "sepal_ui is already installed.\n",
            "google-api-python-client has been installed.\n",
            "google-auth-httplib2 has been installed.\n",
            "google-auth-oauthlib has been installed.\n"
          ]
        }
      ],
      "source": [
        "# Load the autoreload extension to automatically reload modules.\n",
        "%load_ext autoreload\n",
        "\n",
        "# Set autoreload to reload all modules before executing code.\n",
        "%autoreload 2\n",
        "\n",
        "# Function to install a package if it's not already installed\n",
        "def install_if_not_exists(package_name):\n",
        "    try:\n",
        "        __import__(package_name)\n",
        "        print(f\"{package_name} is already installed.\")\n",
        "    except ImportError:\n",
        "        !pip install -q {package_name}\n",
        "        print(f\"{package_name} has been installed.\")\n",
        "\n",
        "# List of packages to install if not already installed\n",
        "packages_to_install = ['geemap', 'unidecode', 'sepal_ui', 'google-api-python-client',\n",
        "                      'google-auth-httplib2', 'google-auth-oauthlib']\n",
        "\n",
        "# Install necessary packages\n",
        "for package in packages_to_install:\n",
        "    install_if_not_exists(package)"
      ]
    },
    {
      "cell_type": "markdown",
      "source": [
        "#### Importing packages\n",
        "##### Includes modules and functions from the sepal_mgci repository"
      ],
      "metadata": {
        "id": "L5jsWgqWyiCP"
      }
    },
    {
      "cell_type": "code",
      "source": [
        "import ee # google earth engine\n",
        "import os # operating system library\n",
        "\n",
        "from datetime import datetime # for timestamping error log\n",
        "# from pathlib import Path # creating paths\n",
        "\n",
        "import pandas as pd # pandas library for tabular data manipulation\n",
        "# import geemap # useful for conv\n",
        "import re # for manipulating strings\n",
        "# import pygaul # not using currently\n",
        "\n",
        "from unidecode import unidecode # for converting non ascii compliant symbols in country names\n",
        "from google.colab import auth # for accessing google drive\n",
        "from googleapiclient.discovery import build # for getting authorisated access to google drive\n",
        "from openpyxl.utils import get_column_letter # formatting excel report file\n",
        "from openpyxl.styles import Alignment # formatting excel report file\n",
        "\n",
        "# Change current directory to sepal_mgci (i.e. the local copy of the github repository)\n",
        "%cd \"/content/sepal_mgci\"\n",
        "\n",
        "# Import specific parameters needed\n",
        "from component.parameter.module_parameter import DEM_DEFAULT, LC_MAP_MATRIX\n",
        "\n",
        "# Authenticate and initialize Google Earth Engine\n",
        "gee_project_name = \"ee-andyarnellgee\"  # Need a valid Google project name\n",
        "\n",
        "ee.Authenticate()\n",
        "\n",
        "ee.Initialize(project=gee_project_name)\n",
        "\n",
        "# Import scripts and modules (mostly functions for mgci calculation and formatting)\n",
        "from component.scripts.gee import reduce_regions # for running summary statistics in GEE\n",
        "from component.scripts.scripts import get_a_years, map_matrix_to_dict, parse_result # parameter prep and reformatting\n",
        "from component.scripts.scripts import read_from_csv\n",
        "from component.scripts import sub_a, sub_b, mountain_area as mntn\n",
        "\n",
        "print(\"Imports complete\")\n"
      ],
      "metadata": {
        "id": "xopY6C80GXl6",
        "outputId": "30fb9170-9dd0-496c-d7bd-a1992a561ab7",
        "colab": {
          "base_uri": "https://localhost:8080/",
          "height": 52,
          "referenced_widgets": [
            "de275c7ed49043f98e4bd9d6afa14a55"
          ]
        }
      },
      "execution_count": 3,
      "outputs": [
        {
          "output_type": "display_data",
          "data": {
            "text/plain": [
              "<IPython.core.display.HTML object>"
            ],
            "text/html": [
              "\n",
              "            <style>\n",
              "                .geemap-dark {\n",
              "                    --jp-widgets-color: white;\n",
              "                    --jp-widgets-label-color: white;\n",
              "                    --jp-ui-font-color1: white;\n",
              "                    --jp-layout-color2: #454545;\n",
              "                    background-color: #383838;\n",
              "                }\n",
              "\n",
              "                .geemap-dark .jupyter-button {\n",
              "                    --jp-layout-color3: #383838;\n",
              "                }\n",
              "\n",
              "                .geemap-colab {\n",
              "                    background-color: var(--colab-primary-surface-color, white);\n",
              "                }\n",
              "\n",
              "                .geemap-colab .jupyter-button {\n",
              "                    --jp-layout-color3: var(--colab-primary-surface-color, white);\n",
              "                }\n",
              "            </style>\n",
              "            "
            ]
          },
          "metadata": {}
        },
        {
          "output_type": "stream",
          "name": "stdout",
          "text": [
            "/content/sepal_mgci\n"
          ]
        },
        {
          "output_type": "display_data",
          "data": {
            "text/plain": [
              "ResizeTrigger()"
            ],
            "application/vnd.jupyter.widget-view+json": {
              "version_major": 2,
              "version_minor": 0,
              "model_id": "de275c7ed49043f98e4bd9d6afa14a55"
            }
          },
          "metadata": {
            "application/vnd.jupyter.widget-view+json": {
              "colab": {
                "custom_widget_manager": {
                  "url": "https://ssl.gstatic.com/colaboratory-static/widgets/colab-cdn-widget-manager/2b70e893a8ba7c0f/manager.min.js"
                }
              }
            }
          }
        },
        {
          "output_type": "stream",
          "name": "stdout",
          "text": [
            "Imports complete\n"
          ]
        }
      ]
    },
    {
      "cell_type": "markdown",
      "source": [
        "#### Access to Google Drive for script to retrieve output csvs."
      ],
      "metadata": {
        "id": "aUVGL6zwLpX5"
      }
    },
    {
      "cell_type": "code",
      "source": [
        "from google.colab import drive\n",
        "drive.mount('/content/drive')\n"
      ],
      "metadata": {
        "id": "NorUzAJ8Kj0Z",
        "outputId": "36f474d1-20c8-4833-80f2-917a7cdd1bed",
        "colab": {
          "base_uri": "https://localhost:8080/",
          "height": 34
        }
      },
      "execution_count": 4,
      "outputs": [
        {
          "output_type": "display_data",
          "data": {
            "text/plain": [
              "<IPython.core.display.HTML object>"
            ],
            "text/html": [
              "\n",
              "            <style>\n",
              "                .geemap-dark {\n",
              "                    --jp-widgets-color: white;\n",
              "                    --jp-widgets-label-color: white;\n",
              "                    --jp-ui-font-color1: white;\n",
              "                    --jp-layout-color2: #454545;\n",
              "                    background-color: #383838;\n",
              "                }\n",
              "\n",
              "                .geemap-dark .jupyter-button {\n",
              "                    --jp-layout-color3: #383838;\n",
              "                }\n",
              "\n",
              "                .geemap-colab {\n",
              "                    background-color: var(--colab-primary-surface-color, white);\n",
              "                }\n",
              "\n",
              "                .geemap-colab .jupyter-button {\n",
              "                    --jp-layout-color3: var(--colab-primary-surface-color, white);\n",
              "                }\n",
              "            </style>\n",
              "            "
            ]
          },
          "metadata": {}
        },
        {
          "output_type": "stream",
          "name": "stdout",
          "text": [
            "Drive already mounted at /content/drive; to attempt to forcibly remount, call drive.mount(\"/content/drive\", force_remount=True).\n"
          ]
        }
      ]
    },
    {
      "cell_type": "code",
      "execution_count": 5,
      "metadata": {
        "id": "IA0zW-cIu_f8",
        "colab": {
          "base_uri": "https://localhost:8080/",
          "height": 17
        },
        "outputId": "26bf2c5a-3d23-4095-98e2-6031863fa2bc"
      },
      "outputs": [
        {
          "output_type": "display_data",
          "data": {
            "text/plain": [
              "<IPython.core.display.HTML object>"
            ],
            "text/html": [
              "\n",
              "            <style>\n",
              "                .geemap-dark {\n",
              "                    --jp-widgets-color: white;\n",
              "                    --jp-widgets-label-color: white;\n",
              "                    --jp-ui-font-color1: white;\n",
              "                    --jp-layout-color2: #454545;\n",
              "                    background-color: #383838;\n",
              "                }\n",
              "\n",
              "                .geemap-dark .jupyter-button {\n",
              "                    --jp-layout-color3: #383838;\n",
              "                }\n",
              "\n",
              "                .geemap-colab {\n",
              "                    background-color: var(--colab-primary-surface-color, white);\n",
              "                }\n",
              "\n",
              "                .geemap-colab .jupyter-button {\n",
              "                    --jp-layout-color3: var(--colab-primary-surface-color, white);\n",
              "                }\n",
              "            </style>\n",
              "            "
            ]
          },
          "metadata": {}
        }
      ],
      "source": [
        "\n",
        "def folder_exists(folder_name, parent_folder_id=None):\n",
        "    \"\"\"\n",
        "    Check if a folder exists in Google Drive.\n",
        "\n",
        "    Args:\n",
        "    - folder_name (str): Name of the folder to check.\n",
        "    - parent_folder_id (str): ID of the parent folder where to search for the folder.\n",
        "                              Default is None, meaning the search will be performed in the root.\n",
        "\n",
        "    Returns:\n",
        "    - bool: True if the folder exists, False otherwise.\n",
        "    \"\"\"\n",
        "    # Authenticate user\n",
        "    auth.authenticate_user()\n",
        "\n",
        "    # Build the Drive v3 service\n",
        "    drive_service = build('drive', 'v3')\n",
        "\n",
        "    # Prepare query to check if folder exists\n",
        "    query = f\"name='{folder_name}' and mimeType='application/vnd.google-apps.folder' and trashed=false\"\n",
        "    if parent_folder_id:\n",
        "        query += f\" and '{parent_folder_id}' in parents\"\n",
        "\n",
        "    try:\n",
        "        # Execute the search query\n",
        "        folders = drive_service.files().list(q=query, fields='files(id)', includeItemsFromAllDrives=True, supportsAllDrives=True).execute().get('files', [])\n",
        "        return bool(folders)\n",
        "    except Exception as e:\n",
        "        print(f\"An error occurred: {e}\")\n",
        "        return False\n",
        "\n",
        "\n",
        "def create_folder(folder_name, parent_folder_id=None):\n",
        "    \"\"\"\n",
        "    Create a folder in Google Drive.\n",
        "\n",
        "    Args:\n",
        "    - folder_name (str): Name of the folder to be created.\n",
        "    - parent_folder_id (str): ID of the parent folder where the new folder will be created.\n",
        "                              Default is None, meaning the folder will be created in the root.\n",
        "\n",
        "    Returns:\n",
        "    - str: ID of the newly created folder.\n",
        "    \"\"\"\n",
        "    # Authenticate user\n",
        "    auth.authenticate_user()\n",
        "\n",
        "    # Build the Drive v3 service\n",
        "    drive_service = build('drive', 'v3')\n",
        "\n",
        "    # Prepare folder metadata\n",
        "    folder_metadata = {\n",
        "        'name': folder_name,\n",
        "        'mimeType': 'application/vnd.google-apps.folder'\n",
        "    }\n",
        "    if parent_folder_id:\n",
        "        folder_metadata['parents'] = [parent_folder_id]\n",
        "\n",
        "    # Create the folder\n",
        "    folder = drive_service.files().create(body=folder_metadata, fields='id').execute()\n",
        "\n",
        "    # Return the ID of the newly created folder\n",
        "    return folder.get('id')\n",
        "\n",
        "\n",
        "def create_folder_if_not_exists(folder_name, parent_folder_id=None):\n",
        "    \"\"\"\n",
        "    Create a folder in Google Drive if it doesn't already exist.\n",
        "\n",
        "    Args:\n",
        "    - folder_name (str): Name of the folder to be created.\n",
        "    - parent_folder_id (str): ID of the parent folder where the new folder will be created.\n",
        "                              Default is None, meaning the folder will be created in the root.\n",
        "\n",
        "    Returns:\n",
        "    - str: ID of the newly created folder or the existing folder if it already exists.\n",
        "    \"\"\"\n",
        "    if folder_exists(folder_name, parent_folder_id):\n",
        "        print(f\"Folder '{folder_name}' already exists.\")\n",
        "        return None\n",
        "    else:\n",
        "        return create_folder(folder_name, parent_folder_id)\n",
        "\n",
        "\n",
        "def sanitize_description(description):\n",
        "    allowed_characters_pattern = r\"[^a-zA-Z0-9.,:;_ \\-]\"  # Define a regex pattern for characters not in the allowed set\n",
        "    sanitized_description = re.sub(allowed_characters_pattern, \"\", description)  # Remove characters not in the allowed set\n",
        "    return sanitized_description\n",
        "\n"
      ]
    },
    {
      "cell_type": "markdown",
      "source": [
        "####Parameters:\n",
        "Set output folder paths etc"
      ],
      "metadata": {
        "id": "ZXLIOVmgbFge"
      }
    },
    {
      "cell_type": "code",
      "source": [
        "drive_home =\"/content/drive/MyDrive/\"\n",
        "stats_csv_folder = \"sdg_15_4_2_A_csvs\"\n",
        "\n",
        "report_folder = \"sdg_15_4_2_A_reports\"\n",
        "report_file = \"sdg_report_name.xlsx\"\n",
        "\n",
        "error_log_file_path = drive_home + report_folder + \"/\"+\"error_log\" +\".csv\"\n",
        "\n",
        "admin_asset_property_name = \"ADM0_NAME\"\n",
        "\n",
        "# # Optional: If you want to place the folder inside another folder, provide the parent folder ID.\n",
        "# # If not, leave parent_folder_id as None.\n",
        "# parent_folder_id = None\n",
        "\n",
        "# Create the folder in Google Drive if it doesn't exist\n",
        "create_folder_if_not_exists(report_folder)#, parent_folder_id)"
      ],
      "metadata": {
        "colab": {
          "base_uri": "https://localhost:8080/",
          "height": 34
        },
        "id": "aRDfx8rCbDM-",
        "outputId": "58368a09-01a9-4574-baf0-a0733cea8f56"
      },
      "execution_count": 6,
      "outputs": [
        {
          "output_type": "display_data",
          "data": {
            "text/plain": [
              "<IPython.core.display.HTML object>"
            ],
            "text/html": [
              "\n",
              "            <style>\n",
              "                .geemap-dark {\n",
              "                    --jp-widgets-color: white;\n",
              "                    --jp-widgets-label-color: white;\n",
              "                    --jp-ui-font-color1: white;\n",
              "                    --jp-layout-color2: #454545;\n",
              "                    background-color: #383838;\n",
              "                }\n",
              "\n",
              "                .geemap-dark .jupyter-button {\n",
              "                    --jp-layout-color3: #383838;\n",
              "                }\n",
              "\n",
              "                .geemap-colab {\n",
              "                    background-color: var(--colab-primary-surface-color, white);\n",
              "                }\n",
              "\n",
              "                .geemap-colab .jupyter-button {\n",
              "                    --jp-layout-color3: var(--colab-primary-surface-color, white);\n",
              "                }\n",
              "            </style>\n",
              "            "
            ]
          },
          "metadata": {}
        },
        {
          "output_type": "stream",
          "name": "stdout",
          "text": [
            "Folder 'sdg_15_4_2_A_reports' already exists.\n"
          ]
        }
      ]
    },
    {
      "cell_type": "code",
      "source": [
        "# admin_boundaries = ee.FeatureCollection(\"FAO/GAUL/2015/level0\") # NB 16 extra rows: Canada (9), United States of America (4), Australia (2) and West Bank (1).\n",
        "\n",
        "admin_boundaries = ee.FeatureCollection(\"FAO/GAUL_SIMPLIFIED_500m/2015/level0\") # NB 4 extra rows: Canada (3) and West Bank (1)\n",
        "\n",
        "# admin_boundaries = admin_boundaries.filter(ee.Filter.gt(\"Shape_Area\",10)).limit(10)\n",
        "\n",
        "list_of_countries = admin_boundaries.aggregate_array(admin_asset_property_name).getInfo()\n",
        "\n",
        "list_of_countries = list(set(list_of_countries)) # remove dupicates\n",
        "print (\"Length of admin boundaries to process\", len(list_of_countries))\n",
        "print (\"Length of distinct admin boundaries to process\", (len(set(list_of_countries))))\n"
      ],
      "metadata": {
        "colab": {
          "base_uri": "https://localhost:8080/",
          "height": 106
        },
        "id": "BiuBEJwPue2v",
        "outputId": "2f196a30-39c8-4be1-89de-8a9d1437b909"
      },
      "execution_count": 12,
      "outputs": [
        {
          "output_type": "display_data",
          "data": {
            "text/plain": [
              "<IPython.core.display.HTML object>"
            ],
            "text/html": [
              "\n",
              "            <style>\n",
              "                .geemap-dark {\n",
              "                    --jp-widgets-color: white;\n",
              "                    --jp-widgets-label-color: white;\n",
              "                    --jp-ui-font-color1: white;\n",
              "                    --jp-layout-color2: #454545;\n",
              "                    background-color: #383838;\n",
              "                }\n",
              "\n",
              "                .geemap-dark .jupyter-button {\n",
              "                    --jp-layout-color3: #383838;\n",
              "                }\n",
              "\n",
              "                .geemap-colab {\n",
              "                    background-color: var(--colab-primary-surface-color, white);\n",
              "                }\n",
              "\n",
              "                .geemap-colab .jupyter-button {\n",
              "                    --jp-layout-color3: var(--colab-primary-surface-color, white);\n",
              "                }\n",
              "            </style>\n",
              "            "
            ]
          },
          "metadata": {}
        },
        {
          "output_type": "stream",
          "name": "stdout",
          "text": [
            "Length of admin boundaries to process 292\n",
            "Length of distinct admin boundaries to process 276\n",
            "['Montenegro', 'Serbia', 'South Sudan', 'Sudan', 'Taiwan', 'Cocos (Keeling) Islands', 'Christmas Island', 'Ashmore and Cartier Islands', 'Faroe Islands', 'Mayotte', 'Réunion', 'Tromelin Island', 'Juan de Nova Island', 'Glorioso Island', 'Europa Island', 'Bassas da India', 'Saint Pierre et Miquelon', 'French Southern and Antarctic Territories', 'Denmark', 'The former Yugoslav Republic of Macedonia', 'Croatia', 'Malta', 'San Marino', 'Slovenia', 'Greece', 'Italy', 'Portugal', 'Spain', 'Bosnia and Herzegovina', 'Andorra', 'Albania', 'Monaco', 'Netherlands', 'Luxembourg', 'Liechtenstein', 'France', 'Germany', 'Switzerland', 'Belgium', 'Austria', 'Australia', 'Palau', 'Canada', '\\x1b[1mCanada\\x1b[0m', '\\x1b[1mCanada\\x1b[0m', 'Mozambique', 'Mauritius', 'Malawi', 'Rwanda', 'Somalia', 'Zambia', 'Kenya', 'Madagascar', 'Seychelles', 'United Republic of Tanzania', 'Uganda', 'Zimbabwe', 'Ethiopia', 'Eritrea', 'Djibouti', 'Comoros', 'Burundi', 'Gabon', 'Equatorial Guinea', 'Chad', 'Sao Tome and Principe', 'Congo', 'Democratic Republic of the Congo', 'Cameroon', 'Central African Republic', 'Angola', 'Morocco', 'Libya', 'Tunisia', 'Egypt', 'Algeria', 'Namibia', 'Swaziland', 'Lesotho', 'South Africa', 'Botswana', 'Togo', 'Sierra Leone', 'Senegal', 'Nigeria', 'Niger', 'Mauritania', 'Mali', 'Liberia', 'Guinea-Bissau', 'Gambia', 'Guinea', 'Ghana', 'Cape Verde', \"Côte d'Ivoire\", 'Burkina Faso', 'Benin', 'Brazil', 'Turkmenistan', 'Uzbekistan', 'Tajikistan', 'Kyrgyzstan', 'Kazakhstan', 'Mongolia', 'Republic of Korea', \"Dem People's Rep of Korea\", 'China', 'Myanmar', 'Cambodia', 'Viet Nam', \"Lao People's Democratic Republic\", 'Malaysia', 'Thailand', 'Brunei Darussalam', 'Philippines', 'Indonesia', 'Singapore', 'Timor-Leste', 'Maldives', 'Nepal', 'Pakistan', 'India', 'Iran  (Islamic Republic of)', 'Sri Lanka', 'Bhutan', 'Bangladesh', 'Afghanistan', 'Oman', 'Kuwait', 'Lebanon', 'Qatar', 'Saudi Arabia', 'Turkey', 'Yemen', 'Iraq', 'Jordan', 'Syrian Arab Republic', 'Israel', 'Georgia', 'Cyprus', 'Bahrain', 'Azerbaijan', 'Armenia', 'United Arab Emirates', 'Moldova, Republic of', 'Hungary', 'Poland', 'Romania', 'Ukraine', 'Belarus', 'Czech Republic', 'Slovakia', 'Bulgaria', 'Norway', 'Sweden', 'Lithuania', 'Latvia', 'Ireland', 'Iceland', 'U.K. of Great Britain and Northern Ireland', 'Finland', 'Estonia', 'Svalbard and Jan Mayen Islands', 'Madeira Islands', 'Azores Islands', 'British Indian Ocean Territory', 'Guernsey', 'Jersey', 'Isle of Man', 'Holy See', 'Greenland', 'Western Sahara', 'Gaza Strip', 'West Bank', '\\x1b[1mWest Bank\\x1b[0m', 'Gibraltar', 'Saint Helena', 'Macau', 'Hong Kong', 'Abyei', 'Ilemi triangle', \"Hala'ib triangle\", \"Ma'tan al-Sarra\", 'Paracel Islands', 'Senkaku Islands', 'Scarborough Reef', 'China/India', 'Aksai Chin', 'Spratly Islands', 'Jammu and Kashmir', 'Arunachal Pradesh', 'Norfolk Island', 'Wallis and Futuna', 'French Polynesia', 'New Zealand', '\\x1b[1mAustralia\\x1b[0m', '\\x1b[1mAustralia\\x1b[0m', 'Papua New Guinea', 'Vanuatu', 'Solomon Islands', 'Fiji', 'Marshall Islands', 'Nauru', 'Micronesia (Federated States of)', 'Kiribati', 'Samoa', 'Tonga', 'Tuvalu', '\\x1b[1mCanada\\x1b[0m', '\\x1b[1mCanada\\x1b[0m', '\\x1b[1mCanada\\x1b[0m', '\\x1b[1mCanada\\x1b[0m', '\\x1b[1mCanada\\x1b[0m', '\\x1b[1mCanada\\x1b[0m', '\\x1b[1mCanada\\x1b[0m', 'United States of America', '\\x1b[1mUnited States of America\\x1b[0m', '\\x1b[1mUnited States of America\\x1b[0m', 'Japan', 'Russian Federation', 'Cook Islands', 'Niue', 'Northern Mariana Islands', 'Wake Island', 'Jarvis Island', 'New Caledonia', 'Tokelau', 'Guam', 'American Samoa', 'Kuril islands', 'Martinique', 'Guadeloupe', 'Clipperton Island', 'Dominica', 'Dominican Republic', 'Antigua and Barbuda', 'Cuba', 'Grenada', 'Jamaica', 'Saint Kitts and Nevis', 'Trinidad and Tobago', 'Bahamas', 'Saint Lucia', 'Saint Vincent and the Grenadines', 'Barbados', 'Haiti', 'Panama', 'El Salvador', 'Nicaragua', 'Mexico', 'Honduras', 'Guatemala', 'Costa Rica', 'Belize', '\\x1b[1mUnited States of America\\x1b[0m', '\\x1b[1mUnited States of America\\x1b[0m', 'Colombia', 'Guyana', 'Ecuador', 'French Guiana', 'Paraguay', 'Suriname', 'Uruguay', 'Venezuela', 'Peru', 'Chile', 'Bolivia', 'Netherlands Antilles', 'Navassa Island', 'Puerto Rico', 'Palmyra Atoll', 'Midway Island', 'Kingman Reef', 'Johnston Atoll', 'Howland Island', 'Baker Island', 'Bird Island', 'Aruba', 'Pitcairn', 'Cayman Islands', 'Montserrat', 'Turks and Caicos islands', 'British Virgin Islands', 'Anguilla', 'Bermuda', 'United States Virgin Islands', 'Falkland Islands (Malvinas)', 'South Georgia and the South Sandwich Islands', 'Argentina', 'Heard Island and McDonald Islands', 'Bouvet Island', 'Antarctica']\n",
            "['\\x1b[1mCanada\\x1b[0m', '\\x1b[1mCanada\\x1b[0m', '\\x1b[1mWest Bank\\x1b[0m', '\\x1b[1mAustralia\\x1b[0m', '\\x1b[1mAustralia\\x1b[0m', '\\x1b[1mCanada\\x1b[0m', '\\x1b[1mCanada\\x1b[0m', '\\x1b[1mCanada\\x1b[0m', '\\x1b[1mCanada\\x1b[0m', '\\x1b[1mCanada\\x1b[0m', '\\x1b[1mCanada\\x1b[0m', '\\x1b[1mCanada\\x1b[0m', '\\x1b[1mUnited States of America\\x1b[0m', '\\x1b[1mUnited States of America\\x1b[0m', '\\x1b[1mUnited States of America\\x1b[0m', '\\x1b[1mUnited States of America\\x1b[0m']\n"
          ]
        }
      ]
    },
    {
      "cell_type": "markdown",
      "metadata": {
        "id": "c_8UzlUnu_f6"
      },
      "source": [
        "## SUB INDICATOR A"
      ]
    },
    {
      "cell_type": "code",
      "execution_count": 59,
      "metadata": {
        "id": "PRSEqq5bu_f7",
        "colab": {
          "base_uri": "https://localhost:8080/",
          "height": 17
        },
        "outputId": "9be75219-f9d5-47de-efe4-4223be0bf078"
      },
      "outputs": [
        {
          "output_type": "display_data",
          "data": {
            "text/plain": [
              "<IPython.core.display.HTML object>"
            ],
            "text/html": [
              "\n",
              "            <style>\n",
              "                .geemap-dark {\n",
              "                    --jp-widgets-color: white;\n",
              "                    --jp-widgets-label-color: white;\n",
              "                    --jp-ui-font-color1: white;\n",
              "                    --jp-layout-color2: #454545;\n",
              "                    background-color: #383838;\n",
              "                }\n",
              "\n",
              "                .geemap-dark .jupyter-button {\n",
              "                    --jp-layout-color3: #383838;\n",
              "                }\n",
              "\n",
              "                .geemap-colab {\n",
              "                    background-color: var(--colab-primary-surface-color, white);\n",
              "                }\n",
              "\n",
              "                .geemap-colab .jupyter-button {\n",
              "                    --jp-layout-color3: var(--colab-primary-surface-color, white);\n",
              "                }\n",
              "            </style>\n",
              "            "
            ]
          },
          "metadata": {}
        }
      ],
      "source": [
        "# Read the default land cover remapping table and convert it to a dictionary\n",
        "# default_map_matrix = map_matrix_to_dict(param.LC_MAP_MATRIX)\n",
        "default_map_matrix = map_matrix_to_dict(LC_MAP_MATRIX)"
      ]
    },
    {
      "cell_type": "code",
      "execution_count": 60,
      "metadata": {
        "id": "PwqJFWR4u_f7",
        "colab": {
          "base_uri": "https://localhost:8080/",
          "height": 17
        },
        "outputId": "9be9e0b3-3736-493b-d2fe-6f973a730df3"
      },
      "outputs": [
        {
          "output_type": "display_data",
          "data": {
            "text/plain": [
              "<IPython.core.display.HTML object>"
            ],
            "text/html": [
              "\n",
              "            <style>\n",
              "                .geemap-dark {\n",
              "                    --jp-widgets-color: white;\n",
              "                    --jp-widgets-label-color: white;\n",
              "                    --jp-ui-font-color1: white;\n",
              "                    --jp-layout-color2: #454545;\n",
              "                    background-color: #383838;\n",
              "                }\n",
              "\n",
              "                .geemap-dark .jupyter-button {\n",
              "                    --jp-layout-color3: #383838;\n",
              "                }\n",
              "\n",
              "                .geemap-colab {\n",
              "                    background-color: var(--colab-primary-surface-color, white);\n",
              "                }\n",
              "\n",
              "                .geemap-colab .jupyter-button {\n",
              "                    --jp-layout-color3: var(--colab-primary-surface-color, white);\n",
              "                }\n",
              "            </style>\n",
              "            "
            ]
          },
          "metadata": {}
        }
      ],
      "source": [
        "# For SUB_A indicator, we need to set the following structure\n",
        "a_years = {\n",
        "    1: {\"asset\": \"users/amitghosh/sdg_module/esa/cci_landcover/2000\", \"year\": 2000},\n",
        "    2: {\"year\": 2003, \"asset\": \"users/amitghosh/sdg_module/esa/cci_landcover/2003\"},\n",
        "    3: {\"year\": 2007, \"asset\": \"users/amitghosh/sdg_module/esa/cci_landcover/2007\"},\n",
        "    4: {\"year\": 2010, \"asset\": \"users/amitghosh/sdg_module/esa/cci_landcover/2010\"},\n",
        "}\n",
        "\n",
        "# Just extract the years from the a_years dictionary\n",
        "single_years = [y[\"year\"] for  y in a_years.values()]"
      ]
    },
    {
      "cell_type": "code",
      "execution_count": 46,
      "metadata": {
        "id": "VftKLuY4u_f7",
        "colab": {
          "base_uri": "https://localhost:8080/",
          "height": 1000
        },
        "outputId": "b060cdb6-078b-4e7c-9f9b-d4e3f0bf0072"
      },
      "outputs": [
        {
          "output_type": "display_data",
          "data": {
            "text/plain": [
              "<IPython.core.display.HTML object>"
            ],
            "text/html": [
              "\n",
              "            <style>\n",
              "                .geemap-dark {\n",
              "                    --jp-widgets-color: white;\n",
              "                    --jp-widgets-label-color: white;\n",
              "                    --jp-ui-font-color1: white;\n",
              "                    --jp-layout-color2: #454545;\n",
              "                    background-color: #383838;\n",
              "                }\n",
              "\n",
              "                .geemap-dark .jupyter-button {\n",
              "                    --jp-layout-color3: #383838;\n",
              "                }\n",
              "\n",
              "                .geemap-colab {\n",
              "                    background-color: var(--colab-primary-surface-color, white);\n",
              "                }\n",
              "\n",
              "                .geemap-colab .jupyter-button {\n",
              "                    --jp-layout-color3: var(--colab-primary-surface-color, white);\n",
              "                }\n",
              "            </style>\n",
              "            "
            ]
          },
          "metadata": {}
        },
        {
          "output_type": "stream",
          "name": "stdout",
          "text": [
            " process 1Montenegro\n",
            " process 2Serbia\n",
            " process 3South Sudan\n",
            " process 4Sudan\n",
            " process 5Taiwan\n",
            " process 6Norfolk Island\n",
            " process 7Cocos (Keeling) Islands\n",
            " process 8Christmas Island\n",
            " process 9Ashmore and Cartier Islands\n",
            " process 10Faroe Islands\n"
          ]
        },
        {
          "output_type": "error",
          "ename": "KeyboardInterrupt",
          "evalue": "",
          "traceback": [
            "\u001b[0;31m---------------------------------------------------------------------------\u001b[0m",
            "\u001b[0;31mKeyboardInterrupt\u001b[0m                         Traceback (most recent call last)",
            "Cell \u001b[0;32mIn[46], line 9\u001b[0m\n\u001b[1;32m      5\u001b[0m aoi \u001b[38;5;241m=\u001b[39m admin_boundaries\u001b[38;5;241m.\u001b[39mfilter(ee\u001b[38;5;241m.\u001b[39mFilter\u001b[38;5;241m.\u001b[39meq(admin_asset_property_name,aoi_name))\u001b[38;5;66;03m#.first()\u001b[39;00m\n\u001b[1;32m      6\u001b[0m \u001b[38;5;66;03m# uses the reduce_regions function to get areas of landcover in each mountain belt in each country\u001b[39;00m\n\u001b[1;32m      7\u001b[0m \u001b[38;5;66;03m# it's from the cloned sepal_mgci git hub repository\u001b[39;00m\n\u001b[1;32m      8\u001b[0m \u001b[38;5;66;03m# the function runs at native resolution of the input land cover (or DEM if running real surface area (RSA) implementation.)\u001b[39;00m\n\u001b[0;32m----> 9\u001b[0m process \u001b[38;5;241m=\u001b[39m ee\u001b[38;5;241m.\u001b[39mFeatureCollection([\n\u001b[1;32m     10\u001b[0m     ee\u001b[38;5;241m.\u001b[39mFeature(\n\u001b[1;32m     11\u001b[0m         \u001b[38;5;28;01mNone\u001b[39;00m,\n\u001b[1;32m     12\u001b[0m         reduce_regions(\n\u001b[1;32m     13\u001b[0m             aoi,\n\u001b[1;32m     14\u001b[0m             remap_matrix\u001b[38;5;241m=\u001b[39mdefault_map_matrix,\n\u001b[1;32m     15\u001b[0m             rsa\u001b[38;5;241m=\u001b[39m\u001b[38;5;28;01mFalse\u001b[39;00m,\n\u001b[1;32m     16\u001b[0m             \u001b[38;5;66;03m# dem=param.DEM_DEFAULT,\u001b[39;00m\n\u001b[1;32m     17\u001b[0m             dem\u001b[38;5;241m=\u001b[39mDEM_DEFAULT, \u001b[38;5;66;03m#default digital elevation model (DEM). Relevant for the real surface area (RSA) implementation.\u001b[39;00m\n\u001b[1;32m     18\u001b[0m             lc_years\u001b[38;5;241m=\u001b[39m year,\n\u001b[1;32m     19\u001b[0m             transition_matrix\u001b[38;5;241m=\u001b[39m\u001b[38;5;28;01mFalse\u001b[39;00m\n\u001b[1;32m     20\u001b[0m         )\n\u001b[1;32m     21\u001b[0m     )\u001b[38;5;241m.\u001b[39mset(\u001b[38;5;124m\"\u001b[39m\u001b[38;5;124mprocess_id\u001b[39m\u001b[38;5;124m\"\u001b[39m, year[\u001b[38;5;241m0\u001b[39m][\u001b[38;5;124m\"\u001b[39m\u001b[38;5;124myear\u001b[39m\u001b[38;5;124m\"\u001b[39m])\n\u001b[1;32m     22\u001b[0m     \u001b[38;5;28;01mfor\u001b[39;00m year \u001b[38;5;129;01min\u001b[39;00m get_a_years(a_years) \u001b[38;5;66;03m# creates GEE images from asset id based on those in the 'a_years\" dictionary (above)\u001b[39;00m\n\u001b[1;32m     23\u001b[0m ])\n\u001b[1;32m     25\u001b[0m \u001b[38;5;66;03m#make name acceptable for running tasks (i.e., removes special characters)\u001b[39;00m\n\u001b[1;32m     26\u001b[0m task_name \u001b[38;5;241m=\u001b[39m \u001b[38;5;28mstr\u001b[39m(sanitize_description(unidecode(aoi_name)))\n",
            "Cell \u001b[0;32mIn[46], line 12\u001b[0m, in \u001b[0;36m<listcomp>\u001b[0;34m(.0)\u001b[0m\n\u001b[1;32m      5\u001b[0m aoi \u001b[38;5;241m=\u001b[39m admin_boundaries\u001b[38;5;241m.\u001b[39mfilter(ee\u001b[38;5;241m.\u001b[39mFilter\u001b[38;5;241m.\u001b[39meq(admin_asset_property_name,aoi_name))\u001b[38;5;66;03m#.first()\u001b[39;00m\n\u001b[1;32m      6\u001b[0m \u001b[38;5;66;03m# uses the reduce_regions function to get areas of landcover in each mountain belt in each country\u001b[39;00m\n\u001b[1;32m      7\u001b[0m \u001b[38;5;66;03m# it's from the cloned sepal_mgci git hub repository\u001b[39;00m\n\u001b[1;32m      8\u001b[0m \u001b[38;5;66;03m# the function runs at native resolution of the input land cover (or DEM if running real surface area (RSA) implementation.)\u001b[39;00m\n\u001b[1;32m      9\u001b[0m process \u001b[38;5;241m=\u001b[39m ee\u001b[38;5;241m.\u001b[39mFeatureCollection([\n\u001b[1;32m     10\u001b[0m     ee\u001b[38;5;241m.\u001b[39mFeature(\n\u001b[1;32m     11\u001b[0m         \u001b[38;5;28;01mNone\u001b[39;00m,\n\u001b[0;32m---> 12\u001b[0m         \u001b[43mreduce_regions\u001b[49m\u001b[43m(\u001b[49m\n\u001b[1;32m     13\u001b[0m \u001b[43m            \u001b[49m\u001b[43maoi\u001b[49m\u001b[43m,\u001b[49m\n\u001b[1;32m     14\u001b[0m \u001b[43m            \u001b[49m\u001b[43mremap_matrix\u001b[49m\u001b[38;5;241;43m=\u001b[39;49m\u001b[43mdefault_map_matrix\u001b[49m\u001b[43m,\u001b[49m\n\u001b[1;32m     15\u001b[0m \u001b[43m            \u001b[49m\u001b[43mrsa\u001b[49m\u001b[38;5;241;43m=\u001b[39;49m\u001b[38;5;28;43;01mFalse\u001b[39;49;00m\u001b[43m,\u001b[49m\n\u001b[1;32m     16\u001b[0m \u001b[43m            \u001b[49m\u001b[38;5;66;43;03m# dem=param.DEM_DEFAULT,\u001b[39;49;00m\n\u001b[1;32m     17\u001b[0m \u001b[43m            \u001b[49m\u001b[43mdem\u001b[49m\u001b[38;5;241;43m=\u001b[39;49m\u001b[43mDEM_DEFAULT\u001b[49m\u001b[43m,\u001b[49m\u001b[43m \u001b[49m\u001b[38;5;66;43;03m#default digital elevation model (DEM). Relevant for the real surface area (RSA) implementation.\u001b[39;49;00m\n\u001b[1;32m     18\u001b[0m \u001b[43m            \u001b[49m\u001b[43mlc_years\u001b[49m\u001b[38;5;241;43m=\u001b[39;49m\u001b[43m \u001b[49m\u001b[43myear\u001b[49m\u001b[43m,\u001b[49m\n\u001b[1;32m     19\u001b[0m \u001b[43m            \u001b[49m\u001b[43mtransition_matrix\u001b[49m\u001b[38;5;241;43m=\u001b[39;49m\u001b[38;5;28;43;01mFalse\u001b[39;49;00m\n\u001b[1;32m     20\u001b[0m \u001b[43m        \u001b[49m\u001b[43m)\u001b[49m\n\u001b[1;32m     21\u001b[0m     )\u001b[38;5;241m.\u001b[39mset(\u001b[38;5;124m\"\u001b[39m\u001b[38;5;124mprocess_id\u001b[39m\u001b[38;5;124m\"\u001b[39m, year[\u001b[38;5;241m0\u001b[39m][\u001b[38;5;124m\"\u001b[39m\u001b[38;5;124myear\u001b[39m\u001b[38;5;124m\"\u001b[39m])\n\u001b[1;32m     22\u001b[0m     \u001b[38;5;28;01mfor\u001b[39;00m year \u001b[38;5;129;01min\u001b[39;00m get_a_years(a_years) \u001b[38;5;66;03m# creates GEE images from asset id based on those in the 'a_years\" dictionary (above)\u001b[39;00m\n\u001b[1;32m     23\u001b[0m ])\n\u001b[1;32m     25\u001b[0m \u001b[38;5;66;03m#make name acceptable for running tasks (i.e., removes special characters)\u001b[39;00m\n\u001b[1;32m     26\u001b[0m task_name \u001b[38;5;241m=\u001b[39m \u001b[38;5;28mstr\u001b[39m(sanitize_description(unidecode(aoi_name)))\n",
            "File \u001b[0;32m/content/sepal_mgci/component/scripts/gee.py:71\u001b[0m, in \u001b[0;36mreduce_regions\u001b[0;34m(aoi, remap_matrix, rsa, dem, lc_years, transition_matrix, scale)\u001b[0m\n\u001b[1;32m     64\u001b[0m \u001b[38;5;28;01melse\u001b[39;00m:\n\u001b[1;32m     65\u001b[0m     \u001b[38;5;66;03m# Otherwise, we will use the coarse scale to the output.\u001b[39;00m\n\u001b[1;32m     66\u001b[0m     image_area \u001b[38;5;241m=\u001b[39m ee\u001b[38;5;241m.\u001b[39mImage\u001b[38;5;241m.\u001b[39mpixelArea()\n\u001b[1;32m     67\u001b[0m     scale \u001b[38;5;241m=\u001b[39m (\n\u001b[1;32m     68\u001b[0m         \u001b[43mee_lc_start\u001b[49m\u001b[38;5;241;43m.\u001b[39;49m\u001b[43mprojection\u001b[49m\u001b[43m(\u001b[49m\u001b[43m)\u001b[49m\n\u001b[1;32m     69\u001b[0m \u001b[43m        \u001b[49m\u001b[38;5;241;43m.\u001b[39;49m\u001b[43mnominalScale\u001b[49m\u001b[43m(\u001b[49m\u001b[43m)\u001b[49m\n\u001b[1;32m     70\u001b[0m \u001b[43m        \u001b[49m\u001b[38;5;241;43m.\u001b[39;49m\u001b[43mmax\u001b[49m\u001b[43m(\u001b[49m\u001b[43mee_lc_start\u001b[49m\u001b[38;5;241;43m.\u001b[39;49m\u001b[43mprojection\u001b[49m\u001b[43m(\u001b[49m\u001b[43m)\u001b[49m\u001b[38;5;241;43m.\u001b[39;49m\u001b[43mnominalScale\u001b[49m\u001b[43m(\u001b[49m\u001b[43m)\u001b[49m\u001b[43m)\u001b[49m\n\u001b[0;32m---> 71\u001b[0m \u001b[43m        \u001b[49m\u001b[38;5;241;43m.\u001b[39;49m\u001b[43mgetInfo\u001b[49m\u001b[43m(\u001b[49m\u001b[43m)\u001b[49m\n\u001b[1;32m     72\u001b[0m     )\n\u001b[1;32m     74\u001b[0m \u001b[38;5;28;01mif\u001b[39;00m \u001b[38;5;28mlen\u001b[39m(lc_years) \u001b[38;5;241m==\u001b[39m \u001b[38;5;241m3\u001b[39m:\n\u001b[1;32m     75\u001b[0m     \u001b[38;5;66;03m# We are in subindicator B, so we need to calculate the transition\u001b[39;00m\n\u001b[1;32m     76\u001b[0m     ee_end_base \u001b[38;5;241m=\u001b[39m ee\u001b[38;5;241m.\u001b[39mImage(lc_years[\u001b[38;5;241m1\u001b[39m])\u001b[38;5;241m.\u001b[39mselect(\u001b[38;5;241m0\u001b[39m)\n",
            "File \u001b[0;32m/usr/local/lib/python3.10/dist-packages/ee/computedobject.py:107\u001b[0m, in \u001b[0;36mComputedObject.getInfo\u001b[0;34m(self)\u001b[0m\n\u001b[1;32m    101\u001b[0m \u001b[38;5;28;01mdef\u001b[39;00m \u001b[38;5;21mgetInfo\u001b[39m(\u001b[38;5;28mself\u001b[39m) \u001b[38;5;241m-\u001b[39m\u001b[38;5;241m>\u001b[39m Optional[Any]:\n\u001b[1;32m    102\u001b[0m \u001b[38;5;250m  \u001b[39m\u001b[38;5;124;03m\"\"\"Fetch and return information about this object.\u001b[39;00m\n\u001b[1;32m    103\u001b[0m \n\u001b[1;32m    104\u001b[0m \u001b[38;5;124;03m  Returns:\u001b[39;00m\n\u001b[1;32m    105\u001b[0m \u001b[38;5;124;03m    The object can evaluate to anything.\u001b[39;00m\n\u001b[1;32m    106\u001b[0m \u001b[38;5;124;03m  \"\"\"\u001b[39;00m\n\u001b[0;32m--> 107\u001b[0m   \u001b[38;5;28;01mreturn\u001b[39;00m \u001b[43mdata\u001b[49m\u001b[38;5;241;43m.\u001b[39;49m\u001b[43mcomputeValue\u001b[49m\u001b[43m(\u001b[49m\u001b[38;5;28;43mself\u001b[39;49m\u001b[43m)\u001b[49m\n",
            "File \u001b[0;32m/usr/local/lib/python3.10/dist-packages/ee/data.py:1102\u001b[0m, in \u001b[0;36mcomputeValue\u001b[0;34m(obj)\u001b[0m\n\u001b[1;32m   1098\u001b[0m body \u001b[38;5;241m=\u001b[39m {\u001b[38;5;124m'\u001b[39m\u001b[38;5;124mexpression\u001b[39m\u001b[38;5;124m'\u001b[39m: serializer\u001b[38;5;241m.\u001b[39mencode(obj, for_cloud_api\u001b[38;5;241m=\u001b[39m\u001b[38;5;28;01mTrue\u001b[39;00m)}\n\u001b[1;32m   1099\u001b[0m _maybe_populate_workload_tag(body)\n\u001b[1;32m   1101\u001b[0m \u001b[38;5;28;01mreturn\u001b[39;00m _execute_cloud_call(\n\u001b[0;32m-> 1102\u001b[0m     \u001b[43m_get_cloud_projects\u001b[49m\u001b[43m(\u001b[49m\u001b[43m)\u001b[49m\n\u001b[1;32m   1103\u001b[0m \u001b[43m    \u001b[49m\u001b[38;5;241;43m.\u001b[39;49m\u001b[43mvalue\u001b[49m\u001b[43m(\u001b[49m\u001b[43m)\u001b[49m\n\u001b[1;32m   1104\u001b[0m \u001b[43m    \u001b[49m\u001b[38;5;241;43m.\u001b[39;49m\u001b[43mcompute\u001b[49m\u001b[43m(\u001b[49m\u001b[43mbody\u001b[49m\u001b[38;5;241;43m=\u001b[39;49m\u001b[43mbody\u001b[49m\u001b[43m,\u001b[49m\u001b[43m \u001b[49m\u001b[43mproject\u001b[49m\u001b[38;5;241;43m=\u001b[39;49m\u001b[43m_get_projects_path\u001b[49m\u001b[43m(\u001b[49m\u001b[43m)\u001b[49m\u001b[43m,\u001b[49m\u001b[43m \u001b[49m\u001b[43mprettyPrint\u001b[49m\u001b[38;5;241;43m=\u001b[39;49m\u001b[38;5;28;43;01mFalse\u001b[39;49;00m\u001b[43m)\u001b[49m\n\u001b[1;32m   1105\u001b[0m )[\u001b[38;5;124m'\u001b[39m\u001b[38;5;124mresult\u001b[39m\u001b[38;5;124m'\u001b[39m]\n",
            "File \u001b[0;32m/usr/local/lib/python3.10/dist-packages/googleapiclient/discovery.py:1127\u001b[0m, in \u001b[0;36mcreateMethod.<locals>.method\u001b[0;34m(self, **kwargs)\u001b[0m\n\u001b[1;32m   1122\u001b[0m headers \u001b[38;5;241m=\u001b[39m {}\n\u001b[1;32m   1123\u001b[0m headers, params, query, body \u001b[38;5;241m=\u001b[39m model\u001b[38;5;241m.\u001b[39mrequest(\n\u001b[1;32m   1124\u001b[0m     headers, actual_path_params, actual_query_params, body_value\n\u001b[1;32m   1125\u001b[0m )\n\u001b[0;32m-> 1127\u001b[0m expanded_url \u001b[38;5;241m=\u001b[39m \u001b[43muritemplate\u001b[49m\u001b[38;5;241;43m.\u001b[39;49m\u001b[43mexpand\u001b[49m\u001b[43m(\u001b[49m\u001b[43mpathUrl\u001b[49m\u001b[43m,\u001b[49m\u001b[43m \u001b[49m\u001b[43mparams\u001b[49m\u001b[43m)\u001b[49m\n\u001b[1;32m   1128\u001b[0m url \u001b[38;5;241m=\u001b[39m _urljoin(\u001b[38;5;28mself\u001b[39m\u001b[38;5;241m.\u001b[39m_baseUrl, expanded_url \u001b[38;5;241m+\u001b[39m query)\n\u001b[1;32m   1130\u001b[0m resumable \u001b[38;5;241m=\u001b[39m \u001b[38;5;28;01mNone\u001b[39;00m\n",
            "File \u001b[0;32m/usr/local/lib/python3.10/dist-packages/uritemplate/api.py:43\u001b[0m, in \u001b[0;36mexpand\u001b[0;34m(uri, var_dict, **kwargs)\u001b[0m\n\u001b[1;32m     18\u001b[0m \u001b[38;5;28;01mdef\u001b[39;00m \u001b[38;5;21mexpand\u001b[39m(\n\u001b[1;32m     19\u001b[0m     uri: \u001b[38;5;28mstr\u001b[39m,\n\u001b[1;32m     20\u001b[0m     var_dict: t\u001b[38;5;241m.\u001b[39mOptional[variable\u001b[38;5;241m.\u001b[39mVariableValueDict] \u001b[38;5;241m=\u001b[39m \u001b[38;5;28;01mNone\u001b[39;00m,\n\u001b[1;32m     21\u001b[0m     \u001b[38;5;241m*\u001b[39m\u001b[38;5;241m*\u001b[39mkwargs: variable\u001b[38;5;241m.\u001b[39mVariableValue,\n\u001b[1;32m     22\u001b[0m ) \u001b[38;5;241m-\u001b[39m\u001b[38;5;241m>\u001b[39m \u001b[38;5;28mstr\u001b[39m:\n\u001b[1;32m     23\u001b[0m \u001b[38;5;250m    \u001b[39m\u001b[38;5;124;03m\"\"\"Expand the template with the given parameters.\u001b[39;00m\n\u001b[1;32m     24\u001b[0m \n\u001b[1;32m     25\u001b[0m \u001b[38;5;124;03m    :param str uri: The templated URI to expand\u001b[39;00m\n\u001b[0;32m   (...)\u001b[0m\n\u001b[1;32m     41\u001b[0m \n\u001b[1;32m     42\u001b[0m \u001b[38;5;124;03m    \"\"\"\u001b[39;00m\n\u001b[0;32m---> 43\u001b[0m     \u001b[38;5;28;01mreturn\u001b[39;00m \u001b[43mURITemplate\u001b[49m\u001b[43m(\u001b[49m\u001b[43muri\u001b[49m\u001b[43m)\u001b[49m\u001b[38;5;241;43m.\u001b[39;49m\u001b[43mexpand\u001b[49m\u001b[43m(\u001b[49m\u001b[43mvar_dict\u001b[49m\u001b[43m,\u001b[49m\u001b[43m \u001b[49m\u001b[38;5;241;43m*\u001b[39;49m\u001b[38;5;241;43m*\u001b[39;49m\u001b[43mkwargs\u001b[49m\u001b[43m)\u001b[49m\n",
            "File \u001b[0;32m/usr/local/lib/python3.10/dist-packages/uritemplate/template.py:147\u001b[0m, in \u001b[0;36mURITemplate.expand\u001b[0;34m(self, var_dict, **kwargs)\u001b[0m\n\u001b[1;32m    122\u001b[0m \u001b[38;5;28;01mdef\u001b[39;00m \u001b[38;5;21mexpand\u001b[39m(\n\u001b[1;32m    123\u001b[0m     \u001b[38;5;28mself\u001b[39m,\n\u001b[1;32m    124\u001b[0m     var_dict: t\u001b[38;5;241m.\u001b[39mOptional[variable\u001b[38;5;241m.\u001b[39mVariableValueDict] \u001b[38;5;241m=\u001b[39m \u001b[38;5;28;01mNone\u001b[39;00m,\n\u001b[1;32m    125\u001b[0m     \u001b[38;5;241m*\u001b[39m\u001b[38;5;241m*\u001b[39mkwargs: variable\u001b[38;5;241m.\u001b[39mVariableValue,\n\u001b[1;32m    126\u001b[0m ) \u001b[38;5;241m-\u001b[39m\u001b[38;5;241m>\u001b[39m \u001b[38;5;28mstr\u001b[39m:\n\u001b[1;32m    127\u001b[0m \u001b[38;5;250m    \u001b[39m\u001b[38;5;124;03m\"\"\"Expand the template with the given parameters.\u001b[39;00m\n\u001b[1;32m    128\u001b[0m \n\u001b[1;32m    129\u001b[0m \u001b[38;5;124;03m    :param dict var_dict: Optional dictionary with variables and values\u001b[39;00m\n\u001b[0;32m   (...)\u001b[0m\n\u001b[1;32m    145\u001b[0m \n\u001b[1;32m    146\u001b[0m \u001b[38;5;124;03m    \"\"\"\u001b[39;00m\n\u001b[0;32m--> 147\u001b[0m     \u001b[38;5;28;01mreturn\u001b[39;00m \u001b[38;5;28;43mself\u001b[39;49m\u001b[38;5;241;43m.\u001b[39;49m\u001b[43m_expand\u001b[49m\u001b[43m(\u001b[49m\u001b[43m_merge\u001b[49m\u001b[43m(\u001b[49m\u001b[43mvar_dict\u001b[49m\u001b[43m,\u001b[49m\u001b[43m \u001b[49m\u001b[43mkwargs\u001b[49m\u001b[43m)\u001b[49m\u001b[43m,\u001b[49m\u001b[43m \u001b[49m\u001b[38;5;28;43;01mFalse\u001b[39;49;00m\u001b[43m)\u001b[49m\n",
            "File \u001b[0;32m/usr/local/lib/python3.10/dist-packages/uritemplate/template.py:108\u001b[0m, in \u001b[0;36mURITemplate._expand\u001b[0;34m(self, var_dict, replace)\u001b[0m\n\u001b[1;32m    106\u001b[0m expanded: t\u001b[38;5;241m.\u001b[39mDict[\u001b[38;5;28mstr\u001b[39m, \u001b[38;5;28mstr\u001b[39m] \u001b[38;5;241m=\u001b[39m {}\n\u001b[1;32m    107\u001b[0m \u001b[38;5;28;01mfor\u001b[39;00m v \u001b[38;5;129;01min\u001b[39;00m \u001b[38;5;28mself\u001b[39m\u001b[38;5;241m.\u001b[39mvariables:\n\u001b[0;32m--> 108\u001b[0m     expanded\u001b[38;5;241m.\u001b[39mupdate(\u001b[43mv\u001b[49m\u001b[38;5;241;43m.\u001b[39;49m\u001b[43mexpand\u001b[49m\u001b[43m(\u001b[49m\u001b[43mexpansion\u001b[49m\u001b[43m)\u001b[49m)\n\u001b[1;32m    110\u001b[0m \u001b[38;5;28;01mdef\u001b[39;00m \u001b[38;5;21mreplace_all\u001b[39m(match: \u001b[38;5;124m\"\u001b[39m\u001b[38;5;124mre.Match[str]\u001b[39m\u001b[38;5;124m\"\u001b[39m) \u001b[38;5;241m-\u001b[39m\u001b[38;5;241m>\u001b[39m \u001b[38;5;28mstr\u001b[39m:\n\u001b[1;32m    111\u001b[0m     \u001b[38;5;28;01mreturn\u001b[39;00m expanded\u001b[38;5;241m.\u001b[39mget(match\u001b[38;5;241m.\u001b[39mgroups()[\u001b[38;5;241m0\u001b[39m], \u001b[38;5;124m\"\u001b[39m\u001b[38;5;124m\"\u001b[39m)\n",
            "File \u001b[0;32m/usr/local/lib/python3.10/dist-packages/uritemplate/variable.py:378\u001b[0m, in \u001b[0;36mURIVariable.expand\u001b[0;34m(self, var_dict)\u001b[0m\n\u001b[1;32m    375\u001b[0m \u001b[38;5;28;01melse\u001b[39;00m:\n\u001b[1;32m    376\u001b[0m     expansion \u001b[38;5;241m=\u001b[39m \u001b[38;5;28mself\u001b[39m\u001b[38;5;241m.\u001b[39m_string_expansion\n\u001b[0;32m--> 378\u001b[0m expanded \u001b[38;5;241m=\u001b[39m \u001b[43mexpansion\u001b[49m\u001b[43m(\u001b[49m\u001b[43mname\u001b[49m\u001b[43m,\u001b[49m\u001b[43m \u001b[49m\u001b[43mvalue\u001b[49m\u001b[43m,\u001b[49m\u001b[43m \u001b[49m\u001b[43mopts\u001b[49m\u001b[43m[\u001b[49m\u001b[38;5;124;43m\"\u001b[39;49m\u001b[38;5;124;43mexplode\u001b[39;49m\u001b[38;5;124;43m\"\u001b[39;49m\u001b[43m]\u001b[49m\u001b[43m,\u001b[49m\u001b[43m \u001b[49m\u001b[43mopts\u001b[49m\u001b[43m[\u001b[49m\u001b[38;5;124;43m\"\u001b[39;49m\u001b[38;5;124;43mprefix\u001b[39;49m\u001b[38;5;124;43m\"\u001b[39;49m\u001b[43m]\u001b[49m\u001b[43m)\u001b[49m\n\u001b[1;32m    380\u001b[0m \u001b[38;5;28;01mif\u001b[39;00m expanded \u001b[38;5;129;01mis\u001b[39;00m \u001b[38;5;129;01mnot\u001b[39;00m \u001b[38;5;28;01mNone\u001b[39;00m:\n\u001b[1;32m    381\u001b[0m     return_values\u001b[38;5;241m.\u001b[39mappend(expanded)\n",
            "File \u001b[0;32m/usr/local/lib/python3.10/dist-packages/uritemplate/variable.py:307\u001b[0m, in \u001b[0;36mURIVariable._string_expansion\u001b[0;34m(self, name, value, explode, prefix)\u001b[0m\n\u001b[1;32m    304\u001b[0m \u001b[38;5;28;01mif\u001b[39;00m value \u001b[38;5;129;01mis\u001b[39;00m \u001b[38;5;28;01mNone\u001b[39;00m:\n\u001b[1;32m    305\u001b[0m     \u001b[38;5;28;01mreturn\u001b[39;00m \u001b[38;5;28;01mNone\u001b[39;00m\n\u001b[0;32m--> 307\u001b[0m tuples, items \u001b[38;5;241m=\u001b[39m \u001b[43mis_list_of_tuples\u001b[49m\u001b[43m(\u001b[49m\u001b[43mvalue\u001b[49m\u001b[43m)\u001b[49m\n\u001b[1;32m    309\u001b[0m \u001b[38;5;28;01mif\u001b[39;00m list_test(value) \u001b[38;5;129;01mand\u001b[39;00m \u001b[38;5;129;01mnot\u001b[39;00m tuples:\n\u001b[1;32m    310\u001b[0m     value \u001b[38;5;241m=\u001b[39m t\u001b[38;5;241m.\u001b[39mcast(t\u001b[38;5;241m.\u001b[39mSequence[ScalarVariableValue], value)\n",
            "File \u001b[0;32m/usr/local/lib/python3.10/dist-packages/uritemplate/variable.py:394\u001b[0m, in \u001b[0;36mis_list_of_tuples\u001b[0;34m(value)\u001b[0m\n\u001b[1;32m    389\u001b[0m \u001b[38;5;28;01mdef\u001b[39;00m \u001b[38;5;21mis_list_of_tuples\u001b[39m(\n\u001b[1;32m    390\u001b[0m     value: t\u001b[38;5;241m.\u001b[39mAny,\n\u001b[1;32m    391\u001b[0m ) \u001b[38;5;241m-\u001b[39m\u001b[38;5;241m>\u001b[39m t\u001b[38;5;241m.\u001b[39mTuple[\u001b[38;5;28mbool\u001b[39m, t\u001b[38;5;241m.\u001b[39mOptional[t\u001b[38;5;241m.\u001b[39mSequence[t\u001b[38;5;241m.\u001b[39mTuple[\u001b[38;5;28mstr\u001b[39m, ScalarVariableValue]]]]:\n\u001b[1;32m    392\u001b[0m     \u001b[38;5;28;01mif\u001b[39;00m (\n\u001b[1;32m    393\u001b[0m         \u001b[38;5;129;01mnot\u001b[39;00m value\n\u001b[0;32m--> 394\u001b[0m         \u001b[38;5;129;01mor\u001b[39;00m \u001b[38;5;129;01mnot\u001b[39;00m \u001b[38;5;28;43misinstance\u001b[39;49m\u001b[43m(\u001b[49m\u001b[43mvalue\u001b[49m\u001b[43m,\u001b[49m\u001b[43m \u001b[49m\u001b[43m(\u001b[49m\u001b[38;5;28;43mlist\u001b[39;49m\u001b[43m,\u001b[49m\u001b[43m \u001b[49m\u001b[38;5;28;43mtuple\u001b[39;49m\u001b[43m)\u001b[49m\u001b[43m)\u001b[49m\n\u001b[1;32m    395\u001b[0m         \u001b[38;5;129;01mor\u001b[39;00m \u001b[38;5;129;01mnot\u001b[39;00m \u001b[38;5;28mall\u001b[39m(\u001b[38;5;28misinstance\u001b[39m(t, \u001b[38;5;28mtuple\u001b[39m) \u001b[38;5;129;01mand\u001b[39;00m \u001b[38;5;28mlen\u001b[39m(t) \u001b[38;5;241m==\u001b[39m \u001b[38;5;241m2\u001b[39m \u001b[38;5;28;01mfor\u001b[39;00m t \u001b[38;5;129;01min\u001b[39;00m value)\n\u001b[1;32m    396\u001b[0m     ):\n\u001b[1;32m    397\u001b[0m         \u001b[38;5;28;01mreturn\u001b[39;00m \u001b[38;5;28;01mFalse\u001b[39;00m, \u001b[38;5;28;01mNone\u001b[39;00m\n\u001b[1;32m    399\u001b[0m     \u001b[38;5;28;01mreturn\u001b[39;00m \u001b[38;5;28;01mTrue\u001b[39;00m, value\n",
            "\u001b[0;31mKeyboardInterrupt\u001b[0m: "
          ]
        }
      ],
      "source": [
        "# you can monitor your tasks here (as well as bulk cancel if needed): https://code.earthengine.google.com/tasks\n",
        "\n",
        "counter=0 # start place of counter used to keep track of number of tasks are being set\n",
        "\n",
        "for aoi_name in list_of_countries:\n",
        "\n",
        "    aoi = admin_boundaries.filter(ee.Filter.eq(admin_asset_property_name,aoi_name))#.first()\n",
        "\n",
        "    # uses the reduce_regions function to get areas of landcover in each mountain belt in each country\n",
        "    # this function was imported at the start of the script (see Imports section)and is from the cloned sepal_mgci git hub repository\n",
        "    # the function runs at native resolution of the input land cover (or DEM if running real surface area (RSA) implementation.)\n",
        "    process = ee.FeatureCollection([\n",
        "        ee.Feature(\n",
        "            None,\n",
        "            reduce_regions(\n",
        "                aoi,\n",
        "                remap_matrix=default_map_matrix,\n",
        "                rsa=False,\n",
        "                # dem=param.DEM_DEFAULT,\n",
        "                dem=DEM_DEFAULT, #default digital elevation model (DEM). Relevant for the real surface area (RSA) implementation.\n",
        "                lc_years= year,\n",
        "                transition_matrix=False\n",
        "            )\n",
        "        ).set(\"process_id\", year[0][\"year\"])\n",
        "        for year in get_a_years(a_years) # creates GEE images from asset id based on those in the 'a_years\" dictionary (above)\n",
        "    ])\n",
        "\n",
        "    #make name acceptable for running tasks (i.e., removes special characters)\n",
        "    task_name = str(sanitize_description(unidecode(aoi_name)))\n",
        "\n",
        "\n",
        "    task = ee.batch.Export.table.toDrive(\n",
        "        **{  #asterisks unpack dictionary into keyword arguments format\n",
        "            \"collection\": process,\n",
        "            \"description\": task_name,\n",
        "            \"fileFormat\": \"CSV\",\n",
        "            \"folder\":stats_csv_folder,\n",
        "            \"selectors\": [\n",
        "                \"process_id\",\n",
        "                \"sub_a\",\n",
        "            ],\n",
        "        }\n",
        "    )\n",
        "\n",
        "    counter+=1\n",
        "\n",
        "    print (f\"\\r process {counter}\",end=\"\") # print in place\n",
        "\n",
        "    print (aoi_name)\n",
        "\n",
        "    task.start()\n",
        "\n"
      ]
    },
    {
      "cell_type": "markdown",
      "metadata": {
        "id": "vM0SIvJtu_f8"
      },
      "source": [
        "# Read, process, and create report tables"
      ]
    },
    {
      "cell_type": "markdown",
      "source": [],
      "metadata": {
        "id": "hc24T8boYnbX"
      }
    },
    {
      "cell_type": "markdown",
      "source": [
        "#####Manually check your earth engine task status, once the tasks are complete, run the next cell.\n",
        "\n",
        "The cell will produce formatted excel files for each country.\n",
        "Missing files or other errors will be listed in the Error_log.csv"
      ],
      "metadata": {
        "id": "3x7jwkZJWwE-"
      }
    },
    {
      "cell_type": "code",
      "execution_count": 93,
      "metadata": {
        "id": "qkpDfHqQu_f9",
        "colab": {
          "base_uri": "https://localhost:8080/",
          "height": 1000
        },
        "outputId": "0125b3c6-89b2-448e-e4db-723957116a9a"
      },
      "outputs": [
        {
          "output_type": "display_data",
          "data": {
            "text/plain": [
              "<IPython.core.display.HTML object>"
            ],
            "text/html": [
              "\n",
              "            <style>\n",
              "                .geemap-dark {\n",
              "                    --jp-widgets-color: white;\n",
              "                    --jp-widgets-label-color: white;\n",
              "                    --jp-ui-font-color1: white;\n",
              "                    --jp-layout-color2: #454545;\n",
              "                    background-color: #383838;\n",
              "                }\n",
              "\n",
              "                .geemap-dark .jupyter-button {\n",
              "                    --jp-layout-color3: #383838;\n",
              "                }\n",
              "\n",
              "                .geemap-colab {\n",
              "                    background-color: var(--colab-primary-surface-color, white);\n",
              "                }\n",
              "\n",
              "                .geemap-colab .jupyter-button {\n",
              "                    --jp-layout-color3: var(--colab-primary-surface-color, white);\n",
              "                }\n",
              "            </style>\n",
              "            "
            ]
          },
          "metadata": {}
        },
        {
          "output_type": "stream",
          "name": "stdout",
          "text": [
            "process # 1\n",
            "/content/drive/MyDrive/sdg_15_4_2_A_csvs/Montenegro.csv\n",
            "Reporting 2000 for sub_a\n",
            "Reporting 2000 for mtn\n",
            "Reporting 2003 for sub_a\n",
            "Reporting 2003 for mtn\n",
            "Reporting 2007 for sub_a\n",
            "Reporting 2007 for mtn\n",
            "Reporting 2010 for sub_a\n",
            "Reporting 2010 for mtn\n",
            "report_file_path:  /content/drive/MyDrive/sdg_15_4_2_A_reports/Montenegro.xlsx\n",
            "process # 2\n",
            "/content/drive/MyDrive/sdg_15_4_2_A_csvs/Serbia.csv\n",
            "Reporting 2000 for sub_a\n",
            "Reporting 2000 for mtn\n",
            "Reporting 2003 for sub_a\n",
            "Reporting 2003 for mtn\n",
            "Reporting 2007 for sub_a\n",
            "Reporting 2007 for mtn\n",
            "Reporting 2010 for sub_a\n",
            "Reporting 2010 for mtn\n",
            "report_file_path:  /content/drive/MyDrive/sdg_15_4_2_A_reports/Serbia.xlsx\n",
            "process # 3\n",
            "/content/drive/MyDrive/sdg_15_4_2_A_csvs/South Sudan.csv\n",
            "Reporting 2000 for sub_a\n",
            "Reporting 2000 for mtn\n",
            "Reporting 2003 for sub_a\n",
            "Reporting 2003 for mtn\n",
            "Reporting 2007 for sub_a\n",
            "Reporting 2007 for mtn\n",
            "Reporting 2010 for sub_a\n",
            "Reporting 2010 for mtn\n",
            "report_file_path:  /content/drive/MyDrive/sdg_15_4_2_A_reports/South Sudan.xlsx\n",
            "process # 4\n",
            "/content/drive/MyDrive/sdg_15_4_2_A_csvs/Sudan.csv\n",
            "Reporting 2000 for sub_a\n",
            "Reporting 2000 for mtn\n",
            "Reporting 2003 for sub_a\n",
            "Reporting 2003 for mtn\n",
            "Reporting 2007 for sub_a\n",
            "Reporting 2007 for mtn\n",
            "Reporting 2010 for sub_a\n",
            "Reporting 2010 for mtn\n",
            "report_file_path:  /content/drive/MyDrive/sdg_15_4_2_A_reports/Sudan.xlsx\n",
            "process # 5\n",
            "/content/drive/MyDrive/sdg_15_4_2_A_csvs/Taiwan.csv\n",
            "Reporting 2000 for sub_a\n",
            "Reporting 2000 for mtn\n",
            "Reporting 2003 for sub_a\n",
            "Reporting 2003 for mtn\n",
            "Reporting 2007 for sub_a\n",
            "Reporting 2007 for mtn\n",
            "Reporting 2010 for sub_a\n",
            "Reporting 2010 for mtn\n",
            "report_file_path:  /content/drive/MyDrive/sdg_15_4_2_A_reports/Taiwan.xlsx\n",
            "process # 6\n",
            "/content/drive/MyDrive/sdg_15_4_2_A_csvs/Norfolk Island.csv\n",
            "Reporting 2000 for sub_a\n"
          ]
        },
        {
          "output_type": "stream",
          "name": "stderr",
          "text": [
            "/content/sepal_mgci/component/scripts/sub_a.py:135: RuntimeWarning: invalid value encountered in scalar divide\n",
            "  green_non_green.sum()[\"sumgreen\"]\n"
          ]
        },
        {
          "output_type": "stream",
          "name": "stdout",
          "text": [
            "Reporting 2000 for mtn\n",
            "Reporting 2003 for sub_a\n"
          ]
        },
        {
          "output_type": "stream",
          "name": "stderr",
          "text": [
            "/content/sepal_mgci/component/scripts/sub_a.py:135: RuntimeWarning: invalid value encountered in scalar divide\n",
            "  green_non_green.sum()[\"sumgreen\"]\n"
          ]
        },
        {
          "output_type": "stream",
          "name": "stdout",
          "text": [
            "Reporting 2003 for mtn\n",
            "Reporting 2007 for sub_a\n"
          ]
        },
        {
          "output_type": "stream",
          "name": "stderr",
          "text": [
            "/content/sepal_mgci/component/scripts/sub_a.py:135: RuntimeWarning: invalid value encountered in scalar divide\n",
            "  green_non_green.sum()[\"sumgreen\"]\n"
          ]
        },
        {
          "output_type": "stream",
          "name": "stdout",
          "text": [
            "Reporting 2007 for mtn\n",
            "Reporting 2010 for sub_a\n"
          ]
        },
        {
          "output_type": "stream",
          "name": "stderr",
          "text": [
            "/content/sepal_mgci/component/scripts/sub_a.py:135: RuntimeWarning: invalid value encountered in scalar divide\n",
            "  green_non_green.sum()[\"sumgreen\"]\n"
          ]
        },
        {
          "output_type": "stream",
          "name": "stdout",
          "text": [
            "Reporting 2010 for mtn\n",
            "report_file_path:  /content/drive/MyDrive/sdg_15_4_2_A_reports/Norfolk Island.xlsx\n",
            "process # 7\n",
            "/content/drive/MyDrive/sdg_15_4_2_A_csvs/Cocos Keeling Islands.csv\n",
            "Reporting 2000 for sub_a\n"
          ]
        },
        {
          "output_type": "stream",
          "name": "stderr",
          "text": [
            "/content/sepal_mgci/component/scripts/sub_a.py:135: RuntimeWarning: invalid value encountered in scalar divide\n",
            "  green_non_green.sum()[\"sumgreen\"]\n"
          ]
        },
        {
          "output_type": "stream",
          "name": "stdout",
          "text": [
            "Reporting 2000 for mtn\n",
            "Reporting 2003 for sub_a\n"
          ]
        },
        {
          "output_type": "stream",
          "name": "stderr",
          "text": [
            "/content/sepal_mgci/component/scripts/sub_a.py:135: RuntimeWarning: invalid value encountered in scalar divide\n",
            "  green_non_green.sum()[\"sumgreen\"]\n"
          ]
        },
        {
          "output_type": "stream",
          "name": "stdout",
          "text": [
            "Reporting 2003 for mtn\n",
            "Reporting 2007 for sub_a\n"
          ]
        },
        {
          "output_type": "stream",
          "name": "stderr",
          "text": [
            "/content/sepal_mgci/component/scripts/sub_a.py:135: RuntimeWarning: invalid value encountered in scalar divide\n",
            "  green_non_green.sum()[\"sumgreen\"]\n"
          ]
        },
        {
          "output_type": "stream",
          "name": "stdout",
          "text": [
            "Reporting 2007 for mtn\n",
            "Reporting 2010 for sub_a\n"
          ]
        },
        {
          "output_type": "stream",
          "name": "stderr",
          "text": [
            "/content/sepal_mgci/component/scripts/sub_a.py:135: RuntimeWarning: invalid value encountered in scalar divide\n",
            "  green_non_green.sum()[\"sumgreen\"]\n"
          ]
        },
        {
          "output_type": "stream",
          "name": "stdout",
          "text": [
            "Reporting 2010 for mtn\n",
            "report_file_path:  /content/drive/MyDrive/sdg_15_4_2_A_reports/Cocos Keeling Islands.xlsx\n",
            "process # 8\n",
            "/content/drive/MyDrive/sdg_15_4_2_A_csvs/Christmas Island.csv\n",
            "Reporting 2000 for sub_a\n",
            "Reporting 2000 for mtn\n",
            "Reporting 2003 for sub_a\n",
            "Reporting 2003 for mtn\n",
            "Reporting 2007 for sub_a\n",
            "Reporting 2007 for mtn\n",
            "Reporting 2010 for sub_a\n",
            "Reporting 2010 for mtn\n",
            "report_file_path:  /content/drive/MyDrive/sdg_15_4_2_A_reports/Christmas Island.xlsx\n",
            "process # 9\n",
            "/content/drive/MyDrive/sdg_15_4_2_A_csvs/Ashmore and Cartier Islands.csv\n",
            "Reporting 2000 for sub_a\n"
          ]
        },
        {
          "output_type": "stream",
          "name": "stderr",
          "text": [
            "/content/sepal_mgci/component/scripts/sub_a.py:135: RuntimeWarning: invalid value encountered in scalar divide\n",
            "  green_non_green.sum()[\"sumgreen\"]\n"
          ]
        },
        {
          "output_type": "stream",
          "name": "stdout",
          "text": [
            "Reporting 2000 for mtn\n",
            "Reporting 2003 for sub_a\n"
          ]
        },
        {
          "output_type": "stream",
          "name": "stderr",
          "text": [
            "/content/sepal_mgci/component/scripts/sub_a.py:135: RuntimeWarning: invalid value encountered in scalar divide\n",
            "  green_non_green.sum()[\"sumgreen\"]\n"
          ]
        },
        {
          "output_type": "stream",
          "name": "stdout",
          "text": [
            "Reporting 2003 for mtn\n",
            "Reporting 2007 for sub_a\n"
          ]
        },
        {
          "output_type": "stream",
          "name": "stderr",
          "text": [
            "/content/sepal_mgci/component/scripts/sub_a.py:135: RuntimeWarning: invalid value encountered in scalar divide\n",
            "  green_non_green.sum()[\"sumgreen\"]\n"
          ]
        },
        {
          "output_type": "stream",
          "name": "stdout",
          "text": [
            "Reporting 2007 for mtn\n",
            "Reporting 2010 for sub_a\n"
          ]
        },
        {
          "output_type": "stream",
          "name": "stderr",
          "text": [
            "/content/sepal_mgci/component/scripts/sub_a.py:135: RuntimeWarning: invalid value encountered in scalar divide\n",
            "  green_non_green.sum()[\"sumgreen\"]\n"
          ]
        },
        {
          "output_type": "stream",
          "name": "stdout",
          "text": [
            "Reporting 2010 for mtn\n",
            "report_file_path:  /content/drive/MyDrive/sdg_15_4_2_A_reports/Ashmore and Cartier Islands.xlsx\n",
            "process # 10\n",
            "/content/drive/MyDrive/sdg_15_4_2_A_csvs/Faroe Islands.csv\n",
            "Reporting 2000 for sub_a\n",
            "Reporting 2000 for mtn\n",
            "Reporting 2003 for sub_a\n",
            "Reporting 2003 for mtn\n",
            "Reporting 2007 for sub_a\n",
            "Reporting 2007 for mtn\n",
            "Reporting 2010 for sub_a\n",
            "Reporting 2010 for mtn\n",
            "report_file_path:  /content/drive/MyDrive/sdg_15_4_2_A_reports/Faroe Islands.xlsx\n"
          ]
        }
      ],
      "source": [
        "# counter = 0\n",
        "\n",
        "# stats_csv_folder\n",
        "\n",
        "# for aoi_name in list_of_countries:\n",
        "\n",
        "#   counter+=1\n",
        "\n",
        "#   print (\"process #\",counter)\n",
        "\n",
        "#   aoi_name_clean = str(sanitize_description(unidecode(aoi_name)))\n",
        "\n",
        "#   try:\n",
        "#     stats_csv_file = aoi_name_clean+\".csv\"\n",
        "#     stats_csv_file_path = drive_home + stats_csv_folder+ \"/\"+stats_csv_file\n",
        "\n",
        "#     print (stats_csv_file_path)\n",
        "#     # This line will read the results from the CSV file and parse it to a dictionary\n",
        "#     dict_results = read_from_csv(stats_csv_file_path)\n",
        "#     dict_results\n",
        "\n",
        "#     details = {\n",
        "#         \"geo_area_name\" : aoi_name,\n",
        "#         \"ref_area\" : \" \",\n",
        "#         \"source_detail\" : \" \",\n",
        "#     }\n",
        "#     # Following lines will generate the reports for the sub_a and mtn indicators\n",
        "#     sub_a_reports = []\n",
        "#     mtn_reports = []\n",
        "\n",
        "#     for year in single_years:\n",
        "#         print(f\"Reporting {year} for sub_a\")\n",
        "#         parsed_df = parse_result(dict_results[year][\"sub_a\"], single=True)\n",
        "\n",
        "#         sub_a_reports.append(sub_a.get_reports(parsed_df, year, **details))\n",
        "\n",
        "#         print(f\"Reporting {year} for mtn\")\n",
        "#         mtn_reports.append(mntn.get_report(parsed_df, year, **details))\n",
        "\n",
        "#     mtn_reports_df = pd.concat(mtn_reports)\n",
        "\n",
        "#     # sub a reports\n",
        "#     er_mtn_grnvi_df = pd.concat([report[0] for report in sub_a_reports])\n",
        "#     er_mtn_grncov_df = pd.concat([report[1] for report in sub_a_reports])\n",
        "\n",
        "#     # define where to put output reports\n",
        "#     report_file_path = drive_home + report_folder + \"/\"+aoi_name_clean +\".xlsx\"\n",
        "#     print (\"report_file_path: \",report_file_path)\n",
        "\n",
        "\n",
        "#     # This will create the excel file with the reports\n",
        "#     with pd.ExcelWriter(report_file_path) as writer:\n",
        "#         mtn_reports_df.to_excel(writer, sheet_name=\"Table1_ER_MTN_TOTL\", index=False)\n",
        "#         er_mtn_grncov_df.to_excel(\n",
        "#             writer, sheet_name=\"Table2_ER_MTN_GRNCOV\", index=False\n",
        "#         )\n",
        "#         er_mtn_grnvi_df.to_excel(writer, sheet_name=\"Table3_ER_MTN_GRNCVI\", index=False)\n",
        "\n",
        "#         for sheetname in writer.sheets:\n",
        "#             worksheet = writer.sheets[sheetname]\n",
        "#             for col in worksheet.columns:\n",
        "#                 max_length = 0\n",
        "#                 column = col[0]\n",
        "#                 for cell in col:\n",
        "#                     try:\n",
        "#                         if len(str(cell.value)) > max_length:\n",
        "#                             max_length = len(cell.value)\n",
        "#                     except:\n",
        "#                         pass\n",
        "#                 adjusted_width = max(max_length, len(str(column.value))) + 4\n",
        "#                 worksheet.column_dimensions[get_column_letter(column.column)].width = (\n",
        "#                     adjusted_width\n",
        "#                 )\n",
        "\n",
        "#                 # Align \"obs_value\" column to the right\n",
        "#                 if \"OBS\" in column.value:\n",
        "#                     for cell in col:\n",
        "#                         cell.alignment = Alignment(horizontal=\"right\")\n",
        "#   except Exception as e:\n",
        "\n",
        "#       # If the file is not found, catch the FileNotFoundError exception\n",
        "#       # Print an error message and the specific error message provided by the exception\n",
        "#       print(f\"File not found error: {e}\")\n",
        "#       current_time = datetime.now().strftime('%Y-%m-%d %H:%M:%S')\n",
        "#       # Check if the error log file exists, if not, create it\n",
        "#       if not os.path.exists(error_log_file_path):\n",
        "#           df = pd.DataFrame(columns=['File Name', 'Error Message','Time'])\n",
        "#           df.to_csv(error_log_file_path, index=False)\n",
        "\n",
        "#       # Write the name of the file that caused the error to the CSV file\n",
        "#       df = pd.DataFrame([[stats_csv_file, str(e),current_time]], columns=['File Name', 'Error Message','Time'])\n",
        "#       df.to_csv(error_log_file_path, mode='a', header=False, index=False)\n",
        "\n",
        "import os\n",
        "import pandas as pd\n",
        "from openpyxl.utils import get_column_letter\n",
        "from openpyxl.styles import Alignment\n",
        "from datetime import datetime\n",
        "\n",
        "# Initialize the counter\n",
        "counter = 0\n",
        "\n",
        "# Loop over each AOI name in the list of countries\n",
        "for aoi_name in list_of_countries:\n",
        "    # Increment the counter for each iteration\n",
        "    counter += 1\n",
        "\n",
        "    print(f\"Processing AOI #{counter}\")\n",
        "\n",
        "    # Clean the AOI name\n",
        "    aoi_name_clean = str(sanitize_description(unidecode(aoi_name)))\n",
        "\n",
        "    try:\n",
        "        # Construct the file path for the stats CSV file\n",
        "        stats_csv_file = aoi_name_clean + \".csv\"\n",
        "        stats_csv_file_path = os.path.join(drive_home, stats_csv_folder, stats_csv_file)\n",
        "\n",
        "        print(\"Stats CSV file path:\", stats_csv_file_path)\n",
        "\n",
        "        # Read the results from the CSV file and parse it to a dictionary\n",
        "        dict_results = read_from_csv(stats_csv_file_path)\n",
        "\n",
        "        details = {\n",
        "            \"geo_area_name\": aoi_name,\n",
        "            \"ref_area\": \" \",\n",
        "            \"source_detail\": \" \",\n",
        "        }\n",
        "\n",
        "        # Generate reports for the sub_a and mtn indicators\n",
        "        sub_a_reports = []\n",
        "        mtn_reports = []\n",
        "\n",
        "        for year in single_years:\n",
        "            if debug: print(f\"Reporting {year} for sub_a\")\n",
        "            parsed_df = parse_result(dict_results[year][\"sub_a\"], single=True)\n",
        "            sub_a_reports.append(sub_a.get_reports(parsed_df, year, **details))\n",
        "\n",
        "            if debug: print(f\"Reporting {year} for mtn\")\n",
        "            mtn_reports.append(mntn.get_report(parsed_df, year, **details))\n",
        "\n",
        "        # Concatenate the mtn reports\n",
        "        mtn_reports_df = pd.concat(mtn_reports)\n",
        "\n",
        "        # Concatenate the sub a reports\n",
        "        er_mtn_grnvi_df = pd.concat([report[0] for report in sub_a_reports])\n",
        "        er_mtn_grncov_df = pd.concat([report[1] for report in sub_a_reports])\n",
        "\n",
        "        # Define the output report file path\n",
        "        report_file_path = os.path.join(drive_home, report_folder, aoi_name_clean + \".xlsx\")\n",
        "        if debug: print(\"Report file path:\", report_file_path)\n",
        "\n",
        "        # Create the Excel file with the reports\n",
        "        with pd.ExcelWriter(report_file_path) as writer:\n",
        "            mtn_reports_df.to_excel(writer, sheet_name=\"Table1_ER_MTN_TOTL\", index=False)\n",
        "            er_mtn_grncov_df.to_excel(writer, sheet_name=\"Table2_ER_MTN_GRNCOV\", index=False)\n",
        "            er_mtn_grnvi_df.to_excel(writer, sheet_name=\"Table3_ER_MTN_GRNCVI\", index=False)\n",
        "\n",
        "            # Adjust column widths and alignment for each sheet\n",
        "            for sheetname in writer.sheets:\n",
        "                worksheet = writer.sheets[sheetname]\n",
        "                for col in worksheet.columns:\n",
        "                    max_length = 0\n",
        "                    column = col[0]\n",
        "                    for cell in col:\n",
        "                        try:\n",
        "                            if len(str(cell.value)) > max_length:\n",
        "                                max_length = len(cell.value)\n",
        "                        except:\n",
        "                            pass\n",
        "                    adjusted_width = max(max_length, len(str(column.value))) + 4\n",
        "                    worksheet.column_dimensions[get_column_letter(column.column)].width = adjusted_width\n",
        "\n",
        "                    # Align \"obs_value\" column to the right\n",
        "                    if \"OBS\" in column.value:\n",
        "                        for cell in col:\n",
        "                            cell.alignment = Alignment(horizontal=\"right\")\n",
        "\n",
        "    except Exception as e:\n",
        "        # If an error occurs, catch the exception and handle it\n",
        "        print(f\"Error occurred: {e}\")\n",
        "\n",
        "        # Get the current time\n",
        "        current_time = datetime.now().strftime('%Y-%m-%d %H:%M:%S')\n",
        "\n",
        "        # Write the error message and file name to the error log file\n",
        "        error_info = pd.DataFrame([[stats_csv_file, str(e), current_time]], columns=['File Name', 'Error Message', 'Time'])\n",
        "        if not os.path.exists(error_log_file_path):\n",
        "            error_info.to_csv(error_log_file_path, mode='w', index=False)\n",
        "        else:\n",
        "            error_info.to_csv(error_log_file_path, mode='a', header=False, index=False)\n"
      ]
    },
    {
      "cell_type": "markdown",
      "source": [
        "#### Combine excel files into a single report"
      ],
      "metadata": {
        "id": "qTqI3Ag08k5b"
      }
    },
    {
      "cell_type": "code",
      "source": [
        "import pandas as pd\n",
        "\n",
        "def append_excel_files(file_paths, num_sheets, output_file_path):\n",
        "    # Initialize a dictionary to store combined DataFrames from different files\n",
        "    combined_dfs = {}\n",
        "\n",
        "    # Initialize a counter to track the progress of file processing\n",
        "    counter = 0\n",
        "\n",
        "    # Iterate over each file path in the list\n",
        "    for file_path in file_paths:\n",
        "        # Load the Excel file\n",
        "        xls = pd.ExcelFile(file_path)  # Reads file and stores as an ExcelFile object (using the Pandas library)\n",
        "\n",
        "        # Increment the counter for each iteration\n",
        "        counter += 1\n",
        "\n",
        "        # Read each sheet from the Excel file into a DataFrame\n",
        "        # Only read up to num_sheets specified\n",
        "        dfs = {sheet_name: xls.parse(sheet_name) for sheet_name in xls.sheet_names[:num_sheets]}\n",
        "\n",
        "        # Append the DataFrames to the combined_dfs dictionary\n",
        "        for sheet_name, df in dfs.items():\n",
        "            if sheet_name in combined_dfs:\n",
        "                # If the sheet already exists in combined_dfs, concatenate the current DataFrame with the existing one\n",
        "                combined_dfs[sheet_name] = pd.concat([combined_dfs[sheet_name], df], ignore_index=True)\n",
        "            else:\n",
        "                # If the sheet does not exist in combined_dfs, add the DataFrame directly\n",
        "                combined_dfs[sheet_name] = df\n",
        "\n",
        "        # Print the progress of processing, overwriting the previous progress\n",
        "        print(f\"\\rProcessing {counter}/{len(file_paths)}: {file_path}\", end=\"\")\n",
        "\n",
        "    # Write the combined DataFrames to the specified output file path\n",
        "    with pd.ExcelWriter(output_file_path) as writer:\n",
        "        for sheet_name, df in combined_dfs.items():\n",
        "            # Write each DataFrame to a separate sheet in the output Excel file\n",
        "            df.to_excel(writer, sheet_name=sheet_name, index=False)\n"
      ],
      "metadata": {
        "id": "iRvBucIP8jaV",
        "outputId": "61f95d3c-f3e5-4a47-db63-df02e8f81f5c",
        "colab": {
          "base_uri": "https://localhost:8080/",
          "height": 17
        }
      },
      "execution_count": 89,
      "outputs": [
        {
          "output_type": "display_data",
          "data": {
            "text/plain": [
              "<IPython.core.display.HTML object>"
            ],
            "text/html": [
              "\n",
              "            <style>\n",
              "                .geemap-dark {\n",
              "                    --jp-widgets-color: white;\n",
              "                    --jp-widgets-label-color: white;\n",
              "                    --jp-ui-font-color1: white;\n",
              "                    --jp-layout-color2: #454545;\n",
              "                    background-color: #383838;\n",
              "                }\n",
              "\n",
              "                .geemap-dark .jupyter-button {\n",
              "                    --jp-layout-color3: #383838;\n",
              "                }\n",
              "\n",
              "                .geemap-colab {\n",
              "                    background-color: var(--colab-primary-surface-color, white);\n",
              "                }\n",
              "\n",
              "                .geemap-colab .jupyter-button {\n",
              "                    --jp-layout-color3: var(--colab-primary-surface-color, white);\n",
              "                }\n",
              "            </style>\n",
              "            "
            ]
          },
          "metadata": {}
        }
      ]
    },
    {
      "cell_type": "code",
      "source": [
        "directory_path = drive_home + report_folder\n",
        "\n",
        "# # List files in the directory\n",
        "files = [file for file in os.listdir(directory_path) if file.endswith('.xlsx')]\n",
        "\n",
        "# Create a list of full file paths\n",
        "full_file_paths = [os.path.join(directory_path, file) for file in os.listdir(directory_path) if file.endswith('.xlsx')]\n",
        "print(f\"Number of excel files in folder {len(full_file_paths)}\")\n",
        "\n",
        "reports_combined_file_path = drive_home+\"sdg_15_4_2_combined_report.xlsx\"\n"
      ],
      "metadata": {
        "id": "sTyhwne7rr9D",
        "outputId": "8d9909df-e010-4885-eef3-f9c8e9de808d",
        "colab": {
          "base_uri": "https://localhost:8080/",
          "height": 34
        }
      },
      "execution_count": 90,
      "outputs": [
        {
          "output_type": "display_data",
          "data": {
            "text/plain": [
              "<IPython.core.display.HTML object>"
            ],
            "text/html": [
              "\n",
              "            <style>\n",
              "                .geemap-dark {\n",
              "                    --jp-widgets-color: white;\n",
              "                    --jp-widgets-label-color: white;\n",
              "                    --jp-ui-font-color1: white;\n",
              "                    --jp-layout-color2: #454545;\n",
              "                    background-color: #383838;\n",
              "                }\n",
              "\n",
              "                .geemap-dark .jupyter-button {\n",
              "                    --jp-layout-color3: #383838;\n",
              "                }\n",
              "\n",
              "                .geemap-colab {\n",
              "                    background-color: var(--colab-primary-surface-color, white);\n",
              "                }\n",
              "\n",
              "                .geemap-colab .jupyter-button {\n",
              "                    --jp-layout-color3: var(--colab-primary-surface-color, white);\n",
              "                }\n",
              "            </style>\n",
              "            "
            ]
          },
          "metadata": {}
        },
        {
          "output_type": "stream",
          "name": "stdout",
          "text": [
            "Number of excel files in folder 76\n"
          ]
        }
      ]
    },
    {
      "cell_type": "code",
      "source": [
        "append_excel_files(file_paths=full_file_paths,num_sheets=3,output_file_path=reports_combined_file_path)\n",
        "\n",
        "print (f\"\\n Complete! Output file for SDG 15.4.2 Component A here: {reports_combined_file_path}\")"
      ],
      "metadata": {
        "id": "FkS1ErA9AYj6",
        "outputId": "a53231c1-79dd-433e-90f5-9995524afeb7",
        "colab": {
          "base_uri": "https://localhost:8080/",
          "height": 52
        }
      },
      "execution_count": 91,
      "outputs": [
        {
          "output_type": "display_data",
          "data": {
            "text/plain": [
              "<IPython.core.display.HTML object>"
            ],
            "text/html": [
              "\n",
              "            <style>\n",
              "                .geemap-dark {\n",
              "                    --jp-widgets-color: white;\n",
              "                    --jp-widgets-label-color: white;\n",
              "                    --jp-ui-font-color1: white;\n",
              "                    --jp-layout-color2: #454545;\n",
              "                    background-color: #383838;\n",
              "                }\n",
              "\n",
              "                .geemap-dark .jupyter-button {\n",
              "                    --jp-layout-color3: #383838;\n",
              "                }\n",
              "\n",
              "                .geemap-colab {\n",
              "                    background-color: var(--colab-primary-surface-color, white);\n",
              "                }\n",
              "\n",
              "                .geemap-colab .jupyter-button {\n",
              "                    --jp-layout-color3: var(--colab-primary-surface-color, white);\n",
              "                }\n",
              "            </style>\n",
              "            "
            ]
          },
          "metadata": {}
        },
        {
          "output_type": "stream",
          "name": "stdout",
          "text": [
            "Processing 76/76: /content/drive/MyDrive/sdg_15_4_2_A_reports/Guatemala.xlsx\n",
            " Complete! Output file for SDG 15.4.2 Component A here: /content/drive/MyDrive/sdg_15_4_2_combined_report.xlsx\n"
          ]
        }
      ]
    },
    {
      "cell_type": "code",
      "source": [],
      "metadata": {
        "id": "FaLvBrFT3ehI"
      },
      "execution_count": null,
      "outputs": []
    }
  ],
  "metadata": {
    "kernelspec": {
      "display_name": "(test) test-sepal_mgci",
      "language": "python",
      "name": "test-sepal_mgci"
    },
    "language_info": {
      "codemirror_mode": {
        "name": "ipython",
        "version": 3
      },
      "file_extension": ".py",
      "mimetype": "text/x-python",
      "name": "python",
      "nbconvert_exporter": "python",
      "pygments_lexer": "ipython3",
      "version": "3.10.12"
    },
    "colab": {
      "provenance": [],
      "include_colab_link": true
    },
    "widgets": {
      "application/vnd.jupyter.widget-state+json": {
        "de275c7ed49043f98e4bd9d6afa14a55": {
          "model_module": "jupyter-vuetify",
          "model_name": "VuetifyTemplateModel",
          "model_module_version": "^1.9.3",
          "state": {
            "_component_instances": [],
            "_dom_classes": [],
            "_jupyter_vue": "IPY_MODEL_0bd6b2cfd2134dedb8d92db4481948b3",
            "_model_module": "jupyter-vuetify",
            "_model_module_version": "^1.9.3",
            "_model_name": "VuetifyTemplateModel",
            "_view_count": null,
            "_view_module": "jupyter-vuetify",
            "_view_module_version": "^1.9.3",
            "_view_name": "VuetifyView",
            "components": null,
            "css": null,
            "data": null,
            "events": [],
            "layout": "IPY_MODEL_b042e5005df1406c8415501831e1ee07",
            "methods": null,
            "template": "<script>{methods: {jupyter_resize(){/* force the resize event. useful for drawer clicks*/\nwindow.dispatchEvent(new Event(\"resize\"));\n}}}</script>"
          }
        }
      }
    }
  },
  "nbformat": 4,
  "nbformat_minor": 0
}