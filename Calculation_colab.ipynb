{
  "cells": [
    {
      "cell_type": "markdown",
      "metadata": {
        "id": "view-in-github",
        "colab_type": "text"
      },
      "source": [
        "<a href=\"https://colab.research.google.com/github/andyarnell/sepal_mgci/blob/master/Calculation_colab.ipynb\" target=\"_parent\"><img src=\"https://colab.research.google.com/assets/colab-badge.svg\" alt=\"Open In Colab\"/></a>"
      ]
    },
    {
      "cell_type": "code",
      "execution_count": 1,
      "metadata": {
        "id": "W3uMTaQGu_f4"
      },
      "outputs": [],
      "source": [
        "%load_ext autoreload\n",
        "%autoreload 2"
      ]
    },
    {
      "cell_type": "markdown",
      "source": [
        "#### Clone SDG 15.4.2 github repo into colab instance"
      ],
      "metadata": {
        "id": "qGfLFLEkwS1n"
      }
    },
    {
      "cell_type": "code",
      "source": [
        "%cd \"/content\"\n",
        "!git clone https://github.com/andyarnell/sepal_mgci.git"
      ],
      "metadata": {
        "colab": {
          "base_uri": "https://localhost:8080/"
        },
        "id": "TNohZrOTvNqT",
        "outputId": "c2bd7957-37ae-43a6-a603-9c8a65b9e2c7"
      },
      "execution_count": 2,
      "outputs": [
        {
          "output_type": "stream",
          "name": "stdout",
          "text": [
            "/content\n",
            "fatal: destination path 'sepal_mgci' already exists and is not an empty directory.\n"
          ]
        }
      ]
    },
    {
      "cell_type": "code",
      "execution_count": 3,
      "metadata": {
        "colab": {
          "base_uri": "https://localhost:8080/",
          "height": 696,
          "referenced_widgets": [
            "576edb58ed3d40b2969d485fb1682b5d"
          ]
        },
        "id": "Kg3K1EPJu_f5",
        "outputId": "165ec063-2c0d-4d21-ac1a-d8cc1e2df0a1"
      },
      "outputs": [
        {
          "output_type": "stream",
          "name": "stdout",
          "text": [
            "geemap is already installed.\n",
            "unidecode has been installed.\n",
            "\u001b[2K     \u001b[90m━━━━━━━━━━━━━━━━━━━━━━━━━━━━━━━━━━━━━━━━\u001b[0m \u001b[32m893.2/893.2 kB\u001b[0m \u001b[31m7.0 MB/s\u001b[0m eta \u001b[36m0:00:00\u001b[0m\n",
            "\u001b[2K     \u001b[90m━━━━━━━━━━━━━━━━━━━━━━━━━━━━━━━━━━━━━━━━\u001b[0m \u001b[32m6.1/6.1 MB\u001b[0m \u001b[31m16.2 MB/s\u001b[0m eta \u001b[36m0:00:00\u001b[0m\n",
            "\u001b[2K     \u001b[90m━━━━━━━━━━━━━━━━━━━━━━━━━━━━━━━━━━━━━━━━\u001b[0m \u001b[32m53.7/53.7 kB\u001b[0m \u001b[31m4.2 MB/s\u001b[0m eta \u001b[36m0:00:00\u001b[0m\n",
            "\u001b[2K     \u001b[90m━━━━━━━━━━━━━━━━━━━━━━━━━━━━━━━━━━━━━━━━\u001b[0m \u001b[32m80.4/80.4 kB\u001b[0m \u001b[31m7.3 MB/s\u001b[0m eta \u001b[36m0:00:00\u001b[0m\n",
            "\u001b[2K     \u001b[90m━━━━━━━━━━━━━━━━━━━━━━━━━━━━━━━━━━━━━━━━\u001b[0m \u001b[32m17.1/17.1 MB\u001b[0m \u001b[31m17.2 MB/s\u001b[0m eta \u001b[36m0:00:00\u001b[0m\n",
            "\u001b[2K     \u001b[90m━━━━━━━━━━━━━━━━━━━━━━━━━━━━━━━━━━━━━━━━\u001b[0m \u001b[32m553.7/553.7 kB\u001b[0m \u001b[31m25.1 MB/s\u001b[0m eta \u001b[36m0:00:00\u001b[0m\n",
            "\u001b[2K     \u001b[90m━━━━━━━━━━━━━━━━━━━━━━━━━━━━━━━━━━━━━━━━\u001b[0m \u001b[32m5.6/5.6 MB\u001b[0m \u001b[31m37.4 MB/s\u001b[0m eta \u001b[36m0:00:00\u001b[0m\n",
            "\u001b[2K     \u001b[90m━━━━━━━━━━━━━━━━━━━━━━━━━━━━━━━━━━━━━━━━\u001b[0m \u001b[32m289.9/289.9 kB\u001b[0m \u001b[31m20.0 MB/s\u001b[0m eta \u001b[36m0:00:00\u001b[0m\n",
            "\u001b[2K     \u001b[90m━━━━━━━━━━━━━━━━━━━━━━━━━━━━━━━━━━━━━━━━\u001b[0m \u001b[32m2.8/2.8 MB\u001b[0m \u001b[31m29.4 MB/s\u001b[0m eta \u001b[36m0:00:00\u001b[0m\n",
            "\u001b[2K     \u001b[90m━━━━━━━━━━━━━━━━━━━━━━━━━━━━━━━━━━━━━━━━\u001b[0m \u001b[32m263.0/263.0 kB\u001b[0m \u001b[31m18.9 MB/s\u001b[0m eta \u001b[36m0:00:00\u001b[0m\n",
            "\u001b[2K     \u001b[90m━━━━━━━━━━━━━━━━━━━━━━━━━━━━━━━━━━━━━━━━\u001b[0m \u001b[32m75.6/75.6 kB\u001b[0m \u001b[31m8.1 MB/s\u001b[0m eta \u001b[36m0:00:00\u001b[0m\n",
            "\u001b[2K     \u001b[90m━━━━━━━━━━━━━━━━━━━━━━━━━━━━━━━━━━━━━━━━\u001b[0m \u001b[32m61.4/61.4 kB\u001b[0m \u001b[31m6.0 MB/s\u001b[0m eta \u001b[36m0:00:00\u001b[0m\n",
            "\u001b[2K     \u001b[90m━━━━━━━━━━━━━━━━━━━━━━━━━━━━━━━━━━━━━━━━\u001b[0m \u001b[32m2.7/2.7 MB\u001b[0m \u001b[31m48.8 MB/s\u001b[0m eta \u001b[36m0:00:00\u001b[0m\n",
            "\u001b[?25h  Preparing metadata (setup.py) ... \u001b[?25l\u001b[?25hdone\n",
            "\u001b[2K     \u001b[90m━━━━━━━━━━━━━━━━━━━━━━━━━━━━━━━━━━━━━━━━\u001b[0m \u001b[32m798.3/798.3 kB\u001b[0m \u001b[31m48.7 MB/s\u001b[0m eta \u001b[36m0:00:00\u001b[0m\n",
            "\u001b[2K     \u001b[90m━━━━━━━━━━━━━━━━━━━━━━━━━━━━━━━━━━━━━━━━\u001b[0m \u001b[32m257.4/257.4 kB\u001b[0m \u001b[31m22.6 MB/s\u001b[0m eta \u001b[36m0:00:00\u001b[0m\n",
            "\u001b[2K     \u001b[90m━━━━━━━━━━━━━━━━━━━━━━━━━━━━━━━━━━━━━━━━\u001b[0m \u001b[32m1.6/1.6 MB\u001b[0m \u001b[31m44.6 MB/s\u001b[0m eta \u001b[36m0:00:00\u001b[0m\n",
            "\u001b[2K     \u001b[90m━━━━━━━━━━━━━━━━━━━━━━━━━━━━━━━━━━━━━━━━\u001b[0m \u001b[32m20.6/20.6 MB\u001b[0m \u001b[31m20.1 MB/s\u001b[0m eta \u001b[36m0:00:00\u001b[0m\n",
            "\u001b[2K     \u001b[90m━━━━━━━━━━━━━━━━━━━━━━━━━━━━━━━━━━━━━━━━\u001b[0m \u001b[32m52.8/52.8 kB\u001b[0m \u001b[31m4.2 MB/s\u001b[0m eta \u001b[36m0:00:00\u001b[0m\n",
            "\u001b[2K     \u001b[90m━━━━━━━━━━━━━━━━━━━━━━━━━━━━━━━━━━━━━━━━\u001b[0m \u001b[32m77.8/77.8 kB\u001b[0m \u001b[31m4.4 MB/s\u001b[0m eta \u001b[36m0:00:00\u001b[0m\n",
            "\u001b[2K     \u001b[90m━━━━━━━━━━━━━━━━━━━━━━━━━━━━━━━━━━━━━━━━\u001b[0m \u001b[32m58.3/58.3 kB\u001b[0m \u001b[31m3.4 MB/s\u001b[0m eta \u001b[36m0:00:00\u001b[0m\n",
            "\u001b[2K     \u001b[90m━━━━━━━━━━━━━━━━━━━━━━━━━━━━━━━━━━━━━━━━\u001b[0m \u001b[32m48.0/48.0 kB\u001b[0m \u001b[31m4.6 MB/s\u001b[0m eta \u001b[36m0:00:00\u001b[0m\n",
            "\u001b[2K     \u001b[90m━━━━━━━━━━━━━━━━━━━━━━━━━━━━━━━━━━━━━━━━\u001b[0m \u001b[32m57.5/57.5 kB\u001b[0m \u001b[31m6.2 MB/s\u001b[0m eta \u001b[36m0:00:00\u001b[0m\n",
            "\u001b[2K     \u001b[90m━━━━━━━━━━━━━━━━━━━━━━━━━━━━━━━━━━━━━━━━\u001b[0m \u001b[32m49.0/49.0 kB\u001b[0m \u001b[31m5.4 MB/s\u001b[0m eta \u001b[36m0:00:00\u001b[0m\n",
            "\u001b[2K     \u001b[90m━━━━━━━━━━━━━━━━━━━━━━━━━━━━━━━━━━━━━━━━\u001b[0m \u001b[32m187.9/187.9 kB\u001b[0m \u001b[31m14.3 MB/s\u001b[0m eta \u001b[36m0:00:00\u001b[0m\n",
            "\u001b[2K     \u001b[90m━━━━━━━━━━━━━━━━━━━━━━━━━━━━━━━━━━━━━━━━\u001b[0m \u001b[32m181.6/181.6 kB\u001b[0m \u001b[31m14.9 MB/s\u001b[0m eta \u001b[36m0:00:00\u001b[0m\n",
            "\u001b[2K     \u001b[90m━━━━━━━━━━━━━━━━━━━━━━━━━━━━━━━━━━━━━━━━\u001b[0m \u001b[32m60.8/60.8 kB\u001b[0m \u001b[31m6.0 MB/s\u001b[0m eta \u001b[36m0:00:00\u001b[0m\n",
            "\u001b[?25h  Building wheel for docopt (setup.py) ... \u001b[?25l\u001b[?25hdone\n",
            "\u001b[31mERROR: pip's dependency resolver does not currently take into account all the packages that are installed. This behaviour is the source of the following dependency conflicts.\n",
            "google-colab 1.0.0 requires ipython==7.34.0, but you have ipython 8.12.3 which is incompatible.\u001b[0m\u001b[31m\n",
            "\u001b[0msepal_ui has been installed.\n",
            "google-api-python-client has been installed.\n",
            "google-auth-httplib2 has been installed.\n",
            "google-auth-oauthlib has been installed.\n",
            "/content/sepal_mgci\n"
          ]
        },
        {
          "output_type": "display_data",
          "data": {
            "text/plain": [
              "<IPython.core.display.HTML object>"
            ],
            "text/html": [
              "<style>/*******************************************************************************\n",
              " * Customization of the provided css from the different libs used by sepal_ui\n",
              " */\n",
              "\n",
              "/* replace the map panel elements on top */\n",
              ".leaflet-pane,\n",
              ".leaflet-top,\n",
              ".leaflet-bottom {\n",
              "  z-index: 2 !important;\n",
              "}\n",
              "\n",
              "/* remove the shadow from the widgets on the maps */\n",
              ".leaflet-widgetcontrol {\n",
              "  box-shadow: none;\n",
              "}\n",
              "\n",
              "/* remove extra padding on top of the content */\n",
              "main.v-content {\n",
              "  padding-top: 0px !important;\n",
              "}\n",
              "\n",
              "/* remove all the backgrounds from the controls and widget to be colored naturelly by the map */\n",
              ".leaflet-control-container .vuetify-styles .v-application {\n",
              "  background: rgb(0, 0, 0, 0);\n",
              "}\n",
              ".v-alert__wrapper .progress {\n",
              "  background-color: transparent;\n",
              "}\n",
              "\n",
              "/* set the bar on top of the map (800) when set to fullscreen */\n",
              "header.v-app-bar {\n",
              "  z-index: 800 !important;\n",
              "}\n",
              "\n",
              "/* set the menu_content on top of the map when it's set to fullscreen */\n",
              ".v-menu__content {\n",
              "  max-width: 100% !important;\n",
              "}\n",
              "\n",
              "/* make sure navigation drawers are always visible when they exist */\n",
              "nav.v-navigation-drawer {\n",
              "  z-index: 900 !important;\n",
              "}\n",
              "\n",
              "/* create extra position for the leaflet map controls */\n",
              ".leaflet-center {\n",
              "  left: 50%;\n",
              "  transform: translate(-50%, 0%);\n",
              "}\n",
              "\n",
              ".leaflet-middle {\n",
              "  top: 50%;\n",
              "  position: absolute;\n",
              "  z-index: 1000;\n",
              "  pointer-events: none;\n",
              "  transform: translate(0%, -50%);\n",
              "}\n",
              "\n",
              ".leaflet-center.leaflet-middle {\n",
              "  transform: translate(-50%, -50%);\n",
              "}\n",
              "\n",
              "/* create extra classes to customize the layer_control table */\n",
              ".v-no-hover:hover {\n",
              "  background-color: transparent !important;\n",
              "}\n",
              "\n",
              ".v-no-border tbody tr td,\n",
              ".v-no-border tbody tr th {\n",
              "  border: none !important;\n",
              "}\n",
              "\n",
              "/* extra css rules to make the messages disappear beneath the SimpleSlider */\n",
              ".v-no-messages .v-messages {\n",
              "  display: none;\n",
              "}\n",
              "\n",
              ".v-no-messages .v-input__slot {\n",
              "  margin-bottom: 0;\n",
              "}\n",
              "\n",
              "/* specific css for the btn placed on maps */\n",
              ".v-btn.v-size--default.v-map-btn:not(.v-btn--round) {\n",
              "  padding: 0px;\n",
              "  min-width: 0px;\n",
              "  width: 30px;\n",
              "  height: 30px;\n",
              "}\n",
              "\n",
              "/* add specific css for the zoom btn of the map */\n",
              ".v-btn.v-zoom-plus {\n",
              "  border-bottom-left-radius: 0;\n",
              "  border-bottom-right-radius: 0;\n",
              "}\n",
              "\n",
              ".v-btn.v-zoom-minus {\n",
              "  margin-top: -1px;\n",
              "  border-top-left-radius: 0;\n",
              "  border-top-right-radius: 0;\n",
              "}\n",
              "\n",
              "/* css rules for fullscreen menus */\n",
              ".v-card.v-menu-fullscreen {\n",
              "  width: calc(100vw - 80px);\n",
              "  height: calc(100vh - 20px);\n",
              "}\n",
              "\n",
              "/* hide the disclaimer message placed on top of the ui notebook\n",
              " * the message will be displayed until the css is loaded */\n",
              "#loading-app {\n",
              "  display: none !important;\n",
              "}\n",
              "\n",
              "/* Related with https://github.com/12rambau/sepal_ui/issues/893 */\n",
              "#rendered_cells {\n",
              "  contain: revert !important;\n",
              "  background-color: revert !important;\n",
              "}\n",
              "</style>"
            ]
          },
          "metadata": {}
        },
        {
          "output_type": "display_data",
          "data": {
            "text/plain": [
              "<IPython.core.display.HTML object>"
            ],
            "text/html": [
              "<link rel=\"stylesheet\" href=\"https://cdnjs.cloudflare.com/ajax/libs/font-awesome/6.2.1/css/all.min.css\"/>"
            ]
          },
          "metadata": {}
        },
        {
          "output_type": "display_data",
          "data": {
            "text/plain": [
              "<IPython.core.display.Javascript object>"
            ],
            "application/javascript": [
              "/*******************************************************************************\n",
              " * remove any links from fontawesome 5 created by jupyter in favor of\n",
              " * fontawesome 6. to be removed when Jupyter updates it\n",
              " */\n",
              "\n",
              "function remove_fa5() {\n",
              "  let links = document.querySelectorAll(\n",
              "    \"link[href^='https://cdn.jsdelivr.net/npm/@fortawesome/fontawesome-free@^5']\"\n",
              "  );\n",
              "\n",
              "  links.forEach((link) => link.remove());\n",
              "}\n",
              "\n",
              "if (document.readyState != \"loading\") remove_fa5();\n",
              "else document.addEventListener(\"DOMContentLoaded\", remove_fa5);\n"
            ]
          },
          "metadata": {}
        },
        {
          "output_type": "display_data",
          "data": {
            "text/plain": [
              "ResizeTrigger()"
            ],
            "application/vnd.jupyter.widget-view+json": {
              "version_major": 2,
              "version_minor": 0,
              "model_id": "576edb58ed3d40b2969d485fb1682b5d"
            }
          },
          "metadata": {
            "application/vnd.jupyter.widget-view+json": {
              "colab": {
                "custom_widget_manager": {
                  "url": "https://ssl.gstatic.com/colaboratory-static/widgets/colab-cdn-widget-manager/2b70e893a8ba7c0f/manager.min.js"
                }
              }
            }
          }
        },
        {
          "output_type": "stream",
          "name": "stdout",
          "text": [
            "Imports complete\n"
          ]
        }
      ],
      "source": [
        "# Function to install a package if it's not already installed\n",
        "def install_if_not_exists(package_name):\n",
        "    try:\n",
        "        __import__(package_name)\n",
        "        print(f\"{package_name} is already installed.\")\n",
        "    except ImportError:\n",
        "        !pip install -q {package_name}\n",
        "        print(f\"{package_name} has been installed.\")\n",
        "\n",
        "# List of packages to install if not already installed\n",
        "packages_to_install = ['geemap', 'unidecode', 'sepal_ui', 'google-api-python-client',\n",
        "                      'google-auth-httplib2', 'google-auth-oauthlib']\n",
        "\n",
        "# Install necessary packages\n",
        "for package in packages_to_install:\n",
        "    install_if_not_exists(package)\n",
        "\n"
      ]
    },
    {
      "cell_type": "code",
      "source": [
        "import ee\n",
        "import os\n",
        "from datetime import datetime\n",
        "from pathlib import Path\n",
        "\n",
        "import pandas as pd\n",
        "import geemap\n",
        "import re\n",
        "import pygaul\n",
        "from unidecode import unidecode\n",
        "from google.colab import auth\n",
        "from googleapiclient.discovery import build\n",
        "from openpyxl.utils import get_column_letter\n",
        "from openpyxl.styles import Alignment\n",
        "\n",
        "\n",
        "# Change directory to sepal_mgci\n",
        "%cd \"/content/sepal_mgci\"\n",
        "\n",
        "# Import specific parameters needed\n",
        "from component.parameter.module_parameter import DEM_DEFAULT, LC_MAP_MATRIX\n",
        "\n",
        "# Authenticate and initialize Google Earth Engine\n",
        "gee_project_name = \"ee-andyarnellgee\"  # Need a valid Google project name\n",
        "ee.Authenticate()\n",
        "ee.Initialize(project=gee_project_name)\n",
        "\n",
        "# Import scripts and modules\n",
        "from component.scripts.gee import reduce_regions\n",
        "from component.scripts.scripts import get_a_years, map_matrix_to_dict, parse_result\n",
        "from component.scripts.scripts import read_from_csv\n",
        "from component.scripts import sub_a, sub_b, mountain_area as mntn\n",
        "\n",
        "print(\"Imports complete\")\n"
      ],
      "metadata": {
        "id": "xopY6C80GXl6",
        "outputId": "b044b42c-b323-45ff-a8eb-80f0ecf3d17d",
        "colab": {
          "base_uri": "https://localhost:8080/",
          "height": 52,
          "referenced_widgets": [
            "f25a2090784c462f9a98ffbf2581bd23"
          ]
        }
      },
      "execution_count": 5,
      "outputs": [
        {
          "output_type": "display_data",
          "data": {
            "text/plain": [
              "<IPython.core.display.HTML object>"
            ],
            "text/html": [
              "\n",
              "            <style>\n",
              "                .geemap-dark {\n",
              "                    --jp-widgets-color: white;\n",
              "                    --jp-widgets-label-color: white;\n",
              "                    --jp-ui-font-color1: white;\n",
              "                    --jp-layout-color2: #454545;\n",
              "                    background-color: #383838;\n",
              "                }\n",
              "\n",
              "                .geemap-dark .jupyter-button {\n",
              "                    --jp-layout-color3: #383838;\n",
              "                }\n",
              "\n",
              "                .geemap-colab {\n",
              "                    background-color: var(--colab-primary-surface-color, white);\n",
              "                }\n",
              "\n",
              "                .geemap-colab .jupyter-button {\n",
              "                    --jp-layout-color3: var(--colab-primary-surface-color, white);\n",
              "                }\n",
              "            </style>\n",
              "            "
            ]
          },
          "metadata": {}
        },
        {
          "output_type": "stream",
          "name": "stdout",
          "text": [
            "/content/sepal_mgci\n"
          ]
        },
        {
          "output_type": "display_data",
          "data": {
            "text/plain": [
              "ResizeTrigger()"
            ],
            "application/vnd.jupyter.widget-view+json": {
              "version_major": 2,
              "version_minor": 0,
              "model_id": "f25a2090784c462f9a98ffbf2581bd23"
            }
          },
          "metadata": {
            "application/vnd.jupyter.widget-view+json": {
              "colab": {
                "custom_widget_manager": {
                  "url": "https://ssl.gstatic.com/colaboratory-static/widgets/colab-cdn-widget-manager/2b70e893a8ba7c0f/manager.min.js"
                }
              }
            }
          }
        },
        {
          "output_type": "stream",
          "name": "stdout",
          "text": [
            "Imports complete\n"
          ]
        }
      ]
    },
    {
      "cell_type": "markdown",
      "source": [
        "#### Access to Google Drive for script to retrieve output csvs."
      ],
      "metadata": {
        "id": "aUVGL6zwLpX5"
      }
    },
    {
      "cell_type": "code",
      "source": [
        "from google.colab import drive\n",
        "drive.mount('/content/drive')\n"
      ],
      "metadata": {
        "id": "NorUzAJ8Kj0Z",
        "outputId": "be7651e7-f4cf-45be-8058-64085a2c04d0",
        "colab": {
          "base_uri": "https://localhost:8080/",
          "height": 54
        }
      },
      "execution_count": 6,
      "outputs": [
        {
          "output_type": "display_data",
          "data": {
            "text/plain": [
              "<IPython.core.display.HTML object>"
            ],
            "text/html": [
              "\n",
              "            <style>\n",
              "                .geemap-dark {\n",
              "                    --jp-widgets-color: white;\n",
              "                    --jp-widgets-label-color: white;\n",
              "                    --jp-ui-font-color1: white;\n",
              "                    --jp-layout-color2: #454545;\n",
              "                    background-color: #383838;\n",
              "                }\n",
              "\n",
              "                .geemap-dark .jupyter-button {\n",
              "                    --jp-layout-color3: #383838;\n",
              "                }\n",
              "\n",
              "                .geemap-colab {\n",
              "                    background-color: var(--colab-primary-surface-color, white);\n",
              "                }\n",
              "\n",
              "                .geemap-colab .jupyter-button {\n",
              "                    --jp-layout-color3: var(--colab-primary-surface-color, white);\n",
              "                }\n",
              "            </style>\n",
              "            "
            ]
          },
          "metadata": {}
        },
        {
          "output_type": "stream",
          "name": "stdout",
          "text": [
            "Drive already mounted at /content/drive; to attempt to forcibly remount, call drive.mount(\"/content/drive\", force_remount=True).\n"
          ]
        }
      ]
    },
    {
      "cell_type": "code",
      "execution_count": 7,
      "metadata": {
        "id": "IA0zW-cIu_f8",
        "colab": {
          "base_uri": "https://localhost:8080/",
          "height": 17
        },
        "outputId": "fc374808-36bb-4fe7-9d4f-427a5b680b8e"
      },
      "outputs": [
        {
          "output_type": "display_data",
          "data": {
            "text/plain": [
              "<IPython.core.display.HTML object>"
            ],
            "text/html": [
              "\n",
              "            <style>\n",
              "                .geemap-dark {\n",
              "                    --jp-widgets-color: white;\n",
              "                    --jp-widgets-label-color: white;\n",
              "                    --jp-ui-font-color1: white;\n",
              "                    --jp-layout-color2: #454545;\n",
              "                    background-color: #383838;\n",
              "                }\n",
              "\n",
              "                .geemap-dark .jupyter-button {\n",
              "                    --jp-layout-color3: #383838;\n",
              "                }\n",
              "\n",
              "                .geemap-colab {\n",
              "                    background-color: var(--colab-primary-surface-color, white);\n",
              "                }\n",
              "\n",
              "                .geemap-colab .jupyter-button {\n",
              "                    --jp-layout-color3: var(--colab-primary-surface-color, white);\n",
              "                }\n",
              "            </style>\n",
              "            "
            ]
          },
          "metadata": {}
        }
      ],
      "source": [
        "def folder_exists(folder_name, parent_folder_id=None):\n",
        "    \"\"\"\n",
        "    Check if a folder exists in Google Drive.\n",
        "\n",
        "    Args:\n",
        "    - folder_name (str): Name of the folder to check.\n",
        "    - parent_folder_id (str): ID of the parent folder where to search for the folder.\n",
        "                              Default is None, meaning the search will be performed in the root.\n",
        "\n",
        "    Returns:\n",
        "    - bool: True if the folder exists, False otherwise.\n",
        "    \"\"\"\n",
        "    # Authenticate user\n",
        "    auth.authenticate_user()\n",
        "\n",
        "    # Build the Drive v3 service\n",
        "    drive_service = build('drive', 'v3')\n",
        "\n",
        "    # Prepare query to check if folder exists\n",
        "    query = f\"name='{folder_name}' and mimeType='application/vnd.google-apps.folder' and trashed=false\"\n",
        "    if parent_folder_id:\n",
        "        query += f\" and '{parent_folder_id}' in parents\"\n",
        "\n",
        "    try:\n",
        "        # Execute the search query\n",
        "        folders = drive_service.files().list(q=query, fields='files(id)', includeItemsFromAllDrives=True, supportsAllDrives=True).execute().get('files', [])\n",
        "        return bool(folders)\n",
        "    except Exception as e:\n",
        "        print(f\"An error occurred: {e}\")\n",
        "        return False\n",
        "\n",
        "\n",
        "def create_folder(folder_name, parent_folder_id=None):\n",
        "    \"\"\"\n",
        "    Create a folder in Google Drive.\n",
        "\n",
        "    Args:\n",
        "    - folder_name (str): Name of the folder to be created.\n",
        "    - parent_folder_id (str): ID of the parent folder where the new folder will be created.\n",
        "                              Default is None, meaning the folder will be created in the root.\n",
        "\n",
        "    Returns:\n",
        "    - str: ID of the newly created folder.\n",
        "    \"\"\"\n",
        "    # Authenticate user\n",
        "    auth.authenticate_user()\n",
        "\n",
        "    # Build the Drive v3 service\n",
        "    drive_service = build('drive', 'v3')\n",
        "\n",
        "    # Prepare folder metadata\n",
        "    folder_metadata = {\n",
        "        'name': folder_name,\n",
        "        'mimeType': 'application/vnd.google-apps.folder'\n",
        "    }\n",
        "    if parent_folder_id:\n",
        "        folder_metadata['parents'] = [parent_folder_id]\n",
        "\n",
        "    # Create the folder\n",
        "    folder = drive_service.files().create(body=folder_metadata, fields='id').execute()\n",
        "\n",
        "    # Return the ID of the newly created folder\n",
        "    return folder.get('id')\n",
        "\n",
        "def create_folder_if_not_exists(folder_name, parent_folder_id=None):\n",
        "    \"\"\"\n",
        "    Create a folder in Google Drive if it doesn't already exist.\n",
        "\n",
        "    Args:\n",
        "    - folder_name (str): Name of the folder to be created.\n",
        "    - parent_folder_id (str): ID of the parent folder where the new folder will be created.\n",
        "                              Default is None, meaning the folder will be created in the root.\n",
        "\n",
        "    Returns:\n",
        "    - str: ID of the newly created folder or the existing folder if it already exists.\n",
        "    \"\"\"\n",
        "    if folder_exists(folder_name, parent_folder_id):\n",
        "        print(f\"Folder '{folder_name}' already exists.\")\n",
        "        return None\n",
        "    else:\n",
        "        return create_folder(folder_name, parent_folder_id)\n",
        "\n",
        "\n",
        "def sanitize_description(description):\n",
        "    allowed_characters_pattern = r\"[^a-zA-Z0-9.,:;_ \\-]\"  # Define a regex pattern for characters not in the allowed set\n",
        "    sanitized_description = re.sub(allowed_characters_pattern, \"\", description)  # Remove characters not in the allowed set\n",
        "    return sanitized_description\n",
        "\n"
      ]
    },
    {
      "cell_type": "markdown",
      "source": [
        "####Parameters:\n",
        "Set output folder paths etc"
      ],
      "metadata": {
        "id": "ZXLIOVmgbFge"
      }
    },
    {
      "cell_type": "code",
      "source": [
        "drive_home =\"/content/drive/MyDrive/\"\n",
        "stats_csv_folder = \"sdg_15_4_2_A_csvs\"\n",
        "\n",
        "report_folder = \"sdg_15_4_2_A_reports\"\n",
        "report_file = \"sdg_report_name.xlsx\"\n",
        "\n",
        "error_log_file_path = drive_home + report_folder + \"/\"+\"error_log\" +\".csv\"\n",
        "\n",
        "admin_asset_property_name = \"ADM0_NAME\"\n",
        "\n",
        "# # Optional: If you want to place the folder inside another folder, provide the parent folder ID.\n",
        "# # If not, leave parent_folder_id as None.\n",
        "# parent_folder_id = None\n",
        "\n",
        "# Create the folder in Google Drive if it doesn't exist\n",
        "create_folder_if_not_exists(report_folder)#, parent_folder_id)"
      ],
      "metadata": {
        "colab": {
          "base_uri": "https://localhost:8080/",
          "height": 34
        },
        "id": "aRDfx8rCbDM-",
        "outputId": "7fcb55b1-d54b-4ce4-87c3-1a2a394f32cb"
      },
      "execution_count": 8,
      "outputs": [
        {
          "output_type": "display_data",
          "data": {
            "text/plain": [
              "<IPython.core.display.HTML object>"
            ],
            "text/html": [
              "\n",
              "            <style>\n",
              "                .geemap-dark {\n",
              "                    --jp-widgets-color: white;\n",
              "                    --jp-widgets-label-color: white;\n",
              "                    --jp-ui-font-color1: white;\n",
              "                    --jp-layout-color2: #454545;\n",
              "                    background-color: #383838;\n",
              "                }\n",
              "\n",
              "                .geemap-dark .jupyter-button {\n",
              "                    --jp-layout-color3: #383838;\n",
              "                }\n",
              "\n",
              "                .geemap-colab {\n",
              "                    background-color: var(--colab-primary-surface-color, white);\n",
              "                }\n",
              "\n",
              "                .geemap-colab .jupyter-button {\n",
              "                    --jp-layout-color3: var(--colab-primary-surface-color, white);\n",
              "                }\n",
              "            </style>\n",
              "            "
            ]
          },
          "metadata": {}
        },
        {
          "output_type": "stream",
          "name": "stdout",
          "text": [
            "Folder 'sdg_15_4_2_A_reports' already exists.\n"
          ]
        }
      ]
    },
    {
      "cell_type": "code",
      "source": [
        "# admin_boundaries = ee.FeatureCollection(\"FAO/GAUL/2015/level0\")\n",
        "\n",
        "admin_boundaries = ee.FeatureCollection(\"FAO/GAUL_SIMPLIFIED_500m/2015/level0\")\n",
        "\n",
        "admin_boundaries = admin_boundaries.filter(ee.Filter.gt(\"Shape_Area\",10)).limit(10)\n",
        "\n",
        "list_of_countries = admin_boundaries.aggregate_array(admin_asset_property_name).getInfo()"
      ],
      "metadata": {
        "colab": {
          "base_uri": "https://localhost:8080/",
          "height": 17
        },
        "id": "BiuBEJwPue2v",
        "outputId": "b6ad2953-2d51-4edd-e72d-d6e6737fd172"
      },
      "execution_count": 9,
      "outputs": [
        {
          "output_type": "display_data",
          "data": {
            "text/plain": [
              "<IPython.core.display.HTML object>"
            ],
            "text/html": [
              "\n",
              "            <style>\n",
              "                .geemap-dark {\n",
              "                    --jp-widgets-color: white;\n",
              "                    --jp-widgets-label-color: white;\n",
              "                    --jp-ui-font-color1: white;\n",
              "                    --jp-layout-color2: #454545;\n",
              "                    background-color: #383838;\n",
              "                }\n",
              "\n",
              "                .geemap-dark .jupyter-button {\n",
              "                    --jp-layout-color3: #383838;\n",
              "                }\n",
              "\n",
              "                .geemap-colab {\n",
              "                    background-color: var(--colab-primary-surface-color, white);\n",
              "                }\n",
              "\n",
              "                .geemap-colab .jupyter-button {\n",
              "                    --jp-layout-color3: var(--colab-primary-surface-color, white);\n",
              "                }\n",
              "            </style>\n",
              "            "
            ]
          },
          "metadata": {}
        }
      ]
    },
    {
      "cell_type": "markdown",
      "metadata": {
        "id": "c_8UzlUnu_f6"
      },
      "source": [
        "## SUB INDICATOR A"
      ]
    },
    {
      "cell_type": "code",
      "execution_count": 11,
      "metadata": {
        "id": "PRSEqq5bu_f7",
        "colab": {
          "base_uri": "https://localhost:8080/",
          "height": 17
        },
        "outputId": "aa5f5ae3-be9a-46c9-af44-2acd32de3093"
      },
      "outputs": [
        {
          "output_type": "display_data",
          "data": {
            "text/plain": [
              "<IPython.core.display.HTML object>"
            ],
            "text/html": [
              "\n",
              "            <style>\n",
              "                .geemap-dark {\n",
              "                    --jp-widgets-color: white;\n",
              "                    --jp-widgets-label-color: white;\n",
              "                    --jp-ui-font-color1: white;\n",
              "                    --jp-layout-color2: #454545;\n",
              "                    background-color: #383838;\n",
              "                }\n",
              "\n",
              "                .geemap-dark .jupyter-button {\n",
              "                    --jp-layout-color3: #383838;\n",
              "                }\n",
              "\n",
              "                .geemap-colab {\n",
              "                    background-color: var(--colab-primary-surface-color, white);\n",
              "                }\n",
              "\n",
              "                .geemap-colab .jupyter-button {\n",
              "                    --jp-layout-color3: var(--colab-primary-surface-color, white);\n",
              "                }\n",
              "            </style>\n",
              "            "
            ]
          },
          "metadata": {}
        }
      ],
      "source": [
        "# Read the default land cover remapping table and convert it to a dictionary\n",
        "# default_map_matrix = map_matrix_to_dict(param.LC_MAP_MATRIX)\n",
        "default_map_matrix = map_matrix_to_dict(LC_MAP_MATRIX)"
      ]
    },
    {
      "cell_type": "code",
      "execution_count": 12,
      "metadata": {
        "id": "PwqJFWR4u_f7",
        "colab": {
          "base_uri": "https://localhost:8080/",
          "height": 17
        },
        "outputId": "a6712257-692b-43cb-9b29-4b81ff7d627d"
      },
      "outputs": [
        {
          "output_type": "display_data",
          "data": {
            "text/plain": [
              "<IPython.core.display.HTML object>"
            ],
            "text/html": [
              "\n",
              "            <style>\n",
              "                .geemap-dark {\n",
              "                    --jp-widgets-color: white;\n",
              "                    --jp-widgets-label-color: white;\n",
              "                    --jp-ui-font-color1: white;\n",
              "                    --jp-layout-color2: #454545;\n",
              "                    background-color: #383838;\n",
              "                }\n",
              "\n",
              "                .geemap-dark .jupyter-button {\n",
              "                    --jp-layout-color3: #383838;\n",
              "                }\n",
              "\n",
              "                .geemap-colab {\n",
              "                    background-color: var(--colab-primary-surface-color, white);\n",
              "                }\n",
              "\n",
              "                .geemap-colab .jupyter-button {\n",
              "                    --jp-layout-color3: var(--colab-primary-surface-color, white);\n",
              "                }\n",
              "            </style>\n",
              "            "
            ]
          },
          "metadata": {}
        }
      ],
      "source": [
        "# For SUB_A indicator, we need to set the following structure\n",
        "a_years = {\n",
        "    1: {\"asset\": \"users/amitghosh/sdg_module/esa/cci_landcover/2000\", \"year\": 2000},\n",
        "    2: {\"year\": 2003, \"asset\": \"users/amitghosh/sdg_module/esa/cci_landcover/2003\"},\n",
        "    3: {\"year\": 2007, \"asset\": \"users/amitghosh/sdg_module/esa/cci_landcover/2007\"},\n",
        "    4: {\"year\": 2010, \"asset\": \"users/amitghosh/sdg_module/esa/cci_landcover/2010\"},\n",
        "}\n",
        "\n",
        "# Just extract the years from the a_years dictionary\n",
        "single_years = [y[\"year\"] for  y in a_years.values()]"
      ]
    },
    {
      "cell_type": "code",
      "execution_count": null,
      "metadata": {
        "id": "VftKLuY4u_f7"
      },
      "outputs": [],
      "source": [
        "counter=0\n",
        "\n",
        "for aoi_name in list_of_countries:\n",
        "\n",
        "    aoi = admin_boundaries.filter(ee.Filter.eq(admin_asset_property_name,aoi_name))#.first()\n",
        "\n",
        "    process = ee.FeatureCollection([\n",
        "        ee.Feature(\n",
        "            None,\n",
        "            reduce_regions(\n",
        "                aoi,\n",
        "                remap_matrix=default_map_matrix,\n",
        "                rsa=False,\n",
        "                # dem=param.DEM_DEFAULT,\n",
        "                dem=DEM_DEFAULT,\n",
        "                lc_years= year,\n",
        "                transition_matrix=False\n",
        "            )\n",
        "        ).set(\"process_id\", year[0][\"year\"])\n",
        "        for year in get_a_years(a_years)\n",
        "    ])\n",
        "\n",
        "    #make name acceptable for running tasks (i.e., removes special characters)\n",
        "    task_name = str(sanitize_description(unidecode(aoi_name)))\n",
        "\n",
        "\n",
        "    task = ee.batch.Export.table.toDrive(\n",
        "        **{  #asterisks unpack dictionary into keyword arguments format\n",
        "            \"collection\": process,\n",
        "            \"description\": task_name,\n",
        "            \"fileFormat\": \"CSV\",\n",
        "            \"folder\":stats_csv_folder,\n",
        "            \"selectors\": [\n",
        "                \"process_id\",\n",
        "                \"sub_a\",\n",
        "            ],\n",
        "        }\n",
        "    )\n",
        "\n",
        "    counter+=1\n",
        "\n",
        "    print (\"process #\",counter)\n",
        "\n",
        "    print (aoi_name)\n",
        "\n",
        "    task.start()\n",
        ""
      ]
    },
    {
      "cell_type": "markdown",
      "metadata": {
        "id": "vM0SIvJtu_f8"
      },
      "source": [
        "# Read, process, and create report tables"
      ]
    },
    {
      "cell_type": "markdown",
      "source": [],
      "metadata": {
        "id": "hc24T8boYnbX"
      }
    },
    {
      "cell_type": "markdown",
      "source": [
        "#####Manually check your earth engine task status, once the tasks are complete, run the next cell.\n",
        "\n",
        "The cell will produce formatted excel files for each country.\n",
        "Missing files or other errors will be listed in the Error_log.csv"
      ],
      "metadata": {
        "id": "3x7jwkZJWwE-"
      }
    },
    {
      "cell_type": "code",
      "execution_count": 13,
      "metadata": {
        "id": "qkpDfHqQu_f9",
        "colab": {
          "base_uri": "https://localhost:8080/",
          "height": 1000
        },
        "outputId": "3c2c7a04-c964-4f03-f8b5-d95f2a1d0740"
      },
      "outputs": [
        {
          "output_type": "display_data",
          "data": {
            "text/plain": [
              "<IPython.core.display.HTML object>"
            ],
            "text/html": [
              "\n",
              "            <style>\n",
              "                .geemap-dark {\n",
              "                    --jp-widgets-color: white;\n",
              "                    --jp-widgets-label-color: white;\n",
              "                    --jp-ui-font-color1: white;\n",
              "                    --jp-layout-color2: #454545;\n",
              "                    background-color: #383838;\n",
              "                }\n",
              "\n",
              "                .geemap-dark .jupyter-button {\n",
              "                    --jp-layout-color3: #383838;\n",
              "                }\n",
              "\n",
              "                .geemap-colab {\n",
              "                    background-color: var(--colab-primary-surface-color, white);\n",
              "                }\n",
              "\n",
              "                .geemap-colab .jupyter-button {\n",
              "                    --jp-layout-color3: var(--colab-primary-surface-color, white);\n",
              "                }\n",
              "            </style>\n",
              "            "
            ]
          },
          "metadata": {}
        },
        {
          "output_type": "stream",
          "name": "stdout",
          "text": [
            "process # 1\n",
            "/content/drive/MyDrive/sdg_15_4_2_A_csvs/South Sudan.csv\n",
            "Reporting 2000 for sub_a\n",
            "Reporting 2000 for mtn\n",
            "Reporting 2003 for sub_a\n",
            "Reporting 2003 for mtn\n",
            "Reporting 2007 for sub_a\n",
            "Reporting 2007 for mtn\n",
            "Reporting 2010 for sub_a\n",
            "Reporting 2010 for mtn\n",
            "report_file_path:  /content/drive/MyDrive/sdg_15_4_2_A_reports/South Sudan.xlsx\n",
            "process # 2\n",
            "/content/drive/MyDrive/sdg_15_4_2_A_csvs/Sudan.csv\n",
            "Reporting 2000 for sub_a\n",
            "Reporting 2000 for mtn\n",
            "Reporting 2003 for sub_a\n",
            "Reporting 2003 for mtn\n",
            "Reporting 2007 for sub_a\n",
            "Reporting 2007 for mtn\n",
            "Reporting 2010 for sub_a\n",
            "Reporting 2010 for mtn\n",
            "report_file_path:  /content/drive/MyDrive/sdg_15_4_2_A_reports/Sudan.xlsx\n",
            "process # 3\n",
            "/content/drive/MyDrive/sdg_15_4_2_A_csvs/Mozambique.csv\n",
            "Reporting 2000 for sub_a\n",
            "Reporting 2000 for mtn\n",
            "Reporting 2003 for sub_a\n",
            "Reporting 2003 for mtn\n",
            "Reporting 2007 for sub_a\n",
            "Reporting 2007 for mtn\n",
            "Reporting 2010 for sub_a\n",
            "Reporting 2010 for mtn\n",
            "report_file_path:  /content/drive/MyDrive/sdg_15_4_2_A_reports/Mozambique.xlsx\n",
            "process # 4\n",
            "/content/drive/MyDrive/sdg_15_4_2_A_csvs/Somalia.csv\n",
            "Reporting 2000 for sub_a\n",
            "Reporting 2000 for mtn\n",
            "Reporting 2003 for sub_a\n",
            "Reporting 2003 for mtn\n",
            "Reporting 2007 for sub_a\n",
            "Reporting 2007 for mtn\n",
            "Reporting 2010 for sub_a\n",
            "Reporting 2010 for mtn\n",
            "report_file_path:  /content/drive/MyDrive/sdg_15_4_2_A_reports/Somalia.xlsx\n",
            "process # 5\n",
            "/content/drive/MyDrive/sdg_15_4_2_A_csvs/Zambia.csv\n",
            "Reporting 2000 for sub_a\n",
            "Reporting 2000 for mtn\n",
            "Reporting 2003 for sub_a\n",
            "Reporting 2003 for mtn\n",
            "Reporting 2007 for sub_a\n",
            "Reporting 2007 for mtn\n",
            "Reporting 2010 for sub_a\n",
            "Reporting 2010 for mtn\n",
            "report_file_path:  /content/drive/MyDrive/sdg_15_4_2_A_reports/Zambia.xlsx\n",
            "process # 6\n",
            "/content/drive/MyDrive/sdg_15_4_2_A_csvs/Kenya.csv\n",
            "Reporting 2000 for sub_a\n",
            "Reporting 2000 for mtn\n",
            "Reporting 2003 for sub_a\n",
            "Reporting 2003 for mtn\n",
            "Reporting 2007 for sub_a\n",
            "Reporting 2007 for mtn\n",
            "Reporting 2010 for sub_a\n",
            "Reporting 2010 for mtn\n",
            "report_file_path:  /content/drive/MyDrive/sdg_15_4_2_A_reports/Kenya.xlsx\n",
            "process # 7\n",
            "/content/drive/MyDrive/sdg_15_4_2_A_csvs/Madagascar.csv\n",
            "Reporting 2000 for sub_a\n",
            "Reporting 2000 for mtn\n",
            "Reporting 2003 for sub_a\n",
            "Reporting 2003 for mtn\n",
            "Reporting 2007 for sub_a\n",
            "Reporting 2007 for mtn\n",
            "Reporting 2010 for sub_a\n",
            "Reporting 2010 for mtn\n",
            "report_file_path:  /content/drive/MyDrive/sdg_15_4_2_A_reports/Madagascar.xlsx\n",
            "process # 8\n",
            "/content/drive/MyDrive/sdg_15_4_2_A_csvs/United Republic of Tanzania.csv\n",
            "Reporting 2000 for sub_a\n",
            "Reporting 2000 for mtn\n",
            "Reporting 2003 for sub_a\n",
            "Reporting 2003 for mtn\n",
            "Reporting 2007 for sub_a\n",
            "Reporting 2007 for mtn\n",
            "Reporting 2010 for sub_a\n",
            "Reporting 2010 for mtn\n",
            "report_file_path:  /content/drive/MyDrive/sdg_15_4_2_A_reports/United Republic of Tanzania.xlsx\n",
            "process # 9\n",
            "/content/drive/MyDrive/sdg_15_4_2_A_csvs/Uganda.csv\n",
            "Reporting 2000 for sub_a\n",
            "Reporting 2000 for mtn\n",
            "Reporting 2003 for sub_a\n",
            "Reporting 2003 for mtn\n",
            "Reporting 2007 for sub_a\n",
            "Reporting 2007 for mtn\n",
            "Reporting 2010 for sub_a\n",
            "Reporting 2010 for mtn\n",
            "report_file_path:  /content/drive/MyDrive/sdg_15_4_2_A_reports/Uganda.xlsx\n",
            "process # 10\n",
            "/content/drive/MyDrive/sdg_15_4_2_A_csvs/Zimbabwe.csv\n",
            "Reporting 2000 for sub_a\n",
            "Reporting 2000 for mtn\n",
            "Reporting 2003 for sub_a\n",
            "Reporting 2003 for mtn\n",
            "Reporting 2007 for sub_a\n",
            "Reporting 2007 for mtn\n",
            "Reporting 2010 for sub_a\n",
            "Reporting 2010 for mtn\n",
            "report_file_path:  /content/drive/MyDrive/sdg_15_4_2_A_reports/Zimbabwe.xlsx\n"
          ]
        }
      ],
      "source": [
        "counter = 0\n",
        "\n",
        "stats_csv_folder\n",
        "\n",
        "for aoi_name in list_of_countries:\n",
        "\n",
        "  counter+=1\n",
        "\n",
        "  print (\"process #\",counter)\n",
        "\n",
        "  aoi_name_clean = str(sanitize_description(unidecode(aoi_name)))\n",
        "\n",
        "  try:\n",
        "    stats_csv_file = aoi_name_clean+\".csv\"\n",
        "    stats_csv_file_path = drive_home + stats_csv_folder+ \"/\"+stats_csv_file\n",
        "\n",
        "    print (stats_csv_file_path)\n",
        "    # This line will read the results from the CSV file and parse it to a dictionary\n",
        "    dict_results = read_from_csv(stats_csv_file_path)\n",
        "    dict_results\n",
        "\n",
        "    details = {\n",
        "        \"geo_area_name\" : aoi_name,\n",
        "        \"ref_area\" : \" \",\n",
        "        \"source_detail\" : \" \",\n",
        "    }\n",
        "    # Following lines will generate the reports for the sub_a and mtn indicators\n",
        "    sub_a_reports = []\n",
        "    mtn_reports = []\n",
        "\n",
        "    for year in single_years:\n",
        "        print(f\"Reporting {year} for sub_a\")\n",
        "        parsed_df = parse_result(dict_results[year][\"sub_a\"], single=True)\n",
        "\n",
        "        sub_a_reports.append(sub_a.get_reports(parsed_df, year, **details))\n",
        "\n",
        "        print(f\"Reporting {year} for mtn\")\n",
        "        mtn_reports.append(mntn.get_report(parsed_df, year, **details))\n",
        "\n",
        "    mtn_reports_df = pd.concat(mtn_reports)\n",
        "\n",
        "    # sub a reports\n",
        "    er_mtn_grnvi_df = pd.concat([report[0] for report in sub_a_reports])\n",
        "    er_mtn_grncov_df = pd.concat([report[1] for report in sub_a_reports])\n",
        "\n",
        "    # define where to put output reports\n",
        "    report_file_path = drive_home + report_folder + \"/\"+aoi_name_clean +\".xlsx\"\n",
        "    print (\"report_file_path: \",report_file_path)\n",
        "\n",
        "\n",
        "    # This will create the excel file with the reports\n",
        "    with pd.ExcelWriter(report_file_path) as writer:\n",
        "        mtn_reports_df.to_excel(writer, sheet_name=\"Table1_ER_MTN_TOTL\", index=False)\n",
        "        er_mtn_grncov_df.to_excel(\n",
        "            writer, sheet_name=\"Table2_ER_MTN_GRNCOV\", index=False\n",
        "        )\n",
        "        er_mtn_grnvi_df.to_excel(writer, sheet_name=\"Table3_ER_MTN_GRNCVI\", index=False)\n",
        "\n",
        "        for sheetname in writer.sheets:\n",
        "            worksheet = writer.sheets[sheetname]\n",
        "            for col in worksheet.columns:\n",
        "                max_length = 0\n",
        "                column = col[0]\n",
        "                for cell in col:\n",
        "                    try:\n",
        "                        if len(str(cell.value)) > max_length:\n",
        "                            max_length = len(cell.value)\n",
        "                    except:\n",
        "                        pass\n",
        "                adjusted_width = max(max_length, len(str(column.value))) + 4\n",
        "                worksheet.column_dimensions[get_column_letter(column.column)].width = (\n",
        "                    adjusted_width\n",
        "                )\n",
        "\n",
        "                # Align \"obs_value\" column to the right\n",
        "                if \"OBS\" in column.value:\n",
        "                    for cell in col:\n",
        "                        cell.alignment = Alignment(horizontal=\"right\")\n",
        "  except Exception as e:\n",
        "\n",
        "      # If the file is not found, catch the FileNotFoundError exception\n",
        "      # Print an error message and the specific error message provided by the exception\n",
        "      print(f\"File not found error: {e}\")\n",
        "      current_time = datetime.now().strftime('%Y-%m-%d %H:%M:%S')\n",
        "      # Check if the error log file exists, if not, create it\n",
        "      if not os.path.exists(error_log_file_path):\n",
        "          df = pd.DataFrame(columns=['File Name', 'Error Message','Time'])\n",
        "          df.to_csv(error_log_file_path, index=False)\n",
        "\n",
        "      # Write the name of the file that caused the error to the CSV file\n",
        "      df = pd.DataFrame([[stats_csv_file, str(e),current_time]], columns=['File Name', 'Error Message','Time'])\n",
        "      df.to_csv(error_log_file_path, mode='a', header=False, index=False)\n"
      ]
    },
    {
      "cell_type": "markdown",
      "source": [
        "#### Combine excel files into a single report"
      ],
      "metadata": {
        "id": "qTqI3Ag08k5b"
      }
    },
    {
      "cell_type": "code",
      "source": [
        "def append_excel_files(file_paths, num_sheets, output_file_path):\n",
        "    combined_dfs = {}\n",
        "\n",
        "    for file_path in file_paths:\n",
        "        # Load the Excel file\n",
        "        xls = pd.ExcelFile(file_path)\n",
        "\n",
        "        # Read each sheet from the Excel file into a DataFrame\n",
        "        dfs = {sheet_name: xls.parse(sheet_name) for sheet_name in xls.sheet_names[:num_sheets]}\n",
        "\n",
        "        # Append the DataFrames to the combined_dfs dictionary\n",
        "        for sheet_name, df in dfs.items():\n",
        "            if sheet_name in combined_dfs:\n",
        "                combined_dfs[sheet_name] = pd.concat([combined_dfs[sheet_name],df], ignore_index=True)\n",
        "            else:\n",
        "                combined_dfs[sheet_name] = df\n",
        "\n",
        "    # Write the combined DataFrames to the specified output file path\n",
        "    with pd.ExcelWriter(output_file_path) as writer:\n",
        "        for sheet_name, df in combined_dfs.items():\n",
        "            df.to_excel(writer, sheet_name=sheet_name, index=False)\n"
      ],
      "metadata": {
        "id": "iRvBucIP8jaV",
        "outputId": "db68e05e-7694-4dd1-e43e-4c34abb8ee05",
        "colab": {
          "base_uri": "https://localhost:8080/",
          "height": 17
        }
      },
      "execution_count": 14,
      "outputs": [
        {
          "output_type": "display_data",
          "data": {
            "text/plain": [
              "<IPython.core.display.HTML object>"
            ],
            "text/html": [
              "\n",
              "            <style>\n",
              "                .geemap-dark {\n",
              "                    --jp-widgets-color: white;\n",
              "                    --jp-widgets-label-color: white;\n",
              "                    --jp-ui-font-color1: white;\n",
              "                    --jp-layout-color2: #454545;\n",
              "                    background-color: #383838;\n",
              "                }\n",
              "\n",
              "                .geemap-dark .jupyter-button {\n",
              "                    --jp-layout-color3: #383838;\n",
              "                }\n",
              "\n",
              "                .geemap-colab {\n",
              "                    background-color: var(--colab-primary-surface-color, white);\n",
              "                }\n",
              "\n",
              "                .geemap-colab .jupyter-button {\n",
              "                    --jp-layout-color3: var(--colab-primary-surface-color, white);\n",
              "                }\n",
              "            </style>\n",
              "            "
            ]
          },
          "metadata": {}
        }
      ]
    },
    {
      "cell_type": "code",
      "source": [
        "directory_path = drive_home + report_folder\n",
        "\n",
        "# # List files in the directory\n",
        "files = [file for file in os.listdir(directory_path) if file.endswith('.xlsx')]\n",
        "\n",
        "# Create a list of full file paths\n",
        "full_file_paths = [os.path.join(directory_path, file) for file in os.listdir(directory_path) if file.endswith('.xlsx')]\n",
        "\n",
        "reports_combined_file_path = drive_home+\"sdg_15_4_2_combined_report.xlsx\"\n",
        "\n",
        "append_excel_files(file_paths=full_file_paths,num_sheets=3,output_file_path=reports_combined_file_path)"
      ],
      "metadata": {
        "id": "sTyhwne7rr9D",
        "outputId": "c75e57ff-effd-4ce4-bb46-98565ceaf8a8",
        "colab": {
          "base_uri": "https://localhost:8080/",
          "height": 17
        }
      },
      "execution_count": 15,
      "outputs": [
        {
          "output_type": "display_data",
          "data": {
            "text/plain": [
              "<IPython.core.display.HTML object>"
            ],
            "text/html": [
              "\n",
              "            <style>\n",
              "                .geemap-dark {\n",
              "                    --jp-widgets-color: white;\n",
              "                    --jp-widgets-label-color: white;\n",
              "                    --jp-ui-font-color1: white;\n",
              "                    --jp-layout-color2: #454545;\n",
              "                    background-color: #383838;\n",
              "                }\n",
              "\n",
              "                .geemap-dark .jupyter-button {\n",
              "                    --jp-layout-color3: #383838;\n",
              "                }\n",
              "\n",
              "                .geemap-colab {\n",
              "                    background-color: var(--colab-primary-surface-color, white);\n",
              "                }\n",
              "\n",
              "                .geemap-colab .jupyter-button {\n",
              "                    --jp-layout-color3: var(--colab-primary-surface-color, white);\n",
              "                }\n",
              "            </style>\n",
              "            "
            ]
          },
          "metadata": {}
        }
      ]
    },
    {
      "cell_type": "code",
      "source": [],
      "metadata": {
        "id": "gEc2w2lR0YRz"
      },
      "execution_count": 15,
      "outputs": []
    }
  ],
  "metadata": {
    "kernelspec": {
      "display_name": "(test) test-sepal_mgci",
      "language": "python",
      "name": "test-sepal_mgci"
    },
    "language_info": {
      "codemirror_mode": {
        "name": "ipython",
        "version": 3
      },
      "file_extension": ".py",
      "mimetype": "text/x-python",
      "name": "python",
      "nbconvert_exporter": "python",
      "pygments_lexer": "ipython3",
      "version": "3.10.12"
    },
    "colab": {
      "provenance": [],
      "include_colab_link": true
    },
    "widgets": {
      "application/vnd.jupyter.widget-state+json": {
        "576edb58ed3d40b2969d485fb1682b5d": {
          "model_module": "jupyter-vuetify",
          "model_name": "VuetifyTemplateModel",
          "model_module_version": "^1.9.3",
          "state": {
            "_component_instances": [],
            "_dom_classes": [],
            "_jupyter_vue": "IPY_MODEL_2a57d5b29c6742c99f364cfa0a3e56d0",
            "_model_module": "jupyter-vuetify",
            "_model_module_version": "^1.9.3",
            "_model_name": "VuetifyTemplateModel",
            "_view_count": null,
            "_view_module": "jupyter-vuetify",
            "_view_module_version": "^1.9.3",
            "_view_name": "VuetifyView",
            "components": null,
            "css": null,
            "data": null,
            "events": [],
            "layout": "IPY_MODEL_717717cb07de4971bd1c3bbf6574b824",
            "methods": null,
            "template": "<script>{methods: {jupyter_resize(){/* force the resize event. useful for drawer clicks*/\nwindow.dispatchEvent(new Event(\"resize\"));\n}}}</script>"
          }
        },
        "f25a2090784c462f9a98ffbf2581bd23": {
          "model_module": "jupyter-vuetify",
          "model_name": "VuetifyTemplateModel",
          "model_module_version": "^1.9.3",
          "state": {
            "_component_instances": [],
            "_dom_classes": [],
            "_jupyter_vue": "IPY_MODEL_2fa6c3cf444a465899ac6f75b44b14c9",
            "_model_module": "jupyter-vuetify",
            "_model_module_version": "^1.9.3",
            "_model_name": "VuetifyTemplateModel",
            "_view_count": null,
            "_view_module": "jupyter-vuetify",
            "_view_module_version": "^1.9.3",
            "_view_name": "VuetifyView",
            "components": null,
            "css": null,
            "data": null,
            "events": [],
            "layout": "IPY_MODEL_c3f4d23c325a4a01a9f908df37c3c958",
            "methods": null,
            "template": "<script>{methods: {jupyter_resize(){/* force the resize event. useful for drawer clicks*/\nwindow.dispatchEvent(new Event(\"resize\"));\n}}}</script>"
          }
        }
      }
    }
  },
  "nbformat": 4,
  "nbformat_minor": 0
}