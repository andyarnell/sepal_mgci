{
  "cells": [
    {
      "cell_type": "markdown",
      "metadata": {
        "id": "view-in-github",
        "colab_type": "text"
      },
      "source": [
        "<a href=\"https://colab.research.google.com/github/andyarnell/sepal_mgci/blob/master/Calculation_colab.ipynb\" target=\"_parent\"><img src=\"https://colab.research.google.com/assets/colab-badge.svg\" alt=\"Open In Colab\"/></a>"
      ]
    },
    {
      "cell_type": "code",
      "execution_count": 6,
      "metadata": {
        "id": "W3uMTaQGu_f4"
      },
      "outputs": [],
      "source": [
        "%load_ext autoreload\n",
        "%autoreload 2"
      ]
    },
    {
      "cell_type": "markdown",
      "source": [
        "#### Clone SDG 15.4.2 github repo into colab instance"
      ],
      "metadata": {
        "id": "qGfLFLEkwS1n"
      }
    },
    {
      "cell_type": "code",
      "source": [
        "!git clone https://github.com/andyarnell/sepal_mgci.git"
      ],
      "metadata": {
        "colab": {
          "base_uri": "https://localhost:8080/"
        },
        "id": "TNohZrOTvNqT",
        "outputId": "bf4f2168-a22b-450f-8157-7340434e2eb9"
      },
      "execution_count": 7,
      "outputs": [
        {
          "output_type": "stream",
          "name": "stdout",
          "text": [
            "Cloning into 'sepal_mgci'...\n",
            "remote: Enumerating objects: 2812, done.\u001b[K\n",
            "remote: Counting objects: 100% (750/750), done.\u001b[K\n",
            "remote: Compressing objects: 100% (302/302), done.\u001b[K\n",
            "remote: Total 2812 (delta 474), reused 691 (delta 447), pack-reused 2062\u001b[K\n",
            "Receiving objects: 100% (2812/2812), 4.89 MiB | 11.75 MiB/s, done.\n",
            "Resolving deltas: 100% (1750/1750), done.\n"
          ]
        }
      ]
    },
    {
      "cell_type": "code",
      "execution_count": 11,
      "metadata": {
        "colab": {
          "base_uri": "https://localhost:8080/"
        },
        "id": "Kg3K1EPJu_f5",
        "outputId": "5ebb4a8e-3981-45cf-9365-b7d62537f7d1"
      },
      "outputs": [
        {
          "output_type": "stream",
          "name": "stdout",
          "text": [
            "Requirement already satisfied: pygaul in /usr/local/lib/python3.10/dist-packages (0.3.4)\n",
            "Requirement already satisfied: deprecated>=1.2.14 in /usr/local/lib/python3.10/dist-packages (from pygaul) (1.2.14)\n",
            "Requirement already satisfied: pandas in /usr/local/lib/python3.10/dist-packages (from pygaul) (1.5.3)\n",
            "Requirement already satisfied: earthengine-api in /usr/local/lib/python3.10/dist-packages (from pygaul) (0.1.394)\n",
            "Requirement already satisfied: pyarrow in /usr/local/lib/python3.10/dist-packages (from pygaul) (14.0.2)\n",
            "Requirement already satisfied: wrapt<2,>=1.10 in /usr/local/lib/python3.10/dist-packages (from deprecated>=1.2.14->pygaul) (1.14.1)\n",
            "Requirement already satisfied: google-cloud-storage in /usr/local/lib/python3.10/dist-packages (from earthengine-api->pygaul) (2.8.0)\n",
            "Requirement already satisfied: google-api-python-client>=1.12.1 in /usr/local/lib/python3.10/dist-packages (from earthengine-api->pygaul) (2.84.0)\n",
            "Requirement already satisfied: google-auth>=1.4.1 in /usr/local/lib/python3.10/dist-packages (from earthengine-api->pygaul) (2.27.0)\n",
            "Requirement already satisfied: google-auth-httplib2>=0.0.3 in /usr/local/lib/python3.10/dist-packages (from earthengine-api->pygaul) (0.1.1)\n",
            "Requirement already satisfied: httplib2<1dev,>=0.9.2 in /usr/local/lib/python3.10/dist-packages (from earthengine-api->pygaul) (0.22.0)\n",
            "Requirement already satisfied: requests in /usr/local/lib/python3.10/dist-packages (from earthengine-api->pygaul) (2.31.0)\n",
            "Requirement already satisfied: python-dateutil>=2.8.1 in /usr/local/lib/python3.10/dist-packages (from pandas->pygaul) (2.8.2)\n",
            "Requirement already satisfied: pytz>=2020.1 in /usr/local/lib/python3.10/dist-packages (from pandas->pygaul) (2023.4)\n",
            "Requirement already satisfied: numpy>=1.21.0 in /usr/local/lib/python3.10/dist-packages (from pandas->pygaul) (1.25.2)\n",
            "Requirement already satisfied: google-api-core!=2.0.*,!=2.1.*,!=2.2.*,!=2.3.0,<3.0.0dev,>=1.31.5 in /usr/local/lib/python3.10/dist-packages (from google-api-python-client>=1.12.1->earthengine-api->pygaul) (2.11.1)\n",
            "Requirement already satisfied: uritemplate<5,>=3.0.1 in /usr/local/lib/python3.10/dist-packages (from google-api-python-client>=1.12.1->earthengine-api->pygaul) (4.1.1)\n",
            "Requirement already satisfied: cachetools<6.0,>=2.0.0 in /usr/local/lib/python3.10/dist-packages (from google-auth>=1.4.1->earthengine-api->pygaul) (5.3.3)\n",
            "Requirement already satisfied: pyasn1-modules>=0.2.1 in /usr/local/lib/python3.10/dist-packages (from google-auth>=1.4.1->earthengine-api->pygaul) (0.3.0)\n",
            "Requirement already satisfied: rsa<5,>=3.1.4 in /usr/local/lib/python3.10/dist-packages (from google-auth>=1.4.1->earthengine-api->pygaul) (4.9)\n",
            "Requirement already satisfied: pyparsing!=3.0.0,!=3.0.1,!=3.0.2,!=3.0.3,<4,>=2.4.2 in /usr/local/lib/python3.10/dist-packages (from httplib2<1dev,>=0.9.2->earthengine-api->pygaul) (3.1.2)\n",
            "Requirement already satisfied: six>=1.5 in /usr/local/lib/python3.10/dist-packages (from python-dateutil>=2.8.1->pandas->pygaul) (1.16.0)\n",
            "Requirement already satisfied: google-cloud-core<3.0dev,>=2.3.0 in /usr/local/lib/python3.10/dist-packages (from google-cloud-storage->earthengine-api->pygaul) (2.3.3)\n",
            "Requirement already satisfied: google-resumable-media>=2.3.2 in /usr/local/lib/python3.10/dist-packages (from google-cloud-storage->earthengine-api->pygaul) (2.7.0)\n",
            "Requirement already satisfied: charset-normalizer<4,>=2 in /usr/local/lib/python3.10/dist-packages (from requests->earthengine-api->pygaul) (3.3.2)\n",
            "Requirement already satisfied: idna<4,>=2.5 in /usr/local/lib/python3.10/dist-packages (from requests->earthengine-api->pygaul) (3.6)\n",
            "Requirement already satisfied: urllib3<3,>=1.21.1 in /usr/local/lib/python3.10/dist-packages (from requests->earthengine-api->pygaul) (2.0.7)\n",
            "Requirement already satisfied: certifi>=2017.4.17 in /usr/local/lib/python3.10/dist-packages (from requests->earthengine-api->pygaul) (2024.2.2)\n",
            "Requirement already satisfied: googleapis-common-protos<2.0.dev0,>=1.56.2 in /usr/local/lib/python3.10/dist-packages (from google-api-core!=2.0.*,!=2.1.*,!=2.2.*,!=2.3.0,<3.0.0dev,>=1.31.5->google-api-python-client>=1.12.1->earthengine-api->pygaul) (1.63.0)\n",
            "Requirement already satisfied: protobuf!=3.20.0,!=3.20.1,!=4.21.0,!=4.21.1,!=4.21.2,!=4.21.3,!=4.21.4,!=4.21.5,<5.0.0.dev0,>=3.19.5 in /usr/local/lib/python3.10/dist-packages (from google-api-core!=2.0.*,!=2.1.*,!=2.2.*,!=2.3.0,<3.0.0dev,>=1.31.5->google-api-python-client>=1.12.1->earthengine-api->pygaul) (3.20.3)\n",
            "Requirement already satisfied: google-crc32c<2.0dev,>=1.0 in /usr/local/lib/python3.10/dist-packages (from google-resumable-media>=2.3.2->google-cloud-storage->earthengine-api->pygaul) (1.5.0)\n",
            "Requirement already satisfied: pyasn1<0.6.0,>=0.4.6 in /usr/local/lib/python3.10/dist-packages (from pyasn1-modules>=0.2.1->google-auth>=1.4.1->earthengine-api->pygaul) (0.5.1)\n",
            "pygaul has been installed.\n",
            "Requirement already satisfied: sepal_ui in /usr/local/lib/python3.10/dist-packages (2.17.0)\n",
            "Requirement already satisfied: tomli in /usr/local/lib/python3.10/dist-packages (from sepal_ui) (2.0.1)\n",
            "Requirement already satisfied: ipykernel in /usr/local/lib/python3.10/dist-packages (from sepal_ui) (5.5.6)\n",
            "Requirement already satisfied: ipyvuetify in /usr/local/lib/python3.10/dist-packages (from sepal_ui) (1.9.2)\n",
            "Requirement already satisfied: markdown in /usr/local/lib/python3.10/dist-packages (from sepal_ui) (3.6)\n",
            "Requirement already satisfied: ipyleaflet>=0.14.0 in /usr/local/lib/python3.10/dist-packages (from sepal_ui) (0.18.2)\n",
            "Requirement already satisfied: earthengine-api in /usr/local/lib/python3.10/dist-packages (from sepal_ui) (0.1.394)\n",
            "Requirement already satisfied: colorama in /usr/local/lib/python3.10/dist-packages (from sepal_ui) (0.4.6)\n",
            "Requirement already satisfied: pipreqs in /usr/local/lib/python3.10/dist-packages (from sepal_ui) (0.5.0)\n",
            "Requirement already satisfied: rioxarray in /usr/local/lib/python3.10/dist-packages (from sepal_ui) (0.15.1)\n",
            "Requirement already satisfied: dask in /usr/local/lib/python3.10/dist-packages (from sepal_ui) (2023.8.1)\n",
            "Requirement already satisfied: geopandas in /usr/local/lib/python3.10/dist-packages (from sepal_ui) (0.13.2)\n",
            "Requirement already satisfied: matplotlib in /usr/local/lib/python3.10/dist-packages (from sepal_ui) (3.7.1)\n",
            "Requirement already satisfied: jupyter-server-proxy in /usr/local/lib/python3.10/dist-packages (from sepal_ui) (4.1.2)\n",
            "Requirement already satisfied: planet>=2 in /usr/local/lib/python3.10/dist-packages (from sepal_ui) (2.4)\n",
            "Requirement already satisfied: pyarrow in /usr/local/lib/python3.10/dist-packages (from sepal_ui) (14.0.2)\n",
            "Requirement already satisfied: localtileserver>=0.7.0 in /usr/local/lib/python3.10/dist-packages (from sepal_ui) (0.10.1)\n",
            "Requirement already satisfied: pygaul>=0.3.1 in /usr/local/lib/python3.10/dist-packages (from sepal_ui) (0.3.4)\n",
            "Requirement already satisfied: pygadm>=0.5.0 in /usr/local/lib/python3.10/dist-packages (from sepal_ui) (0.5.2)\n",
            "Requirement already satisfied: python-box in /usr/local/lib/python3.10/dist-packages (from sepal_ui) (7.1.1)\n",
            "Requirement already satisfied: tqdm in /usr/local/lib/python3.10/dist-packages (from sepal_ui) (4.66.2)\n",
            "Requirement already satisfied: Deprecated>=1.2.14 in /usr/local/lib/python3.10/dist-packages (from sepal_ui) (1.2.14)\n",
            "Requirement already satisfied: anyascii in /usr/local/lib/python3.10/dist-packages (from sepal_ui) (0.3.2)\n",
            "Requirement already satisfied: natsort in /usr/local/lib/python3.10/dist-packages (from sepal_ui) (8.4.0)\n",
            "Requirement already satisfied: typing-extensions in /usr/local/lib/python3.10/dist-packages (from sepal_ui) (4.10.0)\n",
            "Requirement already satisfied: nest-asyncio in /usr/local/lib/python3.10/dist-packages (from sepal_ui) (1.6.0)\n",
            "Requirement already satisfied: wrapt<2,>=1.10 in /usr/local/lib/python3.10/dist-packages (from Deprecated>=1.2.14->sepal_ui) (1.14.1)\n",
            "Requirement already satisfied: ipywidgets<9,>=7.6.0 in /usr/local/lib/python3.10/dist-packages (from ipyleaflet>=0.14.0->sepal_ui) (7.7.1)\n",
            "Requirement already satisfied: traittypes<3,>=0.2.1 in /usr/local/lib/python3.10/dist-packages (from ipyleaflet>=0.14.0->sepal_ui) (0.2.1)\n",
            "Requirement already satisfied: xyzservices>=2021.8.1 in /usr/local/lib/python3.10/dist-packages (from ipyleaflet>=0.14.0->sepal_ui) (2023.10.1)\n",
            "Requirement already satisfied: branca>=0.5.0 in /usr/local/lib/python3.10/dist-packages (from ipyleaflet>=0.14.0->sepal_ui) (0.7.1)\n",
            "Requirement already satisfied: click in /usr/local/lib/python3.10/dist-packages (from localtileserver>=0.7.0->sepal_ui) (8.1.7)\n",
            "Requirement already satisfied: flask<4,>=2.0.0 in /usr/local/lib/python3.10/dist-packages (from localtileserver>=0.7.0->sepal_ui) (2.2.5)\n",
            "Requirement already satisfied: Flask-Caching in /usr/local/lib/python3.10/dist-packages (from localtileserver>=0.7.0->sepal_ui) (2.1.0)\n",
            "Requirement already satisfied: flask-cors in /usr/local/lib/python3.10/dist-packages (from localtileserver>=0.7.0->sepal_ui) (4.0.0)\n",
            "Requirement already satisfied: flask-restx>=0.5.0 in /usr/local/lib/python3.10/dist-packages (from localtileserver>=0.7.0->sepal_ui) (1.3.0)\n",
            "Requirement already satisfied: rio-tiler in /usr/local/lib/python3.10/dist-packages (from localtileserver>=0.7.0->sepal_ui) (6.4.2)\n",
            "Requirement already satisfied: rio-cogeo in /usr/local/lib/python3.10/dist-packages (from localtileserver>=0.7.0->sepal_ui) (5.2.0)\n",
            "Requirement already satisfied: requests in /usr/local/lib/python3.10/dist-packages (from localtileserver>=0.7.0->sepal_ui) (2.31.0)\n",
            "Requirement already satisfied: server-thread in /usr/local/lib/python3.10/dist-packages (from localtileserver>=0.7.0->sepal_ui) (0.2.0)\n",
            "Requirement already satisfied: scooby in /usr/local/lib/python3.10/dist-packages (from localtileserver>=0.7.0->sepal_ui) (0.9.2)\n",
            "Requirement already satisfied: werkzeug in /usr/local/lib/python3.10/dist-packages (from localtileserver>=0.7.0->sepal_ui) (3.0.1)\n",
            "Requirement already satisfied: geojson in /usr/local/lib/python3.10/dist-packages (from planet>=2->sepal_ui) (3.1.0)\n",
            "Requirement already satisfied: httpx>=0.23.0 in /usr/local/lib/python3.10/dist-packages (from planet>=2->sepal_ui) (0.27.0)\n",
            "Requirement already satisfied: jsonschema in /usr/local/lib/python3.10/dist-packages (from planet>=2->sepal_ui) (4.19.2)\n",
            "Requirement already satisfied: pyjwt>=2.1 in /usr/lib/python3/dist-packages (from planet>=2->sepal_ui) (2.3.0)\n",
            "Requirement already satisfied: requests-cache in /usr/local/lib/python3.10/dist-packages (from pygadm>=0.5.0->sepal_ui) (1.2.0)\n",
            "Requirement already satisfied: pandas in /usr/local/lib/python3.10/dist-packages (from pygaul>=0.3.1->sepal_ui) (1.5.3)\n",
            "Requirement already satisfied: cloudpickle>=1.5.0 in /usr/local/lib/python3.10/dist-packages (from dask->sepal_ui) (2.2.1)\n",
            "Requirement already satisfied: fsspec>=2021.09.0 in /usr/local/lib/python3.10/dist-packages (from dask->sepal_ui) (2023.6.0)\n",
            "Requirement already satisfied: packaging>=20.0 in /usr/local/lib/python3.10/dist-packages (from dask->sepal_ui) (24.0)\n",
            "Requirement already satisfied: partd>=1.2.0 in /usr/local/lib/python3.10/dist-packages (from dask->sepal_ui) (1.4.1)\n",
            "Requirement already satisfied: pyyaml>=5.3.1 in /usr/local/lib/python3.10/dist-packages (from dask->sepal_ui) (6.0.1)\n",
            "Requirement already satisfied: toolz>=0.10.0 in /usr/local/lib/python3.10/dist-packages (from dask->sepal_ui) (0.12.1)\n",
            "Requirement already satisfied: importlib-metadata>=4.13.0 in /usr/local/lib/python3.10/dist-packages (from dask->sepal_ui) (7.0.2)\n",
            "Requirement already satisfied: google-cloud-storage in /usr/local/lib/python3.10/dist-packages (from earthengine-api->sepal_ui) (2.8.0)\n",
            "Requirement already satisfied: google-api-python-client>=1.12.1 in /usr/local/lib/python3.10/dist-packages (from earthengine-api->sepal_ui) (2.84.0)\n",
            "Requirement already satisfied: google-auth>=1.4.1 in /usr/local/lib/python3.10/dist-packages (from earthengine-api->sepal_ui) (2.27.0)\n",
            "Requirement already satisfied: google-auth-httplib2>=0.0.3 in /usr/local/lib/python3.10/dist-packages (from earthengine-api->sepal_ui) (0.1.1)\n",
            "Requirement already satisfied: httplib2<1dev,>=0.9.2 in /usr/local/lib/python3.10/dist-packages (from earthengine-api->sepal_ui) (0.22.0)\n",
            "Requirement already satisfied: fiona>=1.8.19 in /usr/local/lib/python3.10/dist-packages (from geopandas->sepal_ui) (1.9.6)\n",
            "Requirement already satisfied: pyproj>=3.0.1 in /usr/local/lib/python3.10/dist-packages (from geopandas->sepal_ui) (3.6.1)\n",
            "Requirement already satisfied: shapely>=1.7.1 in /usr/local/lib/python3.10/dist-packages (from geopandas->sepal_ui) (2.0.3)\n",
            "Requirement already satisfied: ipython-genutils in /usr/local/lib/python3.10/dist-packages (from ipykernel->sepal_ui) (0.2.0)\n",
            "Requirement already satisfied: ipython>=5.0.0 in /usr/local/lib/python3.10/dist-packages (from ipykernel->sepal_ui) (8.12.3)\n",
            "Requirement already satisfied: traitlets>=4.1.0 in /usr/local/lib/python3.10/dist-packages (from ipykernel->sepal_ui) (5.7.1)\n",
            "Requirement already satisfied: jupyter-client in /usr/local/lib/python3.10/dist-packages (from ipykernel->sepal_ui) (6.1.12)\n",
            "Requirement already satisfied: tornado>=4.2 in /usr/local/lib/python3.10/dist-packages (from ipykernel->sepal_ui) (6.3.3)\n",
            "Requirement already satisfied: ipyvue<2,>=1.7 in /usr/local/lib/python3.10/dist-packages (from ipyvuetify->sepal_ui) (1.10.2)\n",
            "Requirement already satisfied: aiohttp in /usr/local/lib/python3.10/dist-packages (from jupyter-server-proxy->sepal_ui) (3.9.3)\n",
            "Requirement already satisfied: jupyter-server>=1.0 in /usr/local/lib/python3.10/dist-packages (from jupyter-server-proxy->sepal_ui) (1.24.0)\n",
            "Requirement already satisfied: simpervisor>=1.0 in /usr/local/lib/python3.10/dist-packages (from jupyter-server-proxy->sepal_ui) (1.0.0)\n",
            "Requirement already satisfied: contourpy>=1.0.1 in /usr/local/lib/python3.10/dist-packages (from matplotlib->sepal_ui) (1.2.0)\n",
            "Requirement already satisfied: cycler>=0.10 in /usr/local/lib/python3.10/dist-packages (from matplotlib->sepal_ui) (0.12.1)\n",
            "Requirement already satisfied: fonttools>=4.22.0 in /usr/local/lib/python3.10/dist-packages (from matplotlib->sepal_ui) (4.49.0)\n",
            "Requirement already satisfied: kiwisolver>=1.0.1 in /usr/local/lib/python3.10/dist-packages (from matplotlib->sepal_ui) (1.4.5)\n",
            "Requirement already satisfied: numpy>=1.20 in /usr/local/lib/python3.10/dist-packages (from matplotlib->sepal_ui) (1.25.2)\n",
            "Requirement already satisfied: pillow>=6.2.0 in /usr/local/lib/python3.10/dist-packages (from matplotlib->sepal_ui) (9.4.0)\n",
            "Requirement already satisfied: pyparsing>=2.3.1 in /usr/local/lib/python3.10/dist-packages (from matplotlib->sepal_ui) (3.1.2)\n",
            "Requirement already satisfied: python-dateutil>=2.7 in /usr/local/lib/python3.10/dist-packages (from matplotlib->sepal_ui) (2.8.2)\n",
            "Requirement already satisfied: docopt==0.6.2 in /usr/local/lib/python3.10/dist-packages (from pipreqs->sepal_ui) (0.6.2)\n",
            "Requirement already satisfied: nbconvert<8.0.0,>=7.11.0 in /usr/local/lib/python3.10/dist-packages (from pipreqs->sepal_ui) (7.16.3)\n",
            "Requirement already satisfied: yarg==0.1.9 in /usr/local/lib/python3.10/dist-packages (from pipreqs->sepal_ui) (0.1.9)\n",
            "Requirement already satisfied: backcall in /usr/local/lib/python3.10/dist-packages (from ipython>=5.0.0->ipykernel->sepal_ui) (0.2.0)\n",
            "Requirement already satisfied: decorator in /usr/local/lib/python3.10/dist-packages (from ipython>=5.0.0->ipykernel->sepal_ui) (4.4.2)\n",
            "Requirement already satisfied: jedi>=0.16 in /usr/local/lib/python3.10/dist-packages (from ipython>=5.0.0->ipykernel->sepal_ui) (0.19.1)\n",
            "Requirement already satisfied: matplotlib-inline in /usr/local/lib/python3.10/dist-packages (from ipython>=5.0.0->ipykernel->sepal_ui) (0.1.6)\n",
            "Requirement already satisfied: pickleshare in /usr/local/lib/python3.10/dist-packages (from ipython>=5.0.0->ipykernel->sepal_ui) (0.7.5)\n",
            "Requirement already satisfied: prompt-toolkit!=3.0.37,<3.1.0,>=3.0.30 in /usr/local/lib/python3.10/dist-packages (from ipython>=5.0.0->ipykernel->sepal_ui) (3.0.43)\n",
            "Requirement already satisfied: pygments>=2.4.0 in /usr/local/lib/python3.10/dist-packages (from ipython>=5.0.0->ipykernel->sepal_ui) (2.16.1)\n",
            "Requirement already satisfied: stack-data in /usr/local/lib/python3.10/dist-packages (from ipython>=5.0.0->ipykernel->sepal_ui) (0.6.3)\n",
            "Requirement already satisfied: pexpect>4.3 in /usr/local/lib/python3.10/dist-packages (from ipython>=5.0.0->ipykernel->sepal_ui) (4.9.0)\n",
            "Requirement already satisfied: rasterio>=1.3 in /usr/local/lib/python3.10/dist-packages (from rioxarray->sepal_ui) (1.3.9)\n",
            "Requirement already satisfied: xarray>=2022.3.0 in /usr/local/lib/python3.10/dist-packages (from rioxarray->sepal_ui) (2023.7.0)\n",
            "Requirement already satisfied: jinja2>=3 in /usr/local/lib/python3.10/dist-packages (from branca>=0.5.0->ipyleaflet>=0.14.0->sepal_ui) (3.1.3)\n",
            "Requirement already satisfied: attrs>=19.2.0 in /usr/local/lib/python3.10/dist-packages (from fiona>=1.8.19->geopandas->sepal_ui) (23.2.0)\n",
            "Requirement already satisfied: certifi in /usr/local/lib/python3.10/dist-packages (from fiona>=1.8.19->geopandas->sepal_ui) (2024.2.2)\n",
            "Requirement already satisfied: click-plugins>=1.0 in /usr/local/lib/python3.10/dist-packages (from fiona>=1.8.19->geopandas->sepal_ui) (1.1.1)\n",
            "Requirement already satisfied: cligj>=0.5 in /usr/local/lib/python3.10/dist-packages (from fiona>=1.8.19->geopandas->sepal_ui) (0.7.2)\n",
            "Requirement already satisfied: six in /usr/local/lib/python3.10/dist-packages (from fiona>=1.8.19->geopandas->sepal_ui) (1.16.0)\n",
            "Requirement already satisfied: itsdangerous>=2.0 in /usr/local/lib/python3.10/dist-packages (from flask<4,>=2.0.0->localtileserver>=0.7.0->sepal_ui) (2.1.2)\n",
            "Requirement already satisfied: aniso8601>=0.82 in /usr/local/lib/python3.10/dist-packages (from flask-restx>=0.5.0->localtileserver>=0.7.0->sepal_ui) (9.0.1)\n",
            "Requirement already satisfied: pytz in /usr/local/lib/python3.10/dist-packages (from flask-restx>=0.5.0->localtileserver>=0.7.0->sepal_ui) (2023.4)\n",
            "Requirement already satisfied: importlib-resources in /usr/local/lib/python3.10/dist-packages (from flask-restx>=0.5.0->localtileserver>=0.7.0->sepal_ui) (6.3.0)\n",
            "Requirement already satisfied: google-api-core!=2.0.*,!=2.1.*,!=2.2.*,!=2.3.0,<3.0.0dev,>=1.31.5 in /usr/local/lib/python3.10/dist-packages (from google-api-python-client>=1.12.1->earthengine-api->sepal_ui) (2.11.1)\n",
            "Requirement already satisfied: uritemplate<5,>=3.0.1 in /usr/local/lib/python3.10/dist-packages (from google-api-python-client>=1.12.1->earthengine-api->sepal_ui) (4.1.1)\n",
            "Requirement already satisfied: cachetools<6.0,>=2.0.0 in /usr/local/lib/python3.10/dist-packages (from google-auth>=1.4.1->earthengine-api->sepal_ui) (5.3.3)\n",
            "Requirement already satisfied: pyasn1-modules>=0.2.1 in /usr/local/lib/python3.10/dist-packages (from google-auth>=1.4.1->earthengine-api->sepal_ui) (0.3.0)\n",
            "Requirement already satisfied: rsa<5,>=3.1.4 in /usr/local/lib/python3.10/dist-packages (from google-auth>=1.4.1->earthengine-api->sepal_ui) (4.9)\n",
            "Requirement already satisfied: anyio in /usr/local/lib/python3.10/dist-packages (from httpx>=0.23.0->planet>=2->sepal_ui) (3.7.1)\n",
            "Requirement already satisfied: httpcore==1.* in /usr/local/lib/python3.10/dist-packages (from httpx>=0.23.0->planet>=2->sepal_ui) (1.0.4)\n",
            "Requirement already satisfied: idna in /usr/local/lib/python3.10/dist-packages (from httpx>=0.23.0->planet>=2->sepal_ui) (3.6)\n",
            "Requirement already satisfied: sniffio in /usr/local/lib/python3.10/dist-packages (from httpx>=0.23.0->planet>=2->sepal_ui) (1.3.1)\n",
            "Requirement already satisfied: h11<0.15,>=0.13 in /usr/local/lib/python3.10/dist-packages (from httpcore==1.*->httpx>=0.23.0->planet>=2->sepal_ui) (0.14.0)\n",
            "Requirement already satisfied: zipp>=0.5 in /usr/local/lib/python3.10/dist-packages (from importlib-metadata>=4.13.0->dask->sepal_ui) (3.18.1)\n",
            "Requirement already satisfied: widgetsnbextension~=3.6.0 in /usr/local/lib/python3.10/dist-packages (from ipywidgets<9,>=7.6.0->ipyleaflet>=0.14.0->sepal_ui) (3.6.6)\n",
            "Requirement already satisfied: jupyterlab-widgets>=1.0.0 in /usr/local/lib/python3.10/dist-packages (from ipywidgets<9,>=7.6.0->ipyleaflet>=0.14.0->sepal_ui) (3.0.10)\n",
            "Requirement already satisfied: argon2-cffi in /usr/local/lib/python3.10/dist-packages (from jupyter-server>=1.0->jupyter-server-proxy->sepal_ui) (23.1.0)\n",
            "Requirement already satisfied: jupyter-core!=5.0.*,>=4.12 in /usr/local/lib/python3.10/dist-packages (from jupyter-server>=1.0->jupyter-server-proxy->sepal_ui) (5.7.2)\n",
            "Requirement already satisfied: nbformat>=5.2.0 in /usr/local/lib/python3.10/dist-packages (from jupyter-server>=1.0->jupyter-server-proxy->sepal_ui) (5.10.2)\n",
            "Requirement already satisfied: prometheus-client in /usr/local/lib/python3.10/dist-packages (from jupyter-server>=1.0->jupyter-server-proxy->sepal_ui) (0.20.0)\n",
            "Requirement already satisfied: pyzmq>=17 in /usr/local/lib/python3.10/dist-packages (from jupyter-server>=1.0->jupyter-server-proxy->sepal_ui) (23.2.1)\n",
            "Requirement already satisfied: Send2Trash in /usr/local/lib/python3.10/dist-packages (from jupyter-server>=1.0->jupyter-server-proxy->sepal_ui) (1.8.2)\n",
            "Requirement already satisfied: terminado>=0.8.3 in /usr/local/lib/python3.10/dist-packages (from jupyter-server>=1.0->jupyter-server-proxy->sepal_ui) (0.18.1)\n",
            "Requirement already satisfied: websocket-client in /usr/local/lib/python3.10/dist-packages (from jupyter-server>=1.0->jupyter-server-proxy->sepal_ui) (1.7.0)\n",
            "Requirement already satisfied: beautifulsoup4 in /usr/local/lib/python3.10/dist-packages (from nbconvert<8.0.0,>=7.11.0->pipreqs->sepal_ui) (4.12.3)\n",
            "Requirement already satisfied: bleach!=5.0.0 in /usr/local/lib/python3.10/dist-packages (from nbconvert<8.0.0,>=7.11.0->pipreqs->sepal_ui) (6.1.0)\n",
            "Requirement already satisfied: defusedxml in /usr/local/lib/python3.10/dist-packages (from nbconvert<8.0.0,>=7.11.0->pipreqs->sepal_ui) (0.7.1)\n",
            "Requirement already satisfied: jupyterlab-pygments in /usr/local/lib/python3.10/dist-packages (from nbconvert<8.0.0,>=7.11.0->pipreqs->sepal_ui) (0.3.0)\n",
            "Requirement already satisfied: markupsafe>=2.0 in /usr/local/lib/python3.10/dist-packages (from nbconvert<8.0.0,>=7.11.0->pipreqs->sepal_ui) (2.1.5)\n",
            "Requirement already satisfied: mistune<4,>=2.0.3 in /usr/local/lib/python3.10/dist-packages (from nbconvert<8.0.0,>=7.11.0->pipreqs->sepal_ui) (3.0.2)\n",
            "Requirement already satisfied: nbclient>=0.5.0 in /usr/local/lib/python3.10/dist-packages (from nbconvert<8.0.0,>=7.11.0->pipreqs->sepal_ui) (0.10.0)\n",
            "Requirement already satisfied: pandocfilters>=1.4.1 in /usr/local/lib/python3.10/dist-packages (from nbconvert<8.0.0,>=7.11.0->pipreqs->sepal_ui) (1.5.1)\n",
            "Requirement already satisfied: tinycss2 in /usr/local/lib/python3.10/dist-packages (from nbconvert<8.0.0,>=7.11.0->pipreqs->sepal_ui) (1.2.1)\n",
            "Requirement already satisfied: locket in /usr/local/lib/python3.10/dist-packages (from partd>=1.2.0->dask->sepal_ui) (1.0.0)\n",
            "Requirement already satisfied: affine in /usr/local/lib/python3.10/dist-packages (from rasterio>=1.3->rioxarray->sepal_ui) (2.4.0)\n",
            "Requirement already satisfied: snuggs>=1.4.1 in /usr/local/lib/python3.10/dist-packages (from rasterio>=1.3->rioxarray->sepal_ui) (1.4.7)\n",
            "Requirement already satisfied: setuptools in /usr/local/lib/python3.10/dist-packages (from rasterio>=1.3->rioxarray->sepal_ui) (67.7.2)\n",
            "Requirement already satisfied: aiosignal>=1.1.2 in /usr/local/lib/python3.10/dist-packages (from aiohttp->jupyter-server-proxy->sepal_ui) (1.3.1)\n",
            "Requirement already satisfied: frozenlist>=1.1.1 in /usr/local/lib/python3.10/dist-packages (from aiohttp->jupyter-server-proxy->sepal_ui) (1.4.1)\n",
            "Requirement already satisfied: multidict<7.0,>=4.5 in /usr/local/lib/python3.10/dist-packages (from aiohttp->jupyter-server-proxy->sepal_ui) (6.0.5)\n",
            "Requirement already satisfied: yarl<2.0,>=1.0 in /usr/local/lib/python3.10/dist-packages (from aiohttp->jupyter-server-proxy->sepal_ui) (1.9.4)\n",
            "Requirement already satisfied: async-timeout<5.0,>=4.0 in /usr/local/lib/python3.10/dist-packages (from aiohttp->jupyter-server-proxy->sepal_ui) (4.0.3)\n",
            "Requirement already satisfied: cachelib<0.10.0,>=0.9.0 in /usr/local/lib/python3.10/dist-packages (from Flask-Caching->localtileserver>=0.7.0->sepal_ui) (0.9.0)\n",
            "Requirement already satisfied: google-cloud-core<3.0dev,>=2.3.0 in /usr/local/lib/python3.10/dist-packages (from google-cloud-storage->earthengine-api->sepal_ui) (2.3.3)\n",
            "Requirement already satisfied: google-resumable-media>=2.3.2 in /usr/local/lib/python3.10/dist-packages (from google-cloud-storage->earthengine-api->sepal_ui) (2.7.0)\n",
            "Requirement already satisfied: charset-normalizer<4,>=2 in /usr/local/lib/python3.10/dist-packages (from requests->localtileserver>=0.7.0->sepal_ui) (3.3.2)\n",
            "Requirement already satisfied: urllib3<3,>=1.21.1 in /usr/local/lib/python3.10/dist-packages (from requests->localtileserver>=0.7.0->sepal_ui) (2.0.7)\n",
            "Requirement already satisfied: jsonschema-specifications>=2023.03.6 in /usr/local/lib/python3.10/dist-packages (from jsonschema->planet>=2->sepal_ui) (2023.12.1)\n",
            "Requirement already satisfied: referencing>=0.28.4 in /usr/local/lib/python3.10/dist-packages (from jsonschema->planet>=2->sepal_ui) (0.33.0)\n",
            "Requirement already satisfied: rpds-py>=0.7.1 in /usr/local/lib/python3.10/dist-packages (from jsonschema->planet>=2->sepal_ui) (0.18.0)\n",
            "Requirement already satisfied: cattrs>=22.2 in /usr/local/lib/python3.10/dist-packages (from requests-cache->pygadm>=0.5.0->sepal_ui) (23.2.3)\n",
            "Requirement already satisfied: platformdirs>=2.5 in /usr/local/lib/python3.10/dist-packages (from requests-cache->pygadm>=0.5.0->sepal_ui) (4.2.0)\n",
            "Requirement already satisfied: url-normalize>=1.4 in /usr/local/lib/python3.10/dist-packages (from requests-cache->pygadm>=0.5.0->sepal_ui) (1.4.3)\n",
            "Requirement already satisfied: morecantile<6.0,>=5.0 in /usr/local/lib/python3.10/dist-packages (from rio-cogeo->localtileserver>=0.7.0->sepal_ui) (5.3.0)\n",
            "Requirement already satisfied: pydantic~=2.0 in /usr/local/lib/python3.10/dist-packages (from rio-cogeo->localtileserver>=0.7.0->sepal_ui) (2.6.4)\n",
            "Requirement already satisfied: color-operations in /usr/local/lib/python3.10/dist-packages (from rio-tiler->localtileserver>=0.7.0->sepal_ui) (0.1.3)\n",
            "Requirement already satisfied: numexpr in /usr/local/lib/python3.10/dist-packages (from rio-tiler->localtileserver>=0.7.0->sepal_ui) (2.9.0)\n",
            "Requirement already satisfied: pystac>=0.5.4 in /usr/local/lib/python3.10/dist-packages (from rio-tiler->localtileserver>=0.7.0->sepal_ui) (1.9.0)\n",
            "Requirement already satisfied: uvicorn in /usr/local/lib/python3.10/dist-packages (from server-thread->localtileserver>=0.7.0->sepal_ui) (0.29.0)\n",
            "Requirement already satisfied: exceptiongroup in /usr/local/lib/python3.10/dist-packages (from anyio->httpx>=0.23.0->planet>=2->sepal_ui) (1.2.0)\n",
            "Requirement already satisfied: webencodings in /usr/local/lib/python3.10/dist-packages (from bleach!=5.0.0->nbconvert<8.0.0,>=7.11.0->pipreqs->sepal_ui) (0.5.1)\n",
            "Requirement already satisfied: googleapis-common-protos<2.0.dev0,>=1.56.2 in /usr/local/lib/python3.10/dist-packages (from google-api-core!=2.0.*,!=2.1.*,!=2.2.*,!=2.3.0,<3.0.0dev,>=1.31.5->google-api-python-client>=1.12.1->earthengine-api->sepal_ui) (1.63.0)\n",
            "Requirement already satisfied: protobuf!=3.20.0,!=3.20.1,!=4.21.0,!=4.21.1,!=4.21.2,!=4.21.3,!=4.21.4,!=4.21.5,<5.0.0.dev0,>=3.19.5 in /usr/local/lib/python3.10/dist-packages (from google-api-core!=2.0.*,!=2.1.*,!=2.2.*,!=2.3.0,<3.0.0dev,>=1.31.5->google-api-python-client>=1.12.1->earthengine-api->sepal_ui) (3.20.3)\n",
            "Requirement already satisfied: google-crc32c<2.0dev,>=1.0 in /usr/local/lib/python3.10/dist-packages (from google-resumable-media>=2.3.2->google-cloud-storage->earthengine-api->sepal_ui) (1.5.0)\n",
            "Requirement already satisfied: parso<0.9.0,>=0.8.3 in /usr/local/lib/python3.10/dist-packages (from jedi>=0.16->ipython>=5.0.0->ipykernel->sepal_ui) (0.8.3)\n",
            "Requirement already satisfied: fastjsonschema in /usr/local/lib/python3.10/dist-packages (from nbformat>=5.2.0->jupyter-server>=1.0->jupyter-server-proxy->sepal_ui) (2.19.1)\n",
            "Requirement already satisfied: ptyprocess>=0.5 in /usr/local/lib/python3.10/dist-packages (from pexpect>4.3->ipython>=5.0.0->ipykernel->sepal_ui) (0.7.0)\n",
            "Requirement already satisfied: wcwidth in /usr/local/lib/python3.10/dist-packages (from prompt-toolkit!=3.0.37,<3.1.0,>=3.0.30->ipython>=5.0.0->ipykernel->sepal_ui) (0.2.13)\n",
            "Requirement already satisfied: pyasn1<0.6.0,>=0.4.6 in /usr/local/lib/python3.10/dist-packages (from pyasn1-modules>=0.2.1->google-auth>=1.4.1->earthengine-api->sepal_ui) (0.5.1)\n",
            "Requirement already satisfied: annotated-types>=0.4.0 in /usr/local/lib/python3.10/dist-packages (from pydantic~=2.0->rio-cogeo->localtileserver>=0.7.0->sepal_ui) (0.6.0)\n",
            "Requirement already satisfied: pydantic-core==2.16.3 in /usr/local/lib/python3.10/dist-packages (from pydantic~=2.0->rio-cogeo->localtileserver>=0.7.0->sepal_ui) (2.16.3)\n",
            "Requirement already satisfied: notebook>=4.4.1 in /usr/local/lib/python3.10/dist-packages (from widgetsnbextension~=3.6.0->ipywidgets<9,>=7.6.0->ipyleaflet>=0.14.0->sepal_ui) (6.5.5)\n",
            "Requirement already satisfied: argon2-cffi-bindings in /usr/local/lib/python3.10/dist-packages (from argon2-cffi->jupyter-server>=1.0->jupyter-server-proxy->sepal_ui) (21.2.0)\n",
            "Requirement already satisfied: soupsieve>1.2 in /usr/local/lib/python3.10/dist-packages (from beautifulsoup4->nbconvert<8.0.0,>=7.11.0->pipreqs->sepal_ui) (2.5)\n",
            "Requirement already satisfied: executing>=1.2.0 in /usr/local/lib/python3.10/dist-packages (from stack-data->ipython>=5.0.0->ipykernel->sepal_ui) (2.0.1)\n",
            "Requirement already satisfied: asttokens>=2.1.0 in /usr/local/lib/python3.10/dist-packages (from stack-data->ipython>=5.0.0->ipykernel->sepal_ui) (2.4.1)\n",
            "Requirement already satisfied: pure-eval in /usr/local/lib/python3.10/dist-packages (from stack-data->ipython>=5.0.0->ipykernel->sepal_ui) (0.2.2)\n",
            "Requirement already satisfied: nbclassic>=0.4.7 in /usr/local/lib/python3.10/dist-packages (from notebook>=4.4.1->widgetsnbextension~=3.6.0->ipywidgets<9,>=7.6.0->ipyleaflet>=0.14.0->sepal_ui) (1.0.0)\n",
            "Requirement already satisfied: cffi>=1.0.1 in /usr/local/lib/python3.10/dist-packages (from argon2-cffi-bindings->argon2-cffi->jupyter-server>=1.0->jupyter-server-proxy->sepal_ui) (1.16.0)\n",
            "Requirement already satisfied: pycparser in /usr/local/lib/python3.10/dist-packages (from cffi>=1.0.1->argon2-cffi-bindings->argon2-cffi->jupyter-server>=1.0->jupyter-server-proxy->sepal_ui) (2.21)\n",
            "Requirement already satisfied: notebook-shim>=0.2.3 in /usr/local/lib/python3.10/dist-packages (from nbclassic>=0.4.7->notebook>=4.4.1->widgetsnbextension~=3.6.0->ipywidgets<9,>=7.6.0->ipyleaflet>=0.14.0->sepal_ui) (0.2.4)\n",
            "sepal_ui has been installed.\n",
            "/content/sepal_mgci\n",
            "imports complete\n"
          ]
        }
      ],
      "source": [
        "import ee\n",
        "def install_if_not_exists(package_name):\n",
        "    \"\"\"\n",
        "    Installs a Python package if it's not already installed.\n",
        "\n",
        "    Parameters:\n",
        "    package_name (str): The name of the package to install.\n",
        "    \"\"\"\n",
        "    try:\n",
        "        import package_name\n",
        "        print(f\"{package_name} is already installed.\")\n",
        "    except ImportError:\n",
        "        !pip install {package_name}\n",
        "        print(f\"{package_name} has been installed.\")\n",
        "\n",
        "\n",
        "install_if_not_exists('pygaul')\n",
        "install_if_not_exists('sepal_ui')\n",
        "\n",
        "import pygaul\n",
        "import pandas as pd\n",
        "from pathlib import Path\n",
        "from openpyxl.utils import get_column_letter\n",
        "from openpyxl.styles import Alignment\n",
        "\n",
        "%cd \"/content/sepal_mgci\"\n",
        "\n",
        "# import component.parameter.module_parameter as param ## using only parameters needed instead\n",
        "\n",
        "from component.parameter.module_parameter import DEM_DEFAULT\n",
        "from component.parameter.module_parameter import LC_MAP_MATRIX\n",
        "\n",
        "gee_project_name = \"ee-andyarnellgee\" # need a valid google project name\n",
        "ee.Authenticate()\n",
        "ee.Initialize(project = gee_project_name)\n",
        "\n",
        "from component.scripts.gee import reduce_regions\n",
        "from component.scripts.scripts import get_a_years, map_matrix_to_dict, parse_result\n",
        "from component.scripts.scripts import read_from_csv\n",
        "from component.scripts import sub_a as sub_a\n",
        "from component.scripts import sub_b as sub_b\n",
        "from component.scripts import mountain_area as mntn\n",
        "\n",
        "print (\"imports complete\")\n"
      ]
    },
    {
      "cell_type": "markdown",
      "source": [
        "#### Access to Google Drive for script to retrieve output csvs.\n",
        "\n",
        "Alternatively these can be uploaded. To do open the File panel by clicking on the file icon on the left, then navigate to folder XXXX and click the upload icon (a sheet of paper with an up arrow in it) to upload the files (may need to zip, upload then unzip)."
      ],
      "metadata": {
        "id": "aUVGL6zwLpX5"
      }
    },
    {
      "cell_type": "code",
      "source": [
        "from google.colab import drive\n",
        "drive.mount('/content/drive')\n"
      ],
      "metadata": {
        "id": "NorUzAJ8Kj0Z",
        "outputId": "65960a03-ef2e-4b1c-ed5f-ffa13af1924c",
        "colab": {
          "base_uri": "https://localhost:8080/"
        }
      },
      "execution_count": 12,
      "outputs": [
        {
          "output_type": "stream",
          "name": "stdout",
          "text": [
            "Drive already mounted at /content/drive; to attempt to forcibly remount, call drive.mount(\"/content/drive\", force_remount=True).\n"
          ]
        }
      ]
    },
    {
      "cell_type": "code",
      "execution_count": 13,
      "metadata": {
        "id": "BCaI_4Ixu_f6"
      },
      "outputs": [],
      "source": [
        "# Here I'm using pygaul to get the AOI based on the name\n",
        "# but you can use any feature collection from Earth Engine\n",
        "# just replace the aoi with your feature collection.\n",
        "\n",
        "aoi_name = \"Risaralda\"\n",
        "aoi = pygaul.Items(aoi_name)"
      ]
    },
    {
      "cell_type": "markdown",
      "metadata": {
        "id": "c_8UzlUnu_f6"
      },
      "source": [
        "## SUB INDICATOR A"
      ]
    },
    {
      "cell_type": "code",
      "execution_count": 14,
      "metadata": {
        "id": "PRSEqq5bu_f7"
      },
      "outputs": [],
      "source": [
        "# Read the default land cover remapping table and convert it to a dictionary\n",
        "# default_map_matrix = map_matrix_to_dict(param.LC_MAP_MATRIX)\n",
        "default_map_matrix = map_matrix_to_dict(LC_MAP_MATRIX)"
      ]
    },
    {
      "cell_type": "code",
      "execution_count": 15,
      "metadata": {
        "id": "PwqJFWR4u_f7"
      },
      "outputs": [],
      "source": [
        "# For SUB_A indicator, we need to set the following structure\n",
        "a_years = {\n",
        "    1: {\"asset\": \"users/amitghosh/sdg_module/esa/cci_landcover/2000\", \"year\": 2000},\n",
        "    2: {\"year\": 2003, \"asset\": \"users/amitghosh/sdg_module/esa/cci_landcover/2003\"},\n",
        "    3: {\"year\": 2007, \"asset\": \"users/amitghosh/sdg_module/esa/cci_landcover/2007\"},\n",
        "    4: {\"year\": 2010, \"asset\": \"users/amitghosh/sdg_module/esa/cci_landcover/2010\"},\n",
        "}\n",
        "\n",
        "# Just extract the years from the a_years dictionary\n",
        "single_years = [y[\"year\"] for  y in a_years.values()]"
      ]
    },
    {
      "cell_type": "code",
      "execution_count": 16,
      "metadata": {
        "id": "VftKLuY4u_f7"
      },
      "outputs": [],
      "source": [
        "process = ee.FeatureCollection([\n",
        "    ee.Feature(\n",
        "        None,\n",
        "        reduce_regions(\n",
        "            aoi,\n",
        "            remap_matrix=default_map_matrix,\n",
        "            rsa=False,\n",
        "            # dem=param.DEM_DEFAULT,\n",
        "            dem=DEM_DEFAULT,\n",
        "            lc_years= year,\n",
        "            transition_matrix=False\n",
        "        )\n",
        "    ).set(\"process_id\", year[0][\"year\"])\n",
        " for year in get_a_years(a_years)\n",
        "])"
      ]
    },
    {
      "cell_type": "code",
      "execution_count": 17,
      "metadata": {
        "id": "u8rTNGFzu_f7"
      },
      "outputs": [],
      "source": [
        "task_name = \"Risaralda_sub_a_3\""
      ]
    },
    {
      "cell_type": "code",
      "execution_count": 18,
      "metadata": {
        "id": "9H-7Q1Tcu_f8"
      },
      "outputs": [],
      "source": [
        "task = ee.batch.Export.table.toDrive(\n",
        "    **{\n",
        "        \"collection\": process,\n",
        "        \"description\": task_name,\n",
        "        \"fileFormat\": \"CSV\",\n",
        "        \"selectors\": [\n",
        "            \"process_id\",\n",
        "            \"sub_a\",\n",
        "        ],\n",
        "    }\n",
        ")\n",
        "task.start()"
      ]
    },
    {
      "cell_type": "markdown",
      "metadata": {
        "id": "vM0SIvJtu_f8"
      },
      "source": [
        "# Read, process, and create report tables"
      ]
    },
    {
      "cell_type": "code",
      "source": [
        "# Install the necessary libraries\n",
        "!pip install -U -q google-api-python-client google-auth-httplib2 google-auth-oauthlib\n",
        "\n",
        "from google.colab import auth\n",
        "from googleapiclient.discovery import build\n",
        "\n",
        "def create_folder(folder_name, parent_folder_id=None):\n",
        "    \"\"\"\n",
        "    Create a folder in Google Drive.\n",
        "\n",
        "    Args:\n",
        "    - folder_name (str): Name of the folder to be created.\n",
        "    - parent_folder_id (str): ID of the parent folder where the new folder will be created.\n",
        "                              Default is None, meaning the folder will be created in the root.\n",
        "\n",
        "    Returns:\n",
        "    - str: ID of the newly created folder.\n",
        "    \"\"\"\n",
        "    # Authenticate user\n",
        "    auth.authenticate_user()\n",
        "\n",
        "    # Build the Drive v3 service\n",
        "    drive_service = build('drive', 'v3')\n",
        "\n",
        "    # Prepare folder metadata\n",
        "    folder_metadata = {\n",
        "        'name': folder_name,\n",
        "        'mimeType': 'application/vnd.google-apps.folder'\n",
        "    }\n",
        "    if parent_folder_id:\n",
        "        folder_metadata['parents'] = [parent_folder_id]\n",
        "\n",
        "    # Create the folder\n",
        "    folder = drive_service.files().create(body=folder_metadata, fields='id').execute()\n",
        "\n",
        "    # Return the ID of the newly created folder\n",
        "    return folder.get('id')\n",
        "\n",
        "# Provide the folder name you want to create\n",
        "folder_name = \"MyFolder\"\n",
        "\n",
        "# Optional: If you want to place the folder inside another folder, provide the parent folder ID.\n",
        "# If not, leave parent_folder_id as None.\n",
        "parent_folder_id = None\n",
        "\n",
        "# Create the folder\n",
        "folder_id = create_folder(folder_name, parent_folder_id)\n",
        "\n",
        "print(f\"Folder '{folder_name}')# created with ID: {folder_id}\")\n",
        "\n",
        "\n"
      ],
      "metadata": {
        "id": "Nrud-I9qV-gG",
        "outputId": "3033b3de-9a38-43c4-db00-4489daf7f49b",
        "colab": {
          "base_uri": "https://localhost:8080/"
        }
      },
      "execution_count": 128,
      "outputs": [
        {
          "output_type": "stream",
          "name": "stdout",
          "text": [
            "Folder 'MyFolder')# created with ID: 1YFkJ0GKDL57SwRk-PuJEGxStWEFUKtdb\n"
          ]
        }
      ]
    },
    {
      "cell_type": "code",
      "execution_count": 154,
      "metadata": {
        "id": "IA0zW-cIu_f8"
      },
      "outputs": [],
      "source": [
        "# Install the necessary libraries\n",
        "!pip install -U -q google-api-python-client google-auth-httplib2 google-auth-oauthlib\n",
        "\n",
        "from google.colab import auth\n",
        "from googleapiclient.discovery import build\n",
        "\n",
        "def folder_exists(folder_name, parent_folder_id=None):\n",
        "    \"\"\"\n",
        "    Check if a folder exists in Google Drive.\n",
        "\n",
        "    Args:\n",
        "    - folder_name (str): Name of the folder to check.\n",
        "    - parent_folder_id (str): ID of the parent folder where to search for the folder.\n",
        "                              Default is None, meaning the search will be performed in the root.\n",
        "\n",
        "    Returns:\n",
        "    - bool: True if the folder exists, False otherwise.\n",
        "    \"\"\"\n",
        "    # Authenticate user\n",
        "    auth.authenticate_user()\n",
        "\n",
        "    # Build the Drive v3 service\n",
        "    drive_service = build('drive', 'v3')\n",
        "\n",
        "    # Prepare query to check if folder exists\n",
        "    query = f\"name='{folder_name}' and mimeType='application/vnd.google-apps.folder' and trashed=false\"\n",
        "    if parent_folder_id:\n",
        "        query += f\" and '{parent_folder_id}' in parents\"\n",
        "\n",
        "    try:\n",
        "        # Execute the search query\n",
        "        folders = drive_service.files().list(q=query, fields='files(id)', includeItemsFromAllDrives=True, supportsAllDrives=True).execute().get('files', [])\n",
        "        return bool(folders)\n",
        "    except Exception as e:\n",
        "        print(f\"An error occurred: {e}\")\n",
        "        return False\n",
        "\n",
        "# # Example usage:\n",
        "# folder_name = \"MyFolder\"\n",
        "# parent_folder_id = None  # Change this to the parent folder ID if necessary\n",
        "# exists = folder_exists(folder_name, parent_folder_id)\n",
        "# print(f\"Folder '{folder_name}' exists: {exists}\")\n",
        "\n",
        "\n",
        "def create_folder(folder_name, parent_folder_id=None):\n",
        "    \"\"\"\n",
        "    Create a folder in Google Drive.\n",
        "\n",
        "    Args:\n",
        "    - folder_name (str): Name of the folder to be created.\n",
        "    - parent_folder_id (str): ID of the parent folder where the new folder will be created.\n",
        "                              Default is None, meaning the folder will be created in the root.\n",
        "\n",
        "    Returns:\n",
        "    - str: ID of the newly created folder.\n",
        "    \"\"\"\n",
        "    # Authenticate user\n",
        "    auth.authenticate_user()\n",
        "\n",
        "    # Build the Drive v3 service\n",
        "    drive_service = build('drive', 'v3')\n",
        "\n",
        "    # Prepare folder metadata\n",
        "    folder_metadata = {\n",
        "        'name': folder_name,\n",
        "        'mimeType': 'application/vnd.google-apps.folder'\n",
        "    }\n",
        "    if parent_folder_id:\n",
        "        folder_metadata['parents'] = [parent_folder_id]\n",
        "\n",
        "    # Create the folder\n",
        "    folder = drive_service.files().create(body=folder_metadata, fields='id').execute()\n",
        "\n",
        "    # Return the ID of the newly created folder\n",
        "    return folder.get('id')\n",
        "\n",
        "def create_folder_if_not_exists(folder_name, parent_folder_id=None):\n",
        "    \"\"\"\n",
        "    Create a folder in Google Drive if it doesn't already exist.\n",
        "\n",
        "    Args:\n",
        "    - folder_name (str): Name of the folder to be created.\n",
        "    - parent_folder_id (str): ID of the parent folder where the new folder will be created.\n",
        "                              Default is None, meaning the folder will be created in the root.\n",
        "\n",
        "    Returns:\n",
        "    - str: ID of the newly created folder or the existing folder if it already exists.\n",
        "    \"\"\"\n",
        "    if folder_exists(folder_name, parent_folder_id):\n",
        "        print(f\"Folder '{folder_name}' already exists.\")\n",
        "        return None\n",
        "    else:\n",
        "        return create_folder(folder_name, parent_folder_id)\n"
      ]
    },
    {
      "cell_type": "markdown",
      "source": [],
      "metadata": {
        "id": "hc24T8boYnbX"
      }
    },
    {
      "cell_type": "markdown",
      "source": [
        "#####Manually check your earth engine task status, once the task is completed, run the next cell\n",
        "##### according to the task name you have set above."
      ],
      "metadata": {
        "id": "3x7jwkZJWwE-"
      }
    },
    {
      "cell_type": "code",
      "source": [
        "drive_home =\"/content/drive/My Drive/\"\n",
        "results_folder = \"\"\n",
        "results_file = \"Risaralda_sub_a_3.csv\"\n",
        "# report_folder = \"Risaralda\"\n",
        "report_folder = \"sdg_15_4_2_reports\"\n",
        "report_file = \"sdg_report_name.xlsx\"\n",
        "# with open(file_path, 'r') as file:\n",
        "#     contents = file.read()\n",
        "#     print(contents)\n"
      ],
      "metadata": {
        "id": "R4IccBmdObeP"
      },
      "execution_count": 166,
      "outputs": []
    },
    {
      "cell_type": "code",
      "execution_count": 179,
      "metadata": {
        "id": "36gQJUf_u_f8",
        "colab": {
          "base_uri": "https://localhost:8080/"
        },
        "outputId": "b8b455c3-3d3f-4cf5-d6fa-de123fe17c43"
      },
      "outputs": [
        {
          "output_type": "stream",
          "name": "stdout",
          "text": [
            "Folder 'sdg_15_4_2_reports' already exists.\n",
            "/content/drive/My Drive/sdg_15_4_2_reports/sdg_report_name.xlsx\n"
          ]
        }
      ],
      "source": [
        "# results_file_path = Path().home()/ \"downloads\"/ \"Risaralda_sub_a_3.csv\"\n",
        "results_file_path = drive_home + results_folder + results_file\n",
        "# report_folder = Path().home() / \"downloads\" / \"Risaralda\"\n",
        "\n",
        "# report_folder.mkdir(exist_ok=True)\n",
        "\n",
        "# Optional: If you want to place the folder inside another folder, provide the parent folder ID.\n",
        "# If not, leave parent_folder_id as None.\n",
        "parent_folder_id = None\n",
        "\n",
        "# Create the folder in Google Drive if it doesn't exist\n",
        "create_folder_if_not_exists(report_folder)#, parent_folder_id)\n",
        "\n",
        "report_file_path = drive_home + report_folder + \"/\"+report_file\n",
        "\n",
        "output_name = str(\n",
        "    Path(report_file_path )\n",
        ")\n",
        "print(report_file_path)"
      ]
    },
    {
      "cell_type": "code",
      "execution_count": 180,
      "metadata": {
        "id": "1HCEZNe-u_f8"
      },
      "outputs": [],
      "source": [
        "# This line will read the results from the CSV file and parse it to a dictionary\n",
        "dict_results = read_from_csv(results_file_path)"
      ]
    },
    {
      "cell_type": "code",
      "execution_count": 181,
      "metadata": {
        "id": "qkpDfHqQu_f9"
      },
      "outputs": [],
      "source": [
        "# Some extra details that have to be manually added to the report\n",
        "details = {\n",
        "    \"geo_area_name\" : \" \",\n",
        "    \"ref_area\" : \" \",\n",
        "    \"source_detail\" : \" \",\n",
        "}"
      ]
    },
    {
      "cell_type": "code",
      "execution_count": 182,
      "metadata": {
        "id": "xZ8U_SSRu_f9",
        "outputId": "d4bbb492-28c6-4200-d1f1-1559da435557",
        "colab": {
          "base_uri": "https://localhost:8080/"
        }
      },
      "outputs": [
        {
          "output_type": "stream",
          "name": "stdout",
          "text": [
            "Reporting 2000 for sub_a\n"
          ]
        },
        {
          "output_type": "stream",
          "name": "stderr",
          "text": [
            "/content/sepal_mgci/component/scripts/sub_a.py:72: SettingWithCopyWarning: \n",
            "A value is trying to be set on a copy of a slice from a DataFrame.\n",
            "Try using .loc[row_indexer,col_indexer] = value instead\n",
            "\n",
            "See the caveats in the documentation: https://pandas.pydata.org/pandas-docs/stable/user_guide/indexing.html#returning-a-view-versus-a-copy\n",
            "  by_lc_df[\"belt_class\"] = \"Total\"\n"
          ]
        },
        {
          "output_type": "stream",
          "name": "stdout",
          "text": [
            "Reporting 2000 for mtn\n",
            "Reporting 2003 for sub_a\n",
            "Reporting 2003 for mtn\n",
            "Reporting 2007 for sub_a\n",
            "Reporting 2007 for mtn\n",
            "Reporting 2010 for sub_a\n",
            "Reporting 2010 for mtn\n"
          ]
        }
      ],
      "source": [
        "# Following lines will generate the reports for the sub_a and mtn indicators\n",
        "sub_a_reports = []\n",
        "mtn_reports = []\n",
        "\n",
        "for year in single_years:\n",
        "    print(f\"Reporting {year} for sub_a\")\n",
        "    parsed_df = parse_result(dict_results[year][\"sub_a\"], single=True)\n",
        "\n",
        "    sub_a_reports.append(sub_a.get_reports(parsed_df, year, **details))\n",
        "\n",
        "    print(f\"Reporting {year} for mtn\")\n",
        "    mtn_reports.append(mntn.get_report(parsed_df, year, **details))\n"
      ]
    },
    {
      "cell_type": "code",
      "execution_count": 183,
      "metadata": {
        "id": "jwgWD8rTu_f9"
      },
      "outputs": [],
      "source": [
        "mtn_reports_df = pd.concat(mtn_reports)\n",
        "\n",
        "# sub a reports\n",
        "er_mtn_grnvi_df = pd.concat([report[0] for report in sub_a_reports])\n",
        "er_mtn_grncov_df = pd.concat([report[1] for report in sub_a_reports])\n"
      ]
    },
    {
      "cell_type": "code",
      "execution_count": 184,
      "metadata": {
        "id": "NsVuYMq3u_f-"
      },
      "outputs": [],
      "source": [
        "# This will create the excel file with the reports\n",
        "\n",
        "with pd.ExcelWriter(output_name) as writer:\n",
        "    mtn_reports_df.to_excel(writer, sheet_name=\"Table1_ER_MTN_TOTL\", index=False)\n",
        "    er_mtn_grncov_df.to_excel(\n",
        "        writer, sheet_name=\"Table2_ER_MTN_GRNCOV\", index=False\n",
        "    )\n",
        "    er_mtn_grnvi_df.to_excel(writer, sheet_name=\"Table3_ER_MTN_GRNCVI\", index=False)\n",
        "\n",
        "    for sheetname in writer.sheets:\n",
        "        worksheet = writer.sheets[sheetname]\n",
        "        for col in worksheet.columns:\n",
        "            max_length = 0\n",
        "            column = col[0]\n",
        "            for cell in col:\n",
        "                try:\n",
        "                    if len(str(cell.value)) > max_length:\n",
        "                        max_length = len(cell.value)\n",
        "                except:\n",
        "                    pass\n",
        "            adjusted_width = max(max_length, len(str(column.value))) + 4\n",
        "            worksheet.column_dimensions[get_column_letter(column.column)].width = (\n",
        "                adjusted_width\n",
        "            )\n",
        "\n",
        "            # Align \"obs_value\" column to the right\n",
        "            if \"OBS\" in column.value:\n",
        "                for cell in col:\n",
        "                    cell.alignment = Alignment(horizontal=\"right\")"
      ]
    },
    {
      "cell_type": "code",
      "source": [],
      "metadata": {
        "id": "9kpBqK4yZgd1"
      },
      "execution_count": 184,
      "outputs": []
    }
  ],
  "metadata": {
    "kernelspec": {
      "display_name": "(test) test-sepal_mgci",
      "language": "python",
      "name": "test-sepal_mgci"
    },
    "language_info": {
      "codemirror_mode": {
        "name": "ipython",
        "version": 3
      },
      "file_extension": ".py",
      "mimetype": "text/x-python",
      "name": "python",
      "nbconvert_exporter": "python",
      "pygments_lexer": "ipython3",
      "version": "3.10.12"
    },
    "colab": {
      "provenance": [],
      "include_colab_link": true
    }
  },
  "nbformat": 4,
  "nbformat_minor": 0
}