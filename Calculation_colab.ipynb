{
  "cells": [
    {
      "cell_type": "markdown",
      "metadata": {
        "id": "view-in-github",
        "colab_type": "text"
      },
      "source": [
        "<a href=\"https://colab.research.google.com/github/andyarnell/sepal_mgci/blob/master/Calculation_colab.ipynb\" target=\"_parent\"><img src=\"https://colab.research.google.com/assets/colab-badge.svg\" alt=\"Open In Colab\"/></a>"
      ]
    },
    {
      "cell_type": "markdown",
      "source": [
        "### **SDG 15.4.2 Subcomponent A: Calculate Global Default Values**\n",
        "\n",
        "* This script allows batch processing for this indicator for all countries.\n",
        "\n",
        "* Output is a combined excel file on your Google Drive.\n",
        "\n",
        "* Runs on the cloud using [Google Colab](https://research.google.com/colaboratory/faq.html)\n",
        "\n",
        "* Requires: [Google Earth Engine](https://earthengine.google.com/) (GEE) account and project and access to Google Drive\n",
        "\n"
      ],
      "metadata": {
        "id": "82FWR5yMh0HV"
      }
    },
    {
      "cell_type": "markdown",
      "source": [
        "##Set parameters\n"
      ],
      "metadata": {
        "id": "Bi0XpRRDo6V1"
      }
    },
    {
      "cell_type": "markdown",
      "source": [
        "Inputs"
      ],
      "metadata": {
        "id": "5aIr_OxkG-Ky"
      }
    },
    {
      "cell_type": "code",
      "source": [
        "# Google Earth Engine project\n",
        "\n",
        "gee_project_name = \"ee-andyarnellgee\"  # a registered cloud project (if unsure of name see pic here: https://developers.google.com/earth-engine/cloud/assets)\n",
        "\n",
        "\n",
        "# Admin boundaries asset\n",
        "\n",
        "admin_asset_id = \"FAO/GAUL/2015/level0\" # administrative units feature collection\n",
        "\n",
        "admin_asset_property_name = \"ADM0_NAME\" # property/column name for selecting admin boundaries (e.g. ISO3 code or country name)\n",
        "\n",
        "\n",
        "# Land cover assets\n",
        "\n",
        "# For SUB_A indicator, we need to set the following structure.\n",
        "a_years = {\n",
        "    1: {\"asset\": \"users/amitghosh/sdg_module/esa/cci_landcover/2000\", \"year\": 2000}, # baseline\n",
        "    2: {\"year\": 2003, \"asset\": \"users/amitghosh/sdg_module/esa/cci_landcover/2003\"}, # subsequent reporting years...\n",
        "    3: {\"year\": 2007, \"asset\": \"users/amitghosh/sdg_module/esa/cci_landcover/2007\"},\n",
        "    4: {\"year\": 2010, \"asset\": \"users/amitghosh/sdg_module/esa/cci_landcover/2010\"},\n",
        "}\n"
      ],
      "metadata": {
        "id": "t9C1qT5bGoqt"
      },
      "execution_count": null,
      "outputs": []
    },
    {
      "cell_type": "markdown",
      "source": [
        "Outputs\n",
        "\n",
        "---\n",
        "\n"
      ],
      "metadata": {
        "id": "naz3Qe4JHFER"
      }
    },
    {
      "cell_type": "code",
      "source": [
        "final_report_folder = \"sdg_15_4_2_A_combined_report\" # folder name in Google Drive for final output (if doesnt exist creates one)\n",
        "\n",
        "final_report_name = \"sdg_15_4_2_A_default_global.xlsx\" # file name for final excel output\n",
        "\n",
        "# export GEE tasks or not\n",
        "export = False # default: True. Set to False if debugging or limiting accidental re-exporting of tasks\n",
        "\n",
        "# prints more messages\n",
        "debug = False # default: False. Set to True if debugging code"
      ],
      "metadata": {
        "id": "mSvTM29TnndR",
        "outputId": "7b71b8ed-22f0-4bef-b254-27642a7d3244",
        "colab": {
          "base_uri": "https://localhost:8080/",
          "height": 17
        }
      },
      "execution_count": null,
      "outputs": [
        {
          "output_type": "display_data",
          "data": {
            "text/plain": [
              "<IPython.core.display.HTML object>"
            ],
            "text/html": [
              "\n",
              "            <style>\n",
              "                .geemap-dark {\n",
              "                    --jp-widgets-color: white;\n",
              "                    --jp-widgets-label-color: white;\n",
              "                    --jp-ui-font-color1: white;\n",
              "                    --jp-layout-color2: #454545;\n",
              "                    background-color: #383838;\n",
              "                }\n",
              "\n",
              "                .geemap-dark .jupyter-button {\n",
              "                    --jp-layout-color3: #383838;\n",
              "                }\n",
              "\n",
              "                .geemap-colab {\n",
              "                    background-color: var(--colab-primary-surface-color, white);\n",
              "                }\n",
              "\n",
              "                .geemap-colab .jupyter-button {\n",
              "                    --jp-layout-color3: var(--colab-primary-surface-color, white);\n",
              "                }\n",
              "            </style>\n",
              "            "
            ]
          },
          "metadata": {}
        }
      ]
    },
    {
      "cell_type": "markdown",
      "source": [
        "Temporary outputs\n"
      ],
      "metadata": {
        "id": "iV8-wbddOJuT"
      }
    },
    {
      "cell_type": "code",
      "source": [
        "stats_csv_folder = \"sdg_15_4_2_A_csvs\" # for storing stats tables exported from GEE for each admin boundary/AOI\n",
        "\n",
        "excel_reports_folder = \"sdg_15_4_2_A_reports\" # for storing formatted excel tables for each admin boundary/AOI\n",
        "\n",
        "error_log_file_path = drive_home + excel_reports_folder + \"/\"+\"1_error_log\" +\".csv\" # for storing errors\n"
      ],
      "metadata": {
        "id": "TCBNkALuOL1N"
      },
      "execution_count": null,
      "outputs": []
    },
    {
      "cell_type": "markdown",
      "source": [
        "### Setup Google Earth Engine\n",
        "Launches access request pop up window"
      ],
      "metadata": {
        "id": "FAzzmzMHzFmS"
      }
    },
    {
      "cell_type": "code",
      "source": [
        "import ee # google earth engine\n",
        "\n",
        "ee.Authenticate()\n",
        "\n",
        "ee.Initialize(project=gee_project_name) # NB gee project name is defined in parameters section"
      ],
      "metadata": {
        "id": "gHI-M8y_qwaP",
        "outputId": "44f4646d-834b-4552-d4e1-59555a7c6b6c",
        "colab": {
          "base_uri": "https://localhost:8080/",
          "height": 17
        }
      },
      "execution_count": null,
      "outputs": [
        {
          "output_type": "display_data",
          "data": {
            "text/plain": [
              "<IPython.core.display.HTML object>"
            ],
            "text/html": [
              "\n",
              "            <style>\n",
              "                .geemap-dark {\n",
              "                    --jp-widgets-color: white;\n",
              "                    --jp-widgets-label-color: white;\n",
              "                    --jp-ui-font-color1: white;\n",
              "                    --jp-layout-color2: #454545;\n",
              "                    background-color: #383838;\n",
              "                }\n",
              "\n",
              "                .geemap-dark .jupyter-button {\n",
              "                    --jp-layout-color3: #383838;\n",
              "                }\n",
              "\n",
              "                .geemap-colab {\n",
              "                    background-color: var(--colab-primary-surface-color, white);\n",
              "                }\n",
              "\n",
              "                .geemap-colab .jupyter-button {\n",
              "                    --jp-layout-color3: var(--colab-primary-surface-color, white);\n",
              "                }\n",
              "            </style>\n",
              "            "
            ]
          },
          "metadata": {}
        }
      ]
    },
    {
      "cell_type": "markdown",
      "source": [
        "#### Access GitHub\n",
        "Clones repository for SDG 15.4.2 into colab. Allows functions, lookup tables etc\n"
      ],
      "metadata": {
        "id": "qGfLFLEkwS1n"
      }
    },
    {
      "cell_type": "code",
      "source": [
        "# Change the current working directory to \"/content\".\n",
        "%cd \"/content\"\n",
        "\n",
        "# Clone the GitHub repository \"sepal_mgci\" into the current directory.\n",
        "# NB if 'fatal' error on reruns, it's just saying it already exists\n",
        "!git clone https://github.com/sepal_mgci.git"
      ],
      "metadata": {
        "colab": {
          "base_uri": "https://localhost:8080/"
        },
        "id": "TNohZrOTvNqT",
        "outputId": "6d2bc76b-ca8c-4c94-9613-1a8516432b1a"
      },
      "execution_count": 3,
      "outputs": [
        {
          "output_type": "stream",
          "name": "stdout",
          "text": [
            "/content\n",
            "Cloning into 'sepal_mgci'...\n",
            "remote: Not Found\n",
            "fatal: repository 'https://github.com/sepal_mgci.git/' not found\n"
          ]
        }
      ]
    },
    {
      "cell_type": "markdown",
      "source": [
        "#### Install required packages"
      ],
      "metadata": {
        "id": "YdoCOI_1yWY0"
      }
    },
    {
      "cell_type": "code",
      "execution_count": 4,
      "metadata": {
        "colab": {
          "base_uri": "https://localhost:8080/",
          "height": 679
        },
        "id": "Kg3K1EPJu_f5",
        "outputId": "fb5428ef-d012-483d-e194-f04d42fb27a5"
      },
      "outputs": [
        {
          "output_type": "stream",
          "name": "stdout",
          "text": [
            "geemap is already installed.\n",
            "\u001b[2K     \u001b[90m━━━━━━━━━━━━━━━━━━━━━━━━━━━━━━━━━━━━━━━━\u001b[0m \u001b[32m235.5/235.5 kB\u001b[0m \u001b[31m1.8 MB/s\u001b[0m eta \u001b[36m0:00:00\u001b[0m\n",
            "\u001b[?25hunidecode has been installed.\n",
            "google-api-python-client has been installed.\n",
            "google-auth-httplib2 has been installed.\n",
            "google-auth-oauthlib has been installed.\n",
            "\u001b[2K     \u001b[90m━━━━━━━━━━━━━━━━━━━━━━━━━━━━━━━━━━━━━━━━\u001b[0m \u001b[32m893.2/893.2 kB\u001b[0m \u001b[31m5.2 MB/s\u001b[0m eta \u001b[36m0:00:00\u001b[0m\n",
            "\u001b[2K     \u001b[90m━━━━━━━━━━━━━━━━━━━━━━━━━━━━━━━━━━━━━━━━\u001b[0m \u001b[32m6.1/6.1 MB\u001b[0m \u001b[31m23.1 MB/s\u001b[0m eta \u001b[36m0:00:00\u001b[0m\n",
            "\u001b[2K     \u001b[90m━━━━━━━━━━━━━━━━━━━━━━━━━━━━━━━━━━━━━━━━\u001b[0m \u001b[32m53.7/53.7 kB\u001b[0m \u001b[31m4.8 MB/s\u001b[0m eta \u001b[36m0:00:00\u001b[0m\n",
            "\u001b[2K     \u001b[90m━━━━━━━━━━━━━━━━━━━━━━━━━━━━━━━━━━━━━━━━\u001b[0m \u001b[32m80.4/80.4 kB\u001b[0m \u001b[31m7.9 MB/s\u001b[0m eta \u001b[36m0:00:00\u001b[0m\n",
            "\u001b[2K     \u001b[90m━━━━━━━━━━━━━━━━━━━━━━━━━━━━━━━━━━━━━━━━\u001b[0m \u001b[32m17.1/17.1 MB\u001b[0m \u001b[31m21.3 MB/s\u001b[0m eta \u001b[36m0:00:00\u001b[0m\n",
            "\u001b[2K     \u001b[90m━━━━━━━━━━━━━━━━━━━━━━━━━━━━━━━━━━━━━━━━\u001b[0m \u001b[32m553.7/553.7 kB\u001b[0m \u001b[31m24.5 MB/s\u001b[0m eta \u001b[36m0:00:00\u001b[0m\n",
            "\u001b[2K     \u001b[90m━━━━━━━━━━━━━━━━━━━━━━━━━━━━━━━━━━━━━━━━\u001b[0m \u001b[32m5.6/5.6 MB\u001b[0m \u001b[31m20.0 MB/s\u001b[0m eta \u001b[36m0:00:00\u001b[0m\n",
            "\u001b[2K     \u001b[90m━━━━━━━━━━━━━━━━━━━━━━━━━━━━━━━━━━━━━━━━\u001b[0m \u001b[32m289.9/289.9 kB\u001b[0m \u001b[31m19.0 MB/s\u001b[0m eta \u001b[36m0:00:00\u001b[0m\n",
            "\u001b[2K     \u001b[90m━━━━━━━━━━━━━━━━━━━━━━━━━━━━━━━━━━━━━━━━\u001b[0m \u001b[32m2.8/2.8 MB\u001b[0m \u001b[31m19.1 MB/s\u001b[0m eta \u001b[36m0:00:00\u001b[0m\n",
            "\u001b[2K     \u001b[90m━━━━━━━━━━━━━━━━━━━━━━━━━━━━━━━━━━━━━━━━\u001b[0m \u001b[32m263.0/263.0 kB\u001b[0m \u001b[31m16.2 MB/s\u001b[0m eta \u001b[36m0:00:00\u001b[0m\n",
            "\u001b[2K     \u001b[90m━━━━━━━━━━━━━━━━━━━━━━━━━━━━━━━━━━━━━━━━\u001b[0m \u001b[32m75.6/75.6 kB\u001b[0m \u001b[31m6.4 MB/s\u001b[0m eta \u001b[36m0:00:00\u001b[0m\n",
            "\u001b[2K     \u001b[90m━━━━━━━━━━━━━━━━━━━━━━━━━━━━━━━━━━━━━━━━\u001b[0m \u001b[32m61.4/61.4 kB\u001b[0m \u001b[31m6.8 MB/s\u001b[0m eta \u001b[36m0:00:00\u001b[0m\n",
            "\u001b[2K     \u001b[90m━━━━━━━━━━━━━━━━━━━━━━━━━━━━━━━━━━━━━━━━\u001b[0m \u001b[32m2.7/2.7 MB\u001b[0m \u001b[31m19.6 MB/s\u001b[0m eta \u001b[36m0:00:00\u001b[0m\n",
            "\u001b[?25h  Preparing metadata (setup.py) ... \u001b[?25l\u001b[?25hdone\n",
            "\u001b[2K     \u001b[90m━━━━━━━━━━━━━━━━━━━━━━━━━━━━━━━━━━━━━━━━\u001b[0m \u001b[32m798.3/798.3 kB\u001b[0m \u001b[31m19.1 MB/s\u001b[0m eta \u001b[36m0:00:00\u001b[0m\n",
            "\u001b[2K     \u001b[90m━━━━━━━━━━━━━━━━━━━━━━━━━━━━━━━━━━━━━━━━\u001b[0m \u001b[32m257.4/257.4 kB\u001b[0m \u001b[31m15.7 MB/s\u001b[0m eta \u001b[36m0:00:00\u001b[0m\n",
            "\u001b[2K     \u001b[90m━━━━━━━━━━━━━━━━━━━━━━━━━━━━━━━━━━━━━━━━\u001b[0m \u001b[32m1.6/1.6 MB\u001b[0m \u001b[31m14.0 MB/s\u001b[0m eta \u001b[36m0:00:00\u001b[0m\n",
            "\u001b[2K     \u001b[90m━━━━━━━━━━━━━━━━━━━━━━━━━━━━━━━━━━━━━━━━\u001b[0m \u001b[32m20.6/20.6 MB\u001b[0m \u001b[31m9.9 MB/s\u001b[0m eta \u001b[36m0:00:00\u001b[0m\n",
            "\u001b[2K     \u001b[90m━━━━━━━━━━━━━━━━━━━━━━━━━━━━━━━━━━━━━━━━\u001b[0m \u001b[32m52.8/52.8 kB\u001b[0m \u001b[31m4.2 MB/s\u001b[0m eta \u001b[36m0:00:00\u001b[0m\n",
            "\u001b[2K     \u001b[90m━━━━━━━━━━━━━━━━━━━━━━━━━━━━━━━━━━━━━━━━\u001b[0m \u001b[32m77.9/77.9 kB\u001b[0m \u001b[31m6.4 MB/s\u001b[0m eta \u001b[36m0:00:00\u001b[0m\n",
            "\u001b[2K     \u001b[90m━━━━━━━━━━━━━━━━━━━━━━━━━━━━━━━━━━━━━━━━\u001b[0m \u001b[32m58.3/58.3 kB\u001b[0m \u001b[31m5.3 MB/s\u001b[0m eta \u001b[36m0:00:00\u001b[0m\n",
            "\u001b[2K     \u001b[90m━━━━━━━━━━━━━━━━━━━━━━━━━━━━━━━━━━━━━━━━\u001b[0m \u001b[32m48.0/48.0 kB\u001b[0m \u001b[31m3.1 MB/s\u001b[0m eta \u001b[36m0:00:00\u001b[0m\n",
            "\u001b[2K     \u001b[90m━━━━━━━━━━━━━━━━━━━━━━━━━━━━━━━━━━━━━━━━\u001b[0m \u001b[32m57.5/57.5 kB\u001b[0m \u001b[31m5.2 MB/s\u001b[0m eta \u001b[36m0:00:00\u001b[0m\n",
            "\u001b[2K     \u001b[90m━━━━━━━━━━━━━━━━━━━━━━━━━━━━━━━━━━━━━━━━\u001b[0m \u001b[32m49.0/49.0 kB\u001b[0m \u001b[31m4.6 MB/s\u001b[0m eta \u001b[36m0:00:00\u001b[0m\n",
            "\u001b[2K     \u001b[90m━━━━━━━━━━━━━━━━━━━━━━━━━━━━━━━━━━━━━━━━\u001b[0m \u001b[32m187.9/187.9 kB\u001b[0m \u001b[31m10.2 MB/s\u001b[0m eta \u001b[36m0:00:00\u001b[0m\n",
            "\u001b[2K     \u001b[90m━━━━━━━━━━━━━━━━━━━━━━━━━━━━━━━━━━━━━━━━\u001b[0m \u001b[32m181.6/181.6 kB\u001b[0m \u001b[31m9.7 MB/s\u001b[0m eta \u001b[36m0:00:00\u001b[0m\n",
            "\u001b[2K     \u001b[90m━━━━━━━━━━━━━━━━━━━━━━━━━━━━━━━━━━━━━━━━\u001b[0m \u001b[32m60.8/60.8 kB\u001b[0m \u001b[31m6.3 MB/s\u001b[0m eta \u001b[36m0:00:00\u001b[0m\n",
            "\u001b[?25h  Building wheel for docopt (setup.py) ... \u001b[?25l\u001b[?25hdone\n",
            "\u001b[31mERROR: pip's dependency resolver does not currently take into account all the packages that are installed. This behaviour is the source of the following dependency conflicts.\n",
            "google-colab 1.0.0 requires ipython==7.34.0, but you have ipython 8.12.3 which is incompatible.\u001b[0m\u001b[31m\n",
            "\u001b[0msepal_ui has been installed.\n"
          ]
        }
      ],
      "source": [
        "# Load the autoreload extension to automatically reload modules.\n",
        "%load_ext autoreload\n",
        "\n",
        "# Set autoreload to reload all modules before executing code.\n",
        "%autoreload 2\n",
        "\n",
        "# Function to install a package if it's not already installed\n",
        "def install_if_not_exists(package_name):\n",
        "    try:\n",
        "        __import__(package_name)\n",
        "        print(f\"{package_name} is already installed.\")\n",
        "    except ImportError:\n",
        "        !pip install -q {package_name}\n",
        "        print(f\"{package_name} has been installed.\")\n",
        "\n",
        "# List of packages to install if not already installed\n",
        "packages_to_install = ['geemap', 'unidecode', 'google-api-python-client',\n",
        "                      'google-auth-httplib2', 'google-auth-oauthlib','sepal_ui']\n",
        "\n",
        "# Install necessary packages\n",
        "for package in packages_to_install:\n",
        "    install_if_not_exists(package)"
      ]
    },
    {
      "cell_type": "markdown",
      "source": [
        "#### Import packages"
      ],
      "metadata": {
        "id": "L5jsWgqWyiCP"
      }
    },
    {
      "cell_type": "code",
      "source": [
        "import os\n",
        "from datetime import datetime # for time stamping error log\n",
        "import pandas as pd # pandas library for tabular data manipulation\n",
        "import re # for manipulating strings\n",
        "from unidecode import unidecode # converting symbols in country names to ascii compliant (required for naming GEE tasks)\n",
        "\n",
        "# for accessing google drive\n",
        "from google.colab import auth, drive\n",
        "from googleapiclient.discovery import build\n",
        "\n",
        "# formatting excel report file\n",
        "from openpyxl.utils import get_column_letter\n",
        "from openpyxl.styles import Alignment\n",
        "\n",
        "# Change current directory to sepal_mgci (i.e. the local copy of the github repository)\n",
        "%cd \"/content/sepal_mgci\"\n",
        "\n",
        "# Import parameters for the default DEM asset and a lookup table for land cover reclassification\n",
        "from component.parameter.module_parameter import DEM_DEFAULT, LC_MAP_MATRIX\n",
        "\n",
        "# Import scripts and modules from cloned GitHub repository (i.e., functions for indicator calculation and formatting)\n",
        "from component.scripts.gee import reduce_regions # for running summary statistics in GEE\n",
        "from component.scripts.scripts import get_a_years, map_matrix_to_dict, parse_result, read_from_csv# parameter prep and reformatting\n",
        "from component.scripts import sub_a, sub_b, mountain_area as mntn ###TO DO: ADD DESCRIPTIONS\n",
        "\n",
        "print(\"Imports complete\")"
      ],
      "metadata": {
        "id": "xopY6C80GXl6",
        "outputId": "30b67d63-cc3e-401a-d214-b279b5c8724d",
        "colab": {
          "base_uri": "https://localhost:8080/",
          "height": 53
        }
      },
      "execution_count": null,
      "outputs": [
        {
          "output_type": "display_data",
          "data": {
            "text/plain": [
              "<IPython.core.display.HTML object>"
            ],
            "text/html": [
              "\n",
              "            <style>\n",
              "                .geemap-dark {\n",
              "                    --jp-widgets-color: white;\n",
              "                    --jp-widgets-label-color: white;\n",
              "                    --jp-ui-font-color1: white;\n",
              "                    --jp-layout-color2: #454545;\n",
              "                    background-color: #383838;\n",
              "                }\n",
              "\n",
              "                .geemap-dark .jupyter-button {\n",
              "                    --jp-layout-color3: #383838;\n",
              "                }\n",
              "\n",
              "                .geemap-colab {\n",
              "                    background-color: var(--colab-primary-surface-color, white);\n",
              "                }\n",
              "\n",
              "                .geemap-colab .jupyter-button {\n",
              "                    --jp-layout-color3: var(--colab-primary-surface-color, white);\n",
              "                }\n",
              "            </style>\n",
              "            "
            ]
          },
          "metadata": {}
        },
        {
          "output_type": "stream",
          "name": "stdout",
          "text": [
            "/content/sepal_mgci\n",
            "Imports complete\n"
          ]
        }
      ]
    },
    {
      "cell_type": "markdown",
      "source": [
        "#### Setup Google Drive access\n",
        "Launches access request pop up window"
      ],
      "metadata": {
        "id": "aUVGL6zwLpX5"
      }
    },
    {
      "cell_type": "code",
      "source": [
        "drive.mount('/content/drive')\n",
        "\n",
        "drive_home =\"/content/drive/MyDrive/\" # Google Drive location. Typically this is a standard path, unless you manually changed it\n"
      ],
      "metadata": {
        "id": "NorUzAJ8Kj0Z",
        "outputId": "07d0264e-8ff1-489f-fcc0-c5892fab28a2",
        "colab": {
          "base_uri": "https://localhost:8080/",
          "height": 141
        }
      },
      "execution_count": 2,
      "outputs": [
        {
          "output_type": "error",
          "ename": "NameError",
          "evalue": "name 'drive' is not defined",
          "traceback": [
            "\u001b[0;31m---------------------------------------------------------------------------\u001b[0m",
            "\u001b[0;31mNameError\u001b[0m                                 Traceback (most recent call last)",
            "\u001b[0;32m<ipython-input-2-3b8a479202a4>\u001b[0m in \u001b[0;36m<cell line: 1>\u001b[0;34m()\u001b[0m\n\u001b[0;32m----> 1\u001b[0;31m \u001b[0mdrive\u001b[0m\u001b[0;34m.\u001b[0m\u001b[0mmount\u001b[0m\u001b[0;34m(\u001b[0m\u001b[0;34m'/content/drive'\u001b[0m\u001b[0;34m)\u001b[0m\u001b[0;34m\u001b[0m\u001b[0;34m\u001b[0m\u001b[0m\n\u001b[0m",
            "\u001b[0;31mNameError\u001b[0m: name 'drive' is not defined"
          ]
        }
      ]
    },
    {
      "cell_type": "markdown",
      "source": [
        "#### Functions\n",
        "(TO DO: store functions somewhere else in GitHub - if Daniel is happy - and import as a bit of a distraction)"
      ],
      "metadata": {
        "id": "ShGLbAVpL_C_"
      }
    },
    {
      "cell_type": "code",
      "execution_count": null,
      "metadata": {
        "id": "IA0zW-cIu_f8",
        "colab": {
          "base_uri": "https://localhost:8080/",
          "height": 17
        },
        "outputId": "5e02d52b-bda2-4827-a720-ca8bec70e3dc"
      },
      "outputs": [
        {
          "output_type": "display_data",
          "data": {
            "text/plain": [
              "<IPython.core.display.HTML object>"
            ],
            "text/html": [
              "\n",
              "            <style>\n",
              "                .geemap-dark {\n",
              "                    --jp-widgets-color: white;\n",
              "                    --jp-widgets-label-color: white;\n",
              "                    --jp-ui-font-color1: white;\n",
              "                    --jp-layout-color2: #454545;\n",
              "                    background-color: #383838;\n",
              "                }\n",
              "\n",
              "                .geemap-dark .jupyter-button {\n",
              "                    --jp-layout-color3: #383838;\n",
              "                }\n",
              "\n",
              "                .geemap-colab {\n",
              "                    background-color: var(--colab-primary-surface-color, white);\n",
              "                }\n",
              "\n",
              "                .geemap-colab .jupyter-button {\n",
              "                    --jp-layout-color3: var(--colab-primary-surface-color, white);\n",
              "                }\n",
              "            </style>\n",
              "            "
            ]
          },
          "metadata": {}
        }
      ],
      "source": [
        "def folder_exists(folder_name, parent_folder_id=None):\n",
        "    \"\"\"\n",
        "    Check if a folder exists in Google Drive.\n",
        "\n",
        "    Args:\n",
        "    - folder_name (str): Name of the folder to check.\n",
        "    - parent_folder_id (str): ID of the parent folder where to search for the folder.\n",
        "                              Default is None, meaning the search will be performed in the root.\n",
        "\n",
        "    Returns:\n",
        "    - bool: True if the folder exists, False otherwise.\n",
        "    \"\"\"\n",
        "    # Authenticate user\n",
        "    auth.authenticate_user()\n",
        "\n",
        "    # Build the Drive v3 service\n",
        "    drive_service = build('drive', 'v3')\n",
        "\n",
        "    # Prepare query to check if folder exists\n",
        "    query = f\"name='{folder_name}' and mimeType='application/vnd.google-apps.folder' and trashed=false\"\n",
        "    if parent_folder_id:\n",
        "        query += f\" and '{parent_folder_id}' in parents\"\n",
        "\n",
        "    try:\n",
        "        # Execute the search query\n",
        "        folders = drive_service.files().list(q=query, fields='files(id)', includeItemsFromAllDrives=True, supportsAllDrives=True).execute().get('files', [])\n",
        "        return bool(folders)\n",
        "    except Exception as e:\n",
        "        print(f\"An error occurred: {e}\")\n",
        "        return False\n",
        "\n",
        "\n",
        "def create_folder(folder_name, parent_folder_id=None):\n",
        "    \"\"\"\n",
        "    Create a folder in Google Drive.\n",
        "\n",
        "    Args:\n",
        "    - folder_name (str): Name of the folder to be created.\n",
        "    - parent_folder_id (str): ID of the parent folder where the new folder will be created.\n",
        "                              Default is None, meaning the folder will be created in the root.\n",
        "\n",
        "    Returns:\n",
        "    - str: ID of the newly created folder.\n",
        "    \"\"\"\n",
        "    # Authenticate user\n",
        "    auth.authenticate_user()\n",
        "\n",
        "    # Build the Drive v3 service\n",
        "    drive_service = build('drive', 'v3')\n",
        "\n",
        "    # Prepare folder metadata\n",
        "    folder_metadata = {\n",
        "        'name': folder_name,\n",
        "        'mimeType': 'application/vnd.google-apps.folder'\n",
        "    }\n",
        "    if parent_folder_id:\n",
        "        folder_metadata['parents'] = [parent_folder_id]\n",
        "\n",
        "    # Create the folder\n",
        "    folder = drive_service.files().create(body=folder_metadata, fields='id').execute()\n",
        "\n",
        "    # Return the ID of the newly created folder\n",
        "    return folder.get('id')\n",
        "\n",
        "\n",
        "def create_folder_if_not_exists(folder_name, parent_folder_id=None):\n",
        "    \"\"\"\n",
        "    Create a folder in Google Drive if it doesn't already exist.\n",
        "\n",
        "    Args:\n",
        "    - folder_name (str): Name of the folder to be created.\n",
        "    - parent_folder_id (str): ID of the parent folder where the new folder will be created.\n",
        "                              Default is None, meaning the folder will be created in the root.\n",
        "\n",
        "    Returns:\n",
        "    - str: ID of the newly created folder or the existing folder if it already exists.\n",
        "    \"\"\"\n",
        "    if folder_exists(folder_name, parent_folder_id):\n",
        "        print(f\"Folder '{folder_name}' already exists.\")\n",
        "        return None\n",
        "    else:\n",
        "        return create_folder(folder_name, parent_folder_id)\n",
        "\n",
        "\n",
        "def sanitize_description(description):\n",
        "    allowed_characters_pattern = r\"[^a-zA-Z0-9.,:;_ \\-]\"  # Define a regex pattern for characters not in the allowed set\n",
        "    sanitized_description = re.sub(allowed_characters_pattern, \"\", description)  # Remove characters not in the allowed set\n",
        "    return sanitized_description\n",
        "\n",
        "def append_excel_files(file_paths, num_sheets, output_file_path):\n",
        "    # Initialize a dictionary to store combined DataFrames from different files\n",
        "    combined_dfs = {}\n",
        "\n",
        "    # Initialize a counter to track the progress of file processing\n",
        "    counter = 0\n",
        "\n",
        "    # Iterate over each file path in the list\n",
        "    for file_path in file_paths:\n",
        "        # Load the Excel file\n",
        "        xls = pd.ExcelFile(file_path)  # Reads file and stores as an ExcelFile object (using the Pandas library)\n",
        "\n",
        "        # Increment the counter for each iteration\n",
        "        counter += 1\n",
        "\n",
        "        # Read each sheet from the Excel file into a DataFrame\n",
        "        # Only read up to num_sheets specified\n",
        "        dfs = {sheet_name: xls.parse(sheet_name) for sheet_name in xls.sheet_names[:num_sheets]}\n",
        "\n",
        "        # Append the DataFrames to the combined_dfs dictionary\n",
        "        for sheet_name, df in dfs.items():\n",
        "            if sheet_name in combined_dfs:\n",
        "                # If the sheet already exists in combined_dfs, concatenate the current DataFrame with the existing one\n",
        "                combined_dfs[sheet_name] = pd.concat([combined_dfs[sheet_name], df], ignore_index=True)\n",
        "            else:\n",
        "                # If the sheet does not exist in combined_dfs, add the DataFrame directly\n",
        "                combined_dfs[sheet_name] = df\n",
        "\n",
        "        # Print the progress of processing, overwriting the previous progress\n",
        "        print(f\"\\rProcessing {counter}/{len(file_paths)}: {file_path}\", end=\"\")\n",
        "\n",
        "    # Write the combined DataFrames to the specified output file path\n",
        "    with pd.ExcelWriter(output_file_path) as writer:\n",
        "        for sheet_name, df in combined_dfs.items():\n",
        "            # Write each DataFrame to a separate sheet in the output Excel file\n",
        "            df.to_excel(writer, sheet_name=sheet_name, index=False)"
      ]
    },
    {
      "cell_type": "markdown",
      "source": [
        "#### Building output folders"
      ],
      "metadata": {
        "id": "ZXLIOVmgbFge"
      }
    },
    {
      "cell_type": "code",
      "source": [
        "reports_combined_file_path = os.path.join(drive_home, final_report_folder, final_report_name) # File path for the combined final report\n",
        "\n",
        "# Creating folders in Google Drive (if don't alreaady exist)\n",
        "create_folder_if_not_exists(stats_csv_folder)\n",
        "create_folder_if_not_exists(excel_reports_folder)\n",
        "create_folder_if_not_exists(final_report_folder)"
      ],
      "metadata": {
        "colab": {
          "base_uri": "https://localhost:8080/",
          "height": 17
        },
        "id": "aRDfx8rCbDM-",
        "outputId": "83f63453-7966-480b-a491-c18dab6c6795"
      },
      "execution_count": null,
      "outputs": [
        {
          "output_type": "display_data",
          "data": {
            "text/plain": [
              "<IPython.core.display.HTML object>"
            ],
            "text/html": [
              "\n",
              "            <style>\n",
              "                .geemap-dark {\n",
              "                    --jp-widgets-color: white;\n",
              "                    --jp-widgets-label-color: white;\n",
              "                    --jp-ui-font-color1: white;\n",
              "                    --jp-layout-color2: #454545;\n",
              "                    background-color: #383838;\n",
              "                }\n",
              "\n",
              "                .geemap-dark .jupyter-button {\n",
              "                    --jp-layout-color3: #383838;\n",
              "                }\n",
              "\n",
              "                .geemap-colab {\n",
              "                    background-color: var(--colab-primary-surface-color, white);\n",
              "                }\n",
              "\n",
              "                .geemap-colab .jupyter-button {\n",
              "                    --jp-layout-color3: var(--colab-primary-surface-color, white);\n",
              "                }\n",
              "            </style>\n",
              "            "
            ]
          },
          "metadata": {}
        }
      ]
    },
    {
      "cell_type": "markdown",
      "source": [
        "Creating list of boundaries to process"
      ],
      "metadata": {
        "id": "qi5zNGTWN3df"
      }
    },
    {
      "cell_type": "code",
      "source": [
        "# admin boundary\n",
        "admin_boundaries = ee.FeatureCollection(admin_asset_id)\n",
        "\n",
        "# list to process\n",
        "list_of_countries = admin_boundaries.aggregate_array(admin_asset_property_name).getInfo()\n",
        "\n",
        "list_of_countries = list(set(list_of_countries)) # remove dupicates\n",
        "print (\"Length of admin boundaries to process\", len(list_of_countries))\n",
        "print (\"Length of distinct admin boundaries to process\", (len(set(list_of_countries))))\n"
      ],
      "metadata": {
        "colab": {
          "base_uri": "https://localhost:8080/",
          "height": 53
        },
        "id": "BiuBEJwPue2v",
        "outputId": "ee3450fa-bdeb-4575-d442-4caa249a2081"
      },
      "execution_count": null,
      "outputs": [
        {
          "output_type": "display_data",
          "data": {
            "text/plain": [
              "<IPython.core.display.HTML object>"
            ],
            "text/html": [
              "\n",
              "            <style>\n",
              "                .geemap-dark {\n",
              "                    --jp-widgets-color: white;\n",
              "                    --jp-widgets-label-color: white;\n",
              "                    --jp-ui-font-color1: white;\n",
              "                    --jp-layout-color2: #454545;\n",
              "                    background-color: #383838;\n",
              "                }\n",
              "\n",
              "                .geemap-dark .jupyter-button {\n",
              "                    --jp-layout-color3: #383838;\n",
              "                }\n",
              "\n",
              "                .geemap-colab {\n",
              "                    background-color: var(--colab-primary-surface-color, white);\n",
              "                }\n",
              "\n",
              "                .geemap-colab .jupyter-button {\n",
              "                    --jp-layout-color3: var(--colab-primary-surface-color, white);\n",
              "                }\n",
              "            </style>\n",
              "            "
            ]
          },
          "metadata": {}
        },
        {
          "output_type": "stream",
          "name": "stdout",
          "text": [
            "Length of admin boundaries to process 276\n",
            "Length of distinct admin boundaries to process 276\n"
          ]
        }
      ]
    },
    {
      "cell_type": "markdown",
      "metadata": {
        "id": "c_8UzlUnu_f6"
      },
      "source": [
        "## SUB INDICATOR A"
      ]
    },
    {
      "cell_type": "markdown",
      "source": [
        "Read the default land cover remapping table and convert it to a dictionary"
      ],
      "metadata": {
        "id": "2G1q9TSiUsc1"
      }
    },
    {
      "cell_type": "code",
      "execution_count": null,
      "metadata": {
        "id": "PRSEqq5bu_f7",
        "colab": {
          "base_uri": "https://localhost:8080/",
          "height": 17
        },
        "outputId": "6cc46674-6bbb-49fe-da7a-3010ef0d6819"
      },
      "outputs": [
        {
          "output_type": "display_data",
          "data": {
            "text/plain": [
              "<IPython.core.display.HTML object>"
            ],
            "text/html": [
              "\n",
              "            <style>\n",
              "                .geemap-dark {\n",
              "                    --jp-widgets-color: white;\n",
              "                    --jp-widgets-label-color: white;\n",
              "                    --jp-ui-font-color1: white;\n",
              "                    --jp-layout-color2: #454545;\n",
              "                    background-color: #383838;\n",
              "                }\n",
              "\n",
              "                .geemap-dark .jupyter-button {\n",
              "                    --jp-layout-color3: #383838;\n",
              "                }\n",
              "\n",
              "                .geemap-colab {\n",
              "                    background-color: var(--colab-primary-surface-color, white);\n",
              "                }\n",
              "\n",
              "                .geemap-colab .jupyter-button {\n",
              "                    --jp-layout-color3: var(--colab-primary-surface-color, white);\n",
              "                }\n",
              "            </style>\n",
              "            "
            ]
          },
          "metadata": {}
        }
      ],
      "source": [
        "default_map_matrix = map_matrix_to_dict(LC_MAP_MATRIX)"
      ]
    },
    {
      "cell_type": "markdown",
      "source": [
        "Select years of land cover to process"
      ],
      "metadata": {
        "id": "4-Ut_-S35Yg8"
      }
    },
    {
      "cell_type": "code",
      "execution_count": null,
      "metadata": {
        "id": "PwqJFWR4u_f7",
        "colab": {
          "base_uri": "https://localhost:8080/",
          "height": 17
        },
        "outputId": "405b907b-0a5b-4450-8a99-e3bfb44b878f"
      },
      "outputs": [
        {
          "output_type": "display_data",
          "data": {
            "text/plain": [
              "<IPython.core.display.HTML object>"
            ],
            "text/html": [
              "\n",
              "            <style>\n",
              "                .geemap-dark {\n",
              "                    --jp-widgets-color: white;\n",
              "                    --jp-widgets-label-color: white;\n",
              "                    --jp-ui-font-color1: white;\n",
              "                    --jp-layout-color2: #454545;\n",
              "                    background-color: #383838;\n",
              "                }\n",
              "\n",
              "                .geemap-dark .jupyter-button {\n",
              "                    --jp-layout-color3: #383838;\n",
              "                }\n",
              "\n",
              "                .geemap-colab {\n",
              "                    background-color: var(--colab-primary-surface-color, white);\n",
              "                }\n",
              "\n",
              "                .geemap-colab .jupyter-button {\n",
              "                    --jp-layout-color3: var(--colab-primary-surface-color, white);\n",
              "                }\n",
              "            </style>\n",
              "            "
            ]
          },
          "metadata": {}
        }
      ],
      "source": [
        "# extracts the years from the a_years dictionary (as defined in parameters)\n",
        "single_years = [y[\"year\"] for  y in a_years.values()]"
      ]
    },
    {
      "cell_type": "markdown",
      "source": [
        "#### Run area statistics within admin boundaries\n",
        "* Runs for each country and each mountain biobelt\n",
        "* Gets area of land cover reclassified into the 10 SEAM classes\n",
        "* Repeat for each year specified\n"
      ],
      "metadata": {
        "id": "iNxHtR984cNk"
      }
    },
    {
      "cell_type": "code",
      "execution_count": null,
      "metadata": {
        "id": "VftKLuY4u_f7",
        "colab": {
          "base_uri": "https://localhost:8080/",
          "height": 35
        },
        "outputId": "839c36f1-b3e9-4207-9469-1b8cd2d90c24"
      },
      "outputs": [
        {
          "output_type": "display_data",
          "data": {
            "text/plain": [
              "<IPython.core.display.HTML object>"
            ],
            "text/html": [
              "\n",
              "            <style>\n",
              "                .geemap-dark {\n",
              "                    --jp-widgets-color: white;\n",
              "                    --jp-widgets-label-color: white;\n",
              "                    --jp-ui-font-color1: white;\n",
              "                    --jp-layout-color2: #454545;\n",
              "                    background-color: #383838;\n",
              "                }\n",
              "\n",
              "                .geemap-dark .jupyter-button {\n",
              "                    --jp-layout-color3: #383838;\n",
              "                }\n",
              "\n",
              "                .geemap-colab {\n",
              "                    background-color: var(--colab-primary-surface-color, white);\n",
              "                }\n",
              "\n",
              "                .geemap-colab .jupyter-button {\n",
              "                    --jp-layout-color3: var(--colab-primary-surface-color, white);\n",
              "                }\n",
              "            </style>\n",
              "            "
            ]
          },
          "metadata": {}
        },
        {
          "output_type": "stream",
          "name": "stdout",
          "text": [
            " process 276/276 Colombia "
          ]
        }
      ],
      "source": [
        "# you can monitor your GEE tasks here : https://code.earthengine.google.com/tasks (and you can bulk cancel all if needed!)\n",
        "\n",
        "counter=0 # starting place of counter used to keep track of number of tasks that are being run\n",
        "\n",
        "for aoi_name in list_of_countries:\n",
        "\n",
        "    aoi = admin_boundaries.filter(ee.Filter.eq(admin_asset_property_name,aoi_name))#.first()\n",
        "\n",
        "    # gets areas of landcover in each mountain belt in each country\n",
        "    # uses reduce_regions function imported from the cloned sepal_mgci git hub repository (see Imports section)\n",
        "    # pixels counted at native resolution (scale) of input land cover (or DEM if RSA implementation)\n",
        "    process = ee.FeatureCollection([\n",
        "        ee.Feature(\n",
        "            None,\n",
        "            reduce_regions(\n",
        "                aoi,\n",
        "                remap_matrix=default_map_matrix,\n",
        "                rsa=False,\n",
        "                # dem=param.DEM_DEFAULT,\n",
        "                dem=DEM_DEFAULT, #default digital elevation model (DEM). Relevant for the real surface area (RSA) implementation.\n",
        "                lc_years= year,\n",
        "                transition_matrix=False\n",
        "            )\n",
        "        ).set(\"process_id\", year[0][\"year\"])\n",
        "        for year in get_a_years(a_years) # creates GEE images and runs stats on each. Images to run are in the 'a_years\" dictionary (above)\n",
        "    ])\n",
        "\n",
        "    #make name acceptable for running tasks (i.e., removes special characters)\n",
        "    task_name = str(sanitize_description(unidecode(aoi_name)))\n",
        "\n",
        "\n",
        "    task = ee.batch.Export.table.toDrive(\n",
        "        **{  #asterisks unpack dictionary into keyword arguments format\n",
        "            \"collection\": process,\n",
        "            \"description\": task_name,\n",
        "            \"fileFormat\": \"CSV\",\n",
        "            \"folder\":stats_csv_folder,\n",
        "            \"selectors\": [\n",
        "                \"process_id\",\n",
        "                \"sub_a\",\n",
        "            ],\n",
        "        }\n",
        "    )\n",
        "\n",
        "    counter+=1\n",
        "\n",
        "    print (f\"\\r process {counter}/{len(list_of_countries)} {aoi_name} \", end=\"\") #print in place (remove \\r and end=\"\" for verbose version)\n",
        "\n",
        "    if export:\n",
        "      task.start()\n",
        "\n"
      ]
    },
    {
      "cell_type": "markdown",
      "metadata": {
        "id": "vM0SIvJtu_f8"
      },
      "source": [
        "# Read, process, and create report tables"
      ]
    },
    {
      "cell_type": "markdown",
      "source": [
        "#####Manually check your earth engine task status, once the tasks are complete, run the next cell. https://code.earthengine.google.com/tasks\n",
        "\n",
        "This formats individual excel reports for each country.\n",
        "See Error_log.csv for missing files/errors"
      ],
      "metadata": {
        "id": "3x7jwkZJWwE-"
      }
    },
    {
      "cell_type": "code",
      "execution_count": null,
      "metadata": {
        "id": "qkpDfHqQu_f9",
        "outputId": "524ee955-98ce-4f2e-adb4-cf4733705f8a",
        "colab": {
          "base_uri": "https://localhost:8080/",
          "height": 1000
        }
      },
      "outputs": [
        {
          "output_type": "display_data",
          "data": {
            "text/plain": [
              "<IPython.core.display.HTML object>"
            ],
            "text/html": [
              "\n",
              "            <style>\n",
              "                .geemap-dark {\n",
              "                    --jp-widgets-color: white;\n",
              "                    --jp-widgets-label-color: white;\n",
              "                    --jp-ui-font-color1: white;\n",
              "                    --jp-layout-color2: #454545;\n",
              "                    background-color: #383838;\n",
              "                }\n",
              "\n",
              "                .geemap-dark .jupyter-button {\n",
              "                    --jp-layout-color3: #383838;\n",
              "                }\n",
              "\n",
              "                .geemap-colab {\n",
              "                    background-color: var(--colab-primary-surface-color, white);\n",
              "                }\n",
              "\n",
              "                .geemap-colab .jupyter-button {\n",
              "                    --jp-layout-color3: var(--colab-primary-surface-color, white);\n",
              "                }\n",
              "            </style>\n",
              "            "
            ]
          },
          "metadata": {}
        },
        {
          "output_type": "stream",
          "name": "stdout",
          "text": [
            "Process 1, New Zealand.csv\n",
            "process 2, Tokelau.csv, Error: [Errno 2] No such file or directory: '/content/drive/MyDrive/sdg_15_4_2_A_csvs/Tokelau.csv'\n",
            "Process 3, Lao Peoples Democratic Republic.csv\n",
            "process 4, British Virgin Islands.csv, Error: [Errno 2] No such file or directory: '/content/drive/MyDrive/sdg_15_4_2_A_csvs/British Virgin Islands.csv'\n",
            "Process 5, Kyrgyzstan.csv\n",
            "process 6, Falkland Islands Malvinas.csv, Error: [Errno 2] No such file or directory: '/content/drive/MyDrive/sdg_15_4_2_A_csvs/Falkland Islands Malvinas.csv'\n",
            "Process 7, Republic of Korea.csv\n",
            "Process 8, Seychelles.csv\n",
            "Process 9, Liberia.csv\n"
          ]
        },
        {
          "output_type": "stream",
          "name": "stderr",
          "text": [
            "/content/sepal_mgci/component/scripts/sub_a.py:135: RuntimeWarning: invalid value encountered in scalar divide\n",
            "  green_non_green.sum()[\"sumgreen\"]\n",
            "/content/sepal_mgci/component/scripts/sub_a.py:135: RuntimeWarning: invalid value encountered in scalar divide\n",
            "  green_non_green.sum()[\"sumgreen\"]\n",
            "/content/sepal_mgci/component/scripts/sub_a.py:135: RuntimeWarning: invalid value encountered in scalar divide\n",
            "  green_non_green.sum()[\"sumgreen\"]\n",
            "/content/sepal_mgci/component/scripts/sub_a.py:135: RuntimeWarning: invalid value encountered in scalar divide\n",
            "  green_non_green.sum()[\"sumgreen\"]\n"
          ]
        },
        {
          "output_type": "stream",
          "name": "stdout",
          "text": [
            "Process 10, Maldives.csv\n",
            "process 11, Greenland.csv, Error: [Errno 2] No such file or directory: '/content/drive/MyDrive/sdg_15_4_2_A_csvs/Greenland.csv'\n"
          ]
        },
        {
          "output_type": "stream",
          "name": "stderr",
          "text": [
            "/content/sepal_mgci/component/scripts/sub_a.py:135: RuntimeWarning: invalid value encountered in scalar divide\n",
            "  green_non_green.sum()[\"sumgreen\"]\n",
            "/content/sepal_mgci/component/scripts/sub_a.py:135: RuntimeWarning: invalid value encountered in scalar divide\n",
            "  green_non_green.sum()[\"sumgreen\"]\n",
            "/content/sepal_mgci/component/scripts/sub_a.py:135: RuntimeWarning: invalid value encountered in scalar divide\n",
            "  green_non_green.sum()[\"sumgreen\"]\n",
            "/content/sepal_mgci/component/scripts/sub_a.py:135: RuntimeWarning: invalid value encountered in scalar divide\n",
            "  green_non_green.sum()[\"sumgreen\"]\n"
          ]
        },
        {
          "output_type": "stream",
          "name": "stdout",
          "text": [
            "Process 12, Bassas da India.csv\n",
            "process 13, Guadeloupe.csv, Error: [Errno 2] No such file or directory: '/content/drive/MyDrive/sdg_15_4_2_A_csvs/Guadeloupe.csv'\n",
            "Process 14, Uzbekistan.csv\n",
            "Process 15, Rwanda.csv\n",
            "process 16, Belize.csv, Error: [Errno 2] No such file or directory: '/content/drive/MyDrive/sdg_15_4_2_A_csvs/Belize.csv'\n",
            "Process 17, Niger.csv\n",
            "Process 18, Mozambique.csv\n"
          ]
        },
        {
          "output_type": "stream",
          "name": "stderr",
          "text": [
            "/content/sepal_mgci/component/scripts/sub_a.py:135: RuntimeWarning: invalid value encountered in scalar divide\n",
            "  green_non_green.sum()[\"sumgreen\"]\n",
            "/content/sepal_mgci/component/scripts/sub_a.py:135: RuntimeWarning: invalid value encountered in scalar divide\n",
            "  green_non_green.sum()[\"sumgreen\"]\n",
            "/content/sepal_mgci/component/scripts/sub_a.py:135: RuntimeWarning: invalid value encountered in scalar divide\n",
            "  green_non_green.sum()[\"sumgreen\"]\n",
            "/content/sepal_mgci/component/scripts/sub_a.py:135: RuntimeWarning: invalid value encountered in scalar divide\n",
            "  green_non_green.sum()[\"sumgreen\"]\n"
          ]
        },
        {
          "output_type": "stream",
          "name": "stdout",
          "text": [
            "Process 19, Juan de Nova Island.csv\n",
            "process 20, Kingman Reef.csv, Error: [Errno 2] No such file or directory: '/content/drive/MyDrive/sdg_15_4_2_A_csvs/Kingman Reef.csv'\n",
            "process 21, Pitcairn.csv, Error: [Errno 2] No such file or directory: '/content/drive/MyDrive/sdg_15_4_2_A_csvs/Pitcairn.csv'\n",
            "Process 22, Somalia.csv\n",
            "Process 23, Iceland.csv\n",
            "Process 24, Zambia.csv\n",
            "process 25, Cuba.csv, Error: [Errno 2] No such file or directory: '/content/drive/MyDrive/sdg_15_4_2_A_csvs/Cuba.csv'\n",
            "Process 26, Turkey.csv\n",
            "Process 27, Burkina Faso.csv\n"
          ]
        },
        {
          "output_type": "stream",
          "name": "stderr",
          "text": [
            "/content/sepal_mgci/component/scripts/sub_a.py:135: RuntimeWarning: invalid value encountered in scalar divide\n",
            "  green_non_green.sum()[\"sumgreen\"]\n",
            "/content/sepal_mgci/component/scripts/sub_a.py:135: RuntimeWarning: invalid value encountered in scalar divide\n",
            "  green_non_green.sum()[\"sumgreen\"]\n",
            "/content/sepal_mgci/component/scripts/sub_a.py:135: RuntimeWarning: invalid value encountered in scalar divide\n",
            "  green_non_green.sum()[\"sumgreen\"]\n",
            "/content/sepal_mgci/component/scripts/sub_a.py:135: RuntimeWarning: invalid value encountered in scalar divide\n",
            "  green_non_green.sum()[\"sumgreen\"]\n"
          ]
        },
        {
          "output_type": "stream",
          "name": "stdout",
          "text": [
            "Process 28, Norfolk Island.csv\n"
          ]
        },
        {
          "output_type": "stream",
          "name": "stderr",
          "text": [
            "/content/sepal_mgci/component/scripts/sub_a.py:135: RuntimeWarning: invalid value encountered in scalar divide\n",
            "  green_non_green.sum()[\"sumgreen\"]\n",
            "/content/sepal_mgci/component/scripts/sub_a.py:135: RuntimeWarning: invalid value encountered in scalar divide\n",
            "  green_non_green.sum()[\"sumgreen\"]\n",
            "/content/sepal_mgci/component/scripts/sub_a.py:135: RuntimeWarning: invalid value encountered in scalar divide\n",
            "  green_non_green.sum()[\"sumgreen\"]\n",
            "/content/sepal_mgci/component/scripts/sub_a.py:135: RuntimeWarning: invalid value encountered in scalar divide\n",
            "  green_non_green.sum()[\"sumgreen\"]\n"
          ]
        },
        {
          "output_type": "stream",
          "name": "stdout",
          "text": [
            "Process 29, Cocos Keeling Islands.csv\n",
            "process 30, Jammu and Kashmir.csv, Error: [Errno 2] No such file or directory: '/content/drive/MyDrive/sdg_15_4_2_A_csvs/Jammu and Kashmir.csv'\n",
            "Process 31, Madagascar.csv\n",
            "process 32, Gaza Strip.csv, Error: [Errno 2] No such file or directory: '/content/drive/MyDrive/sdg_15_4_2_A_csvs/Gaza Strip.csv'\n",
            "Process 33, Benin.csv\n",
            "process 34, Bermuda.csv, Error: [Errno 2] No such file or directory: '/content/drive/MyDrive/sdg_15_4_2_A_csvs/Bermuda.csv'\n",
            "Process 35, Sao Tome and Principe.csv\n",
            "Process 36, Libya.csv\n",
            "process 37, Jarvis Island.csv, Error: [Errno 2] No such file or directory: '/content/drive/MyDrive/sdg_15_4_2_A_csvs/Jarvis Island.csv'\n"
          ]
        },
        {
          "output_type": "stream",
          "name": "stderr",
          "text": [
            "/content/sepal_mgci/component/scripts/sub_a.py:135: RuntimeWarning: invalid value encountered in scalar divide\n",
            "  green_non_green.sum()[\"sumgreen\"]\n",
            "/content/sepal_mgci/component/scripts/sub_a.py:135: RuntimeWarning: invalid value encountered in scalar divide\n",
            "  green_non_green.sum()[\"sumgreen\"]\n",
            "/content/sepal_mgci/component/scripts/sub_a.py:135: RuntimeWarning: invalid value encountered in scalar divide\n",
            "  green_non_green.sum()[\"sumgreen\"]\n",
            "/content/sepal_mgci/component/scripts/sub_a.py:135: RuntimeWarning: invalid value encountered in scalar divide\n",
            "  green_non_green.sum()[\"sumgreen\"]\n"
          ]
        },
        {
          "output_type": "stream",
          "name": "stdout",
          "text": [
            "Process 38, Ashmore and Cartier Islands.csv\n",
            "Process 39, Bangladesh.csv\n",
            "Process 40, Hungary.csv\n",
            "process 41, Ecuador.csv, Error: [Errno 2] No such file or directory: '/content/drive/MyDrive/sdg_15_4_2_A_csvs/Ecuador.csv'\n",
            "process 42, Marshall Islands.csv, Error: [Errno 2] No such file or directory: '/content/drive/MyDrive/sdg_15_4_2_A_csvs/Marshall Islands.csv'\n",
            "process 43, Paraguay.csv, Error: [Errno 2] No such file or directory: '/content/drive/MyDrive/sdg_15_4_2_A_csvs/Paraguay.csv'\n",
            "process 44, Argentina.csv, Error: [Errno 2] No such file or directory: '/content/drive/MyDrive/sdg_15_4_2_A_csvs/Argentina.csv'\n"
          ]
        },
        {
          "output_type": "stream",
          "name": "stderr",
          "text": [
            "/content/sepal_mgci/component/scripts/sub_a.py:135: RuntimeWarning: invalid value encountered in scalar divide\n",
            "  green_non_green.sum()[\"sumgreen\"]\n",
            "/content/sepal_mgci/component/scripts/sub_a.py:135: RuntimeWarning: invalid value encountered in scalar divide\n",
            "  green_non_green.sum()[\"sumgreen\"]\n",
            "/content/sepal_mgci/component/scripts/sub_a.py:135: RuntimeWarning: invalid value encountered in scalar divide\n",
            "  green_non_green.sum()[\"sumgreen\"]\n",
            "/content/sepal_mgci/component/scripts/sub_a.py:135: RuntimeWarning: invalid value encountered in scalar divide\n",
            "  green_non_green.sum()[\"sumgreen\"]\n"
          ]
        },
        {
          "output_type": "stream",
          "name": "stdout",
          "text": [
            "Process 45, Tromelin Island.csv\n",
            "Process 46, Bhutan.csv\n",
            "process 47, Chile.csv, Error: [Errno 2] No such file or directory: '/content/drive/MyDrive/sdg_15_4_2_A_csvs/Chile.csv'\n",
            "Process 48, Syrian Arab Republic.csv\n",
            "Process 49, French Polynesia.csv\n",
            "Process 50, Saudi Arabia.csv\n",
            "process 51, Heard Island and McDonald Islands.csv, Error: [Errno 2] No such file or directory: '/content/drive/MyDrive/sdg_15_4_2_A_csvs/Heard Island and McDonald Islands.csv'\n",
            "Process 52, Burundi.csv\n",
            "Process 53, Yemen.csv\n",
            "Process 54, Moldova, Republic of.csv\n",
            "process 55, Holy See.csv, Error: [Errno 2] No such file or directory: '/content/drive/MyDrive/sdg_15_4_2_A_csvs/Holy See.csv'\n",
            "process 56, Navassa Island.csv, Error: [Errno 2] No such file or directory: '/content/drive/MyDrive/sdg_15_4_2_A_csvs/Navassa Island.csv'\n",
            "Process 57, Christmas Island.csv\n",
            "Process 58, Wallis and Futuna.csv\n",
            "process 59, Bouvet Island.csv, Error: [Errno 2] No such file or directory: '/content/drive/MyDrive/sdg_15_4_2_A_csvs/Bouvet Island.csv'\n",
            "process 60, Solomon Islands.csv, Error: [Errno 2] No such file or directory: '/content/drive/MyDrive/sdg_15_4_2_A_csvs/Solomon Islands.csv'\n",
            "process 61, Grenada.csv, Error: [Errno 2] No such file or directory: '/content/drive/MyDrive/sdg_15_4_2_A_csvs/Grenada.csv'\n",
            "process 62, Abyei.csv, Error: [Errno 2] No such file or directory: '/content/drive/MyDrive/sdg_15_4_2_A_csvs/Abyei.csv'\n",
            "process 63, Fiji.csv, Error: [Errno 2] No such file or directory: '/content/drive/MyDrive/sdg_15_4_2_A_csvs/Fiji.csv'\n",
            "Process 64, Malawi.csv\n",
            "process 65, Cook Islands.csv, Error: [Errno 2] No such file or directory: '/content/drive/MyDrive/sdg_15_4_2_A_csvs/Cook Islands.csv'\n",
            "Process 66, Sweden.csv\n",
            "process 67, Saint Helena.csv, Error: [Errno 2] No such file or directory: '/content/drive/MyDrive/sdg_15_4_2_A_csvs/Saint Helena.csv'\n",
            "Process 68, Ethiopia.csv\n",
            "Process 69, Liechtenstein.csv\n",
            "Process 70, Malaysia.csv\n",
            "Process 71, El Salvador.csv\n"
          ]
        },
        {
          "output_type": "stream",
          "name": "stderr",
          "text": [
            "/content/sepal_mgci/component/scripts/sub_a.py:135: RuntimeWarning: invalid value encountered in scalar divide\n",
            "  green_non_green.sum()[\"sumgreen\"]\n",
            "/content/sepal_mgci/component/scripts/sub_a.py:135: RuntimeWarning: invalid value encountered in scalar divide\n",
            "  green_non_green.sum()[\"sumgreen\"]\n",
            "/content/sepal_mgci/component/scripts/sub_a.py:135: RuntimeWarning: invalid value encountered in scalar divide\n",
            "  green_non_green.sum()[\"sumgreen\"]\n",
            "/content/sepal_mgci/component/scripts/sub_a.py:135: RuntimeWarning: invalid value encountered in scalar divide\n",
            "  green_non_green.sum()[\"sumgreen\"]\n"
          ]
        },
        {
          "output_type": "stream",
          "name": "stdout",
          "text": [
            "Process 72, Saint Pierre et Miquelon.csv\n",
            "process 73, British Indian Ocean Territory.csv, Error: [Errno 2] No such file or directory: '/content/drive/MyDrive/sdg_15_4_2_A_csvs/British Indian Ocean Territory.csv'\n",
            "process 74, Kiribati.csv, Error: [Errno 2] No such file or directory: '/content/drive/MyDrive/sdg_15_4_2_A_csvs/Kiribati.csv'\n",
            "Process 75, Monaco.csv\n",
            "process 76, Saint Lucia.csv, Error: [Errno 2] No such file or directory: '/content/drive/MyDrive/sdg_15_4_2_A_csvs/Saint Lucia.csv'\n",
            "process 77, Nicaragua.csv, Error: [Errno 2] No such file or directory: '/content/drive/MyDrive/sdg_15_4_2_A_csvs/Nicaragua.csv'\n",
            "process 78, Ilemi triangle.csv, Error: [Errno 2] No such file or directory: '/content/drive/MyDrive/sdg_15_4_2_A_csvs/Ilemi triangle.csv'\n",
            "process 79, Samoa.csv, Error: [Errno 2] No such file or directory: '/content/drive/MyDrive/sdg_15_4_2_A_csvs/Samoa.csv'\n",
            "process 80, Antarctica.csv, Error: [Errno 2] No such file or directory: '/content/drive/MyDrive/sdg_15_4_2_A_csvs/Antarctica.csv'\n",
            "Process 81, Togo.csv\n",
            "process 82, Saint Kitts and Nevis.csv, Error: [Errno 2] No such file or directory: '/content/drive/MyDrive/sdg_15_4_2_A_csvs/Saint Kitts and Nevis.csv'\n",
            "Process 83, Central African Republic.csv\n",
            "Process 84, Thailand.csv\n",
            "process 85, Halaib triangle.csv, Error: [Errno 2] No such file or directory: '/content/drive/MyDrive/sdg_15_4_2_A_csvs/Halaib triangle.csv'\n",
            "process 86, Puerto Rico.csv, Error: [Errno 2] No such file or directory: '/content/drive/MyDrive/sdg_15_4_2_A_csvs/Puerto Rico.csv'\n",
            "process 87, Venezuela.csv, Error: [Errno 2] No such file or directory: '/content/drive/MyDrive/sdg_15_4_2_A_csvs/Venezuela.csv'\n",
            "process 88, United States Virgin Islands.csv, Error: [Errno 2] No such file or directory: '/content/drive/MyDrive/sdg_15_4_2_A_csvs/United States Virgin Islands.csv'\n",
            "Process 89, Faroe Islands.csv\n",
            "Process 90, Democratic Republic of the Congo.csv\n",
            "Process 91, Mauritania.csv\n",
            "process 92, Guernsey.csv, Error: [Errno 2] No such file or directory: '/content/drive/MyDrive/sdg_15_4_2_A_csvs/Guernsey.csv'\n",
            "Process 93, Belgium.csv\n",
            "Process 94, Taiwan.csv\n",
            "process 95, Northern Mariana Islands.csv, Error: [Errno 2] No such file or directory: '/content/drive/MyDrive/sdg_15_4_2_A_csvs/Northern Mariana Islands.csv'\n",
            "Process 96, Bulgaria.csv\n",
            "process 97, Turks and Caicos islands.csv, Error: [Errno 2] No such file or directory: '/content/drive/MyDrive/sdg_15_4_2_A_csvs/Turks and Caicos islands.csv'\n",
            "process 98, Dominican Republic.csv, Error: [Errno 2] No such file or directory: '/content/drive/MyDrive/sdg_15_4_2_A_csvs/Dominican Republic.csv'\n",
            "process 99, Australia.csv, Error: [Errno 2] No such file or directory: '/content/drive/MyDrive/sdg_15_4_2_A_csvs/Australia.csv'\n",
            "Process 100, Andorra.csv\n",
            "process 101, Western Sahara.csv, Error: [Errno 2] No such file or directory: '/content/drive/MyDrive/sdg_15_4_2_A_csvs/Western Sahara.csv'\n",
            "Process 102, France.csv\n",
            "Process 103, Comoros.csv\n",
            "Process 104, Greece.csv\n",
            "Process 105, Germany.csv\n",
            "process 106, Trinidad and Tobago.csv, Error: [Errno 2] No such file or directory: '/content/drive/MyDrive/sdg_15_4_2_A_csvs/Trinidad and Tobago.csv'\n",
            "Process 107, U.K. of Great Britain and Northern Ireland.csv\n",
            "Process 108, India.csv\n",
            "process 109, Suriname.csv, Error: [Errno 2] No such file or directory: '/content/drive/MyDrive/sdg_15_4_2_A_csvs/Suriname.csv'\n",
            "process 110, Guam.csv, Error: [Errno 2] No such file or directory: '/content/drive/MyDrive/sdg_15_4_2_A_csvs/Guam.csv'\n"
          ]
        },
        {
          "output_type": "stream",
          "name": "stderr",
          "text": [
            "/content/sepal_mgci/component/scripts/sub_a.py:135: RuntimeWarning: invalid value encountered in scalar divide\n",
            "  green_non_green.sum()[\"sumgreen\"]\n",
            "/content/sepal_mgci/component/scripts/sub_a.py:135: RuntimeWarning: invalid value encountered in scalar divide\n",
            "  green_non_green.sum()[\"sumgreen\"]\n",
            "/content/sepal_mgci/component/scripts/sub_a.py:135: RuntimeWarning: invalid value encountered in scalar divide\n",
            "  green_non_green.sum()[\"sumgreen\"]\n",
            "/content/sepal_mgci/component/scripts/sub_a.py:135: RuntimeWarning: invalid value encountered in scalar divide\n",
            "  green_non_green.sum()[\"sumgreen\"]\n"
          ]
        },
        {
          "output_type": "stream",
          "name": "stdout",
          "text": [
            "Process 111, Guinea-Bissau.csv\n",
            "Process 112, Myanmar.csv\n",
            "Process 113, Oman.csv\n",
            "process 114, Antigua and Barbuda.csv, Error: [Errno 2] No such file or directory: '/content/drive/MyDrive/sdg_15_4_2_A_csvs/Antigua and Barbuda.csv'\n"
          ]
        },
        {
          "output_type": "stream",
          "name": "stderr",
          "text": [
            "/content/sepal_mgci/component/scripts/sub_a.py:135: RuntimeWarning: invalid value encountered in scalar divide\n",
            "  green_non_green.sum()[\"sumgreen\"]\n",
            "/content/sepal_mgci/component/scripts/sub_a.py:135: RuntimeWarning: invalid value encountered in scalar divide\n",
            "  green_non_green.sum()[\"sumgreen\"]\n",
            "/content/sepal_mgci/component/scripts/sub_a.py:135: RuntimeWarning: invalid value encountered in scalar divide\n",
            "  green_non_green.sum()[\"sumgreen\"]\n",
            "/content/sepal_mgci/component/scripts/sub_a.py:135: RuntimeWarning: invalid value encountered in scalar divide\n",
            "  green_non_green.sum()[\"sumgreen\"]\n"
          ]
        },
        {
          "output_type": "stream",
          "name": "stdout",
          "text": [
            "Process 115, Denmark.csv\n"
          ]
        },
        {
          "output_type": "stream",
          "name": "stderr",
          "text": [
            "/content/sepal_mgci/component/scripts/sub_a.py:135: RuntimeWarning: invalid value encountered in scalar divide\n",
            "  green_non_green.sum()[\"sumgreen\"]\n",
            "/content/sepal_mgci/component/scripts/sub_a.py:135: RuntimeWarning: invalid value encountered in scalar divide\n",
            "  green_non_green.sum()[\"sumgreen\"]\n",
            "/content/sepal_mgci/component/scripts/sub_a.py:135: RuntimeWarning: invalid value encountered in scalar divide\n",
            "  green_non_green.sum()[\"sumgreen\"]\n",
            "/content/sepal_mgci/component/scripts/sub_a.py:135: RuntimeWarning: invalid value encountered in scalar divide\n",
            "  green_non_green.sum()[\"sumgreen\"]\n"
          ]
        },
        {
          "output_type": "stream",
          "name": "stdout",
          "text": [
            "Process 116, Estonia.csv\n",
            "Process 117, Afghanistan.csv\n"
          ]
        },
        {
          "output_type": "stream",
          "name": "stderr",
          "text": [
            "/content/sepal_mgci/component/scripts/sub_a.py:135: RuntimeWarning: invalid value encountered in scalar divide\n",
            "  green_non_green.sum()[\"sumgreen\"]\n",
            "/content/sepal_mgci/component/scripts/sub_a.py:135: RuntimeWarning: invalid value encountered in scalar divide\n",
            "  green_non_green.sum()[\"sumgreen\"]\n",
            "/content/sepal_mgci/component/scripts/sub_a.py:135: RuntimeWarning: invalid value encountered in scalar divide\n",
            "  green_non_green.sum()[\"sumgreen\"]\n",
            "/content/sepal_mgci/component/scripts/sub_a.py:135: RuntimeWarning: invalid value encountered in scalar divide\n",
            "  green_non_green.sum()[\"sumgreen\"]\n"
          ]
        },
        {
          "output_type": "stream",
          "name": "stdout",
          "text": [
            "Process 118, Kuwait.csv\n",
            "process 119, Russian Federation.csv, Error: [Errno 2] No such file or directory: '/content/drive/MyDrive/sdg_15_4_2_A_csvs/Russian Federation.csv'\n",
            "process 120, Papua New Guinea.csv, Error: [Errno 2] No such file or directory: '/content/drive/MyDrive/sdg_15_4_2_A_csvs/Papua New Guinea.csv'\n"
          ]
        },
        {
          "output_type": "stream",
          "name": "stderr",
          "text": [
            "/content/sepal_mgci/component/scripts/sub_a.py:135: RuntimeWarning: invalid value encountered in scalar divide\n",
            "  green_non_green.sum()[\"sumgreen\"]\n",
            "/content/sepal_mgci/component/scripts/sub_a.py:135: RuntimeWarning: invalid value encountered in scalar divide\n",
            "  green_non_green.sum()[\"sumgreen\"]\n",
            "/content/sepal_mgci/component/scripts/sub_a.py:135: RuntimeWarning: invalid value encountered in scalar divide\n",
            "  green_non_green.sum()[\"sumgreen\"]\n",
            "/content/sepal_mgci/component/scripts/sub_a.py:135: RuntimeWarning: invalid value encountered in scalar divide\n",
            "  green_non_green.sum()[\"sumgreen\"]\n"
          ]
        },
        {
          "output_type": "stream",
          "name": "stdout",
          "text": [
            "Process 121, Lithuania.csv\n",
            "process 122, Vanuatu.csv, Error: [Errno 2] No such file or directory: '/content/drive/MyDrive/sdg_15_4_2_A_csvs/Vanuatu.csv'\n",
            "Process 123, Mali.csv\n",
            "process 124, American Samoa.csv, Error: [Errno 2] No such file or directory: '/content/drive/MyDrive/sdg_15_4_2_A_csvs/American Samoa.csv'\n",
            "Process 125, Nigeria.csv\n",
            "Process 126, Norway.csv\n",
            "Process 127, South Sudan.csv\n",
            "process 128, Senkaku Islands.csv, Error: [Errno 2] No such file or directory: '/content/drive/MyDrive/sdg_15_4_2_A_csvs/Senkaku Islands.csv'\n",
            "process 129, Aksai Chin.csv, Error: [Errno 2] No such file or directory: '/content/drive/MyDrive/sdg_15_4_2_A_csvs/Aksai Chin.csv'\n",
            "Process 130, Eritrea.csv\n",
            "Process 131, Poland.csv\n",
            "Process 132, Cyprus.csv\n",
            "Process 133, Equatorial Guinea.csv\n"
          ]
        },
        {
          "output_type": "stream",
          "name": "stderr",
          "text": [
            "/content/sepal_mgci/component/scripts/sub_a.py:135: RuntimeWarning: invalid value encountered in scalar divide\n",
            "  green_non_green.sum()[\"sumgreen\"]\n",
            "/content/sepal_mgci/component/scripts/sub_a.py:135: RuntimeWarning: invalid value encountered in scalar divide\n",
            "  green_non_green.sum()[\"sumgreen\"]\n",
            "/content/sepal_mgci/component/scripts/sub_a.py:135: RuntimeWarning: invalid value encountered in scalar divide\n",
            "  green_non_green.sum()[\"sumgreen\"]\n",
            "/content/sepal_mgci/component/scripts/sub_a.py:135: RuntimeWarning: invalid value encountered in scalar divide\n",
            "  green_non_green.sum()[\"sumgreen\"]\n"
          ]
        },
        {
          "output_type": "stream",
          "name": "stdout",
          "text": [
            "Process 134, Glorioso Island.csv\n",
            "Process 135, Georgia.csv\n",
            "Process 136, Botswana.csv\n",
            "Process 137, Cape Verde.csv\n",
            "Process 138, Egypt.csv\n",
            "process 139, Macau.csv, Error: [Errno 2] No such file or directory: '/content/drive/MyDrive/sdg_15_4_2_A_csvs/Macau.csv'\n",
            "process 140, Scarborough Reef.csv, Error: [Errno 2] No such file or directory: '/content/drive/MyDrive/sdg_15_4_2_A_csvs/Scarborough Reef.csv'\n",
            "Process 141, Iran  Islamic Republic of.csv\n",
            "process 142, French Guiana.csv, Error: [Errno 2] No such file or directory: '/content/drive/MyDrive/sdg_15_4_2_A_csvs/French Guiana.csv'\n",
            "Process 143, Reunion.csv\n",
            "Process 144, Gabon.csv\n",
            "Process 145, Pakistan.csv\n",
            "process 146, Cayman Islands.csv, Error: [Errno 2] No such file or directory: '/content/drive/MyDrive/sdg_15_4_2_A_csvs/Cayman Islands.csv'\n",
            "Process 147, Swaziland.csv\n",
            "Process 148, Ukraine.csv\n",
            "Process 149, Slovenia.csv\n",
            "process 150, Midway Island.csv, Error: [Errno 2] No such file or directory: '/content/drive/MyDrive/sdg_15_4_2_A_csvs/Midway Island.csv'\n"
          ]
        },
        {
          "output_type": "stream",
          "name": "stderr",
          "text": [
            "/content/sepal_mgci/component/scripts/sub_a.py:135: RuntimeWarning: invalid value encountered in scalar divide\n",
            "  green_non_green.sum()[\"sumgreen\"]\n",
            "/content/sepal_mgci/component/scripts/sub_a.py:135: RuntimeWarning: invalid value encountered in scalar divide\n",
            "  green_non_green.sum()[\"sumgreen\"]\n",
            "/content/sepal_mgci/component/scripts/sub_a.py:135: RuntimeWarning: invalid value encountered in scalar divide\n",
            "  green_non_green.sum()[\"sumgreen\"]\n",
            "/content/sepal_mgci/component/scripts/sub_a.py:135: RuntimeWarning: invalid value encountered in scalar divide\n",
            "  green_non_green.sum()[\"sumgreen\"]\n"
          ]
        },
        {
          "output_type": "stream",
          "name": "stdout",
          "text": [
            "Process 151, Clipperton Island.csv\n",
            "Process 152, Portugal.csv\n",
            "process 153, Spratly Islands.csv, Error: [Errno 2] No such file or directory: '/content/drive/MyDrive/sdg_15_4_2_A_csvs/Spratly Islands.csv'\n"
          ]
        },
        {
          "output_type": "stream",
          "name": "stderr",
          "text": [
            "/content/sepal_mgci/component/scripts/sub_a.py:135: RuntimeWarning: invalid value encountered in scalar divide\n",
            "  green_non_green.sum()[\"sumgreen\"]\n",
            "/content/sepal_mgci/component/scripts/sub_a.py:135: RuntimeWarning: invalid value encountered in scalar divide\n",
            "  green_non_green.sum()[\"sumgreen\"]\n",
            "/content/sepal_mgci/component/scripts/sub_a.py:135: RuntimeWarning: invalid value encountered in scalar divide\n",
            "  green_non_green.sum()[\"sumgreen\"]\n",
            "/content/sepal_mgci/component/scripts/sub_a.py:135: RuntimeWarning: invalid value encountered in scalar divide\n",
            "  green_non_green.sum()[\"sumgreen\"]\n"
          ]
        },
        {
          "output_type": "stream",
          "name": "stdout",
          "text": [
            "Process 154, Belarus.csv\n",
            "process 155, Jersey.csv, Error: [Errno 2] No such file or directory: '/content/drive/MyDrive/sdg_15_4_2_A_csvs/Jersey.csv'\n",
            "Process 156, Brazil.csv\n",
            "process 157, Tonga.csv, Error: [Errno 2] No such file or directory: '/content/drive/MyDrive/sdg_15_4_2_A_csvs/Tonga.csv'\n",
            "process 158, Dominica.csv, Error: [Errno 2] No such file or directory: '/content/drive/MyDrive/sdg_15_4_2_A_csvs/Dominica.csv'\n",
            "Process 159, United Arab Emirates.csv\n",
            "Process 160, Montenegro.csv\n",
            "process 161, Martinique.csv, Error: [Errno 2] No such file or directory: '/content/drive/MyDrive/sdg_15_4_2_A_csvs/Martinique.csv'\n",
            "Process 162, Albania.csv\n",
            "process 163, Palmyra Atoll.csv, Error: [Errno 2] No such file or directory: '/content/drive/MyDrive/sdg_15_4_2_A_csvs/Palmyra Atoll.csv'\n",
            "process 164, Costa Rica.csv, Error: [Errno 2] No such file or directory: '/content/drive/MyDrive/sdg_15_4_2_A_csvs/Costa Rica.csv'\n",
            "Process 165, Philippines.csv\n",
            "Process 166, Cambodia.csv\n",
            "Process 167, Israel.csv\n",
            "process 168, Wake Island.csv, Error: [Errno 2] No such file or directory: '/content/drive/MyDrive/sdg_15_4_2_A_csvs/Wake Island.csv'\n",
            "Process 169, Namibia.csv\n"
          ]
        },
        {
          "output_type": "stream",
          "name": "stderr",
          "text": [
            "/content/sepal_mgci/component/scripts/sub_a.py:135: RuntimeWarning: invalid value encountered in scalar divide\n",
            "  green_non_green.sum()[\"sumgreen\"]\n",
            "/content/sepal_mgci/component/scripts/sub_a.py:135: RuntimeWarning: invalid value encountered in scalar divide\n",
            "  green_non_green.sum()[\"sumgreen\"]\n",
            "/content/sepal_mgci/component/scripts/sub_a.py:135: RuntimeWarning: invalid value encountered in scalar divide\n",
            "  green_non_green.sum()[\"sumgreen\"]\n",
            "/content/sepal_mgci/component/scripts/sub_a.py:135: RuntimeWarning: invalid value encountered in scalar divide\n",
            "  green_non_green.sum()[\"sumgreen\"]\n"
          ]
        },
        {
          "output_type": "stream",
          "name": "stdout",
          "text": [
            "Process 170, Netherlands.csv\n",
            "process 171, Tuvalu.csv, Error: [Errno 2] No such file or directory: '/content/drive/MyDrive/sdg_15_4_2_A_csvs/Tuvalu.csv'\n",
            "Process 172, Armenia.csv\n",
            "Process 173, Turkmenistan.csv\n",
            "Process 174, Tunisia.csv\n",
            "process 175, Howland Island.csv, Error: [Errno 2] No such file or directory: '/content/drive/MyDrive/sdg_15_4_2_A_csvs/Howland Island.csv'\n",
            "process 176, Kuril islands.csv, Error: [Errno 2] No such file or directory: '/content/drive/MyDrive/sdg_15_4_2_A_csvs/Kuril islands.csv'\n",
            "Process 177, Guatemala.csv\n",
            "process 178, Paracel Islands.csv, Error: [Errno 2] No such file or directory: '/content/drive/MyDrive/sdg_15_4_2_A_csvs/Paracel Islands.csv'\n",
            "Process 179, Spain.csv\n",
            "Process 180, Mauritius.csv\n",
            "Process 181, Sierra Leone.csv\n",
            "process 182, Jamaica.csv, Error: [Errno 2] No such file or directory: '/content/drive/MyDrive/sdg_15_4_2_A_csvs/Jamaica.csv'\n",
            "process 183, Isle of Man.csv, Error: [Errno 2] No such file or directory: '/content/drive/MyDrive/sdg_15_4_2_A_csvs/Isle of Man.csv'\n",
            "Process 184, Lebanon.csv\n",
            "process 185, Anguilla.csv, Error: [Errno 2] No such file or directory: '/content/drive/MyDrive/sdg_15_4_2_A_csvs/Anguilla.csv'\n",
            "Process 186, Indonesia.csv\n",
            "process 187, Niue.csv, Error: [Errno 2] No such file or directory: '/content/drive/MyDrive/sdg_15_4_2_A_csvs/Niue.csv'\n"
          ]
        },
        {
          "output_type": "stream",
          "name": "stderr",
          "text": [
            "/content/sepal_mgci/component/scripts/sub_a.py:135: RuntimeWarning: invalid value encountered in scalar divide\n",
            "  green_non_green.sum()[\"sumgreen\"]\n",
            "/content/sepal_mgci/component/scripts/sub_a.py:135: RuntimeWarning: invalid value encountered in scalar divide\n",
            "  green_non_green.sum()[\"sumgreen\"]\n",
            "/content/sepal_mgci/component/scripts/sub_a.py:135: RuntimeWarning: invalid value encountered in scalar divide\n",
            "  green_non_green.sum()[\"sumgreen\"]\n",
            "/content/sepal_mgci/component/scripts/sub_a.py:135: RuntimeWarning: invalid value encountered in scalar divide\n",
            "  green_non_green.sum()[\"sumgreen\"]\n"
          ]
        },
        {
          "output_type": "stream",
          "name": "stdout",
          "text": [
            "Process 188, Singapore.csv\n",
            "Process 189, Luxembourg.csv\n",
            "Process 190, Sudan.csv\n",
            "Process 191, French Southern and Antarctic Territories.csv\n",
            "Process 192, Kazakhstan.csv\n",
            "Process 193, Slovakia.csv\n",
            "Process 194, Dem Peoples Rep of Korea.csv\n",
            "Process 195, Italy.csv\n"
          ]
        },
        {
          "output_type": "stream",
          "name": "stderr",
          "text": [
            "/content/sepal_mgci/component/scripts/sub_a.py:135: RuntimeWarning: invalid value encountered in scalar divide\n",
            "  green_non_green.sum()[\"sumgreen\"]\n",
            "/content/sepal_mgci/component/scripts/sub_a.py:135: RuntimeWarning: invalid value encountered in scalar divide\n",
            "  green_non_green.sum()[\"sumgreen\"]\n",
            "/content/sepal_mgci/component/scripts/sub_a.py:135: RuntimeWarning: invalid value encountered in scalar divide\n",
            "  green_non_green.sum()[\"sumgreen\"]\n",
            "/content/sepal_mgci/component/scripts/sub_a.py:135: RuntimeWarning: invalid value encountered in scalar divide\n",
            "  green_non_green.sum()[\"sumgreen\"]\n"
          ]
        },
        {
          "output_type": "stream",
          "name": "stdout",
          "text": [
            "Process 196, Europa Island.csv\n",
            "Process 197, Ghana.csv\n",
            "process 198, Bahamas.csv, Error: [Errno 2] No such file or directory: '/content/drive/MyDrive/sdg_15_4_2_A_csvs/Bahamas.csv'\n",
            "process 199, Bolivia.csv, Error: [Errno 2] No such file or directory: '/content/drive/MyDrive/sdg_15_4_2_A_csvs/Bolivia.csv'\n",
            "process 200, Honduras.csv, Error: [Errno 2] No such file or directory: '/content/drive/MyDrive/sdg_15_4_2_A_csvs/Honduras.csv'\n",
            "Process 201, Nepal.csv\n",
            "Process 202, Mongolia.csv\n",
            "Process 203, Sri Lanka.csv\n",
            "Process 204, Kenya.csv\n",
            "Process 205, Azerbaijan.csv\n",
            "Process 206, Czech Republic.csv\n",
            "process 207, Micronesia Federated States of.csv, Error: [Errno 2] No such file or directory: '/content/drive/MyDrive/sdg_15_4_2_A_csvs/Micronesia Federated States of.csv'\n",
            "process 208, Baker Island.csv, Error: [Errno 2] No such file or directory: '/content/drive/MyDrive/sdg_15_4_2_A_csvs/Baker Island.csv'\n",
            "Process 209, South Africa.csv\n",
            "process 210, Palau.csv, Error: [Errno 2] No such file or directory: '/content/drive/MyDrive/sdg_15_4_2_A_csvs/Palau.csv'\n",
            "process 211, Peru.csv, Error: [Errno 2] No such file or directory: '/content/drive/MyDrive/sdg_15_4_2_A_csvs/Peru.csv'\n",
            "process 212, New Caledonia.csv, Error: [Errno 2] No such file or directory: '/content/drive/MyDrive/sdg_15_4_2_A_csvs/New Caledonia.csv'\n",
            "Process 213, Morocco.csv\n",
            "Process 214, Croatia.csv\n",
            "process 215, Arunachal Pradesh.csv, Error: [Errno 2] No such file or directory: '/content/drive/MyDrive/sdg_15_4_2_A_csvs/Arunachal Pradesh.csv'\n",
            "Process 216, Lesotho.csv\n",
            "process 217, Matan al-Sarra.csv, Error: [Errno 2] No such file or directory: '/content/drive/MyDrive/sdg_15_4_2_A_csvs/Matan al-Sarra.csv'\n",
            "Process 218, Romania.csv\n",
            "Process 219, Cameroon.csv\n",
            "Process 220, Viet Nam.csv\n",
            "Process 221, Finland.csv\n",
            "process 222, Hong Kong.csv, Error: [Errno 2] No such file or directory: '/content/drive/MyDrive/sdg_15_4_2_A_csvs/Hong Kong.csv'\n",
            "process 223, Haiti.csv, Error: [Errno 2] No such file or directory: '/content/drive/MyDrive/sdg_15_4_2_A_csvs/Haiti.csv'\n",
            "Process 224, Guinea.csv\n"
          ]
        },
        {
          "output_type": "stream",
          "name": "stderr",
          "text": [
            "/content/sepal_mgci/component/scripts/sub_a.py:135: RuntimeWarning: invalid value encountered in scalar divide\n",
            "  green_non_green.sum()[\"sumgreen\"]\n",
            "/content/sepal_mgci/component/scripts/sub_a.py:135: RuntimeWarning: invalid value encountered in scalar divide\n",
            "  green_non_green.sum()[\"sumgreen\"]\n",
            "/content/sepal_mgci/component/scripts/sub_a.py:135: RuntimeWarning: invalid value encountered in scalar divide\n",
            "  green_non_green.sum()[\"sumgreen\"]\n",
            "/content/sepal_mgci/component/scripts/sub_a.py:135: RuntimeWarning: invalid value encountered in scalar divide\n",
            "  green_non_green.sum()[\"sumgreen\"]\n"
          ]
        },
        {
          "output_type": "stream",
          "name": "stdout",
          "text": [
            "Process 225, Gambia.csv\n",
            "Process 226, Serbia.csv\n",
            "Process 227, The former Yugoslav Republic of Macedonia.csv\n",
            "process 228, South Georgia and the South Sandwich Islands.csv, Error: [Errno 2] No such file or directory: '/content/drive/MyDrive/sdg_15_4_2_A_csvs/South Georgia and the South Sandwich Islands.csv'\n",
            "Process 229, Cote dIvoire.csv\n"
          ]
        },
        {
          "output_type": "stream",
          "name": "stderr",
          "text": [
            "/content/sepal_mgci/component/scripts/sub_a.py:135: RuntimeWarning: invalid value encountered in scalar divide\n",
            "  green_non_green.sum()[\"sumgreen\"]\n",
            "/content/sepal_mgci/component/scripts/sub_a.py:135: RuntimeWarning: invalid value encountered in scalar divide\n",
            "  green_non_green.sum()[\"sumgreen\"]\n",
            "/content/sepal_mgci/component/scripts/sub_a.py:135: RuntimeWarning: invalid value encountered in scalar divide\n",
            "  green_non_green.sum()[\"sumgreen\"]\n",
            "/content/sepal_mgci/component/scripts/sub_a.py:135: RuntimeWarning: invalid value encountered in scalar divide\n",
            "  green_non_green.sum()[\"sumgreen\"]\n"
          ]
        },
        {
          "output_type": "stream",
          "name": "stdout",
          "text": [
            "Process 230, Qatar.csv\n"
          ]
        },
        {
          "output_type": "stream",
          "name": "stderr",
          "text": [
            "/content/sepal_mgci/component/scripts/sub_a.py:135: RuntimeWarning: invalid value encountered in scalar divide\n",
            "  green_non_green.sum()[\"sumgreen\"]\n",
            "/content/sepal_mgci/component/scripts/sub_a.py:135: RuntimeWarning: invalid value encountered in scalar divide\n",
            "  green_non_green.sum()[\"sumgreen\"]\n",
            "/content/sepal_mgci/component/scripts/sub_a.py:135: RuntimeWarning: invalid value encountered in scalar divide\n",
            "  green_non_green.sum()[\"sumgreen\"]\n",
            "/content/sepal_mgci/component/scripts/sub_a.py:135: RuntimeWarning: invalid value encountered in scalar divide\n",
            "  green_non_green.sum()[\"sumgreen\"]\n"
          ]
        },
        {
          "output_type": "stream",
          "name": "stdout",
          "text": [
            "Process 231, Malta.csv\n",
            "Process 232, Chad.csv\n",
            "process 233, Montserrat.csv, Error: [Errno 2] No such file or directory: '/content/drive/MyDrive/sdg_15_4_2_A_csvs/Montserrat.csv'\n",
            "process 234, Nauru.csv, Error: [Errno 2] No such file or directory: '/content/drive/MyDrive/sdg_15_4_2_A_csvs/Nauru.csv'\n",
            "Process 235, Japan.csv\n",
            "process 236, Bird Island.csv, Error: [Errno 2] No such file or directory: '/content/drive/MyDrive/sdg_15_4_2_A_csvs/Bird Island.csv'\n",
            "process 237, Madeira Islands.csv, Error: [Errno 2] No such file or directory: '/content/drive/MyDrive/sdg_15_4_2_A_csvs/Madeira Islands.csv'\n",
            "Process 238, Bosnia and Herzegovina.csv\n",
            "Process 239, San Marino.csv\n"
          ]
        },
        {
          "output_type": "stream",
          "name": "stderr",
          "text": [
            "/content/sepal_mgci/component/scripts/sub_a.py:135: RuntimeWarning: invalid value encountered in scalar divide\n",
            "  green_non_green.sum()[\"sumgreen\"]\n",
            "/content/sepal_mgci/component/scripts/sub_a.py:135: RuntimeWarning: invalid value encountered in scalar divide\n",
            "  green_non_green.sum()[\"sumgreen\"]\n",
            "/content/sepal_mgci/component/scripts/sub_a.py:135: RuntimeWarning: invalid value encountered in scalar divide\n",
            "  green_non_green.sum()[\"sumgreen\"]\n",
            "/content/sepal_mgci/component/scripts/sub_a.py:135: RuntimeWarning: invalid value encountered in scalar divide\n",
            "  green_non_green.sum()[\"sumgreen\"]\n"
          ]
        },
        {
          "output_type": "stream",
          "name": "stdout",
          "text": [
            "Process 240, Bahrain.csv\n",
            "Process 241, Angola.csv\n",
            "Process 242, Timor-Leste.csv\n",
            "process 243, Saint Vincent and the Grenadines.csv, Error: [Errno 2] No such file or directory: '/content/drive/MyDrive/sdg_15_4_2_A_csvs/Saint Vincent and the Grenadines.csv'\n",
            "process 244, Panama.csv, Error: [Errno 2] No such file or directory: '/content/drive/MyDrive/sdg_15_4_2_A_csvs/Panama.csv'\n",
            "Process 245, United Republic of Tanzania.csv\n",
            "Process 246, Switzerland.csv\n",
            "process 247, Aruba.csv, Error: [Errno 2] No such file or directory: '/content/drive/MyDrive/sdg_15_4_2_A_csvs/Aruba.csv'\n",
            "Process 248, Senegal.csv\n",
            "Process 249, Zimbabwe.csv\n",
            "process 250, Canada.csv, Error: [Errno 2] No such file or directory: '/content/drive/MyDrive/sdg_15_4_2_A_csvs/Canada.csv'\n",
            "Process 251, Iraq.csv\n",
            "process 252, Azores Islands.csv, Error: [Errno 2] No such file or directory: '/content/drive/MyDrive/sdg_15_4_2_A_csvs/Azores Islands.csv'\n",
            "Process 253, China.csv\n",
            "Process 254, Mexico.csv\n",
            "process 255, Svalbard and Jan Mayen Islands.csv, Error: [Errno 2] No such file or directory: '/content/drive/MyDrive/sdg_15_4_2_A_csvs/Svalbard and Jan Mayen Islands.csv'\n",
            "Process 256, Uganda.csv\n",
            "Process 257, Brunei Darussalam.csv\n",
            "process 258, West Bank.csv, Error: [Errno 2] No such file or directory: '/content/drive/MyDrive/sdg_15_4_2_A_csvs/West Bank.csv'\n",
            "process 259, Netherlands Antilles.csv, Error: [Errno 2] No such file or directory: '/content/drive/MyDrive/sdg_15_4_2_A_csvs/Netherlands Antilles.csv'\n",
            "Process 260, Tajikistan.csv\n",
            "Process 261, Mayotte.csv\n",
            "process 262, Johnston Atoll.csv, Error: [Errno 2] No such file or directory: '/content/drive/MyDrive/sdg_15_4_2_A_csvs/Johnston Atoll.csv'\n",
            "process 263, Uruguay.csv, Error: [Errno 2] No such file or directory: '/content/drive/MyDrive/sdg_15_4_2_A_csvs/Uruguay.csv'\n",
            "Process 264, Ireland.csv\n",
            "Process 265, Congo.csv\n",
            "process 266, ChinaIndia.csv, Error: [Errno 2] No such file or directory: '/content/drive/MyDrive/sdg_15_4_2_A_csvs/ChinaIndia.csv'\n",
            "Process 267, Jordan.csv\n",
            "Process 268, Austria.csv\n",
            "process 269, United States of America.csv, Error: [Errno 2] No such file or directory: '/content/drive/MyDrive/sdg_15_4_2_A_csvs/United States of America.csv'\n"
          ]
        },
        {
          "output_type": "stream",
          "name": "stderr",
          "text": [
            "/content/sepal_mgci/component/scripts/sub_a.py:135: RuntimeWarning: invalid value encountered in scalar divide\n",
            "  green_non_green.sum()[\"sumgreen\"]\n",
            "/content/sepal_mgci/component/scripts/sub_a.py:135: RuntimeWarning: invalid value encountered in scalar divide\n",
            "  green_non_green.sum()[\"sumgreen\"]\n",
            "/content/sepal_mgci/component/scripts/sub_a.py:135: RuntimeWarning: invalid value encountered in scalar divide\n",
            "  green_non_green.sum()[\"sumgreen\"]\n",
            "/content/sepal_mgci/component/scripts/sub_a.py:135: RuntimeWarning: invalid value encountered in scalar divide\n",
            "  green_non_green.sum()[\"sumgreen\"]\n"
          ]
        },
        {
          "output_type": "stream",
          "name": "stdout",
          "text": [
            "Process 270, Latvia.csv\n",
            "Process 271, Djibouti.csv\n",
            "process 272, Gibraltar.csv, Error: [Errno 2] No such file or directory: '/content/drive/MyDrive/sdg_15_4_2_A_csvs/Gibraltar.csv'\n",
            "process 273, Barbados.csv, Error: [Errno 2] No such file or directory: '/content/drive/MyDrive/sdg_15_4_2_A_csvs/Barbados.csv'\n",
            "Process 274, Algeria.csv\n",
            "process 275, Guyana.csv, Error: [Errno 2] No such file or directory: '/content/drive/MyDrive/sdg_15_4_2_A_csvs/Guyana.csv'\n",
            "process 276, Colombia.csv, Error: [Errno 2] No such file or directory: '/content/drive/MyDrive/sdg_15_4_2_A_csvs/Colombia.csv'\n"
          ]
        }
      ],
      "source": [
        "# Initialize the counter\n",
        "counter = 0\n",
        "\n",
        "# Loop over each AOI name in the list of countries\n",
        "for aoi_name in list_of_countries:\n",
        "    counter += 1\n",
        "\n",
        "    # Clean the AOI name\n",
        "    aoi_name_clean = str(sanitize_description(unidecode(aoi_name)))\n",
        "\n",
        "    # Construct the file path for the stats CSV file\n",
        "    stats_csv_file = aoi_name_clean + \".csv\"\n",
        "    stats_csv_file_path = os.path.join(drive_home, stats_csv_folder, stats_csv_file)\n",
        "\n",
        "    message = f\"Process {counter}, {stats_csv_file}\"\n",
        "\n",
        "    try:\n",
        "        # Read the results from the CSV file and parse it to a dictionary\n",
        "        dict_results = read_from_csv(stats_csv_file_path)\n",
        "\n",
        "        details = {\n",
        "            \"geo_area_name\": aoi_name,\n",
        "            \"ref_area\": \" \",\n",
        "            \"source_detail\": \" \",\n",
        "        }\n",
        "\n",
        "        # Generate reports for the sub_a and mtn indicators\n",
        "        sub_a_reports = [sub_a.get_reports(parse_result(dict_results[year][\"sub_a\"], single=True), year, **details) for year in single_years]\n",
        "        mtn_reports = [mntn.get_report(parse_result(dict_results[year][\"sub_a\"], single=True), year, **details) for year in single_years]\n",
        "\n",
        "        # Concatenate the mtn reports\n",
        "        mtn_reports_df = pd.concat(mtn_reports)\n",
        "\n",
        "        # Concatenate the sub a reports\n",
        "        er_mtn_grnvi_df = pd.concat([report[0] for report in sub_a_reports])\n",
        "        er_mtn_grncov_df = pd.concat([report[1] for report in sub_a_reports])\n",
        "\n",
        "        # Define the output report file path\n",
        "        report_file_path = os.path.join(drive_home, excel_reports_folder, aoi_name_clean + \".xlsx\")\n",
        "\n",
        "        # Create the Excel file with the reports\n",
        "        with pd.ExcelWriter(report_file_path) as writer:\n",
        "            mtn_reports_df.to_excel(writer, sheet_name=\"Table1_ER_MTN_TOTL\", index=False)\n",
        "            er_mtn_grncov_df.to_excel(writer, sheet_name=\"Table2_ER_MTN_GRNCOV\", index=False)\n",
        "            er_mtn_grnvi_df.to_excel(writer, sheet_name=\"Table3_ER_MTN_GRNCVI\", index=False)\n",
        "\n",
        "            # Adjust column widths and alignment for each sheet\n",
        "            for sheetname in writer.sheets:\n",
        "                worksheet = writer.sheets[sheetname]\n",
        "                for col in worksheet.columns:\n",
        "                    max_length = max(len(str(cell.value)) for cell in col)\n",
        "                    column = col[0]\n",
        "                    adjusted_width = max(max_length, len(str(column.value))) + 4\n",
        "                    worksheet.column_dimensions[get_column_letter(column.column)].width = adjusted_width\n",
        "\n",
        "                    # Align \"obs_value\" column to the right\n",
        "                    if \"OBS\" in column.value:\n",
        "                        for cell in col:\n",
        "                            cell.alignment = Alignment(horizontal=\"right\")\n",
        "\n",
        "    except Exception as e:\n",
        "        # If an error occurs, catch the exception and handle it\n",
        "        message = f\"process {counter}, {stats_csv_file}, Error: {e}\"\n",
        "\n",
        "        # Get the current time\n",
        "        current_time = datetime.now().strftime('%Y-%m-%d %H:%M:%S')\n",
        "\n",
        "        # Write the error message and file name to the error log file\n",
        "        error_info = pd.DataFrame([[stats_csv_file, str(e), current_time]], columns=['File Name', 'Error Message', 'Time'])\n",
        "\n",
        "        mode = 'w' if not os.path.exists(error_log_file_path) else 'a'\n",
        "        header = False if os.path.exists(error_log_file_path) else True\n",
        "\n",
        "        # Append or write to the error log file\n",
        "        error_info.to_csv(error_log_file_path, mode=mode, header=header, index=False)\n",
        "\n",
        "    print(message)\n"
      ]
    },
    {
      "cell_type": "markdown",
      "source": [
        "#### Combine excel files"
      ],
      "metadata": {
        "id": "qTqI3Ag08k5b"
      }
    },
    {
      "cell_type": "markdown",
      "source": [
        "Make a list of files to combine"
      ],
      "metadata": {
        "id": "sVpLtG4Z7Jbe"
      }
    },
    {
      "cell_type": "code",
      "source": [
        "# Directory path where Excel reports are stored\n",
        "directory_path = os.path.join(drive_home, excel_reports_folder)\n",
        "\n",
        "# List files in the directory with '.xlsx' extension\n",
        "files = [file for file in os.listdir(directory_path) if file.endswith('.xlsx')]\n",
        "\n",
        "# Create a list of full file paths\n",
        "full_file_paths = [os.path.join(directory_path, file) for file in files]\n",
        "\n",
        "# Print the number of Excel files found in the folder\n",
        "print(f\"Number of Excel files in folder: {len(full_file_paths)}\")\n"
      ],
      "metadata": {
        "id": "sTyhwne7rr9D",
        "outputId": "98b25c71-c3de-4794-a2e5-584062152872",
        "colab": {
          "base_uri": "https://localhost:8080/",
          "height": 35
        }
      },
      "execution_count": null,
      "outputs": [
        {
          "output_type": "display_data",
          "data": {
            "text/plain": [
              "<IPython.core.display.HTML object>"
            ],
            "text/html": [
              "\n",
              "            <style>\n",
              "                .geemap-dark {\n",
              "                    --jp-widgets-color: white;\n",
              "                    --jp-widgets-label-color: white;\n",
              "                    --jp-ui-font-color1: white;\n",
              "                    --jp-layout-color2: #454545;\n",
              "                    background-color: #383838;\n",
              "                }\n",
              "\n",
              "                .geemap-dark .jupyter-button {\n",
              "                    --jp-layout-color3: #383838;\n",
              "                }\n",
              "\n",
              "                .geemap-colab {\n",
              "                    background-color: var(--colab-primary-surface-color, white);\n",
              "                }\n",
              "\n",
              "                .geemap-colab .jupyter-button {\n",
              "                    --jp-layout-color3: var(--colab-primary-surface-color, white);\n",
              "                }\n",
              "            </style>\n",
              "            "
            ]
          },
          "metadata": {}
        },
        {
          "output_type": "stream",
          "name": "stdout",
          "text": [
            "Number of Excel files in folder: 166\n"
          ]
        }
      ]
    },
    {
      "cell_type": "markdown",
      "source": [
        "##### Run function to combine into a single report"
      ],
      "metadata": {
        "id": "C77flAQu7xWX"
      }
    },
    {
      "cell_type": "code",
      "source": [
        "append_excel_files(file_paths=full_file_paths,num_sheets=3,output_file_path=reports_combined_file_path)\n",
        "\n",
        "print (f\"\\n Complete! Output file for SDG 15.4.2 Component A here: {reports_combined_file_path}\")"
      ],
      "metadata": {
        "id": "FkS1ErA9AYj6",
        "outputId": "00adefb8-50f4-4822-efb7-03f3897231f2",
        "colab": {
          "base_uri": "https://localhost:8080/",
          "height": 53
        }
      },
      "execution_count": null,
      "outputs": [
        {
          "output_type": "display_data",
          "data": {
            "text/plain": [
              "<IPython.core.display.HTML object>"
            ],
            "text/html": [
              "\n",
              "            <style>\n",
              "                .geemap-dark {\n",
              "                    --jp-widgets-color: white;\n",
              "                    --jp-widgets-label-color: white;\n",
              "                    --jp-ui-font-color1: white;\n",
              "                    --jp-layout-color2: #454545;\n",
              "                    background-color: #383838;\n",
              "                }\n",
              "\n",
              "                .geemap-dark .jupyter-button {\n",
              "                    --jp-layout-color3: #383838;\n",
              "                }\n",
              "\n",
              "                .geemap-colab {\n",
              "                    background-color: var(--colab-primary-surface-color, white);\n",
              "                }\n",
              "\n",
              "                .geemap-colab .jupyter-button {\n",
              "                    --jp-layout-color3: var(--colab-primary-surface-color, white);\n",
              "                }\n",
              "            </style>\n",
              "            "
            ]
          },
          "metadata": {}
        },
        {
          "output_type": "stream",
          "name": "stdout",
          "text": [
            "Processing 166/166: /content/drive/MyDrive/sdg_15_4_2_A_reports/Cyprus.xlsx\n",
            " Complete! Output file for SDG 15.4.2 Component A here: /content/drive/MyDrive/sdg_15_4_2_A_combined_report/sdg_15_4_2_A_default_global.xlsx\n"
          ]
        }
      ]
    }
  ],
  "metadata": {
    "kernelspec": {
      "display_name": "(test) test-sepal_mgci",
      "language": "python",
      "name": "test-sepal_mgci"
    },
    "language_info": {
      "codemirror_mode": {
        "name": "ipython",
        "version": 3
      },
      "file_extension": ".py",
      "mimetype": "text/x-python",
      "name": "python",
      "nbconvert_exporter": "python",
      "pygments_lexer": "ipython3",
      "version": "3.10.12"
    },
    "colab": {
      "provenance": [],
      "include_colab_link": true
    }
  },
  "nbformat": 4,
  "nbformat_minor": 0
}