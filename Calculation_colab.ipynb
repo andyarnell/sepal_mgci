{
  "cells": [
    {
      "cell_type": "markdown",
      "metadata": {
        "id": "view-in-github",
        "colab_type": "text"
      },
      "source": [
        "<a href=\"https://colab.research.google.com/github/andyarnell/sepal_mgci/blob/master/Calculation_colab.ipynb\" target=\"_parent\"><img src=\"https://colab.research.google.com/assets/colab-badge.svg\" alt=\"Open In Colab\"/></a>"
      ]
    },
    {
      "cell_type": "markdown",
      "source": [
        "#### Clone SDG 15.4.2 github repo into colab instance"
      ],
      "metadata": {
        "id": "qGfLFLEkwS1n"
      }
    },
    {
      "cell_type": "code",
      "source": [
        "# Change the current working directory to \"/content\".\n",
        "%cd \"/content\"\n",
        "\n",
        "# Clone the GitHub repository \"sepal_mgci\" into the current directory.\n",
        "!git clone https://github.com/andyarnell/sepal_mgci.git"
      ],
      "metadata": {
        "colab": {
          "base_uri": "https://localhost:8080/",
          "height": 52
        },
        "id": "TNohZrOTvNqT",
        "outputId": "9f7abeac-c81c-4616-e017-6333118957f8"
      },
      "execution_count": 5,
      "outputs": [
        {
          "output_type": "display_data",
          "data": {
            "text/plain": [
              "<IPython.core.display.HTML object>"
            ],
            "text/html": [
              "\n",
              "            <style>\n",
              "                .geemap-dark {\n",
              "                    --jp-widgets-color: white;\n",
              "                    --jp-widgets-label-color: white;\n",
              "                    --jp-ui-font-color1: white;\n",
              "                    --jp-layout-color2: #454545;\n",
              "                    background-color: #383838;\n",
              "                }\n",
              "\n",
              "                .geemap-dark .jupyter-button {\n",
              "                    --jp-layout-color3: #383838;\n",
              "                }\n",
              "\n",
              "                .geemap-colab {\n",
              "                    background-color: var(--colab-primary-surface-color, white);\n",
              "                }\n",
              "\n",
              "                .geemap-colab .jupyter-button {\n",
              "                    --jp-layout-color3: var(--colab-primary-surface-color, white);\n",
              "                }\n",
              "            </style>\n",
              "            "
            ]
          },
          "metadata": {}
        },
        {
          "output_type": "stream",
          "name": "stdout",
          "text": [
            "/content\n",
            "fatal: destination path 'sepal_mgci' already exists and is not an empty directory.\n"
          ]
        }
      ]
    },
    {
      "cell_type": "markdown",
      "source": [
        "#### Installing missing packages"
      ],
      "metadata": {
        "id": "YdoCOI_1yWY0"
      }
    },
    {
      "cell_type": "code",
      "execution_count": 9,
      "metadata": {
        "colab": {
          "base_uri": "https://localhost:8080/",
          "height": 156
        },
        "id": "Kg3K1EPJu_f5",
        "outputId": "ec86d8a8-aa8c-4998-f281-d36c759aa9b4"
      },
      "outputs": [
        {
          "output_type": "display_data",
          "data": {
            "text/plain": [
              "<IPython.core.display.HTML object>"
            ],
            "text/html": [
              "\n",
              "            <style>\n",
              "                .geemap-dark {\n",
              "                    --jp-widgets-color: white;\n",
              "                    --jp-widgets-label-color: white;\n",
              "                    --jp-ui-font-color1: white;\n",
              "                    --jp-layout-color2: #454545;\n",
              "                    background-color: #383838;\n",
              "                }\n",
              "\n",
              "                .geemap-dark .jupyter-button {\n",
              "                    --jp-layout-color3: #383838;\n",
              "                }\n",
              "\n",
              "                .geemap-colab {\n",
              "                    background-color: var(--colab-primary-surface-color, white);\n",
              "                }\n",
              "\n",
              "                .geemap-colab .jupyter-button {\n",
              "                    --jp-layout-color3: var(--colab-primary-surface-color, white);\n",
              "                }\n",
              "            </style>\n",
              "            "
            ]
          },
          "metadata": {}
        },
        {
          "output_type": "stream",
          "name": "stdout",
          "text": [
            "The autoreload extension is already loaded. To reload it, use:\n",
            "  %reload_ext autoreload\n",
            "geemap is already installed.\n",
            "unidecode is already installed.\n",
            "google-api-python-client has been installed.\n",
            "google-auth-httplib2 has been installed.\n",
            "google-auth-oauthlib has been installed.\n",
            "sepal_ui is already installed.\n"
          ]
        }
      ],
      "source": [
        "# Load the autoreload extension to automatically reload modules.\n",
        "%load_ext autoreload\n",
        "\n",
        "# Set autoreload to reload all modules before executing code.\n",
        "%autoreload 2\n",
        "\n",
        "# Function to install a package if it's not already installed\n",
        "def install_if_not_exists(package_name):\n",
        "    try:\n",
        "        __import__(package_name)\n",
        "        print(f\"{package_name} is already installed.\")\n",
        "    except ImportError:\n",
        "        !pip install -q {package_name}\n",
        "        print(f\"{package_name} has been installed.\")\n",
        "\n",
        "# List of packages to install if not already installed\n",
        "packages_to_install = ['geemap', 'unidecode', 'google-api-python-client',\n",
        "                      'google-auth-httplib2', 'google-auth-oauthlib','sepal_ui']\n",
        "\n",
        "# Install necessary packages\n",
        "for package in packages_to_install:\n",
        "    install_if_not_exists(package)"
      ]
    },
    {
      "cell_type": "markdown",
      "source": [
        "#### Importing packages\n",
        "##### Includes modules and functions from the sepal_mgci repository"
      ],
      "metadata": {
        "id": "L5jsWgqWyiCP"
      }
    },
    {
      "cell_type": "code",
      "source": [
        "import ee # google earth engine\n",
        "import os # operating system library\n",
        "\n",
        "# Authenticate and initialize Google Earth Engine\n",
        "gee_project_name = \"ee-andyarnellgee\"  # Need a valid Google project name\n",
        "\n",
        "ee.Authenticate()\n",
        "\n",
        "ee.Initialize(project=gee_project_name)\n",
        "\n",
        "from datetime import datetime # for timestamtping error log\n",
        "import pandas as pd # pandas library for tabular data manipulation\n",
        "# import geemap # useful for conv\n",
        "import re # for manipulating strings\n",
        "# import pygaul # not using currently\n",
        "\n",
        "from unidecode import unidecode # for converting non ascii compliant symbols in country names\n",
        "from google.colab import auth # for accessing google drive\n",
        "from google.colab import drive\n",
        "from googleapiclient.discovery import build # for getting authorisated access to google drive\n",
        "from openpyxl.utils import get_column_letter # formatting excel report file\n",
        "from openpyxl.styles import Alignment # formatting excel report file\n",
        "\n",
        "# Change current directory to sepal_mgci (i.e. the local copy of the github repository)\n",
        "%cd \"/content/sepal_mgci\"\n",
        "\n",
        "\n",
        "# Import specific parameters needed\n",
        "from component.parameter.module_parameter import DEM_DEFAULT, LC_MAP_MATRIX\n",
        "\n",
        "# Import scripts and modules (mostly functions for mgci calculation and formatting)\n",
        "from component.scripts.gee import reduce_regions # for running summary statistics in GEE\n",
        "from component.scripts.scripts import get_a_years, map_matrix_to_dict, parse_result # parameter prep and reformatting\n",
        "from component.scripts.scripts import read_from_csv\n",
        "from component.scripts import sub_a, sub_b, mountain_area as mntn\n",
        "\n",
        "print(\"Imports complete\")"
      ],
      "metadata": {
        "id": "xopY6C80GXl6",
        "outputId": "8a7ae007-dfe4-4bfb-ec33-d863bc56b353",
        "colab": {
          "base_uri": "https://localhost:8080/",
          "height": 52
        }
      },
      "execution_count": 10,
      "outputs": [
        {
          "output_type": "display_data",
          "data": {
            "text/plain": [
              "<IPython.core.display.HTML object>"
            ],
            "text/html": [
              "\n",
              "            <style>\n",
              "                .geemap-dark {\n",
              "                    --jp-widgets-color: white;\n",
              "                    --jp-widgets-label-color: white;\n",
              "                    --jp-ui-font-color1: white;\n",
              "                    --jp-layout-color2: #454545;\n",
              "                    background-color: #383838;\n",
              "                }\n",
              "\n",
              "                .geemap-dark .jupyter-button {\n",
              "                    --jp-layout-color3: #383838;\n",
              "                }\n",
              "\n",
              "                .geemap-colab {\n",
              "                    background-color: var(--colab-primary-surface-color, white);\n",
              "                }\n",
              "\n",
              "                .geemap-colab .jupyter-button {\n",
              "                    --jp-layout-color3: var(--colab-primary-surface-color, white);\n",
              "                }\n",
              "            </style>\n",
              "            "
            ]
          },
          "metadata": {}
        },
        {
          "output_type": "stream",
          "name": "stdout",
          "text": [
            "/content/sepal_mgci\n",
            "Imports complete\n"
          ]
        }
      ]
    },
    {
      "cell_type": "markdown",
      "source": [
        "#### Get access to Google Drive for script to retrieve output csvs\n",
        "Includes agreeing to access request pop up window"
      ],
      "metadata": {
        "id": "aUVGL6zwLpX5"
      }
    },
    {
      "cell_type": "code",
      "source": [
        "drive.mount('/content/drive')"
      ],
      "metadata": {
        "id": "NorUzAJ8Kj0Z",
        "outputId": "8f80dbac-cd52-44a9-c9d6-c03b0df8b419",
        "colab": {
          "base_uri": "https://localhost:8080/",
          "height": 54
        }
      },
      "execution_count": 13,
      "outputs": [
        {
          "output_type": "display_data",
          "data": {
            "text/plain": [
              "<IPython.core.display.HTML object>"
            ],
            "text/html": [
              "\n",
              "            <style>\n",
              "                .geemap-dark {\n",
              "                    --jp-widgets-color: white;\n",
              "                    --jp-widgets-label-color: white;\n",
              "                    --jp-ui-font-color1: white;\n",
              "                    --jp-layout-color2: #454545;\n",
              "                    background-color: #383838;\n",
              "                }\n",
              "\n",
              "                .geemap-dark .jupyter-button {\n",
              "                    --jp-layout-color3: #383838;\n",
              "                }\n",
              "\n",
              "                .geemap-colab {\n",
              "                    background-color: var(--colab-primary-surface-color, white);\n",
              "                }\n",
              "\n",
              "                .geemap-colab .jupyter-button {\n",
              "                    --jp-layout-color3: var(--colab-primary-surface-color, white);\n",
              "                }\n",
              "            </style>\n",
              "            "
            ]
          },
          "metadata": {}
        },
        {
          "output_type": "stream",
          "name": "stdout",
          "text": [
            "Drive already mounted at /content/drive; to attempt to forcibly remount, call drive.mount(\"/content/drive\", force_remount=True).\n"
          ]
        }
      ]
    },
    {
      "cell_type": "markdown",
      "source": [
        "##### Functions"
      ],
      "metadata": {
        "id": "ShGLbAVpL_C_"
      }
    },
    {
      "cell_type": "code",
      "execution_count": 14,
      "metadata": {
        "id": "IA0zW-cIu_f8",
        "colab": {
          "base_uri": "https://localhost:8080/",
          "height": 17
        },
        "outputId": "076c4763-f8bc-44da-dfa6-88e8d8f0fb55"
      },
      "outputs": [
        {
          "output_type": "display_data",
          "data": {
            "text/plain": [
              "<IPython.core.display.HTML object>"
            ],
            "text/html": [
              "\n",
              "            <style>\n",
              "                .geemap-dark {\n",
              "                    --jp-widgets-color: white;\n",
              "                    --jp-widgets-label-color: white;\n",
              "                    --jp-ui-font-color1: white;\n",
              "                    --jp-layout-color2: #454545;\n",
              "                    background-color: #383838;\n",
              "                }\n",
              "\n",
              "                .geemap-dark .jupyter-button {\n",
              "                    --jp-layout-color3: #383838;\n",
              "                }\n",
              "\n",
              "                .geemap-colab {\n",
              "                    background-color: var(--colab-primary-surface-color, white);\n",
              "                }\n",
              "\n",
              "                .geemap-colab .jupyter-button {\n",
              "                    --jp-layout-color3: var(--colab-primary-surface-color, white);\n",
              "                }\n",
              "            </style>\n",
              "            "
            ]
          },
          "metadata": {}
        }
      ],
      "source": [
        "def folder_exists(folder_name, parent_folder_id=None):\n",
        "    \"\"\"\n",
        "    Check if a folder exists in Google Drive.\n",
        "\n",
        "    Args:\n",
        "    - folder_name (str): Name of the folder to check.\n",
        "    - parent_folder_id (str): ID of the parent folder where to search for the folder.\n",
        "                              Default is None, meaning the search will be performed in the root.\n",
        "\n",
        "    Returns:\n",
        "    - bool: True if the folder exists, False otherwise.\n",
        "    \"\"\"\n",
        "    # Authenticate user\n",
        "    auth.authenticate_user()\n",
        "\n",
        "    # Build the Drive v3 service\n",
        "    drive_service = build('drive', 'v3')\n",
        "\n",
        "    # Prepare query to check if folder exists\n",
        "    query = f\"name='{folder_name}' and mimeType='application/vnd.google-apps.folder' and trashed=false\"\n",
        "    if parent_folder_id:\n",
        "        query += f\" and '{parent_folder_id}' in parents\"\n",
        "\n",
        "    try:\n",
        "        # Execute the search query\n",
        "        folders = drive_service.files().list(q=query, fields='files(id)', includeItemsFromAllDrives=True, supportsAllDrives=True).execute().get('files', [])\n",
        "        return bool(folders)\n",
        "    except Exception as e:\n",
        "        print(f\"An error occurred: {e}\")\n",
        "        return False\n",
        "\n",
        "\n",
        "def create_folder(folder_name, parent_folder_id=None):\n",
        "    \"\"\"\n",
        "    Create a folder in Google Drive.\n",
        "\n",
        "    Args:\n",
        "    - folder_name (str): Name of the folder to be created.\n",
        "    - parent_folder_id (str): ID of the parent folder where the new folder will be created.\n",
        "                              Default is None, meaning the folder will be created in the root.\n",
        "\n",
        "    Returns:\n",
        "    - str: ID of the newly created folder.\n",
        "    \"\"\"\n",
        "    # Authenticate user\n",
        "    auth.authenticate_user()\n",
        "\n",
        "    # Build the Drive v3 service\n",
        "    drive_service = build('drive', 'v3')\n",
        "\n",
        "    # Prepare folder metadata\n",
        "    folder_metadata = {\n",
        "        'name': folder_name,\n",
        "        'mimeType': 'application/vnd.google-apps.folder'\n",
        "    }\n",
        "    if parent_folder_id:\n",
        "        folder_metadata['parents'] = [parent_folder_id]\n",
        "\n",
        "    # Create the folder\n",
        "    folder = drive_service.files().create(body=folder_metadata, fields='id').execute()\n",
        "\n",
        "    # Return the ID of the newly created folder\n",
        "    return folder.get('id')\n",
        "\n",
        "\n",
        "def create_folder_if_not_exists(folder_name, parent_folder_id=None):\n",
        "    \"\"\"\n",
        "    Create a folder in Google Drive if it doesn't already exist.\n",
        "\n",
        "    Args:\n",
        "    - folder_name (str): Name of the folder to be created.\n",
        "    - parent_folder_id (str): ID of the parent folder where the new folder will be created.\n",
        "                              Default is None, meaning the folder will be created in the root.\n",
        "\n",
        "    Returns:\n",
        "    - str: ID of the newly created folder or the existing folder if it already exists.\n",
        "    \"\"\"\n",
        "    if folder_exists(folder_name, parent_folder_id):\n",
        "        print(f\"Folder '{folder_name}' already exists.\")\n",
        "        return None\n",
        "    else:\n",
        "        return create_folder(folder_name, parent_folder_id)\n",
        "\n",
        "\n",
        "def sanitize_description(description):\n",
        "    allowed_characters_pattern = r\"[^a-zA-Z0-9.,:;_ \\-]\"  # Define a regex pattern for characters not in the allowed set\n",
        "    sanitized_description = re.sub(allowed_characters_pattern, \"\", description)  # Remove characters not in the allowed set\n",
        "    return sanitized_description\n",
        "\n"
      ]
    },
    {
      "cell_type": "markdown",
      "source": [
        "####Parameters:\n",
        "Set output folder paths etc"
      ],
      "metadata": {
        "id": "ZXLIOVmgbFge"
      }
    },
    {
      "cell_type": "code",
      "source": [
        "drive_home =\"/content/drive/MyDrive/\" # Google Drive location. Should be the same for most people.\n",
        "\n",
        "final_report_name = \"sdg_15_4_2_A_default_global.xlsx\" # final excel file name\n",
        "\n",
        "final_report_folder = \"sdg_15_4_2_A_combined_report\" # final excel output folder\n",
        "\n",
        "stats_csv_folder = \"sdg_15_4_2_A_csvs\" # Folder name for stats tables exported from GEE for each AOI\n",
        "\n",
        "excel_reports_folder = \"sdg_15_4_2_A_reports\" # Folder name for formatted excel tables for each AOI\n",
        "\n",
        "admin_asset_property_name = \"ADM0_NAME\" # property/column name in asset: used in report for \"geo_area_name\" column\n",
        "\n",
        "error_log_file_path = drive_home + excel_reports_folder + \"/\"+\"1_error_log\" +\".csv\"\n",
        "\n",
        "create_folder_if_not_exists(stats_csv_folder) # Create the folder in Google Drive if it doesn't exist\n",
        "create_folder_if_not_exists(excel_reports_folder) # Create the folder in Google Drive if it doesn't exist\n",
        "create_folder_if_not_exists(final_report_folder) # Create the folder in Google Drive if it doesn't exist\n",
        "\n",
        "debug = False # more verbose messaging - set to true for debugging code\n",
        "\n",
        "export = False # set to true to run GEE stats processing tasks (if false allows checks on code)"
      ],
      "metadata": {
        "colab": {
          "base_uri": "https://localhost:8080/",
          "height": 69
        },
        "id": "aRDfx8rCbDM-",
        "outputId": "38984442-1a5f-403f-a0c3-8ca4d6eec73a"
      },
      "execution_count": 15,
      "outputs": [
        {
          "output_type": "display_data",
          "data": {
            "text/plain": [
              "<IPython.core.display.HTML object>"
            ],
            "text/html": [
              "\n",
              "            <style>\n",
              "                .geemap-dark {\n",
              "                    --jp-widgets-color: white;\n",
              "                    --jp-widgets-label-color: white;\n",
              "                    --jp-ui-font-color1: white;\n",
              "                    --jp-layout-color2: #454545;\n",
              "                    background-color: #383838;\n",
              "                }\n",
              "\n",
              "                .geemap-dark .jupyter-button {\n",
              "                    --jp-layout-color3: #383838;\n",
              "                }\n",
              "\n",
              "                .geemap-colab {\n",
              "                    background-color: var(--colab-primary-surface-color, white);\n",
              "                }\n",
              "\n",
              "                .geemap-colab .jupyter-button {\n",
              "                    --jp-layout-color3: var(--colab-primary-surface-color, white);\n",
              "                }\n",
              "            </style>\n",
              "            "
            ]
          },
          "metadata": {}
        },
        {
          "output_type": "stream",
          "name": "stdout",
          "text": [
            "Folder 'sdg_15_4_2_A_csvs' already exists.\n",
            "Folder 'sdg_15_4_2_A_reports' already exists.\n",
            "Folder 'sdg_15_4_2_A_combined_report' already exists.\n"
          ]
        }
      ]
    },
    {
      "cell_type": "code",
      "source": [
        "# admin_boundaries = ee.FeatureCollection(\"FAO/GAUL/2015/level0\") # NB 16 extra rows: Canada (9), United States of America (4), Australia (2) and West Bank (1).\n",
        "\n",
        "admin_boundaries = ee.FeatureCollection(\"FAO/GAUL_SIMPLIFIED_500m/2015/level0\") # NB 4 extra rows: Canada (3) and West Bank (1)\n",
        "\n",
        "# admin_boundaries = admin_boundaries.filter(ee.Filter.gt(\"Shape_Area\",10)).limit(10)\n",
        "\n",
        "list_of_countries = admin_boundaries.aggregate_array(admin_asset_property_name).getInfo()\n",
        "\n",
        "list_of_countries = list(set(list_of_countries)) # remove dupicates\n",
        "print (\"Length of admin boundaries to process\", len(list_of_countries))\n",
        "print (\"Length of distinct admin boundaries to process\", (len(set(list_of_countries))))\n"
      ],
      "metadata": {
        "colab": {
          "base_uri": "https://localhost:8080/",
          "height": 52
        },
        "id": "BiuBEJwPue2v",
        "outputId": "245f3012-8e22-4a83-b7f6-a8589c32abea"
      },
      "execution_count": 16,
      "outputs": [
        {
          "output_type": "display_data",
          "data": {
            "text/plain": [
              "<IPython.core.display.HTML object>"
            ],
            "text/html": [
              "\n",
              "            <style>\n",
              "                .geemap-dark {\n",
              "                    --jp-widgets-color: white;\n",
              "                    --jp-widgets-label-color: white;\n",
              "                    --jp-ui-font-color1: white;\n",
              "                    --jp-layout-color2: #454545;\n",
              "                    background-color: #383838;\n",
              "                }\n",
              "\n",
              "                .geemap-dark .jupyter-button {\n",
              "                    --jp-layout-color3: #383838;\n",
              "                }\n",
              "\n",
              "                .geemap-colab {\n",
              "                    background-color: var(--colab-primary-surface-color, white);\n",
              "                }\n",
              "\n",
              "                .geemap-colab .jupyter-button {\n",
              "                    --jp-layout-color3: var(--colab-primary-surface-color, white);\n",
              "                }\n",
              "            </style>\n",
              "            "
            ]
          },
          "metadata": {}
        },
        {
          "output_type": "stream",
          "name": "stdout",
          "text": [
            "Length of admin boundaries to process 276\n",
            "Length of distinct admin boundaries to process 276\n"
          ]
        }
      ]
    },
    {
      "cell_type": "markdown",
      "metadata": {
        "id": "c_8UzlUnu_f6"
      },
      "source": [
        "## SUB INDICATOR A"
      ]
    },
    {
      "cell_type": "code",
      "execution_count": 17,
      "metadata": {
        "id": "PRSEqq5bu_f7",
        "colab": {
          "base_uri": "https://localhost:8080/",
          "height": 17
        },
        "outputId": "c8afdca9-77b5-4ea6-8847-426e9eeac3b9"
      },
      "outputs": [
        {
          "output_type": "display_data",
          "data": {
            "text/plain": [
              "<IPython.core.display.HTML object>"
            ],
            "text/html": [
              "\n",
              "            <style>\n",
              "                .geemap-dark {\n",
              "                    --jp-widgets-color: white;\n",
              "                    --jp-widgets-label-color: white;\n",
              "                    --jp-ui-font-color1: white;\n",
              "                    --jp-layout-color2: #454545;\n",
              "                    background-color: #383838;\n",
              "                }\n",
              "\n",
              "                .geemap-dark .jupyter-button {\n",
              "                    --jp-layout-color3: #383838;\n",
              "                }\n",
              "\n",
              "                .geemap-colab {\n",
              "                    background-color: var(--colab-primary-surface-color, white);\n",
              "                }\n",
              "\n",
              "                .geemap-colab .jupyter-button {\n",
              "                    --jp-layout-color3: var(--colab-primary-surface-color, white);\n",
              "                }\n",
              "            </style>\n",
              "            "
            ]
          },
          "metadata": {}
        }
      ],
      "source": [
        "# Read the default land cover remapping table and convert it to a dictionary\n",
        "default_map_matrix = map_matrix_to_dict(LC_MAP_MATRIX)"
      ]
    },
    {
      "cell_type": "code",
      "execution_count": 18,
      "metadata": {
        "id": "PwqJFWR4u_f7",
        "colab": {
          "base_uri": "https://localhost:8080/",
          "height": 17
        },
        "outputId": "5d977260-ce0b-47e2-9415-018acafbc155"
      },
      "outputs": [
        {
          "output_type": "display_data",
          "data": {
            "text/plain": [
              "<IPython.core.display.HTML object>"
            ],
            "text/html": [
              "\n",
              "            <style>\n",
              "                .geemap-dark {\n",
              "                    --jp-widgets-color: white;\n",
              "                    --jp-widgets-label-color: white;\n",
              "                    --jp-ui-font-color1: white;\n",
              "                    --jp-layout-color2: #454545;\n",
              "                    background-color: #383838;\n",
              "                }\n",
              "\n",
              "                .geemap-dark .jupyter-button {\n",
              "                    --jp-layout-color3: #383838;\n",
              "                }\n",
              "\n",
              "                .geemap-colab {\n",
              "                    background-color: var(--colab-primary-surface-color, white);\n",
              "                }\n",
              "\n",
              "                .geemap-colab .jupyter-button {\n",
              "                    --jp-layout-color3: var(--colab-primary-surface-color, white);\n",
              "                }\n",
              "            </style>\n",
              "            "
            ]
          },
          "metadata": {}
        }
      ],
      "source": [
        "# For SUB_A indicator, we need to set the following structure\n",
        "a_years = {\n",
        "    1: {\"asset\": \"users/amitghosh/sdg_module/esa/cci_landcover/2000\", \"year\": 2000},\n",
        "    2: {\"year\": 2003, \"asset\": \"users/amitghosh/sdg_module/esa/cci_landcover/2003\"},\n",
        "    3: {\"year\": 2007, \"asset\": \"users/amitghosh/sdg_module/esa/cci_landcover/2007\"},\n",
        "    4: {\"year\": 2010, \"asset\": \"users/amitghosh/sdg_module/esa/cci_landcover/2010\"},\n",
        "}\n",
        "\n",
        "# Just extract the years from the a_years dictionary\n",
        "single_years = [y[\"year\"] for  y in a_years.values()]"
      ]
    },
    {
      "cell_type": "code",
      "execution_count": 19,
      "metadata": {
        "id": "VftKLuY4u_f7",
        "colab": {
          "base_uri": "https://localhost:8080/",
          "height": 34
        },
        "outputId": "b829c83a-31e2-4720-8acb-d3987916aac9"
      },
      "outputs": [
        {
          "output_type": "display_data",
          "data": {
            "text/plain": [
              "<IPython.core.display.HTML object>"
            ],
            "text/html": [
              "\n",
              "            <style>\n",
              "                .geemap-dark {\n",
              "                    --jp-widgets-color: white;\n",
              "                    --jp-widgets-label-color: white;\n",
              "                    --jp-ui-font-color1: white;\n",
              "                    --jp-layout-color2: #454545;\n",
              "                    background-color: #383838;\n",
              "                }\n",
              "\n",
              "                .geemap-dark .jupyter-button {\n",
              "                    --jp-layout-color3: #383838;\n",
              "                }\n",
              "\n",
              "                .geemap-colab {\n",
              "                    background-color: var(--colab-primary-surface-color, white);\n",
              "                }\n",
              "\n",
              "                .geemap-colab .jupyter-button {\n",
              "                    --jp-layout-color3: var(--colab-primary-surface-color, white);\n",
              "                }\n",
              "            </style>\n",
              "            "
            ]
          },
          "metadata": {}
        },
        {
          "output_type": "stream",
          "name": "stdout",
          "text": [
            " process 276/276 Guyana "
          ]
        }
      ],
      "source": [
        "# you can monitor your GEE tasks here : https://code.earthengine.google.com/tasks (and you can bulk cancel all if needed!)\n",
        "\n",
        "counter=0 # starting place of counter used to keep track of number of tasks that are being run\n",
        "\n",
        "for aoi_name in list_of_countries:\n",
        "\n",
        "    aoi = admin_boundaries.filter(ee.Filter.eq(admin_asset_property_name,aoi_name))#.first()\n",
        "\n",
        "    # gets areas of landcover in each mountain belt in each country\n",
        "    # uses reduce_regions function imported from the cloned sepal_mgci git hub repository (see Imports section)\n",
        "    # pixels counted at native resolution (scale) of input land cover (or DEM if RSA implementation)\n",
        "    process = ee.FeatureCollection([\n",
        "        ee.Feature(\n",
        "            None,\n",
        "            reduce_regions(\n",
        "                aoi,\n",
        "                remap_matrix=default_map_matrix,\n",
        "                rsa=False,\n",
        "                # dem=param.DEM_DEFAULT,\n",
        "                dem=DEM_DEFAULT, #default digital elevation model (DEM). Relevant for the real surface area (RSA) implementation.\n",
        "                lc_years= year,\n",
        "                transition_matrix=False\n",
        "            )\n",
        "        ).set(\"process_id\", year[0][\"year\"])\n",
        "        for year in get_a_years(a_years) # creates GEE images and runs stats on each. Images to run are in the 'a_years\" dictionary (above)\n",
        "    ])\n",
        "\n",
        "    #make name acceptable for running tasks (i.e., removes special characters)\n",
        "    task_name = str(sanitize_description(unidecode(aoi_name)))\n",
        "\n",
        "\n",
        "    task = ee.batch.Export.table.toDrive(\n",
        "        **{  #asterisks unpack dictionary into keyword arguments format\n",
        "            \"collection\": process,\n",
        "            \"description\": task_name,\n",
        "            \"fileFormat\": \"CSV\",\n",
        "            \"folder\":stats_csv_folder,\n",
        "            \"selectors\": [\n",
        "                \"process_id\",\n",
        "                \"sub_a\",\n",
        "            ],\n",
        "        }\n",
        "    )\n",
        "\n",
        "    counter+=1\n",
        "\n",
        "    print (f\"\\r process {counter}/{len(list_of_countries)} {aoi_name} \", end=\"\") #print in place (remove \\r and end=\"\" for verbose version)\n",
        "\n",
        "    if export:\n",
        "      task.start()\n",
        "\n"
      ]
    },
    {
      "cell_type": "markdown",
      "metadata": {
        "id": "vM0SIvJtu_f8"
      },
      "source": [
        "# Read, process, and create report tables"
      ]
    },
    {
      "cell_type": "markdown",
      "source": [],
      "metadata": {
        "id": "hc24T8boYnbX"
      }
    },
    {
      "cell_type": "markdown",
      "source": [
        "#####Manually check your earth engine task status, once the tasks are complete, run the next cell.\n",
        "\n",
        "The cell will produce formatted excel files for each country.\n",
        "Missing files or other errors will be listed in the Error_log.csv"
      ],
      "metadata": {
        "id": "3x7jwkZJWwE-"
      }
    },
    {
      "cell_type": "code",
      "execution_count": null,
      "metadata": {
        "id": "qkpDfHqQu_f9"
      },
      "outputs": [],
      "source": [
        "\n",
        "import os\n",
        "import pandas as pd\n",
        "from openpyxl.utils import get_column_letter\n",
        "from openpyxl.styles import Alignment\n",
        "from datetime import datetime\n",
        "\n",
        "# Initialize the counter\n",
        "counter = 0\n",
        "\n",
        "# Loop over each AOI name in the list of countries\n",
        "for aoi_name in list_of_countries:\n",
        "\n",
        "    # Increment the counter for each iteration\n",
        "    counter += 1\n",
        "\n",
        "    # Clean the AOI name\n",
        "    aoi_name_clean = str(sanitize_description(unidecode(aoi_name)))\n",
        "\n",
        "    try:\n",
        "        # Construct the file path for the stats CSV file\n",
        "        stats_csv_file = aoi_name_clean + \".csv\"\n",
        "        stats_csv_file_path = os.path.join(drive_home, stats_csv_folder, stats_csv_file)\n",
        "\n",
        "        message = (f\"Process {counter}, {stats_csv_file}\")\n",
        "\n",
        "        # Read the results from the CSV file and parse it to a dictionary\n",
        "        dict_results = read_from_csv(stats_csv_file_path)\n",
        "\n",
        "        details = {\n",
        "            \"geo_area_name\": aoi_name,\n",
        "            \"ref_area\": \" \",\n",
        "            \"source_detail\": \" \",\n",
        "        }\n",
        "\n",
        "        # Generate reports for the sub_a and mtn indicators\n",
        "        sub_a_reports = []\n",
        "        mtn_reports = []\n",
        "\n",
        "        for year in single_years:\n",
        "            if debug: print(f\"Reporting {year} for sub_a\")\n",
        "            parsed_df = parse_result(dict_results[year][\"sub_a\"], single=True)\n",
        "            sub_a_reports.append(sub_a.get_reports(parsed_df, year, **details))\n",
        "\n",
        "            if debug: print(f\"Reporting {year} for mtn\")\n",
        "            mtn_reports.append(mntn.get_report(parsed_df, year, **details))\n",
        "\n",
        "        # Concatenate the mtn reports\n",
        "        mtn_reports_df = pd.concat(mtn_reports)\n",
        "\n",
        "        # Concatenate the sub a reports\n",
        "        er_mtn_grnvi_df = pd.concat([report[0] for report in sub_a_reports])\n",
        "        er_mtn_grncov_df = pd.concat([report[1] for report in sub_a_reports])\n",
        "\n",
        "        # Define the output report file path\n",
        "        report_file_path = os.path.join(drive_home, excel_reports_folder, aoi_name_clean + \".xlsx\")\n",
        "        if debug: print(\"Report file path:\", report_file_path)\n",
        "\n",
        "        # Create the Excel file with the reports\n",
        "        with pd.ExcelWriter(report_file_path) as writer:\n",
        "            mtn_reports_df.to_excel(writer, sheet_name=\"Table1_ER_MTN_TOTL\", index=False)\n",
        "            er_mtn_grncov_df.to_excel(writer, sheet_name=\"Table2_ER_MTN_GRNCOV\", index=False)\n",
        "            er_mtn_grnvi_df.to_excel(writer, sheet_name=\"Table3_ER_MTN_GRNCVI\", index=False)\n",
        "\n",
        "            # Adjust column widths and alignment for each sheet\n",
        "            for sheetname in writer.sheets:\n",
        "                worksheet = writer.sheets[sheetname]\n",
        "                for col in worksheet.columns:\n",
        "                    max_length = 0\n",
        "                    column = col[0]\n",
        "                    for cell in col:\n",
        "                        try:\n",
        "                            if len(str(cell.value)) > max_length:\n",
        "                                max_length = len(cell.value)\n",
        "                        except:\n",
        "                            pass\n",
        "                    adjusted_width = max(max_length, len(str(column.value))) + 4\n",
        "                    worksheet.column_dimensions[get_column_letter(column.column)].width = adjusted_width\n",
        "\n",
        "                    # Align \"obs_value\" column to the right\n",
        "                    if \"OBS\" in column.value:\n",
        "                        for cell in col:\n",
        "                            cell.alignment = Alignment(horizontal=\"right\")\n",
        "\n",
        "    except Exception as e:\n",
        "        # If an error occurs, catch the exception and handle it\n",
        "        message = (f\"process {counter}, {stats_csv_file}, Error: {e}\")\n",
        "\n",
        "        # Get the current time\n",
        "        current_time = datetime.now().strftime('%Y-%m-%d %H:%M:%S')\n",
        "\n",
        "        # Write the error message and file name to the error log file\n",
        "        error_info = pd.DataFrame([[stats_csv_file, str(e), current_time]], columns=['File Name', 'Error Message', 'Time'])\n",
        "\n",
        "        if not os.path.exists(error_log_file_path):\n",
        "            error_info.to_csv(error_log_file_path, mode='w', index=False)\n",
        "        else:\n",
        "            error_info.to_csv(error_log_file_path, mode='a', header=False, index=False)\n",
        "\n",
        "    print (f\"{message}\")"
      ]
    },
    {
      "cell_type": "markdown",
      "source": [
        "#### Combine excel files into a single report"
      ],
      "metadata": {
        "id": "qTqI3Ag08k5b"
      }
    },
    {
      "cell_type": "code",
      "source": [
        "import pandas as pd\n",
        "\n",
        "def append_excel_files(file_paths, num_sheets, output_file_path):\n",
        "    # Initialize a dictionary to store combined DataFrames from different files\n",
        "    combined_dfs = {}\n",
        "\n",
        "    # Initialize a counter to track the progress of file processing\n",
        "    counter = 0\n",
        "\n",
        "    # Iterate over each file path in the list\n",
        "    for file_path in file_paths:\n",
        "        # Load the Excel file\n",
        "        xls = pd.ExcelFile(file_path)  # Reads file and stores as an ExcelFile object (using the Pandas library)\n",
        "\n",
        "        # Increment the counter for each iteration\n",
        "        counter += 1\n",
        "\n",
        "        # Read each sheet from the Excel file into a DataFrame\n",
        "        # Only read up to num_sheets specified\n",
        "        dfs = {sheet_name: xls.parse(sheet_name) for sheet_name in xls.sheet_names[:num_sheets]}\n",
        "\n",
        "        # Append the DataFrames to the combined_dfs dictionary\n",
        "        for sheet_name, df in dfs.items():\n",
        "            if sheet_name in combined_dfs:\n",
        "                # If the sheet already exists in combined_dfs, concatenate the current DataFrame with the existing one\n",
        "                combined_dfs[sheet_name] = pd.concat([combined_dfs[sheet_name], df], ignore_index=True)\n",
        "            else:\n",
        "                # If the sheet does not exist in combined_dfs, add the DataFrame directly\n",
        "                combined_dfs[sheet_name] = df\n",
        "\n",
        "        # Print the progress of processing, overwriting the previous progress\n",
        "        print(f\"\\rProcessing {counter}/{len(file_paths)}: {file_path}\", end=\"\")\n",
        "\n",
        "    # Write the combined DataFrames to the specified output file path\n",
        "    with pd.ExcelWriter(output_file_path) as writer:\n",
        "        for sheet_name, df in combined_dfs.items():\n",
        "            # Write each DataFrame to a separate sheet in the output Excel file\n",
        "            df.to_excel(writer, sheet_name=sheet_name, index=False)\n"
      ],
      "metadata": {
        "id": "iRvBucIP8jaV"
      },
      "execution_count": null,
      "outputs": []
    },
    {
      "cell_type": "code",
      "source": [
        "directory_path = drive_home + excel_reports_folder\n",
        "\n",
        "# # List files in the directory\n",
        "files = [file for file in os.listdir(directory_path) if file.endswith('.xlsx')]\n",
        "\n",
        "# Create a list of full file paths\n",
        "full_file_paths = [os.path.join(directory_path, file) for file in os.listdir(directory_path) if file.endswith('.xlsx')]\n",
        "print(f\"Number of excel files in folder {len(full_file_paths)}\")\n",
        "\n",
        "reports_combined_file_path = drive_home + final_report_name\n"
      ],
      "metadata": {
        "id": "sTyhwne7rr9D"
      },
      "execution_count": null,
      "outputs": []
    },
    {
      "cell_type": "code",
      "source": [
        "append_excel_files(file_paths=full_file_paths,num_sheets=3,output_file_path=reports_combined_file_path)\n",
        "\n",
        "print (f\"\\n Complete! Output file for SDG 15.4.2 Component A here: {reports_combined_file_path}\")"
      ],
      "metadata": {
        "id": "FkS1ErA9AYj6"
      },
      "execution_count": null,
      "outputs": []
    },
    {
      "cell_type": "code",
      "source": [],
      "metadata": {
        "id": "FaLvBrFT3ehI"
      },
      "execution_count": null,
      "outputs": []
    }
  ],
  "metadata": {
    "kernelspec": {
      "display_name": "(test) test-sepal_mgci",
      "language": "python",
      "name": "test-sepal_mgci"
    },
    "language_info": {
      "codemirror_mode": {
        "name": "ipython",
        "version": 3
      },
      "file_extension": ".py",
      "mimetype": "text/x-python",
      "name": "python",
      "nbconvert_exporter": "python",
      "pygments_lexer": "ipython3",
      "version": "3.10.12"
    },
    "colab": {
      "provenance": [],
      "include_colab_link": true
    }
  },
  "nbformat": 4,
  "nbformat_minor": 0
}