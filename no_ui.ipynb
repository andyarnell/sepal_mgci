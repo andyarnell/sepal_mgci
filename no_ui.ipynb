{
 "cells": [
  {
   "cell_type": "code",
   "execution_count": null,
   "metadata": {},
   "outputs": [],
   "source": [
    "%load_ext autoreload\n",
    "%autoreload 2"
   ]
  },
  {
   "cell_type": "code",
   "execution_count": null,
   "metadata": {
    "tags": []
   },
   "outputs": [],
   "source": [
    "from component.tile.calculation_tile import CalculationTile\n",
    "from component.tile.dashboard_tile import DashboardTile\n",
    "from component.tile.vegetation_tile import VegetationTile\n",
    "from component.tile.aoi_tile import AoiTile\n",
    "\n",
    "from component.widget.calc_params import Calculation\n",
    "from component.model import MgciModel\n",
    "from sepal_ui.aoi.aoi_model import AoiModel"
   ]
  },
  {
   "cell_type": "code",
   "execution_count": null,
   "metadata": {},
   "outputs": [],
   "source": [
    "aoi_tile = AoiTile()"
   ]
  },
  {
   "cell_type": "code",
   "execution_count": null,
   "metadata": {},
   "outputs": [],
   "source": [
    "aoi_tile"
   ]
  },
  {
   "cell_type": "code",
   "execution_count": null,
   "metadata": {},
   "outputs": [],
   "source": [
    "model = MgciModel(AoiModel(admin=959))"
   ]
  },
  {
   "cell_type": "code",
   "execution_count": null,
   "metadata": {},
   "outputs": [],
   "source": [
    "vegetation_tile = VegetationTile(model=model, aoi_model=model.aoi_model)"
   ]
  },
  {
   "cell_type": "code",
   "execution_count": null,
   "metadata": {},
   "outputs": [],
   "source": [
    "vegetation_tile"
   ]
  },
  {
   "cell_type": "code",
   "execution_count": null,
   "metadata": {},
   "outputs": [],
   "source": [
    "calculation_tile = CalculationTile(model=model, units=\"sqkm\", rsa=True)\n",
    "calculation_tile"
   ]
  },
  {
   "cell_type": "code",
   "execution_count": null,
   "metadata": {},
   "outputs": [],
   "source": [
    "model.start_year = ['1993', '1995', '1996']\n",
    "model.end_year = {1: {'base': '1993', 'report': '1996'}}\n",
    "model.ic_items_label = {'1992': 'users/amitghosh/sdg_module/esa/cci_landcover/1992',  '1993': 'users/amitghosh/sdg_module/esa/cci_landcover/1993', '1994': 'users/amitghosh/sdg_module/esa/cci_landcover/1994', '1995': 'users/amitghosh/sdg_module/esa/cci_landcover/1995', '1996': 'users/amitghosh/sdg_module/esa/cci_landcover/1996', '1997': 'users/amitghosh/sdg_module/esa/cci_landcover/1997', '1998': 'users/amitghosh/sdg_module/esa/cci_landcover/1998', '1999': 'users/amitghosh/sdg_module/esa/cci_landcover/1999', '2000': 'users/amitghosh/sdg_module/esa/cci_landcover/2000', '2001': 'users/amitghosh/sdg_module/esa/cci_landcover/2001', '2002': 'users/amitghosh/sdg_module/esa/cci_landcover/2002', '2003': 'users/amitghosh/sdg_module/esa/cci_landcover/2003', '2004': 'users/amitghosh/sdg_module/esa/cci_landcover/2004', '2005': 'users/amitghosh/sdg_module/esa/cci_landcover/2005', '2006': 'users/amitghosh/sdg_module/esa/cci_landcover/2006', '2007': 'users/amitghosh/sdg_module/esa/cci_landcover/2007', '2008': 'users/amitghosh/sdg_module/esa/cci_landcover/2008', '2009': 'users/amitghosh/sdg_module/esa/cci_landcover/2009', '2010': 'users/amitghosh/sdg_module/esa/cci_landcover/2010', '2011': 'users/amitghosh/sdg_module/esa/cci_landcover/2011', '2012': 'users/amitghosh/sdg_module/esa/cci_landcover/2012', '2013': 'users/amitghosh/sdg_module/esa/cci_landcover/2013', '2014': 'users/amitghosh/sdg_module/esa/cci_landcover/2014', '2015': 'users/amitghosh/sdg_module/esa/cci_landcover/2015', '2016': 'users/amitghosh/sdg_module/esa/cci_landcover/2016', '2017': 'users/amitghosh/sdg_module/esa/cci_landcover/2017', '2018': 'users/amitghosh/sdg_module/esa/cci_landcover/2018', '2019': 'users/amitghosh/sdg_module/esa/cci_landcover/2019', '2020': 'users/amitghosh/sdg_module/esa/cci_landcover/2020'}"
   ]
  },
  {
   "cell_type": "code",
   "execution_count": null,
   "metadata": {},
   "outputs": [],
   "source": [
    "dashboard_tile = DashboardTile(model)"
   ]
  },
  {
   "cell_type": "code",
   "execution_count": null,
   "metadata": {},
   "outputs": [],
   "source": [
    "dashboard_tile"
   ]
  }
 ],
 "metadata": {
  "kernelspec": {
   "display_name": "(test) test-sepal_mgci",
   "language": "python",
   "name": "test-sepal_mgci"
  },
  "language_info": {
   "codemirror_mode": {
    "name": "ipython",
    "version": 3
   },
   "file_extension": ".py",
   "mimetype": "text/x-python",
   "name": "python",
   "nbconvert_exporter": "python",
   "pygments_lexer": "ipython3",
   "version": "3.8.10"
  }
 },
 "nbformat": 4,
 "nbformat_minor": 4
}
