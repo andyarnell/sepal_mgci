{
 "cells": [
  {
   "cell_type": "code",
   "execution_count": null,
   "metadata": {},
   "outputs": [],
   "source": [
    "%load_ext autoreload\n",
    "%autoreload 2"
   ]
  },
  {
   "cell_type": "code",
   "execution_count": null,
   "metadata": {
    "tags": []
   },
   "outputs": [],
   "source": [
    "from component.tile.calculation_tile import CalculationTile\n",
    "from component.tile.dashboard_tile import DashboardTile\n",
    "from component.tile.vegetation_tile import VegetationTile\n",
    "from component.tile.aoi_tile import AoiTile\n",
    "\n",
    "from component.widget.calc_params import Calculation\n",
    "from component.model import MgciModel\n",
    "from sepal_ui.aoi.aoi_model import AoiModel"
   ]
  },
  {
   "cell_type": "code",
   "execution_count": null,
   "metadata": {},
   "outputs": [],
   "source": [
    "aoi_tile = AoiTile()"
   ]
  },
  {
   "cell_type": "code",
   "execution_count": null,
   "metadata": {},
   "outputs": [],
   "source": [
    "aoi_tile"
   ]
  },
  {
   "cell_type": "code",
   "execution_count": null,
   "metadata": {},
   "outputs": [],
   "source": [
    "model = MgciModel(aoi_tile.view.model)"
   ]
  },
  {
   "cell_type": "code",
   "execution_count": null,
   "metadata": {},
   "outputs": [],
   "source": [
    "vegetation_tile = VegetationTile(model=model, aoi_model=model.aoi_model)"
   ]
  },
  {
   "cell_type": "code",
   "execution_count": null,
   "metadata": {},
   "outputs": [],
   "source": [
    "vegetation_tile"
   ]
  },
  {
   "cell_type": "code",
   "execution_count": null,
   "metadata": {},
   "outputs": [],
   "source": [
    "calculation_tile = CalculationTile(model=model, units=\"sqkm\", rsa=True)\n",
    "calculation_tile"
   ]
  },
  {
   "cell_type": "code",
   "execution_count": null,
   "metadata": {
    "tags": []
   },
   "outputs": [],
   "source": [
    "import tests.test_result as test\n",
    "import component.scripts as cs\n",
    "from component.scripts.plots import sankey\n",
    "model.results = test.results\n",
    "model.sub_a_year = test.sub_a_year\n",
    "model.sub_b_year = test.sub_b_year\n",
    "model.reporting_years_sub_a = {}\n",
    "model.reporting_years_sub_a = cs.get_sub_a_break_points(model.sub_a_year)\n",
    "model.reporting_years_sub_b = []\n",
    "model.reporting_years_sub_b = [\n",
    "    next(iter(list(y.keys()))) for y in list(model.sub_b_year.values())\n",
    "]\n",
    "model.same_asset_matrix = True"
   ]
  },
  {
   "cell_type": "code",
   "execution_count": null,
   "metadata": {},
   "outputs": [],
   "source": [
    "dashboard_tile = DashboardTile(model)"
   ]
  },
  {
   "cell_type": "code",
   "execution_count": null,
   "metadata": {},
   "outputs": [],
   "source": [
    "dashboard_tile"
   ]
  }
 ],
 "metadata": {
  "kernelspec": {
   "display_name": "(test) test-sepal_mgci",
   "language": "python",
   "name": "test-sepal_mgci"
  },
  "language_info": {
   "codemirror_mode": {
    "name": "ipython",
    "version": 3
   },
   "file_extension": ".py",
   "mimetype": "text/x-python",
   "name": "python",
   "nbconvert_exporter": "python",
   "pygments_lexer": "ipython3",
   "version": "3.8.10"
  }
 },
 "nbformat": 4,
 "nbformat_minor": 4
}
